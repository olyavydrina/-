{
  "nbformat": 4,
  "nbformat_minor": 0,
  "metadata": {
    "colab": {
      "provenance": [],
      "include_colab_link": true
    },
    "kernelspec": {
      "name": "python3",
      "display_name": "Python 3"
    },
    "accelerator": "GPU"
  },
  "cells": [
    {
      "cell_type": "markdown",
      "metadata": {
        "id": "view-in-github",
        "colab_type": "text"
      },
      "source": [
        "<a href=\"https://colab.research.google.com/github/olyavydrina/-/blob/main/%D0%92%D0%9A%D0%A0_%D0%B0%D0%BD%D0%B3%D0%BB%D0%B8%D0%B9%D1%81%D0%BA%D0%B8%D0%B9_%D1%8F%D0%B7%D1%8B%D0%BA_NLTK_%D0%BD%D0%B0_text.ipynb\" target=\"_parent\"><img src=\"https://colab.research.google.com/assets/colab-badge.svg\" alt=\"Open In Colab\"/></a>"
      ]
    },
    {
      "cell_type": "markdown",
      "source": [
        "# Подключаем необходимые библиотеки"
      ],
      "metadata": {
        "id": "OZcZF8v5yMu_"
      }
    },
    {
      "cell_type": "code",
      "metadata": {
        "id": "fN251ib04idq",
        "colab": {
          "base_uri": "https://localhost:8080/"
        },
        "outputId": "75aa9e1e-46c0-4f5c-e8d1-9df40d521139"
      },
      "source": [
        "%tensorflow_version 2.x\n",
        "from tensorflow.keras.models import load_model\n",
        "from tensorflow.keras.models import Sequential\n",
        "from tensorflow.keras.layers import Dense, Embedding, MaxPooling1D, Conv1D, GlobalMaxPooling1D, Dropout, LSTM, GRU\n",
        "from tensorflow.keras import utils\n",
        "from tensorflow.keras.preprocessing.sequence import pad_sequences\n",
        "from tensorflow.keras.preprocessing.text import Tokenizer\n",
        "from tensorflow.keras.callbacks import ModelCheckpoint\n",
        "from tensorflow.keras import utils\n",
        "import pandas as pd\n",
        "import numpy as np\n",
        "import matplotlib.pyplot as plt\n",
        "%matplotlib inline "
      ],
      "execution_count": 2,
      "outputs": [
        {
          "output_type": "stream",
          "name": "stdout",
          "text": [
            "Colab only includes TensorFlow 2.x; %tensorflow_version has no effect.\n"
          ]
        }
      ]
    },
    {
      "cell_type": "code",
      "source": [
        "!pip install pymorphy2[fast] \n",
        "import pymorphy2\n",
        "import nltk\n",
        "from nltk.tokenize import word_tokenize\n",
        "from nltk.corpus import stopwords\n",
        "from collections import Counter\n",
        "from sklearn.model_selection import train_test_split"
      ],
      "metadata": {
        "colab": {
          "base_uri": "https://localhost:8080/"
        },
        "id": "E97LKetbxS-Q",
        "outputId": "908d0903-b7e9-4270-b739-72ea5aa506ab"
      },
      "execution_count": 3,
      "outputs": [
        {
          "output_type": "stream",
          "name": "stdout",
          "text": [
            "Looking in indexes: https://pypi.org/simple, https://us-python.pkg.dev/colab-wheels/public/simple/\n",
            "Collecting pymorphy2[fast]\n",
            "  Downloading pymorphy2-0.9.1-py3-none-any.whl (55 kB)\n",
            "\u001b[2K     \u001b[90m━━━━━━━━━━━━━━━━━━━━━━━━━━━━━━━━━━━━━━━━\u001b[0m \u001b[32m55.5/55.5 KB\u001b[0m \u001b[31m5.0 MB/s\u001b[0m eta \u001b[36m0:00:00\u001b[0m\n",
            "\u001b[?25hCollecting pymorphy2-dicts-ru<3.0,>=2.4\n",
            "  Downloading pymorphy2_dicts_ru-2.4.417127.4579844-py2.py3-none-any.whl (8.2 MB)\n",
            "\u001b[2K     \u001b[90m━━━━━━━━━━━━━━━━━━━━━━━━━━━━━━━━━━━━━━━━\u001b[0m \u001b[32m8.2/8.2 MB\u001b[0m \u001b[31m90.0 MB/s\u001b[0m eta \u001b[36m0:00:00\u001b[0m\n",
            "\u001b[?25hCollecting dawg-python>=0.7.1\n",
            "  Downloading DAWG_Python-0.7.2-py2.py3-none-any.whl (11 kB)\n",
            "Collecting docopt>=0.6\n",
            "  Downloading docopt-0.6.2.tar.gz (25 kB)\n",
            "  Preparing metadata (setup.py) ... \u001b[?25l\u001b[?25hdone\n",
            "Collecting DAWG>=0.8\n",
            "  Downloading DAWG-0.8.0.tar.gz (371 kB)\n",
            "\u001b[2K     \u001b[90m━━━━━━━━━━━━━━━━━━━━━━━━━━━━━━━━━━━━━━\u001b[0m \u001b[32m371.1/371.1 KB\u001b[0m \u001b[31m41.8 MB/s\u001b[0m eta \u001b[36m0:00:00\u001b[0m\n",
            "\u001b[?25h  Preparing metadata (setup.py) ... \u001b[?25l\u001b[?25hdone\n",
            "Building wheels for collected packages: DAWG, docopt\n",
            "  Building wheel for DAWG (setup.py) ... \u001b[?25l\u001b[?25hdone\n",
            "  Created wheel for DAWG: filename=DAWG-0.8.0-cp38-cp38-linux_x86_64.whl size=1315954 sha256=cf44ad7f451dc5e72125fc7a85c90825361b8b143b35ee7e080424ba71784cec\n",
            "  Stored in directory: /root/.cache/pip/wheels/1c/e6/8f/313a7ccc57b29a7affb7205664277a1d5ebe73bf600a69a615\n",
            "  Building wheel for docopt (setup.py) ... \u001b[?25l\u001b[?25hdone\n",
            "  Created wheel for docopt: filename=docopt-0.6.2-py2.py3-none-any.whl size=13723 sha256=09c4e28ee5e4970b37d9bbd5d5c8b9cf7dc77ab829ffb8b1bf4c68ba8899b1ba\n",
            "  Stored in directory: /root/.cache/pip/wheels/56/ea/58/ead137b087d9e326852a851351d1debf4ada529b6ac0ec4e8c\n",
            "Successfully built DAWG docopt\n",
            "Installing collected packages: pymorphy2-dicts-ru, docopt, dawg-python, DAWG, pymorphy2\n",
            "Successfully installed DAWG-0.8.0 dawg-python-0.7.2 docopt-0.6.2 pymorphy2-0.9.1 pymorphy2-dicts-ru-2.4.417127.4579844\n"
          ]
        }
      ]
    },
    {
      "cell_type": "code",
      "metadata": {
        "id": "KVUY1PF0L_mF"
      },
      "source": [
        "# Максимальное количество слов \n",
        "num_words = 10000\n",
        "# Максимальная длина новости\n",
        "max_news_len = 300\n",
        "# Количество классов новостей\n",
        "nb_classes = 2"
      ],
      "execution_count": 4,
      "outputs": []
    },
    {
      "cell_type": "code",
      "source": [
        "random_state = 42"
      ],
      "metadata": {
        "id": "mpxjbLWu0HRv"
      },
      "execution_count": 5,
      "outputs": []
    },
    {
      "cell_type": "code",
      "source": [
        "nltk.download('punkt')\n",
        "nltk.download('stopwords')"
      ],
      "metadata": {
        "colab": {
          "base_uri": "https://localhost:8080/"
        },
        "id": "M6swb4vO0Cue",
        "outputId": "97b78ac7-cbeb-42cd-9eca-93c01ff50191"
      },
      "execution_count": 6,
      "outputs": [
        {
          "output_type": "stream",
          "name": "stderr",
          "text": [
            "[nltk_data] Downloading package punkt to /root/nltk_data...\n",
            "[nltk_data]   Unzipping tokenizers/punkt.zip.\n",
            "[nltk_data] Downloading package stopwords to /root/nltk_data...\n",
            "[nltk_data]   Unzipping corpora/stopwords.zip.\n"
          ]
        },
        {
          "output_type": "execute_result",
          "data": {
            "text/plain": [
              "True"
            ]
          },
          "metadata": {},
          "execution_count": 6
        }
      ]
    },
    {
      "cell_type": "markdown",
      "metadata": {
        "id": "S6itvI2G5H1k"
      },
      "source": [
        "## Загржаем и готовим набор данных"
      ]
    },
    {
      "cell_type": "code",
      "source": [
        "#!wget https://github.com/olyavydrina/-/blob/main/train2.xlsx?dl=1 -O train2.xlsx"
      ],
      "metadata": {
        "id": "VzDyKl0R_Scn"
      },
      "execution_count": null,
      "outputs": []
    },
    {
      "cell_type": "code",
      "source": [
        "#news = pd.read_excel('train2.xlsx')"
      ],
      "metadata": {
        "id": "uePvsSsL_n15"
      },
      "execution_count": null,
      "outputs": []
    },
    {
      "cell_type": "code",
      "source": [
        "news = pd.read_excel('/content/train11.xlsx')\n",
        "news.head()"
      ],
      "metadata": {
        "colab": {
          "base_uri": "https://localhost:8080/",
          "height": 206
        },
        "id": "KkfS3NiREfbL",
        "outputId": "3612d9cd-7b5b-4bbc-9adc-b1587a559f5c"
      },
      "execution_count": 7,
      "outputs": [
        {
          "output_type": "execute_result",
          "data": {
            "text/plain": [
              "   class                                              title  \\\n",
              "0      1  Freed Russian arms dealer Viktor Bout says he ...   \n",
              "1      1  Taiwan reports record incursion by Chinese bom...   \n",
              "2      1  Soccer union ‘sickened’ by reports Iranian pla...   \n",
              "3      1  At least seven dead as Peru protests disrupt f...   \n",
              "4      1  Indian and Chinese troops clash on disputed bo...   \n",
              "\n",
              "                                                text  \\\n",
              "0  Freed Russian arms dealer Viktor Bout said on ...   \n",
              "1  China has sent a record 18 nuclear-capable H-6...   \n",
              "2  The global soccer players’ union, FIFPRO, said...   \n",
              "3  At least seven people have died in ongoing pro...   \n",
              "4  Indian and Chinese troops have clashed on thei...   \n",
              "\n",
              "                                                link language  \n",
              "0  https://edition.cnn.com/2022/12/10/europe/vikt...      eng  \n",
              "1  https://edition.cnn.com/2022/12/13/asia/taiwan...      eng  \n",
              "2  https://edition.cnn.com/2022/12/13/middleeast/...      eng  \n",
              "3  https://edition.cnn.com/2022/12/13/americas/pe...      eng  \n",
              "4  https://edition.cnn.com/2022/12/13/asia/india-...      eng  "
            ],
            "text/html": [
              "\n",
              "  <div id=\"df-5e290f5c-f2dc-40ac-9a9d-1225799987a2\">\n",
              "    <div class=\"colab-df-container\">\n",
              "      <div>\n",
              "<style scoped>\n",
              "    .dataframe tbody tr th:only-of-type {\n",
              "        vertical-align: middle;\n",
              "    }\n",
              "\n",
              "    .dataframe tbody tr th {\n",
              "        vertical-align: top;\n",
              "    }\n",
              "\n",
              "    .dataframe thead th {\n",
              "        text-align: right;\n",
              "    }\n",
              "</style>\n",
              "<table border=\"1\" class=\"dataframe\">\n",
              "  <thead>\n",
              "    <tr style=\"text-align: right;\">\n",
              "      <th></th>\n",
              "      <th>class</th>\n",
              "      <th>title</th>\n",
              "      <th>text</th>\n",
              "      <th>link</th>\n",
              "      <th>language</th>\n",
              "    </tr>\n",
              "  </thead>\n",
              "  <tbody>\n",
              "    <tr>\n",
              "      <th>0</th>\n",
              "      <td>1</td>\n",
              "      <td>Freed Russian arms dealer Viktor Bout says he ...</td>\n",
              "      <td>Freed Russian arms dealer Viktor Bout said on ...</td>\n",
              "      <td>https://edition.cnn.com/2022/12/10/europe/vikt...</td>\n",
              "      <td>eng</td>\n",
              "    </tr>\n",
              "    <tr>\n",
              "      <th>1</th>\n",
              "      <td>1</td>\n",
              "      <td>Taiwan reports record incursion by Chinese bom...</td>\n",
              "      <td>China has sent a record 18 nuclear-capable H-6...</td>\n",
              "      <td>https://edition.cnn.com/2022/12/13/asia/taiwan...</td>\n",
              "      <td>eng</td>\n",
              "    </tr>\n",
              "    <tr>\n",
              "      <th>2</th>\n",
              "      <td>1</td>\n",
              "      <td>Soccer union ‘sickened’ by reports Iranian pla...</td>\n",
              "      <td>The global soccer players’ union, FIFPRO, said...</td>\n",
              "      <td>https://edition.cnn.com/2022/12/13/middleeast/...</td>\n",
              "      <td>eng</td>\n",
              "    </tr>\n",
              "    <tr>\n",
              "      <th>3</th>\n",
              "      <td>1</td>\n",
              "      <td>At least seven dead as Peru protests disrupt f...</td>\n",
              "      <td>At least seven people have died in ongoing pro...</td>\n",
              "      <td>https://edition.cnn.com/2022/12/13/americas/pe...</td>\n",
              "      <td>eng</td>\n",
              "    </tr>\n",
              "    <tr>\n",
              "      <th>4</th>\n",
              "      <td>1</td>\n",
              "      <td>Indian and Chinese troops clash on disputed bo...</td>\n",
              "      <td>Indian and Chinese troops have clashed on thei...</td>\n",
              "      <td>https://edition.cnn.com/2022/12/13/asia/india-...</td>\n",
              "      <td>eng</td>\n",
              "    </tr>\n",
              "  </tbody>\n",
              "</table>\n",
              "</div>\n",
              "      <button class=\"colab-df-convert\" onclick=\"convertToInteractive('df-5e290f5c-f2dc-40ac-9a9d-1225799987a2')\"\n",
              "              title=\"Convert this dataframe to an interactive table.\"\n",
              "              style=\"display:none;\">\n",
              "        \n",
              "  <svg xmlns=\"http://www.w3.org/2000/svg\" height=\"24px\"viewBox=\"0 0 24 24\"\n",
              "       width=\"24px\">\n",
              "    <path d=\"M0 0h24v24H0V0z\" fill=\"none\"/>\n",
              "    <path d=\"M18.56 5.44l.94 2.06.94-2.06 2.06-.94-2.06-.94-.94-2.06-.94 2.06-2.06.94zm-11 1L8.5 8.5l.94-2.06 2.06-.94-2.06-.94L8.5 2.5l-.94 2.06-2.06.94zm10 10l.94 2.06.94-2.06 2.06-.94-2.06-.94-.94-2.06-.94 2.06-2.06.94z\"/><path d=\"M17.41 7.96l-1.37-1.37c-.4-.4-.92-.59-1.43-.59-.52 0-1.04.2-1.43.59L10.3 9.45l-7.72 7.72c-.78.78-.78 2.05 0 2.83L4 21.41c.39.39.9.59 1.41.59.51 0 1.02-.2 1.41-.59l7.78-7.78 2.81-2.81c.8-.78.8-2.07 0-2.86zM5.41 20L4 18.59l7.72-7.72 1.47 1.35L5.41 20z\"/>\n",
              "  </svg>\n",
              "      </button>\n",
              "      \n",
              "  <style>\n",
              "    .colab-df-container {\n",
              "      display:flex;\n",
              "      flex-wrap:wrap;\n",
              "      gap: 12px;\n",
              "    }\n",
              "\n",
              "    .colab-df-convert {\n",
              "      background-color: #E8F0FE;\n",
              "      border: none;\n",
              "      border-radius: 50%;\n",
              "      cursor: pointer;\n",
              "      display: none;\n",
              "      fill: #1967D2;\n",
              "      height: 32px;\n",
              "      padding: 0 0 0 0;\n",
              "      width: 32px;\n",
              "    }\n",
              "\n",
              "    .colab-df-convert:hover {\n",
              "      background-color: #E2EBFA;\n",
              "      box-shadow: 0px 1px 2px rgba(60, 64, 67, 0.3), 0px 1px 3px 1px rgba(60, 64, 67, 0.15);\n",
              "      fill: #174EA6;\n",
              "    }\n",
              "\n",
              "    [theme=dark] .colab-df-convert {\n",
              "      background-color: #3B4455;\n",
              "      fill: #D2E3FC;\n",
              "    }\n",
              "\n",
              "    [theme=dark] .colab-df-convert:hover {\n",
              "      background-color: #434B5C;\n",
              "      box-shadow: 0px 1px 3px 1px rgba(0, 0, 0, 0.15);\n",
              "      filter: drop-shadow(0px 1px 2px rgba(0, 0, 0, 0.3));\n",
              "      fill: #FFFFFF;\n",
              "    }\n",
              "  </style>\n",
              "\n",
              "      <script>\n",
              "        const buttonEl =\n",
              "          document.querySelector('#df-5e290f5c-f2dc-40ac-9a9d-1225799987a2 button.colab-df-convert');\n",
              "        buttonEl.style.display =\n",
              "          google.colab.kernel.accessAllowed ? 'block' : 'none';\n",
              "\n",
              "        async function convertToInteractive(key) {\n",
              "          const element = document.querySelector('#df-5e290f5c-f2dc-40ac-9a9d-1225799987a2');\n",
              "          const dataTable =\n",
              "            await google.colab.kernel.invokeFunction('convertToInteractive',\n",
              "                                                     [key], {});\n",
              "          if (!dataTable) return;\n",
              "\n",
              "          const docLinkHtml = 'Like what you see? Visit the ' +\n",
              "            '<a target=\"_blank\" href=https://colab.research.google.com/notebooks/data_table.ipynb>data table notebook</a>'\n",
              "            + ' to learn more about interactive tables.';\n",
              "          element.innerHTML = '';\n",
              "          dataTable['output_type'] = 'display_data';\n",
              "          await google.colab.output.renderOutput(dataTable, element);\n",
              "          const docLink = document.createElement('div');\n",
              "          docLink.innerHTML = docLinkHtml;\n",
              "          element.appendChild(docLink);\n",
              "        }\n",
              "      </script>\n",
              "    </div>\n",
              "  </div>\n",
              "  "
            ]
          },
          "metadata": {},
          "execution_count": 7
        }
      ]
    },
    {
      "cell_type": "code",
      "source": [
        "def preprocess(text, stop_words, punctuation_marks, morph):\n",
        "    tokens = word_tokenize(text.lower())\n",
        "    preprocessed_text = []\n",
        "    for token in tokens:\n",
        "        if token not in punctuation_marks:\n",
        "            lemma = morph.parse(token)[0].normal_form\n",
        "            if lemma not in stop_words:\n",
        "                preprocessed_text.append(lemma)\n",
        "    return preprocessed_text"
      ],
      "metadata": {
        "id": "v36CDjzu25Kh"
      },
      "execution_count": 8,
      "outputs": []
    },
    {
      "cell_type": "code",
      "source": [
        "punctuation_marks = ['!', ',', '(', ')', ':', '-', '?', '.', '..', '...', '«', '»', ';', '–', '--']\n",
        "stop_words = stopwords.words(\"english\")\n",
        "morph = pymorphy2.MorphAnalyzer()"
      ],
      "metadata": {
        "id": "HVabqnVb2-S2"
      },
      "execution_count": 9,
      "outputs": []
    },
    {
      "cell_type": "code",
      "source": [
        "news['Preprocessed_texts'] = news.apply(lambda row: preprocess(row['text'], punctuation_marks, stop_words, morph), axis=1)"
      ],
      "metadata": {
        "id": "ffNkKp7d3Bjx"
      },
      "execution_count": 10,
      "outputs": []
    },
    {
      "cell_type": "markdown",
      "source": [
        "Считаем частоту слов во всех новостях"
      ],
      "metadata": {
        "id": "rGClbafQ3PKc"
      }
    },
    {
      "cell_type": "code",
      "source": [
        "words = Counter()"
      ],
      "metadata": {
        "id": "l6mZndz23QYh"
      },
      "execution_count": 11,
      "outputs": []
    },
    {
      "cell_type": "code",
      "source": [
        "for txt in news['Preprocessed_texts']:\n",
        "    words.update(txt)"
      ],
      "metadata": {
        "id": "l2DJi6e_3kTx"
      },
      "execution_count": 12,
      "outputs": []
    },
    {
      "cell_type": "markdown",
      "source": [
        "Создаем словарь, упорядоченный по частоте\n",
        "\n",
        "В словаре будем использовать 2 специальных кода:\n",
        "\n",
        "Код заполнитель: 0\n",
        "Неизвестное слово: 1\n",
        "Нумерация слов в словаре начинается с 2."
      ],
      "metadata": {
        "id": "-taCkIFb3tMQ"
      }
    },
    {
      "cell_type": "code",
      "source": [
        "# Словарь, отображающий слова в коды\n",
        "word_to_index = dict()\n",
        "# Словарь, отображающий коды в слова\n",
        "index_to_word = dict()"
      ],
      "metadata": {
        "id": "mP-4O8g93wuu"
      },
      "execution_count": 13,
      "outputs": []
    },
    {
      "cell_type": "markdown",
      "source": [
        "Создаем словари"
      ],
      "metadata": {
        "id": "0enOJTt_30D_"
      }
    },
    {
      "cell_type": "code",
      "source": [
        "for i, word in enumerate(words.most_common(num_words - 2)):\n",
        "    word_to_index[word[0]] = i + 2\n",
        "    index_to_word[i + 2] = word[0]"
      ],
      "metadata": {
        "id": "Fc2BZh7v31ih"
      },
      "execution_count": 14,
      "outputs": []
    },
    {
      "cell_type": "markdown",
      "source": [
        "Функция для преобразования списка слов в список кодов"
      ],
      "metadata": {
        "id": "7Uc7eTZT4CVs"
      }
    },
    {
      "cell_type": "code",
      "source": [
        "def text_to_sequence(txt, word_to_index):\n",
        "    seq = []\n",
        "    for word in txt:\n",
        "        index = word_to_index.get(word, 1) # 1 означает неизвестное слово\n",
        "        # Неизвестные слова не добавляем в выходную последовательность\n",
        "        if index != 1:\n",
        "            seq.append(index)\n",
        "    return seq"
      ],
      "metadata": {
        "id": "OgCTdCe3aDhv"
      },
      "execution_count": 15,
      "outputs": []
    },
    {
      "cell_type": "markdown",
      "source": [
        "\n",
        "Преобразуем все тексты в последовательность кодов слов"
      ],
      "metadata": {
        "id": "FoFEF2o34IlX"
      }
    },
    {
      "cell_type": "code",
      "source": [
        "news['Sequences'] = news.apply(lambda row: text_to_sequence(row['Preprocessed_texts'], word_to_index), axis=1)"
      ],
      "metadata": {
        "id": "4I83Duh94KgZ"
      },
      "execution_count": 16,
      "outputs": []
    },
    {
      "cell_type": "code",
      "source": [
        "news"
      ],
      "metadata": {
        "colab": {
          "base_uri": "https://localhost:8080/",
          "height": 641
        },
        "id": "HFwEp7NE4R-O",
        "outputId": "4be72164-b707-4654-e881-662478bbdf16"
      },
      "execution_count": 17,
      "outputs": [
        {
          "output_type": "execute_result",
          "data": {
            "text/plain": [
              "     class                                              title  \\\n",
              "0        1  Freed Russian arms dealer Viktor Bout says he ...   \n",
              "1        1  Taiwan reports record incursion by Chinese bom...   \n",
              "2        1  Soccer union ‘sickened’ by reports Iranian pla...   \n",
              "3        1  At least seven dead as Peru protests disrupt f...   \n",
              "4        1  Indian and Chinese troops clash on disputed bo...   \n",
              "..     ...                                                ...   \n",
              "184      0  Sir Keir Starmer rakes it in after 'selling gr...   \n",
              "185      0  Rishi Sunak held 'migrants summit' with Theres...   \n",
              "186      1  Putin is 'planning for a long war' and the Wes...   \n",
              "187      1  Putin sends nuclear message to the West for a ...   \n",
              "188      0  Royal insiders fear Megxit 'harmed the late Qu...   \n",
              "\n",
              "                                                  text  \\\n",
              "0    Freed Russian arms dealer Viktor Bout said on ...   \n",
              "1    China has sent a record 18 nuclear-capable H-6...   \n",
              "2    The global soccer players’ union, FIFPRO, said...   \n",
              "3    At least seven people have died in ongoing pro...   \n",
              "4    Indian and Chinese troops have clashed on thei...   \n",
              "..                                                 ...   \n",
              "184  Sir Keir Starmer sold seven acres of green-bel...   \n",
              "185  Rishi Sunak held a ‘migrants summit’ with his ...   \n",
              "186  Putin is 'planning for a long war' and the Wes...   \n",
              "187  Russia's nuclear sabre-rattling continued for ...   \n",
              "188  The stress caused by Harry and Meghan's fallin...   \n",
              "\n",
              "                                                  link language  \\\n",
              "0    https://edition.cnn.com/2022/12/10/europe/vikt...      eng   \n",
              "1    https://edition.cnn.com/2022/12/13/asia/taiwan...      eng   \n",
              "2    https://edition.cnn.com/2022/12/13/middleeast/...      eng   \n",
              "3    https://edition.cnn.com/2022/12/13/americas/pe...      eng   \n",
              "4    https://edition.cnn.com/2022/12/13/asia/india-...      eng   \n",
              "..                                                 ...      ...   \n",
              "184  https://www.dailymail.co.uk/news/article-11550...      eng   \n",
              "185  https://www.dailymail.co.uk/news/article-11550...      eng   \n",
              "186  https://www.dailymail.co.uk/news/article-11546...      eng   \n",
              "187  https://www.dailymail.co.uk/news/article-11545...      eng   \n",
              "188  https://www.dailymail.co.uk/news/article-11549...      eng   \n",
              "\n",
              "                                    Preprocessed_texts  \\\n",
              "0    [freed, russian, arms, dealer, viktor, bout, s...   \n",
              "1    [china, sent, record, 18, nuclear-capable, h-6...   \n",
              "2    [global, soccer, players, ’, union, fifpro, sa...   \n",
              "3    [least, seven, people, died, ongoing, protests...   \n",
              "4    [indian, chinese, troops, clashed, disputed, h...   \n",
              "..                                                 ...   \n",
              "184  [sir, keir, starmer, sold, seven, acres, green...   \n",
              "185  [rishi, sunak, held, ‘, migrants, summit, ’, p...   \n",
              "186  [putin, 'planning, long, war, ', west, must, c...   \n",
              "187  [russia, 's, nuclear, sabre-rattling, continue...   \n",
              "188  [stress, caused, harry, meghan, 's, falling, r...   \n",
              "\n",
              "                                             Sequences  \n",
              "0    [8643, 38, 815, 2261, 3287, 1351, 5, 173, 3, 6...  \n",
              "1    [55, 470, 527, 1259, 4695, 6038, 3292, 708, 15...  \n",
              "2    [263, 602, 1024, 2, 150, 6054, 5, 3, 4704, 867...  \n",
              "3    [168, 604, 7, 342, 1357, 211, 212, 46, 19, 147...  \n",
              "4    [1029, 270, 443, 6079, 3311, 8707, 188, 28, 24...  \n",
              "..                                                 ...  \n",
              "184  [2254, 3275, 8274, 1301, 604, 614, 849, 68, 28...  \n",
              "185  [2828, 2042, 306, 48, 3127, 574, 2, 2906, 4683...  \n",
              "186  [90, 127, 53, 15, 265, 410, 273, 1156, 815, 14...  \n",
              "187  [25, 11, 400, 8638, 515, 794, 68, 694, 367, 73...  \n",
              "188  [3048, 818, 1801, 2839, 11, 1804, 655, 120, 10...  \n",
              "\n",
              "[189 rows x 7 columns]"
            ],
            "text/html": [
              "\n",
              "  <div id=\"df-6d2beec6-203c-422e-8b76-d6735db6d5dc\">\n",
              "    <div class=\"colab-df-container\">\n",
              "      <div>\n",
              "<style scoped>\n",
              "    .dataframe tbody tr th:only-of-type {\n",
              "        vertical-align: middle;\n",
              "    }\n",
              "\n",
              "    .dataframe tbody tr th {\n",
              "        vertical-align: top;\n",
              "    }\n",
              "\n",
              "    .dataframe thead th {\n",
              "        text-align: right;\n",
              "    }\n",
              "</style>\n",
              "<table border=\"1\" class=\"dataframe\">\n",
              "  <thead>\n",
              "    <tr style=\"text-align: right;\">\n",
              "      <th></th>\n",
              "      <th>class</th>\n",
              "      <th>title</th>\n",
              "      <th>text</th>\n",
              "      <th>link</th>\n",
              "      <th>language</th>\n",
              "      <th>Preprocessed_texts</th>\n",
              "      <th>Sequences</th>\n",
              "    </tr>\n",
              "  </thead>\n",
              "  <tbody>\n",
              "    <tr>\n",
              "      <th>0</th>\n",
              "      <td>1</td>\n",
              "      <td>Freed Russian arms dealer Viktor Bout says he ...</td>\n",
              "      <td>Freed Russian arms dealer Viktor Bout said on ...</td>\n",
              "      <td>https://edition.cnn.com/2022/12/10/europe/vikt...</td>\n",
              "      <td>eng</td>\n",
              "      <td>[freed, russian, arms, dealer, viktor, bout, s...</td>\n",
              "      <td>[8643, 38, 815, 2261, 3287, 1351, 5, 173, 3, 6...</td>\n",
              "    </tr>\n",
              "    <tr>\n",
              "      <th>1</th>\n",
              "      <td>1</td>\n",
              "      <td>Taiwan reports record incursion by Chinese bom...</td>\n",
              "      <td>China has sent a record 18 nuclear-capable H-6...</td>\n",
              "      <td>https://edition.cnn.com/2022/12/13/asia/taiwan...</td>\n",
              "      <td>eng</td>\n",
              "      <td>[china, sent, record, 18, nuclear-capable, h-6...</td>\n",
              "      <td>[55, 470, 527, 1259, 4695, 6038, 3292, 708, 15...</td>\n",
              "    </tr>\n",
              "    <tr>\n",
              "      <th>2</th>\n",
              "      <td>1</td>\n",
              "      <td>Soccer union ‘sickened’ by reports Iranian pla...</td>\n",
              "      <td>The global soccer players’ union, FIFPRO, said...</td>\n",
              "      <td>https://edition.cnn.com/2022/12/13/middleeast/...</td>\n",
              "      <td>eng</td>\n",
              "      <td>[global, soccer, players, ’, union, fifpro, sa...</td>\n",
              "      <td>[263, 602, 1024, 2, 150, 6054, 5, 3, 4704, 867...</td>\n",
              "    </tr>\n",
              "    <tr>\n",
              "      <th>3</th>\n",
              "      <td>1</td>\n",
              "      <td>At least seven dead as Peru protests disrupt f...</td>\n",
              "      <td>At least seven people have died in ongoing pro...</td>\n",
              "      <td>https://edition.cnn.com/2022/12/13/americas/pe...</td>\n",
              "      <td>eng</td>\n",
              "      <td>[least, seven, people, died, ongoing, protests...</td>\n",
              "      <td>[168, 604, 7, 342, 1357, 211, 212, 46, 19, 147...</td>\n",
              "    </tr>\n",
              "    <tr>\n",
              "      <th>4</th>\n",
              "      <td>1</td>\n",
              "      <td>Indian and Chinese troops clash on disputed bo...</td>\n",
              "      <td>Indian and Chinese troops have clashed on thei...</td>\n",
              "      <td>https://edition.cnn.com/2022/12/13/asia/india-...</td>\n",
              "      <td>eng</td>\n",
              "      <td>[indian, chinese, troops, clashed, disputed, h...</td>\n",
              "      <td>[1029, 270, 443, 6079, 3311, 8707, 188, 28, 24...</td>\n",
              "    </tr>\n",
              "    <tr>\n",
              "      <th>...</th>\n",
              "      <td>...</td>\n",
              "      <td>...</td>\n",
              "      <td>...</td>\n",
              "      <td>...</td>\n",
              "      <td>...</td>\n",
              "      <td>...</td>\n",
              "      <td>...</td>\n",
              "    </tr>\n",
              "    <tr>\n",
              "      <th>184</th>\n",
              "      <td>0</td>\n",
              "      <td>Sir Keir Starmer rakes it in after 'selling gr...</td>\n",
              "      <td>Sir Keir Starmer sold seven acres of green-bel...</td>\n",
              "      <td>https://www.dailymail.co.uk/news/article-11550...</td>\n",
              "      <td>eng</td>\n",
              "      <td>[sir, keir, starmer, sold, seven, acres, green...</td>\n",
              "      <td>[2254, 3275, 8274, 1301, 604, 614, 849, 68, 28...</td>\n",
              "    </tr>\n",
              "    <tr>\n",
              "      <th>185</th>\n",
              "      <td>0</td>\n",
              "      <td>Rishi Sunak held 'migrants summit' with Theres...</td>\n",
              "      <td>Rishi Sunak held a ‘migrants summit’ with his ...</td>\n",
              "      <td>https://www.dailymail.co.uk/news/article-11550...</td>\n",
              "      <td>eng</td>\n",
              "      <td>[rishi, sunak, held, ‘, migrants, summit, ’, p...</td>\n",
              "      <td>[2828, 2042, 306, 48, 3127, 574, 2, 2906, 4683...</td>\n",
              "    </tr>\n",
              "    <tr>\n",
              "      <th>186</th>\n",
              "      <td>1</td>\n",
              "      <td>Putin is 'planning for a long war' and the Wes...</td>\n",
              "      <td>Putin is 'planning for a long war' and the Wes...</td>\n",
              "      <td>https://www.dailymail.co.uk/news/article-11546...</td>\n",
              "      <td>eng</td>\n",
              "      <td>[putin, 'planning, long, war, ', west, must, c...</td>\n",
              "      <td>[90, 127, 53, 15, 265, 410, 273, 1156, 815, 14...</td>\n",
              "    </tr>\n",
              "    <tr>\n",
              "      <th>187</th>\n",
              "      <td>1</td>\n",
              "      <td>Putin sends nuclear message to the West for a ...</td>\n",
              "      <td>Russia's nuclear sabre-rattling continued for ...</td>\n",
              "      <td>https://www.dailymail.co.uk/news/article-11545...</td>\n",
              "      <td>eng</td>\n",
              "      <td>[russia, 's, nuclear, sabre-rattling, continue...</td>\n",
              "      <td>[25, 11, 400, 8638, 515, 794, 68, 694, 367, 73...</td>\n",
              "    </tr>\n",
              "    <tr>\n",
              "      <th>188</th>\n",
              "      <td>0</td>\n",
              "      <td>Royal insiders fear Megxit 'harmed the late Qu...</td>\n",
              "      <td>The stress caused by Harry and Meghan's fallin...</td>\n",
              "      <td>https://www.dailymail.co.uk/news/article-11549...</td>\n",
              "      <td>eng</td>\n",
              "      <td>[stress, caused, harry, meghan, 's, falling, r...</td>\n",
              "      <td>[3048, 818, 1801, 2839, 11, 1804, 655, 120, 10...</td>\n",
              "    </tr>\n",
              "  </tbody>\n",
              "</table>\n",
              "<p>189 rows × 7 columns</p>\n",
              "</div>\n",
              "      <button class=\"colab-df-convert\" onclick=\"convertToInteractive('df-6d2beec6-203c-422e-8b76-d6735db6d5dc')\"\n",
              "              title=\"Convert this dataframe to an interactive table.\"\n",
              "              style=\"display:none;\">\n",
              "        \n",
              "  <svg xmlns=\"http://www.w3.org/2000/svg\" height=\"24px\"viewBox=\"0 0 24 24\"\n",
              "       width=\"24px\">\n",
              "    <path d=\"M0 0h24v24H0V0z\" fill=\"none\"/>\n",
              "    <path d=\"M18.56 5.44l.94 2.06.94-2.06 2.06-.94-2.06-.94-.94-2.06-.94 2.06-2.06.94zm-11 1L8.5 8.5l.94-2.06 2.06-.94-2.06-.94L8.5 2.5l-.94 2.06-2.06.94zm10 10l.94 2.06.94-2.06 2.06-.94-2.06-.94-.94-2.06-.94 2.06-2.06.94z\"/><path d=\"M17.41 7.96l-1.37-1.37c-.4-.4-.92-.59-1.43-.59-.52 0-1.04.2-1.43.59L10.3 9.45l-7.72 7.72c-.78.78-.78 2.05 0 2.83L4 21.41c.39.39.9.59 1.41.59.51 0 1.02-.2 1.41-.59l7.78-7.78 2.81-2.81c.8-.78.8-2.07 0-2.86zM5.41 20L4 18.59l7.72-7.72 1.47 1.35L5.41 20z\"/>\n",
              "  </svg>\n",
              "      </button>\n",
              "      \n",
              "  <style>\n",
              "    .colab-df-container {\n",
              "      display:flex;\n",
              "      flex-wrap:wrap;\n",
              "      gap: 12px;\n",
              "    }\n",
              "\n",
              "    .colab-df-convert {\n",
              "      background-color: #E8F0FE;\n",
              "      border: none;\n",
              "      border-radius: 50%;\n",
              "      cursor: pointer;\n",
              "      display: none;\n",
              "      fill: #1967D2;\n",
              "      height: 32px;\n",
              "      padding: 0 0 0 0;\n",
              "      width: 32px;\n",
              "    }\n",
              "\n",
              "    .colab-df-convert:hover {\n",
              "      background-color: #E2EBFA;\n",
              "      box-shadow: 0px 1px 2px rgba(60, 64, 67, 0.3), 0px 1px 3px 1px rgba(60, 64, 67, 0.15);\n",
              "      fill: #174EA6;\n",
              "    }\n",
              "\n",
              "    [theme=dark] .colab-df-convert {\n",
              "      background-color: #3B4455;\n",
              "      fill: #D2E3FC;\n",
              "    }\n",
              "\n",
              "    [theme=dark] .colab-df-convert:hover {\n",
              "      background-color: #434B5C;\n",
              "      box-shadow: 0px 1px 3px 1px rgba(0, 0, 0, 0.15);\n",
              "      filter: drop-shadow(0px 1px 2px rgba(0, 0, 0, 0.3));\n",
              "      fill: #FFFFFF;\n",
              "    }\n",
              "  </style>\n",
              "\n",
              "      <script>\n",
              "        const buttonEl =\n",
              "          document.querySelector('#df-6d2beec6-203c-422e-8b76-d6735db6d5dc button.colab-df-convert');\n",
              "        buttonEl.style.display =\n",
              "          google.colab.kernel.accessAllowed ? 'block' : 'none';\n",
              "\n",
              "        async function convertToInteractive(key) {\n",
              "          const element = document.querySelector('#df-6d2beec6-203c-422e-8b76-d6735db6d5dc');\n",
              "          const dataTable =\n",
              "            await google.colab.kernel.invokeFunction('convertToInteractive',\n",
              "                                                     [key], {});\n",
              "          if (!dataTable) return;\n",
              "\n",
              "          const docLinkHtml = 'Like what you see? Visit the ' +\n",
              "            '<a target=\"_blank\" href=https://colab.research.google.com/notebooks/data_table.ipynb>data table notebook</a>'\n",
              "            + ' to learn more about interactive tables.';\n",
              "          element.innerHTML = '';\n",
              "          dataTable['output_type'] = 'display_data';\n",
              "          await google.colab.output.renderOutput(dataTable, element);\n",
              "          const docLink = document.createElement('div');\n",
              "          docLink.innerHTML = docLinkHtml;\n",
              "          element.appendChild(docLink);\n",
              "        }\n",
              "      </script>\n",
              "    </div>\n",
              "  </div>\n",
              "  "
            ]
          },
          "metadata": {},
          "execution_count": 17
        }
      ]
    },
    {
      "cell_type": "markdown",
      "source": [
        "## Выделяем данные для обучения и тестирования"
      ],
      "metadata": {
        "id": "Ip7sL49H4aIH"
      }
    },
    {
      "cell_type": "code",
      "source": [
        "train, test = train_test_split(news, test_size=0.2)"
      ],
      "metadata": {
        "id": "j51v0xwj4diP"
      },
      "execution_count": 18,
      "outputs": []
    },
    {
      "cell_type": "code",
      "source": [
        "train"
      ],
      "metadata": {
        "colab": {
          "base_uri": "https://localhost:8080/",
          "height": 641
        },
        "id": "2wwax3i56UWT",
        "outputId": "3483bd81-b27c-4116-9f9e-ff303ba2f99d"
      },
      "execution_count": 19,
      "outputs": [
        {
          "output_type": "execute_result",
          "data": {
            "text/plain": [
              "     class                                              title  \\\n",
              "142      0  Twist in Melissa Caddick case as luxury fashio...   \n",
              "121      0  UPDATE 2-UK's MJ Hudson suspends finance chief...   \n",
              "133      0  Shocking moment woke Pennsylvania school board...   \n",
              "177      1  Peru’s president urges Congress to bring forwa...   \n",
              "137      1  Biden shuts down suggestions he is sending U.S...   \n",
              "..     ...                                                ...   \n",
              "31       1  Russia Is Using Old Ukrainian Missiles Against...   \n",
              "17       0  'Bali tourism will not be affected by new crim...   \n",
              "9        1  Peru’s new president calls for elections as Ca...   \n",
              "188      0  Royal insiders fear Megxit 'harmed the late Qu...   \n",
              "12       1  3 dead and foreign nationals injured after gun...   \n",
              "\n",
              "                                                  text  \\\n",
              "142  Luxury fashion brand Christian Dior has been o...   \n",
              "121  Dec 12 (Reuters) - Britain's MJ Hudson Group o...   \n",
              "133  A school treasurer in Pennsylvania has refused...   \n",
              "177  The Peruvian president, Dina Boluarte, who has...   \n",
              "137  President Joe Biden on Monday shot down a repo...   \n",
              "..                                                 ...   \n",
              "31   KYIV, Ukraine — Shortly after a large wave of ...   \n",
              "17   Jakarta/Hong Kong (CNN) — Indonesia's controve...   \n",
              "9    Peru’s new President Dina Boluarte has propose...   \n",
              "188  The stress caused by Harry and Meghan's fallin...   \n",
              "12   Three people were killed and many others injur...   \n",
              "\n",
              "                                                  link language  \\\n",
              "142  https://www.dailymail.co.uk/news/article-11530...      eng   \n",
              "121  https://www.dailymail.co.uk/wires/reuters/arti...      eng   \n",
              "133  https://www.dailymail.co.uk/news/article-11529...      eng   \n",
              "177  https://www.theguardian.com/world/2022/dec/17/...      eng   \n",
              "137  https://www.dailymail.co.uk/news/article-11529...      eng   \n",
              "..                                                 ...      ...   \n",
              "31   https://www.nytimes.com/2022/12/12/world/europ...      eng   \n",
              "17   https://edition.cnn.com/travel/article/bali-to...      eng   \n",
              "9    https://edition.cnn.com/2022/12/12/americas/pe...      eng   \n",
              "188  https://www.dailymail.co.uk/news/article-11549...      eng   \n",
              "12   https://edition.cnn.com/2022/12/12/asia/kabul-...      eng   \n",
              "\n",
              "                                    Preprocessed_texts  \\\n",
              "142  [luxury, fashion, brand, christian, dior, orde...   \n",
              "121  [dec, 12, reuters, britain, 's, mj, hudson, gr...   \n",
              "133  [school, treasurer, pennsylvania, refused, vot...   \n",
              "177  [peruvian, president, dina, boluarte, said, le...   \n",
              "137  [president, joe, biden, monday, shot, report, ...   \n",
              "..                                                 ...   \n",
              "31   [kyiv, ukraine, —, shortly, large, wave, russi...   \n",
              "17   [jakarta/hong, kong, cnn, —, indonesia, 's, co...   \n",
              "9    [peru, ’, new, president, dina, boluarte, prop...   \n",
              "188  [stress, caused, harry, meghan, 's, falling, r...   \n",
              "12   [three, people, killed, many, others, injured,...   \n",
              "\n",
              "                                             Sequences  \n",
              "142  [1757, 1506, 2351, 1587, 1830, 1602, 862, 899,...  \n",
              "121  [2514, 457, 684, 646, 11, 3843, 2700, 77, 37, ...  \n",
              "133  [398, 5762, 2024, 1679, 288, 8259, 8260, 253, ...  \n",
              "177  [1263, 19, 1711, 331, 5, 612, 8612, 40, 1090, ...  \n",
              "137  [19, 1172, 83, 37, 311, 254, 1828, 1708, 72, 4...  \n",
              "..                                                 ...  \n",
              "31   [421, 14, 6, 1780, 496, 650, 38, 115, 4067, 68...  \n",
              "17   [9182, 375, 167, 6, 2538, 11, 3422, 2361, 798,...  \n",
              "9    [212, 2, 13, 19, 1711, 331, 966, 1099, 162, 38...  \n",
              "188  [3048, 818, 1801, 2839, 11, 1804, 655, 120, 10...  \n",
              "12   [56, 7, 131, 27, 291, 755, 4001, 2608, 348, 19...  \n",
              "\n",
              "[151 rows x 7 columns]"
            ],
            "text/html": [
              "\n",
              "  <div id=\"df-0408dc6b-bc57-4f42-a5e8-5dffa6170de4\">\n",
              "    <div class=\"colab-df-container\">\n",
              "      <div>\n",
              "<style scoped>\n",
              "    .dataframe tbody tr th:only-of-type {\n",
              "        vertical-align: middle;\n",
              "    }\n",
              "\n",
              "    .dataframe tbody tr th {\n",
              "        vertical-align: top;\n",
              "    }\n",
              "\n",
              "    .dataframe thead th {\n",
              "        text-align: right;\n",
              "    }\n",
              "</style>\n",
              "<table border=\"1\" class=\"dataframe\">\n",
              "  <thead>\n",
              "    <tr style=\"text-align: right;\">\n",
              "      <th></th>\n",
              "      <th>class</th>\n",
              "      <th>title</th>\n",
              "      <th>text</th>\n",
              "      <th>link</th>\n",
              "      <th>language</th>\n",
              "      <th>Preprocessed_texts</th>\n",
              "      <th>Sequences</th>\n",
              "    </tr>\n",
              "  </thead>\n",
              "  <tbody>\n",
              "    <tr>\n",
              "      <th>142</th>\n",
              "      <td>0</td>\n",
              "      <td>Twist in Melissa Caddick case as luxury fashio...</td>\n",
              "      <td>Luxury fashion brand Christian Dior has been o...</td>\n",
              "      <td>https://www.dailymail.co.uk/news/article-11530...</td>\n",
              "      <td>eng</td>\n",
              "      <td>[luxury, fashion, brand, christian, dior, orde...</td>\n",
              "      <td>[1757, 1506, 2351, 1587, 1830, 1602, 862, 899,...</td>\n",
              "    </tr>\n",
              "    <tr>\n",
              "      <th>121</th>\n",
              "      <td>0</td>\n",
              "      <td>UPDATE 2-UK's MJ Hudson suspends finance chief...</td>\n",
              "      <td>Dec 12 (Reuters) - Britain's MJ Hudson Group o...</td>\n",
              "      <td>https://www.dailymail.co.uk/wires/reuters/arti...</td>\n",
              "      <td>eng</td>\n",
              "      <td>[dec, 12, reuters, britain, 's, mj, hudson, gr...</td>\n",
              "      <td>[2514, 457, 684, 646, 11, 3843, 2700, 77, 37, ...</td>\n",
              "    </tr>\n",
              "    <tr>\n",
              "      <th>133</th>\n",
              "      <td>0</td>\n",
              "      <td>Shocking moment woke Pennsylvania school board...</td>\n",
              "      <td>A school treasurer in Pennsylvania has refused...</td>\n",
              "      <td>https://www.dailymail.co.uk/news/article-11529...</td>\n",
              "      <td>eng</td>\n",
              "      <td>[school, treasurer, pennsylvania, refused, vot...</td>\n",
              "      <td>[398, 5762, 2024, 1679, 288, 8259, 8260, 253, ...</td>\n",
              "    </tr>\n",
              "    <tr>\n",
              "      <th>177</th>\n",
              "      <td>1</td>\n",
              "      <td>Peru’s president urges Congress to bring forwa...</td>\n",
              "      <td>The Peruvian president, Dina Boluarte, who has...</td>\n",
              "      <td>https://www.theguardian.com/world/2022/dec/17/...</td>\n",
              "      <td>eng</td>\n",
              "      <td>[peruvian, president, dina, boluarte, said, le...</td>\n",
              "      <td>[1263, 19, 1711, 331, 5, 612, 8612, 40, 1090, ...</td>\n",
              "    </tr>\n",
              "    <tr>\n",
              "      <th>137</th>\n",
              "      <td>1</td>\n",
              "      <td>Biden shuts down suggestions he is sending U.S...</td>\n",
              "      <td>President Joe Biden on Monday shot down a repo...</td>\n",
              "      <td>https://www.dailymail.co.uk/news/article-11529...</td>\n",
              "      <td>eng</td>\n",
              "      <td>[president, joe, biden, monday, shot, report, ...</td>\n",
              "      <td>[19, 1172, 83, 37, 311, 254, 1828, 1708, 72, 4...</td>\n",
              "    </tr>\n",
              "    <tr>\n",
              "      <th>...</th>\n",
              "      <td>...</td>\n",
              "      <td>...</td>\n",
              "      <td>...</td>\n",
              "      <td>...</td>\n",
              "      <td>...</td>\n",
              "      <td>...</td>\n",
              "      <td>...</td>\n",
              "    </tr>\n",
              "    <tr>\n",
              "      <th>31</th>\n",
              "      <td>1</td>\n",
              "      <td>Russia Is Using Old Ukrainian Missiles Against...</td>\n",
              "      <td>KYIV, Ukraine — Shortly after a large wave of ...</td>\n",
              "      <td>https://www.nytimes.com/2022/12/12/world/europ...</td>\n",
              "      <td>eng</td>\n",
              "      <td>[kyiv, ukraine, —, shortly, large, wave, russi...</td>\n",
              "      <td>[421, 14, 6, 1780, 496, 650, 38, 115, 4067, 68...</td>\n",
              "    </tr>\n",
              "    <tr>\n",
              "      <th>17</th>\n",
              "      <td>0</td>\n",
              "      <td>'Bali tourism will not be affected by new crim...</td>\n",
              "      <td>Jakarta/Hong Kong (CNN) — Indonesia's controve...</td>\n",
              "      <td>https://edition.cnn.com/travel/article/bali-to...</td>\n",
              "      <td>eng</td>\n",
              "      <td>[jakarta/hong, kong, cnn, —, indonesia, 's, co...</td>\n",
              "      <td>[9182, 375, 167, 6, 2538, 11, 3422, 2361, 798,...</td>\n",
              "    </tr>\n",
              "    <tr>\n",
              "      <th>9</th>\n",
              "      <td>1</td>\n",
              "      <td>Peru’s new president calls for elections as Ca...</td>\n",
              "      <td>Peru’s new President Dina Boluarte has propose...</td>\n",
              "      <td>https://edition.cnn.com/2022/12/12/americas/pe...</td>\n",
              "      <td>eng</td>\n",
              "      <td>[peru, ’, new, president, dina, boluarte, prop...</td>\n",
              "      <td>[212, 2, 13, 19, 1711, 331, 966, 1099, 162, 38...</td>\n",
              "    </tr>\n",
              "    <tr>\n",
              "      <th>188</th>\n",
              "      <td>0</td>\n",
              "      <td>Royal insiders fear Megxit 'harmed the late Qu...</td>\n",
              "      <td>The stress caused by Harry and Meghan's fallin...</td>\n",
              "      <td>https://www.dailymail.co.uk/news/article-11549...</td>\n",
              "      <td>eng</td>\n",
              "      <td>[stress, caused, harry, meghan, 's, falling, r...</td>\n",
              "      <td>[3048, 818, 1801, 2839, 11, 1804, 655, 120, 10...</td>\n",
              "    </tr>\n",
              "    <tr>\n",
              "      <th>12</th>\n",
              "      <td>1</td>\n",
              "      <td>3 dead and foreign nationals injured after gun...</td>\n",
              "      <td>Three people were killed and many others injur...</td>\n",
              "      <td>https://edition.cnn.com/2022/12/12/asia/kabul-...</td>\n",
              "      <td>eng</td>\n",
              "      <td>[three, people, killed, many, others, injured,...</td>\n",
              "      <td>[56, 7, 131, 27, 291, 755, 4001, 2608, 348, 19...</td>\n",
              "    </tr>\n",
              "  </tbody>\n",
              "</table>\n",
              "<p>151 rows × 7 columns</p>\n",
              "</div>\n",
              "      <button class=\"colab-df-convert\" onclick=\"convertToInteractive('df-0408dc6b-bc57-4f42-a5e8-5dffa6170de4')\"\n",
              "              title=\"Convert this dataframe to an interactive table.\"\n",
              "              style=\"display:none;\">\n",
              "        \n",
              "  <svg xmlns=\"http://www.w3.org/2000/svg\" height=\"24px\"viewBox=\"0 0 24 24\"\n",
              "       width=\"24px\">\n",
              "    <path d=\"M0 0h24v24H0V0z\" fill=\"none\"/>\n",
              "    <path d=\"M18.56 5.44l.94 2.06.94-2.06 2.06-.94-2.06-.94-.94-2.06-.94 2.06-2.06.94zm-11 1L8.5 8.5l.94-2.06 2.06-.94-2.06-.94L8.5 2.5l-.94 2.06-2.06.94zm10 10l.94 2.06.94-2.06 2.06-.94-2.06-.94-.94-2.06-.94 2.06-2.06.94z\"/><path d=\"M17.41 7.96l-1.37-1.37c-.4-.4-.92-.59-1.43-.59-.52 0-1.04.2-1.43.59L10.3 9.45l-7.72 7.72c-.78.78-.78 2.05 0 2.83L4 21.41c.39.39.9.59 1.41.59.51 0 1.02-.2 1.41-.59l7.78-7.78 2.81-2.81c.8-.78.8-2.07 0-2.86zM5.41 20L4 18.59l7.72-7.72 1.47 1.35L5.41 20z\"/>\n",
              "  </svg>\n",
              "      </button>\n",
              "      \n",
              "  <style>\n",
              "    .colab-df-container {\n",
              "      display:flex;\n",
              "      flex-wrap:wrap;\n",
              "      gap: 12px;\n",
              "    }\n",
              "\n",
              "    .colab-df-convert {\n",
              "      background-color: #E8F0FE;\n",
              "      border: none;\n",
              "      border-radius: 50%;\n",
              "      cursor: pointer;\n",
              "      display: none;\n",
              "      fill: #1967D2;\n",
              "      height: 32px;\n",
              "      padding: 0 0 0 0;\n",
              "      width: 32px;\n",
              "    }\n",
              "\n",
              "    .colab-df-convert:hover {\n",
              "      background-color: #E2EBFA;\n",
              "      box-shadow: 0px 1px 2px rgba(60, 64, 67, 0.3), 0px 1px 3px 1px rgba(60, 64, 67, 0.15);\n",
              "      fill: #174EA6;\n",
              "    }\n",
              "\n",
              "    [theme=dark] .colab-df-convert {\n",
              "      background-color: #3B4455;\n",
              "      fill: #D2E3FC;\n",
              "    }\n",
              "\n",
              "    [theme=dark] .colab-df-convert:hover {\n",
              "      background-color: #434B5C;\n",
              "      box-shadow: 0px 1px 3px 1px rgba(0, 0, 0, 0.15);\n",
              "      filter: drop-shadow(0px 1px 2px rgba(0, 0, 0, 0.3));\n",
              "      fill: #FFFFFF;\n",
              "    }\n",
              "  </style>\n",
              "\n",
              "      <script>\n",
              "        const buttonEl =\n",
              "          document.querySelector('#df-0408dc6b-bc57-4f42-a5e8-5dffa6170de4 button.colab-df-convert');\n",
              "        buttonEl.style.display =\n",
              "          google.colab.kernel.accessAllowed ? 'block' : 'none';\n",
              "\n",
              "        async function convertToInteractive(key) {\n",
              "          const element = document.querySelector('#df-0408dc6b-bc57-4f42-a5e8-5dffa6170de4');\n",
              "          const dataTable =\n",
              "            await google.colab.kernel.invokeFunction('convertToInteractive',\n",
              "                                                     [key], {});\n",
              "          if (!dataTable) return;\n",
              "\n",
              "          const docLinkHtml = 'Like what you see? Visit the ' +\n",
              "            '<a target=\"_blank\" href=https://colab.research.google.com/notebooks/data_table.ipynb>data table notebook</a>'\n",
              "            + ' to learn more about interactive tables.';\n",
              "          element.innerHTML = '';\n",
              "          dataTable['output_type'] = 'display_data';\n",
              "          await google.colab.output.renderOutput(dataTable, element);\n",
              "          const docLink = document.createElement('div');\n",
              "          docLink.innerHTML = docLinkHtml;\n",
              "          element.appendChild(docLink);\n",
              "        }\n",
              "      </script>\n",
              "    </div>\n",
              "  </div>\n",
              "  "
            ]
          },
          "metadata": {},
          "execution_count": 19
        }
      ]
    },
    {
      "cell_type": "code",
      "source": [
        "test"
      ],
      "metadata": {
        "colab": {
          "base_uri": "https://localhost:8080/",
          "height": 1000
        },
        "id": "wr991Et_6YRQ",
        "outputId": "0665434a-a85b-401c-f77a-8765641b96a0"
      },
      "execution_count": 20,
      "outputs": [
        {
          "output_type": "execute_result",
          "data": {
            "text/plain": [
              "     class                                              title  \\\n",
              "118      1  How Cambodian women are using theatre to speak...   \n",
              "164      0  U.S. Health Officials Seek New Curbs on Privat...   \n",
              "127      1  EU targets Iran over protest crackdown, Russia...   \n",
              "73       1  Qatar’s foreign minister: This is ‘the most in...   \n",
              "163      0                  John Fetterman’s TikTok Whisperer   \n",
              "69       1  Covid spreads and medical staff sicken after C...   \n",
              "150      1  Moscow appeals for army recruits to fight in U...   \n",
              "90       1  South Africa’s parliament votes against motion...   \n",
              "161      0  These 2 Holiday Mains Aren’t Just Stunning. Th...   \n",
              "136      1  Pentagon fires hypersonic missile that can tra...   \n",
              "100      1  Ukraine calls for Patriot missiles to defend i...   \n",
              "32       1  Snow and Cold Bring Parts of U.K. to a Standstill   \n",
              "5        1  Leaving his life in Bakhmut had seemed impossi...   \n",
              "160      1  Revisiting an Anti-Immigrant Quebec Town Uncov...   \n",
              "110      0  Angelo Badalamenti, David Lynch’s composer on ...   \n",
              "85       0  How to store cheese: Tips to keep it fresh longer   \n",
              "25       0  Mississippi State head football coach Mike Lea...   \n",
              "182      0  Britain braces for rolling power cuts: Arctic ...   \n",
              "113      0  Make your own decorations! Eight cheap, easy a...   \n",
              "157      1  Water supply and metro services restored in Ky...   \n",
              "141      0  Look, no training wheels! Biden pretends to ge...   \n",
              "64       1  U.S. says it can’t seek death penalty against ...   \n",
              "129      0        Recent attacks on foreigners in Afghanistan   \n",
              "87       0  What do Democrats do with Kyrsten Sinema in 2024?   \n",
              "35       1  The E.U. imposes fresh sanctions on Iranians o...   \n",
              "2        1  Soccer union ‘sickened’ by reports Iranian pla...   \n",
              "156      0  Elon Musk’s Twitter blocked links to rival Mas...   \n",
              "95       1  ‘No one will protect us’: how Haiti has become...   \n",
              "101      1  Sam Bankman-Fried arrested in the Bahamas as c...   \n",
              "16       0  The best ski resorts where you can use your ho...   \n",
              "71       1  Renewables to overtake coal as world’s top ene...   \n",
              "175      0  Tennessee man accused of plot to kill FBI agen...   \n",
              "132      1  Vladimir Putin can't be trusted in peace talks...   \n",
              "126      0  Urgent recall is issued for popular baby toy: ...   \n",
              "52       0  The slowdown in inflation was driven by food, ...   \n",
              "43       1  Banksy’s works near Kyiv have inspired Ukraine...   \n",
              "42       1  Europe Reaches Deal for Carbon Tax Law on Imports   \n",
              "106      0  High court to rule on attempt to ban wild camp...   \n",
              "\n",
              "                                                  text  \\\n",
              "118  Chenda usually spends her days in her rural vi...   \n",
              "164  Federal health officials are proposing an exte...   \n",
              "127  BRUSSELS (AP) - European Union foreign ministe...   \n",
              "73   DOHA, Qatar — Toward the end of last week, bef...   \n",
              "163  Newt Gingrich was not happy. It was the night ...   \n",
              "69   Chinese hospitals scrambled to contain emergin...   \n",
              "150  Moscow has begun a new campaign to encourage R...   \n",
              "90   South Africa’s parliament has voted against la...   \n",
              "161  Often heard as a Christmas carol, Christina Ro...   \n",
              "136  The U.S. Air Force completed an 'operational' ...   \n",
              "100  Ukraine has called for the west to supply Patr...   \n",
              "32   LONDON — A coating of snow and ice on Sunday u...   \n",
              "5    Editor’s Note: Warning: This story contains de...   \n",
              "160  For such a small town, Hérouxville, with a pop...   \n",
              "110  Angelo Badalamenti, the acclaimed composer who...   \n",
              "85   Putting out a cheese board is one of the easie...   \n",
              "25   Mississippi State head football coach Mike Lea...   \n",
              "182  Britain is facing the prospect of rolling powe...   \n",
              "113  Christmas can feel expensive, but adding a tou...   \n",
              "157  Water supply and metro services have been rest...   \n",
              "141  President Joe Biden tried out a child-sized bi...   \n",
              "64   Prosecutors said in federal court Monday that ...   \n",
              "129  KABUL, Dec 12 (Reuters) - The Taliban took bac...   \n",
              "87   Sen. Kyrsten Sinema’s (D-Ariz.) decision to be...   \n",
              "35   The European Union condemned Iran’s military p...   \n",
              "2    The global soccer players’ union, FIFPRO, said...   \n",
              "156  Elon Musk’s Twitter sparked an international o...   \n",
              "95   As the news filtered through on 30 October tha...   \n",
              "101  The Bahamas police have arrested former FTX CE...   \n",
              "16   Winter is here, and for many families, that me...   \n",
              "71   The world is set to add as much renewable ener...   \n",
              "175  In the latest in an ever-growing list of crimi...   \n",
              "132  Vladimir Putin could use peace talks with Ukra...   \n",
              "126  An urgent recall has been issued for a simple ...   \n",
              "52   A rise in food prices, which had been propelli...   \n",
              "43   KYIV, Ukraine — Many Ukrainians saw messages o...   \n",
              "42   The European Union has taken a step closer to ...   \n",
              "106  On a freezing afternoon underneath the ice-enc...   \n",
              "\n",
              "                                                  link language  \\\n",
              "118  https://www.theguardian.com/global-development...      eng   \n",
              "164  https://www.nytimes.com/2022/12/17/health/medi...      eng   \n",
              "127  https://www.dailymail.co.uk/wires/ap/article-1...      eng   \n",
              "73   https://www.washingtonpost.com/world/2022/12/1...      eng   \n",
              "163  https://www.nytimes.com/2022/12/17/style/annie...      eng   \n",
              "69   https://www.washingtonpost.com/world/2022/12/1...      eng   \n",
              "150  https://edition.cnn.com/2022/12/17/europe/mosc...      eng   \n",
              "90   https://www.theguardian.com/world/2022/dec/13/...      eng   \n",
              "161  https://www.nytimes.com/2022/12/15/dining/roas...      eng   \n",
              "136  https://www.dailymail.co.uk/news/article-11529...      eng   \n",
              "100  https://www.theguardian.com/world/2022/dec/12/...      eng   \n",
              "32   https://www.nytimes.com/2022/12/12/world/europ...      eng   \n",
              "5    https://edition.cnn.com/2022/12/12/europe/ukra...      eng   \n",
              "160  https://www.nytimes.com/2022/12/17/world/canad...      eng   \n",
              "110  https://www.theguardian.com/music/2022/dec/13/...      eng   \n",
              "85   https://www.washingtonpost.com/food/2022/12/12...      eng   \n",
              "25   https://edition.cnn.com/2022/12/13/sport/mike-...      eng   \n",
              "182  https://www.dailymail.co.uk/news/article-11549...      eng   \n",
              "113  https://www.theguardian.com/lifeandstyle/2022/...      eng   \n",
              "157  https://edition.cnn.com/2022/12/17/europe/ukra...      eng   \n",
              "141  https://www.dailymail.co.uk/news/article-11530...      eng   \n",
              "64   https://www.washingtonpost.com/national-securi...      eng   \n",
              "129  https://www.dailymail.co.uk/wires/reuters/arti...      eng   \n",
              "87   https://www.washingtonpost.com/politics/2022/1...      eng   \n",
              "35   https://www.nytimes.com/2022/12/12/world/europ...      eng   \n",
              "2    https://edition.cnn.com/2022/12/13/middleeast/...      eng   \n",
              "156  https://edition.cnn.com/2022/12/16/tech/mastod...      eng   \n",
              "95   https://www.theguardian.com/world/2022/dec/12/...      eng   \n",
              "101  https://www.theguardian.com/us-news/2022/dec/1...      eng   \n",
              "16   https://edition.cnn.com/cnn-underscored/travel...      eng   \n",
              "71   https://www.washingtonpost.com/world/2022/12/1...      eng   \n",
              "175  https://www.theguardian.com/us-news/2022/dec/1...      eng   \n",
              "132  https://www.dailymail.co.uk/news/article-11527...      eng   \n",
              "126  https://www.dailymail.co.uk/news/article-11530...      eng   \n",
              "52   https://www.nytimes.com/2022/12/13/business/cp...      eng   \n",
              "43   https://www.nytimes.com/2022/12/13/world/europ...      eng   \n",
              "42   https://www.nytimes.com/2022/12/13/world/europ...      eng   \n",
              "106  https://www.theguardian.com/uk-news/2022/dec/1...      eng   \n",
              "\n",
              "                                    Preprocessed_texts  \\\n",
              "118  [chenda, usually, spends, days, rural, village...   \n",
              "164  [federal, health, officials, proposing, extens...   \n",
              "127  [brussels, ap, european, union, foreign, minis...   \n",
              "73   [doha, qatar, —, toward, end, last, week, leav...   \n",
              "163  [newt, gingrich, happy, night, dec., 6, minute...   \n",
              "69   [chinese, hospitals, scrambled, contain, emerg...   \n",
              "150  [moscow, begun, new, campaign, encourage, russ...   \n",
              "90   [south, africa, ’, parliament, voted, launchin...   \n",
              "161  [often, heard, christmas, carol, christina, ro...   \n",
              "136  [u.s., air, force, completed, 'operational, ',...   \n",
              "100  [ukraine, called, west, supply, patriot, missi...   \n",
              "32   [london, —, coating, snow, ice, sunday, upende...   \n",
              "5    [editor, ’, note, warning, story, contains, de...   \n",
              "160  [small, town, hérouxville, population, 1,336, ...   \n",
              "110  [angelo, badalamenti, acclaimed, composer, cre...   \n",
              "85   [putting, cheese, board, one, easiest, fun, wa...   \n",
              "25   [mississippi, state, head, football, coach, mi...   \n",
              "182  [britain, facing, prospect, rolling, power, cu...   \n",
              "113  [christmas, feel, expensive, adding, touch, fe...   \n",
              "157  [water, supply, metro, services, restored, kyi...   \n",
              "141  [president, joe, biden, tried, child-sized, bi...   \n",
              "64   [prosecutors, said, federal, court, monday, la...   \n",
              "129  [kabul, dec, 12, reuters, taliban, took, back,...   \n",
              "87   [sen., kyrsten, sinema, ’, d-ariz., decision, ...   \n",
              "35   [european, union, condemned, iran, ’, military...   \n",
              "2    [global, soccer, players, ’, union, fifpro, sa...   \n",
              "156  [elon, musk, ’, twitter, sparked, internationa...   \n",
              "95   [news, filtered, 30, october, another, reporte...   \n",
              "101  [bahamas, police, arrested, former, ftx, ceo, ...   \n",
              "16   [winter, many, families, means, ’, time, break...   \n",
              "71   [world, set, add, much, renewable, energy, nex...   \n",
              "175  [latest, ever-growing, list, criminal, charges...   \n",
              "132  [vladimir, putin, could, use, peace, talks, uk...   \n",
              "126  [urgent, recall, issued, simple, wooden, baby,...   \n",
              "52   [rise, food, prices, propelling, rapid, inflat...   \n",
              "43   [kyiv, ukraine, —, many, ukrainians, saw, mess...   \n",
              "42   [european, union, taken, step, closer, adoptin...   \n",
              "106  [freezing, afternoon, underneath, ice-encruste...   \n",
              "\n",
              "                                             Sequences  \n",
              "118  [2829, 1988, 5304, 89, 826, 1627, 6132, 5818, ...  \n",
              "164  [202, 96, 47, 8138, 3803, 176, 401, 3423, 791,...  \n",
              "127  [1439, 4638, 118, 150, 171, 525, 1575, 13, 699...  \n",
              "73   [4242, 156, 6, 561, 135, 21, 49, 981, 2715, 28...  \n",
              "163  [6000, 2404, 217, 1333, 994, 587, 72, 468, 812...  \n",
              "69   [270, 822, 7405, 5551, 7067, 7406, 63, 23, 37,...  \n",
              "150  [390, 1878, 13, 236, 2735, 1491, 6807, 863, 13...  \n",
              "90   [110, 132, 2, 178, 2227, 3358, 1907, 583, 7879...  \n",
              "161  [192, 925, 252, 2, 3, 8436, 4, 757, 867, 357, ...  \n",
              "136  [72, 149, 175, 3270, 15, 433, 4334, 424, 113, ...  \n",
              "100  [14, 123, 265, 805, 1606, 115, 2592, 1217, 149...  \n",
              "32   [371, 6, 9878, 454, 1069, 139, 6578, 447, 646,...  \n",
              "5    [1585, 2, 2552, 1102, 492, 6092, 1365, 4725, 8...  \n",
              "160  [448, 610, 2525, 952, 426, 355, 446, 4670, 2, ...  \n",
              "110  [2253, 903, 8067, 4610, 1372, 8068, 804, 802, ...  \n",
              "85   [1336, 329, 1165, 9, 4861, 1933, 562, 177, 667...  \n",
              "25   [1633, 35, 232, 633, 1643, 1779, 3020, 342, 37...  \n",
              "182  [646, 918, 2470, 2109, 64, 2368, 529, 140, 201...  \n",
              "113  [252, 464, 1502, 475, 2494, 1350, 3151, 4622, ...  \n",
              "157  [105, 805, 213, 1952, 421, 47, 515, 59, 173, 4...  \n",
              "141  [19, 1172, 83, 664, 4648, 37, 661, 108, 1052, ...  \n",
              "64   [775, 5, 202, 179, 37, 116, 1009, 1095, 184, 1...  \n",
              "129  [1920, 2514, 457, 684, 3884, 204, 58, 234, 170...  \n",
              "87   [3240, 7820, 1695, 2, 7821, 495, 272, 554, 502...  \n",
              "35   [118, 150, 3579, 241, 2, 43, 1953, 25, 37, 514...  \n",
              "2    [263, 602, 1024, 2, 150, 6054, 5, 3, 4704, 867...  \n",
              "156  [1447, 60, 2, 41, 2540, 138, 5960, 406, 5985, ...  \n",
              "95   [91, 460, 364, 79, 1812, 441, 5807, 231, 2289,...  \n",
              "101  [1158, 29, 441, 46, 262, 1692, 1318, 159, 23, ...  \n",
              "16   [374, 27, 630, 624, 2, 26, 836, 1126, 6293, 48...  \n",
              "71   [24, 176, 999, 76, 2798, 71, 100, 297, 17, 107...  \n",
              "175  [238, 1125, 541, 350, 372, 524, 994, 8605, 860...  \n",
              "132  [706, 90, 22, 70, 1182, 1174, 14, 608, 26, 381...  \n",
              "126  [3113, 5863, 1025, 1383, 5872, 7749, 4639, 351...  \n",
              "52   [792, 405, 418, 1737, 569, 12, 1323, 752, 405,...  \n",
              "43   [421, 14, 6, 27, 1445, 718, 2156, 6860, 4285, ...  \n",
              "42   [118, 150, 369, 597, 2620, 5220, 6846, 565, 85...  \n",
              "106  [1320, 974, 655, 3672, 864, 403, 1896, 37, 147...  "
            ],
            "text/html": [
              "\n",
              "  <div id=\"df-fd77050e-0803-4bae-ae31-9ba47f896ffc\">\n",
              "    <div class=\"colab-df-container\">\n",
              "      <div>\n",
              "<style scoped>\n",
              "    .dataframe tbody tr th:only-of-type {\n",
              "        vertical-align: middle;\n",
              "    }\n",
              "\n",
              "    .dataframe tbody tr th {\n",
              "        vertical-align: top;\n",
              "    }\n",
              "\n",
              "    .dataframe thead th {\n",
              "        text-align: right;\n",
              "    }\n",
              "</style>\n",
              "<table border=\"1\" class=\"dataframe\">\n",
              "  <thead>\n",
              "    <tr style=\"text-align: right;\">\n",
              "      <th></th>\n",
              "      <th>class</th>\n",
              "      <th>title</th>\n",
              "      <th>text</th>\n",
              "      <th>link</th>\n",
              "      <th>language</th>\n",
              "      <th>Preprocessed_texts</th>\n",
              "      <th>Sequences</th>\n",
              "    </tr>\n",
              "  </thead>\n",
              "  <tbody>\n",
              "    <tr>\n",
              "      <th>118</th>\n",
              "      <td>1</td>\n",
              "      <td>How Cambodian women are using theatre to speak...</td>\n",
              "      <td>Chenda usually spends her days in her rural vi...</td>\n",
              "      <td>https://www.theguardian.com/global-development...</td>\n",
              "      <td>eng</td>\n",
              "      <td>[chenda, usually, spends, days, rural, village...</td>\n",
              "      <td>[2829, 1988, 5304, 89, 826, 1627, 6132, 5818, ...</td>\n",
              "    </tr>\n",
              "    <tr>\n",
              "      <th>164</th>\n",
              "      <td>0</td>\n",
              "      <td>U.S. Health Officials Seek New Curbs on Privat...</td>\n",
              "      <td>Federal health officials are proposing an exte...</td>\n",
              "      <td>https://www.nytimes.com/2022/12/17/health/medi...</td>\n",
              "      <td>eng</td>\n",
              "      <td>[federal, health, officials, proposing, extens...</td>\n",
              "      <td>[202, 96, 47, 8138, 3803, 176, 401, 3423, 791,...</td>\n",
              "    </tr>\n",
              "    <tr>\n",
              "      <th>127</th>\n",
              "      <td>1</td>\n",
              "      <td>EU targets Iran over protest crackdown, Russia...</td>\n",
              "      <td>BRUSSELS (AP) - European Union foreign ministe...</td>\n",
              "      <td>https://www.dailymail.co.uk/wires/ap/article-1...</td>\n",
              "      <td>eng</td>\n",
              "      <td>[brussels, ap, european, union, foreign, minis...</td>\n",
              "      <td>[1439, 4638, 118, 150, 171, 525, 1575, 13, 699...</td>\n",
              "    </tr>\n",
              "    <tr>\n",
              "      <th>73</th>\n",
              "      <td>1</td>\n",
              "      <td>Qatar’s foreign minister: This is ‘the most in...</td>\n",
              "      <td>DOHA, Qatar — Toward the end of last week, bef...</td>\n",
              "      <td>https://www.washingtonpost.com/world/2022/12/1...</td>\n",
              "      <td>eng</td>\n",
              "      <td>[doha, qatar, —, toward, end, last, week, leav...</td>\n",
              "      <td>[4242, 156, 6, 561, 135, 21, 49, 981, 2715, 28...</td>\n",
              "    </tr>\n",
              "    <tr>\n",
              "      <th>163</th>\n",
              "      <td>0</td>\n",
              "      <td>John Fetterman’s TikTok Whisperer</td>\n",
              "      <td>Newt Gingrich was not happy. It was the night ...</td>\n",
              "      <td>https://www.nytimes.com/2022/12/17/style/annie...</td>\n",
              "      <td>eng</td>\n",
              "      <td>[newt, gingrich, happy, night, dec., 6, minute...</td>\n",
              "      <td>[6000, 2404, 217, 1333, 994, 587, 72, 468, 812...</td>\n",
              "    </tr>\n",
              "    <tr>\n",
              "      <th>69</th>\n",
              "      <td>1</td>\n",
              "      <td>Covid spreads and medical staff sicken after C...</td>\n",
              "      <td>Chinese hospitals scrambled to contain emergin...</td>\n",
              "      <td>https://www.washingtonpost.com/world/2022/12/1...</td>\n",
              "      <td>eng</td>\n",
              "      <td>[chinese, hospitals, scrambled, contain, emerg...</td>\n",
              "      <td>[270, 822, 7405, 5551, 7067, 7406, 63, 23, 37,...</td>\n",
              "    </tr>\n",
              "    <tr>\n",
              "      <th>150</th>\n",
              "      <td>1</td>\n",
              "      <td>Moscow appeals for army recruits to fight in U...</td>\n",
              "      <td>Moscow has begun a new campaign to encourage R...</td>\n",
              "      <td>https://edition.cnn.com/2022/12/17/europe/mosc...</td>\n",
              "      <td>eng</td>\n",
              "      <td>[moscow, begun, new, campaign, encourage, russ...</td>\n",
              "      <td>[390, 1878, 13, 236, 2735, 1491, 6807, 863, 13...</td>\n",
              "    </tr>\n",
              "    <tr>\n",
              "      <th>90</th>\n",
              "      <td>1</td>\n",
              "      <td>South Africa’s parliament votes against motion...</td>\n",
              "      <td>South Africa’s parliament has voted against la...</td>\n",
              "      <td>https://www.theguardian.com/world/2022/dec/13/...</td>\n",
              "      <td>eng</td>\n",
              "      <td>[south, africa, ’, parliament, voted, launchin...</td>\n",
              "      <td>[110, 132, 2, 178, 2227, 3358, 1907, 583, 7879...</td>\n",
              "    </tr>\n",
              "    <tr>\n",
              "      <th>161</th>\n",
              "      <td>0</td>\n",
              "      <td>These 2 Holiday Mains Aren’t Just Stunning. Th...</td>\n",
              "      <td>Often heard as a Christmas carol, Christina Ro...</td>\n",
              "      <td>https://www.nytimes.com/2022/12/15/dining/roas...</td>\n",
              "      <td>eng</td>\n",
              "      <td>[often, heard, christmas, carol, christina, ro...</td>\n",
              "      <td>[192, 925, 252, 2, 3, 8436, 4, 757, 867, 357, ...</td>\n",
              "    </tr>\n",
              "    <tr>\n",
              "      <th>136</th>\n",
              "      <td>1</td>\n",
              "      <td>Pentagon fires hypersonic missile that can tra...</td>\n",
              "      <td>The U.S. Air Force completed an 'operational' ...</td>\n",
              "      <td>https://www.dailymail.co.uk/news/article-11529...</td>\n",
              "      <td>eng</td>\n",
              "      <td>[u.s., air, force, completed, 'operational, ',...</td>\n",
              "      <td>[72, 149, 175, 3270, 15, 433, 4334, 424, 113, ...</td>\n",
              "    </tr>\n",
              "    <tr>\n",
              "      <th>100</th>\n",
              "      <td>1</td>\n",
              "      <td>Ukraine calls for Patriot missiles to defend i...</td>\n",
              "      <td>Ukraine has called for the west to supply Patr...</td>\n",
              "      <td>https://www.theguardian.com/world/2022/dec/12/...</td>\n",
              "      <td>eng</td>\n",
              "      <td>[ukraine, called, west, supply, patriot, missi...</td>\n",
              "      <td>[14, 123, 265, 805, 1606, 115, 2592, 1217, 149...</td>\n",
              "    </tr>\n",
              "    <tr>\n",
              "      <th>32</th>\n",
              "      <td>1</td>\n",
              "      <td>Snow and Cold Bring Parts of U.K. to a Standstill</td>\n",
              "      <td>LONDON — A coating of snow and ice on Sunday u...</td>\n",
              "      <td>https://www.nytimes.com/2022/12/12/world/europ...</td>\n",
              "      <td>eng</td>\n",
              "      <td>[london, —, coating, snow, ice, sunday, upende...</td>\n",
              "      <td>[371, 6, 9878, 454, 1069, 139, 6578, 447, 646,...</td>\n",
              "    </tr>\n",
              "    <tr>\n",
              "      <th>5</th>\n",
              "      <td>1</td>\n",
              "      <td>Leaving his life in Bakhmut had seemed impossi...</td>\n",
              "      <td>Editor’s Note: Warning: This story contains de...</td>\n",
              "      <td>https://edition.cnn.com/2022/12/12/europe/ukra...</td>\n",
              "      <td>eng</td>\n",
              "      <td>[editor, ’, note, warning, story, contains, de...</td>\n",
              "      <td>[1585, 2, 2552, 1102, 492, 6092, 1365, 4725, 8...</td>\n",
              "    </tr>\n",
              "    <tr>\n",
              "      <th>160</th>\n",
              "      <td>1</td>\n",
              "      <td>Revisiting an Anti-Immigrant Quebec Town Uncov...</td>\n",
              "      <td>For such a small town, Hérouxville, with a pop...</td>\n",
              "      <td>https://www.nytimes.com/2022/12/17/world/canad...</td>\n",
              "      <td>eng</td>\n",
              "      <td>[small, town, hérouxville, population, 1,336, ...</td>\n",
              "      <td>[448, 610, 2525, 952, 426, 355, 446, 4670, 2, ...</td>\n",
              "    </tr>\n",
              "    <tr>\n",
              "      <th>110</th>\n",
              "      <td>0</td>\n",
              "      <td>Angelo Badalamenti, David Lynch’s composer on ...</td>\n",
              "      <td>Angelo Badalamenti, the acclaimed composer who...</td>\n",
              "      <td>https://www.theguardian.com/music/2022/dec/13/...</td>\n",
              "      <td>eng</td>\n",
              "      <td>[angelo, badalamenti, acclaimed, composer, cre...</td>\n",
              "      <td>[2253, 903, 8067, 4610, 1372, 8068, 804, 802, ...</td>\n",
              "    </tr>\n",
              "    <tr>\n",
              "      <th>85</th>\n",
              "      <td>0</td>\n",
              "      <td>How to store cheese: Tips to keep it fresh longer</td>\n",
              "      <td>Putting out a cheese board is one of the easie...</td>\n",
              "      <td>https://www.washingtonpost.com/food/2022/12/12...</td>\n",
              "      <td>eng</td>\n",
              "      <td>[putting, cheese, board, one, easiest, fun, wa...</td>\n",
              "      <td>[1336, 329, 1165, 9, 4861, 1933, 562, 177, 667...</td>\n",
              "    </tr>\n",
              "    <tr>\n",
              "      <th>25</th>\n",
              "      <td>0</td>\n",
              "      <td>Mississippi State head football coach Mike Lea...</td>\n",
              "      <td>Mississippi State head football coach Mike Lea...</td>\n",
              "      <td>https://edition.cnn.com/2022/12/13/sport/mike-...</td>\n",
              "      <td>eng</td>\n",
              "      <td>[mississippi, state, head, football, coach, mi...</td>\n",
              "      <td>[1633, 35, 232, 633, 1643, 1779, 3020, 342, 37...</td>\n",
              "    </tr>\n",
              "    <tr>\n",
              "      <th>182</th>\n",
              "      <td>0</td>\n",
              "      <td>Britain braces for rolling power cuts: Arctic ...</td>\n",
              "      <td>Britain is facing the prospect of rolling powe...</td>\n",
              "      <td>https://www.dailymail.co.uk/news/article-11549...</td>\n",
              "      <td>eng</td>\n",
              "      <td>[britain, facing, prospect, rolling, power, cu...</td>\n",
              "      <td>[646, 918, 2470, 2109, 64, 2368, 529, 140, 201...</td>\n",
              "    </tr>\n",
              "    <tr>\n",
              "      <th>113</th>\n",
              "      <td>0</td>\n",
              "      <td>Make your own decorations! Eight cheap, easy a...</td>\n",
              "      <td>Christmas can feel expensive, but adding a tou...</td>\n",
              "      <td>https://www.theguardian.com/lifeandstyle/2022/...</td>\n",
              "      <td>eng</td>\n",
              "      <td>[christmas, feel, expensive, adding, touch, fe...</td>\n",
              "      <td>[252, 464, 1502, 475, 2494, 1350, 3151, 4622, ...</td>\n",
              "    </tr>\n",
              "    <tr>\n",
              "      <th>157</th>\n",
              "      <td>1</td>\n",
              "      <td>Water supply and metro services restored in Ky...</td>\n",
              "      <td>Water supply and metro services have been rest...</td>\n",
              "      <td>https://edition.cnn.com/2022/12/17/europe/ukra...</td>\n",
              "      <td>eng</td>\n",
              "      <td>[water, supply, metro, services, restored, kyi...</td>\n",
              "      <td>[105, 805, 213, 1952, 421, 47, 515, 59, 173, 4...</td>\n",
              "    </tr>\n",
              "    <tr>\n",
              "      <th>141</th>\n",
              "      <td>0</td>\n",
              "      <td>Look, no training wheels! Biden pretends to ge...</td>\n",
              "      <td>President Joe Biden tried out a child-sized bi...</td>\n",
              "      <td>https://www.dailymail.co.uk/news/article-11530...</td>\n",
              "      <td>eng</td>\n",
              "      <td>[president, joe, biden, tried, child-sized, bi...</td>\n",
              "      <td>[19, 1172, 83, 664, 4648, 37, 661, 108, 1052, ...</td>\n",
              "    </tr>\n",
              "    <tr>\n",
              "      <th>64</th>\n",
              "      <td>1</td>\n",
              "      <td>U.S. says it can’t seek death penalty against ...</td>\n",
              "      <td>Prosecutors said in federal court Monday that ...</td>\n",
              "      <td>https://www.washingtonpost.com/national-securi...</td>\n",
              "      <td>eng</td>\n",
              "      <td>[prosecutors, said, federal, court, monday, la...</td>\n",
              "      <td>[775, 5, 202, 179, 37, 116, 1009, 1095, 184, 1...</td>\n",
              "    </tr>\n",
              "    <tr>\n",
              "      <th>129</th>\n",
              "      <td>0</td>\n",
              "      <td>Recent attacks on foreigners in Afghanistan</td>\n",
              "      <td>KABUL, Dec 12 (Reuters) - The Taliban took bac...</td>\n",
              "      <td>https://www.dailymail.co.uk/wires/reuters/arti...</td>\n",
              "      <td>eng</td>\n",
              "      <td>[kabul, dec, 12, reuters, taliban, took, back,...</td>\n",
              "      <td>[1920, 2514, 457, 684, 3884, 204, 58, 234, 170...</td>\n",
              "    </tr>\n",
              "    <tr>\n",
              "      <th>87</th>\n",
              "      <td>0</td>\n",
              "      <td>What do Democrats do with Kyrsten Sinema in 2024?</td>\n",
              "      <td>Sen. Kyrsten Sinema’s (D-Ariz.) decision to be...</td>\n",
              "      <td>https://www.washingtonpost.com/politics/2022/1...</td>\n",
              "      <td>eng</td>\n",
              "      <td>[sen., kyrsten, sinema, ’, d-ariz., decision, ...</td>\n",
              "      <td>[3240, 7820, 1695, 2, 7821, 495, 272, 554, 502...</td>\n",
              "    </tr>\n",
              "    <tr>\n",
              "      <th>35</th>\n",
              "      <td>1</td>\n",
              "      <td>The E.U. imposes fresh sanctions on Iranians o...</td>\n",
              "      <td>The European Union condemned Iran’s military p...</td>\n",
              "      <td>https://www.nytimes.com/2022/12/12/world/europ...</td>\n",
              "      <td>eng</td>\n",
              "      <td>[european, union, condemned, iran, ’, military...</td>\n",
              "      <td>[118, 150, 3579, 241, 2, 43, 1953, 25, 37, 514...</td>\n",
              "    </tr>\n",
              "    <tr>\n",
              "      <th>2</th>\n",
              "      <td>1</td>\n",
              "      <td>Soccer union ‘sickened’ by reports Iranian pla...</td>\n",
              "      <td>The global soccer players’ union, FIFPRO, said...</td>\n",
              "      <td>https://edition.cnn.com/2022/12/13/middleeast/...</td>\n",
              "      <td>eng</td>\n",
              "      <td>[global, soccer, players, ’, union, fifpro, sa...</td>\n",
              "      <td>[263, 602, 1024, 2, 150, 6054, 5, 3, 4704, 867...</td>\n",
              "    </tr>\n",
              "    <tr>\n",
              "      <th>156</th>\n",
              "      <td>0</td>\n",
              "      <td>Elon Musk’s Twitter blocked links to rival Mas...</td>\n",
              "      <td>Elon Musk’s Twitter sparked an international o...</td>\n",
              "      <td>https://edition.cnn.com/2022/12/16/tech/mastod...</td>\n",
              "      <td>eng</td>\n",
              "      <td>[elon, musk, ’, twitter, sparked, internationa...</td>\n",
              "      <td>[1447, 60, 2, 41, 2540, 138, 5960, 406, 5985, ...</td>\n",
              "    </tr>\n",
              "    <tr>\n",
              "      <th>95</th>\n",
              "      <td>1</td>\n",
              "      <td>‘No one will protect us’: how Haiti has become...</td>\n",
              "      <td>As the news filtered through on 30 October tha...</td>\n",
              "      <td>https://www.theguardian.com/world/2022/dec/12/...</td>\n",
              "      <td>eng</td>\n",
              "      <td>[news, filtered, 30, october, another, reporte...</td>\n",
              "      <td>[91, 460, 364, 79, 1812, 441, 5807, 231, 2289,...</td>\n",
              "    </tr>\n",
              "    <tr>\n",
              "      <th>101</th>\n",
              "      <td>1</td>\n",
              "      <td>Sam Bankman-Fried arrested in the Bahamas as c...</td>\n",
              "      <td>The Bahamas police have arrested former FTX CE...</td>\n",
              "      <td>https://www.theguardian.com/us-news/2022/dec/1...</td>\n",
              "      <td>eng</td>\n",
              "      <td>[bahamas, police, arrested, former, ftx, ceo, ...</td>\n",
              "      <td>[1158, 29, 441, 46, 262, 1692, 1318, 159, 23, ...</td>\n",
              "    </tr>\n",
              "    <tr>\n",
              "      <th>16</th>\n",
              "      <td>0</td>\n",
              "      <td>The best ski resorts where you can use your ho...</td>\n",
              "      <td>Winter is here, and for many families, that me...</td>\n",
              "      <td>https://edition.cnn.com/cnn-underscored/travel...</td>\n",
              "      <td>eng</td>\n",
              "      <td>[winter, many, families, means, ’, time, break...</td>\n",
              "      <td>[374, 27, 630, 624, 2, 26, 836, 1126, 6293, 48...</td>\n",
              "    </tr>\n",
              "    <tr>\n",
              "      <th>71</th>\n",
              "      <td>1</td>\n",
              "      <td>Renewables to overtake coal as world’s top ene...</td>\n",
              "      <td>The world is set to add as much renewable ener...</td>\n",
              "      <td>https://www.washingtonpost.com/world/2022/12/1...</td>\n",
              "      <td>eng</td>\n",
              "      <td>[world, set, add, much, renewable, energy, nex...</td>\n",
              "      <td>[24, 176, 999, 76, 2798, 71, 100, 297, 17, 107...</td>\n",
              "    </tr>\n",
              "    <tr>\n",
              "      <th>175</th>\n",
              "      <td>0</td>\n",
              "      <td>Tennessee man accused of plot to kill FBI agen...</td>\n",
              "      <td>In the latest in an ever-growing list of crimi...</td>\n",
              "      <td>https://www.theguardian.com/us-news/2022/dec/1...</td>\n",
              "      <td>eng</td>\n",
              "      <td>[latest, ever-growing, list, criminal, charges...</td>\n",
              "      <td>[238, 1125, 541, 350, 372, 524, 994, 8605, 860...</td>\n",
              "    </tr>\n",
              "    <tr>\n",
              "      <th>132</th>\n",
              "      <td>1</td>\n",
              "      <td>Vladimir Putin can't be trusted in peace talks...</td>\n",
              "      <td>Vladimir Putin could use peace talks with Ukra...</td>\n",
              "      <td>https://www.dailymail.co.uk/news/article-11527...</td>\n",
              "      <td>eng</td>\n",
              "      <td>[vladimir, putin, could, use, peace, talks, uk...</td>\n",
              "      <td>[706, 90, 22, 70, 1182, 1174, 14, 608, 26, 381...</td>\n",
              "    </tr>\n",
              "    <tr>\n",
              "      <th>126</th>\n",
              "      <td>0</td>\n",
              "      <td>Urgent recall is issued for popular baby toy: ...</td>\n",
              "      <td>An urgent recall has been issued for a simple ...</td>\n",
              "      <td>https://www.dailymail.co.uk/news/article-11530...</td>\n",
              "      <td>eng</td>\n",
              "      <td>[urgent, recall, issued, simple, wooden, baby,...</td>\n",
              "      <td>[3113, 5863, 1025, 1383, 5872, 7749, 4639, 351...</td>\n",
              "    </tr>\n",
              "    <tr>\n",
              "      <th>52</th>\n",
              "      <td>0</td>\n",
              "      <td>The slowdown in inflation was driven by food, ...</td>\n",
              "      <td>A rise in food prices, which had been propelli...</td>\n",
              "      <td>https://www.nytimes.com/2022/12/13/business/cp...</td>\n",
              "      <td>eng</td>\n",
              "      <td>[rise, food, prices, propelling, rapid, inflat...</td>\n",
              "      <td>[792, 405, 418, 1737, 569, 12, 1323, 752, 405,...</td>\n",
              "    </tr>\n",
              "    <tr>\n",
              "      <th>43</th>\n",
              "      <td>1</td>\n",
              "      <td>Banksy’s works near Kyiv have inspired Ukraine...</td>\n",
              "      <td>KYIV, Ukraine — Many Ukrainians saw messages o...</td>\n",
              "      <td>https://www.nytimes.com/2022/12/13/world/europ...</td>\n",
              "      <td>eng</td>\n",
              "      <td>[kyiv, ukraine, —, many, ukrainians, saw, mess...</td>\n",
              "      <td>[421, 14, 6, 27, 1445, 718, 2156, 6860, 4285, ...</td>\n",
              "    </tr>\n",
              "    <tr>\n",
              "      <th>42</th>\n",
              "      <td>1</td>\n",
              "      <td>Europe Reaches Deal for Carbon Tax Law on Imports</td>\n",
              "      <td>The European Union has taken a step closer to ...</td>\n",
              "      <td>https://www.nytimes.com/2022/12/13/world/europ...</td>\n",
              "      <td>eng</td>\n",
              "      <td>[european, union, taken, step, closer, adoptin...</td>\n",
              "      <td>[118, 150, 369, 597, 2620, 5220, 6846, 565, 85...</td>\n",
              "    </tr>\n",
              "    <tr>\n",
              "      <th>106</th>\n",
              "      <td>0</td>\n",
              "      <td>High court to rule on attempt to ban wild camp...</td>\n",
              "      <td>On a freezing afternoon underneath the ice-enc...</td>\n",
              "      <td>https://www.theguardian.com/uk-news/2022/dec/1...</td>\n",
              "      <td>eng</td>\n",
              "      <td>[freezing, afternoon, underneath, ice-encruste...</td>\n",
              "      <td>[1320, 974, 655, 3672, 864, 403, 1896, 37, 147...</td>\n",
              "    </tr>\n",
              "  </tbody>\n",
              "</table>\n",
              "</div>\n",
              "      <button class=\"colab-df-convert\" onclick=\"convertToInteractive('df-fd77050e-0803-4bae-ae31-9ba47f896ffc')\"\n",
              "              title=\"Convert this dataframe to an interactive table.\"\n",
              "              style=\"display:none;\">\n",
              "        \n",
              "  <svg xmlns=\"http://www.w3.org/2000/svg\" height=\"24px\"viewBox=\"0 0 24 24\"\n",
              "       width=\"24px\">\n",
              "    <path d=\"M0 0h24v24H0V0z\" fill=\"none\"/>\n",
              "    <path d=\"M18.56 5.44l.94 2.06.94-2.06 2.06-.94-2.06-.94-.94-2.06-.94 2.06-2.06.94zm-11 1L8.5 8.5l.94-2.06 2.06-.94-2.06-.94L8.5 2.5l-.94 2.06-2.06.94zm10 10l.94 2.06.94-2.06 2.06-.94-2.06-.94-.94-2.06-.94 2.06-2.06.94z\"/><path d=\"M17.41 7.96l-1.37-1.37c-.4-.4-.92-.59-1.43-.59-.52 0-1.04.2-1.43.59L10.3 9.45l-7.72 7.72c-.78.78-.78 2.05 0 2.83L4 21.41c.39.39.9.59 1.41.59.51 0 1.02-.2 1.41-.59l7.78-7.78 2.81-2.81c.8-.78.8-2.07 0-2.86zM5.41 20L4 18.59l7.72-7.72 1.47 1.35L5.41 20z\"/>\n",
              "  </svg>\n",
              "      </button>\n",
              "      \n",
              "  <style>\n",
              "    .colab-df-container {\n",
              "      display:flex;\n",
              "      flex-wrap:wrap;\n",
              "      gap: 12px;\n",
              "    }\n",
              "\n",
              "    .colab-df-convert {\n",
              "      background-color: #E8F0FE;\n",
              "      border: none;\n",
              "      border-radius: 50%;\n",
              "      cursor: pointer;\n",
              "      display: none;\n",
              "      fill: #1967D2;\n",
              "      height: 32px;\n",
              "      padding: 0 0 0 0;\n",
              "      width: 32px;\n",
              "    }\n",
              "\n",
              "    .colab-df-convert:hover {\n",
              "      background-color: #E2EBFA;\n",
              "      box-shadow: 0px 1px 2px rgba(60, 64, 67, 0.3), 0px 1px 3px 1px rgba(60, 64, 67, 0.15);\n",
              "      fill: #174EA6;\n",
              "    }\n",
              "\n",
              "    [theme=dark] .colab-df-convert {\n",
              "      background-color: #3B4455;\n",
              "      fill: #D2E3FC;\n",
              "    }\n",
              "\n",
              "    [theme=dark] .colab-df-convert:hover {\n",
              "      background-color: #434B5C;\n",
              "      box-shadow: 0px 1px 3px 1px rgba(0, 0, 0, 0.15);\n",
              "      filter: drop-shadow(0px 1px 2px rgba(0, 0, 0, 0.3));\n",
              "      fill: #FFFFFF;\n",
              "    }\n",
              "  </style>\n",
              "\n",
              "      <script>\n",
              "        const buttonEl =\n",
              "          document.querySelector('#df-fd77050e-0803-4bae-ae31-9ba47f896ffc button.colab-df-convert');\n",
              "        buttonEl.style.display =\n",
              "          google.colab.kernel.accessAllowed ? 'block' : 'none';\n",
              "\n",
              "        async function convertToInteractive(key) {\n",
              "          const element = document.querySelector('#df-fd77050e-0803-4bae-ae31-9ba47f896ffc');\n",
              "          const dataTable =\n",
              "            await google.colab.kernel.invokeFunction('convertToInteractive',\n",
              "                                                     [key], {});\n",
              "          if (!dataTable) return;\n",
              "\n",
              "          const docLinkHtml = 'Like what you see? Visit the ' +\n",
              "            '<a target=\"_blank\" href=https://colab.research.google.com/notebooks/data_table.ipynb>data table notebook</a>'\n",
              "            + ' to learn more about interactive tables.';\n",
              "          element.innerHTML = '';\n",
              "          dataTable['output_type'] = 'display_data';\n",
              "          await google.colab.output.renderOutput(dataTable, element);\n",
              "          const docLink = document.createElement('div');\n",
              "          docLink.innerHTML = docLinkHtml;\n",
              "          element.appendChild(docLink);\n",
              "        }\n",
              "      </script>\n",
              "    </div>\n",
              "  </div>\n",
              "  "
            ]
          },
          "metadata": {},
          "execution_count": 20
        }
      ]
    },
    {
      "cell_type": "markdown",
      "source": [
        "## Разделяем метки классов и данные для обучения"
      ],
      "metadata": {
        "id": "K5G9ClI46hTl"
      }
    },
    {
      "cell_type": "markdown",
      "source": [
        "Данные для обучения"
      ],
      "metadata": {
        "id": "iX8Z-rFo6oYt"
      }
    },
    {
      "cell_type": "code",
      "source": [
        "x_train = train['Sequences']\n",
        "y_train = train['class']"
      ],
      "metadata": {
        "id": "RlpfWyHI6phL"
      },
      "execution_count": 21,
      "outputs": []
    },
    {
      "cell_type": "code",
      "source": [
        "x_train"
      ],
      "metadata": {
        "colab": {
          "base_uri": "https://localhost:8080/"
        },
        "id": "D03BOlqL7mvJ",
        "outputId": "c52ff25e-d33c-4704-8ad0-b477528f6d81"
      },
      "execution_count": 22,
      "outputs": [
        {
          "output_type": "execute_result",
          "data": {
            "text/plain": [
              "142    [1757, 1506, 2351, 1587, 1830, 1602, 862, 899,...\n",
              "121    [2514, 457, 684, 646, 11, 3843, 2700, 77, 37, ...\n",
              "133    [398, 5762, 2024, 1679, 288, 8259, 8260, 253, ...\n",
              "177    [1263, 19, 1711, 331, 5, 612, 8612, 40, 1090, ...\n",
              "137    [19, 1172, 83, 37, 311, 254, 1828, 1708, 72, 4...\n",
              "                             ...                        \n",
              "31     [421, 14, 6, 1780, 496, 650, 38, 115, 4067, 68...\n",
              "17     [9182, 375, 167, 6, 2538, 11, 3422, 2361, 798,...\n",
              "9      [212, 2, 13, 19, 1711, 331, 966, 1099, 162, 38...\n",
              "188    [3048, 818, 1801, 2839, 11, 1804, 655, 120, 10...\n",
              "12     [56, 7, 131, 27, 291, 755, 4001, 2608, 348, 19...\n",
              "Name: Sequences, Length: 151, dtype: object"
            ]
          },
          "metadata": {},
          "execution_count": 22
        }
      ]
    },
    {
      "cell_type": "markdown",
      "source": [
        "!!! Ограничиваем длину новостных сообщений"
      ],
      "metadata": {
        "id": "oy4wG7DBcCrI"
      }
    },
    {
      "cell_type": "code",
      "source": [
        "x_train = pad_sequences(x_train, maxlen=max_news_len)"
      ],
      "metadata": {
        "id": "8ipgJZG8efGB"
      },
      "execution_count": 23,
      "outputs": []
    },
    {
      "cell_type": "code",
      "source": [
        "x_train"
      ],
      "metadata": {
        "colab": {
          "base_uri": "https://localhost:8080/"
        },
        "id": "045N759qfYJu",
        "outputId": "56f212c0-962a-4f3a-d53f-6c76b6db7cbf"
      },
      "execution_count": 24,
      "outputs": [
        {
          "output_type": "execute_result",
          "data": {
            "text/plain": [
              "array([[2519, 1726, 6392, ..., 1926,  100,   12],\n",
              "       [   0,    0,    0, ...,  620, 8205, 3451],\n",
              "       [   0,    0,    0, ...,   70, 1651,   15],\n",
              "       ...,\n",
              "       [ 816,  394,   45, ...,   21,    4,    5],\n",
              "       [1306,   11,   96, ..., 3094, 1011,  479],\n",
              "       [   0,    0,    0, ...,  756, 1469,   35]], dtype=int32)"
            ]
          },
          "metadata": {},
          "execution_count": 24
        }
      ]
    },
    {
      "cell_type": "code",
      "source": [
        "y_train"
      ],
      "metadata": {
        "colab": {
          "base_uri": "https://localhost:8080/"
        },
        "id": "afx_Q6Tv7q3v",
        "outputId": "fefb7ece-40cf-4e01-a9d5-6d4da09c59e1"
      },
      "execution_count": 25,
      "outputs": [
        {
          "output_type": "execute_result",
          "data": {
            "text/plain": [
              "142    0\n",
              "121    0\n",
              "133    0\n",
              "177    1\n",
              "137    1\n",
              "      ..\n",
              "31     1\n",
              "17     0\n",
              "9      1\n",
              "188    0\n",
              "12     1\n",
              "Name: class, Length: 151, dtype: int64"
            ]
          },
          "metadata": {},
          "execution_count": 25
        }
      ]
    },
    {
      "cell_type": "markdown",
      "source": [
        "!!! Выделяем правильные ответы (преобразуем в формат one hot encoding)"
      ],
      "metadata": {
        "id": "NA4gH4vJSmm2"
      }
    },
    {
      "cell_type": "code",
      "source": [
        "y_train = utils.to_categorical(y_train, nb_classes)"
      ],
      "metadata": {
        "id": "MY7SEKHhSq4y"
      },
      "execution_count": 26,
      "outputs": []
    },
    {
      "cell_type": "code",
      "source": [
        "y_train"
      ],
      "metadata": {
        "colab": {
          "base_uri": "https://localhost:8080/"
        },
        "id": "zpaX39chTKbB",
        "outputId": "dd228c6d-1004-4463-9bac-41e3ef419b31"
      },
      "execution_count": 27,
      "outputs": [
        {
          "output_type": "execute_result",
          "data": {
            "text/plain": [
              "array([[1., 0.],\n",
              "       [1., 0.],\n",
              "       [1., 0.],\n",
              "       [0., 1.],\n",
              "       [0., 1.],\n",
              "       [1., 0.],\n",
              "       [1., 0.],\n",
              "       [0., 1.],\n",
              "       [0., 1.],\n",
              "       [0., 1.],\n",
              "       [0., 1.],\n",
              "       [1., 0.],\n",
              "       [0., 1.],\n",
              "       [1., 0.],\n",
              "       [0., 1.],\n",
              "       [1., 0.],\n",
              "       [1., 0.],\n",
              "       [1., 0.],\n",
              "       [1., 0.],\n",
              "       [0., 1.],\n",
              "       [1., 0.],\n",
              "       [1., 0.],\n",
              "       [1., 0.],\n",
              "       [1., 0.],\n",
              "       [1., 0.],\n",
              "       [1., 0.],\n",
              "       [0., 1.],\n",
              "       [0., 1.],\n",
              "       [0., 1.],\n",
              "       [1., 0.],\n",
              "       [1., 0.],\n",
              "       [0., 1.],\n",
              "       [0., 1.],\n",
              "       [0., 1.],\n",
              "       [1., 0.],\n",
              "       [0., 1.],\n",
              "       [1., 0.],\n",
              "       [1., 0.],\n",
              "       [0., 1.],\n",
              "       [0., 1.],\n",
              "       [0., 1.],\n",
              "       [0., 1.],\n",
              "       [1., 0.],\n",
              "       [0., 1.],\n",
              "       [0., 1.],\n",
              "       [0., 1.],\n",
              "       [1., 0.],\n",
              "       [0., 1.],\n",
              "       [0., 1.],\n",
              "       [1., 0.],\n",
              "       [0., 1.],\n",
              "       [0., 1.],\n",
              "       [0., 1.],\n",
              "       [0., 1.],\n",
              "       [0., 1.],\n",
              "       [0., 1.],\n",
              "       [0., 1.],\n",
              "       [1., 0.],\n",
              "       [1., 0.],\n",
              "       [0., 1.],\n",
              "       [0., 1.],\n",
              "       [1., 0.],\n",
              "       [1., 0.],\n",
              "       [1., 0.],\n",
              "       [1., 0.],\n",
              "       [0., 1.],\n",
              "       [1., 0.],\n",
              "       [1., 0.],\n",
              "       [0., 1.],\n",
              "       [1., 0.],\n",
              "       [1., 0.],\n",
              "       [1., 0.],\n",
              "       [1., 0.],\n",
              "       [1., 0.],\n",
              "       [0., 1.],\n",
              "       [0., 1.],\n",
              "       [0., 1.],\n",
              "       [1., 0.],\n",
              "       [1., 0.],\n",
              "       [1., 0.],\n",
              "       [1., 0.],\n",
              "       [0., 1.],\n",
              "       [0., 1.],\n",
              "       [0., 1.],\n",
              "       [1., 0.],\n",
              "       [1., 0.],\n",
              "       [1., 0.],\n",
              "       [1., 0.],\n",
              "       [0., 1.],\n",
              "       [0., 1.],\n",
              "       [0., 1.],\n",
              "       [0., 1.],\n",
              "       [1., 0.],\n",
              "       [1., 0.],\n",
              "       [1., 0.],\n",
              "       [1., 0.],\n",
              "       [1., 0.],\n",
              "       [0., 1.],\n",
              "       [0., 1.],\n",
              "       [0., 1.],\n",
              "       [0., 1.],\n",
              "       [0., 1.],\n",
              "       [1., 0.],\n",
              "       [1., 0.],\n",
              "       [0., 1.],\n",
              "       [1., 0.],\n",
              "       [1., 0.],\n",
              "       [0., 1.],\n",
              "       [1., 0.],\n",
              "       [0., 1.],\n",
              "       [0., 1.],\n",
              "       [0., 1.],\n",
              "       [1., 0.],\n",
              "       [0., 1.],\n",
              "       [1., 0.],\n",
              "       [0., 1.],\n",
              "       [0., 1.],\n",
              "       [1., 0.],\n",
              "       [1., 0.],\n",
              "       [0., 1.],\n",
              "       [1., 0.],\n",
              "       [1., 0.],\n",
              "       [0., 1.],\n",
              "       [1., 0.],\n",
              "       [1., 0.],\n",
              "       [1., 0.],\n",
              "       [0., 1.],\n",
              "       [1., 0.],\n",
              "       [1., 0.],\n",
              "       [1., 0.],\n",
              "       [1., 0.],\n",
              "       [0., 1.],\n",
              "       [1., 0.],\n",
              "       [0., 1.],\n",
              "       [0., 1.],\n",
              "       [1., 0.],\n",
              "       [1., 0.],\n",
              "       [1., 0.],\n",
              "       [0., 1.],\n",
              "       [0., 1.],\n",
              "       [1., 0.],\n",
              "       [1., 0.],\n",
              "       [1., 0.],\n",
              "       [1., 0.],\n",
              "       [1., 0.],\n",
              "       [0., 1.],\n",
              "       [0., 1.],\n",
              "       [1., 0.],\n",
              "       [0., 1.],\n",
              "       [1., 0.],\n",
              "       [0., 1.]], dtype=float32)"
            ]
          },
          "metadata": {},
          "execution_count": 27
        }
      ]
    },
    {
      "cell_type": "markdown",
      "source": [
        "Данные для тестирования"
      ],
      "metadata": {
        "id": "dSPYLdTc7ydY"
      }
    },
    {
      "cell_type": "code",
      "source": [
        "x_test = test['Sequences']\n",
        "y_test = test['class']"
      ],
      "metadata": {
        "id": "aMkKROaJ70Zi"
      },
      "execution_count": 28,
      "outputs": []
    },
    {
      "cell_type": "code",
      "source": [
        "x_test"
      ],
      "metadata": {
        "colab": {
          "base_uri": "https://localhost:8080/"
        },
        "id": "6b6rbxhT778m",
        "outputId": "32d5ddc3-352c-40a4-81e0-034d22dcd3f4"
      },
      "execution_count": 29,
      "outputs": [
        {
          "output_type": "execute_result",
          "data": {
            "text/plain": [
              "118    [2829, 1988, 5304, 89, 826, 1627, 6132, 5818, ...\n",
              "164    [202, 96, 47, 8138, 3803, 176, 401, 3423, 791,...\n",
              "127    [1439, 4638, 118, 150, 171, 525, 1575, 13, 699...\n",
              "73     [4242, 156, 6, 561, 135, 21, 49, 981, 2715, 28...\n",
              "163    [6000, 2404, 217, 1333, 994, 587, 72, 468, 812...\n",
              "69     [270, 822, 7405, 5551, 7067, 7406, 63, 23, 37,...\n",
              "150    [390, 1878, 13, 236, 2735, 1491, 6807, 863, 13...\n",
              "90     [110, 132, 2, 178, 2227, 3358, 1907, 583, 7879...\n",
              "161    [192, 925, 252, 2, 3, 8436, 4, 757, 867, 357, ...\n",
              "136    [72, 149, 175, 3270, 15, 433, 4334, 424, 113, ...\n",
              "100    [14, 123, 265, 805, 1606, 115, 2592, 1217, 149...\n",
              "32     [371, 6, 9878, 454, 1069, 139, 6578, 447, 646,...\n",
              "5      [1585, 2, 2552, 1102, 492, 6092, 1365, 4725, 8...\n",
              "160    [448, 610, 2525, 952, 426, 355, 446, 4670, 2, ...\n",
              "110    [2253, 903, 8067, 4610, 1372, 8068, 804, 802, ...\n",
              "85     [1336, 329, 1165, 9, 4861, 1933, 562, 177, 667...\n",
              "25     [1633, 35, 232, 633, 1643, 1779, 3020, 342, 37...\n",
              "182    [646, 918, 2470, 2109, 64, 2368, 529, 140, 201...\n",
              "113    [252, 464, 1502, 475, 2494, 1350, 3151, 4622, ...\n",
              "157    [105, 805, 213, 1952, 421, 47, 515, 59, 173, 4...\n",
              "141    [19, 1172, 83, 664, 4648, 37, 661, 108, 1052, ...\n",
              "64     [775, 5, 202, 179, 37, 116, 1009, 1095, 184, 1...\n",
              "129    [1920, 2514, 457, 684, 3884, 204, 58, 234, 170...\n",
              "87     [3240, 7820, 1695, 2, 7821, 495, 272, 554, 502...\n",
              "35     [118, 150, 3579, 241, 2, 43, 1953, 25, 37, 514...\n",
              "2      [263, 602, 1024, 2, 150, 6054, 5, 3, 4704, 867...\n",
              "156    [1447, 60, 2, 41, 2540, 138, 5960, 406, 5985, ...\n",
              "95     [91, 460, 364, 79, 1812, 441, 5807, 231, 2289,...\n",
              "101    [1158, 29, 441, 46, 262, 1692, 1318, 159, 23, ...\n",
              "16     [374, 27, 630, 624, 2, 26, 836, 1126, 6293, 48...\n",
              "71     [24, 176, 999, 76, 2798, 71, 100, 297, 17, 107...\n",
              "175    [238, 1125, 541, 350, 372, 524, 994, 8605, 860...\n",
              "132    [706, 90, 22, 70, 1182, 1174, 14, 608, 26, 381...\n",
              "126    [3113, 5863, 1025, 1383, 5872, 7749, 4639, 351...\n",
              "52     [792, 405, 418, 1737, 569, 12, 1323, 752, 405,...\n",
              "43     [421, 14, 6, 27, 1445, 718, 2156, 6860, 4285, ...\n",
              "42     [118, 150, 369, 597, 2620, 5220, 6846, 565, 85...\n",
              "106    [1320, 974, 655, 3672, 864, 403, 1896, 37, 147...\n",
              "Name: Sequences, dtype: object"
            ]
          },
          "metadata": {},
          "execution_count": 29
        }
      ]
    },
    {
      "cell_type": "markdown",
      "source": [
        "Ограничиваем длину новостных сообщений"
      ],
      "metadata": {
        "id": "vUDhTEwxg040"
      }
    },
    {
      "cell_type": "code",
      "source": [
        "x_test = pad_sequences(x_test, maxlen=max_news_len)"
      ],
      "metadata": {
        "id": "z4g1Wo08g2jQ"
      },
      "execution_count": 30,
      "outputs": []
    },
    {
      "cell_type": "code",
      "source": [
        "x_test"
      ],
      "metadata": {
        "colab": {
          "base_uri": "https://localhost:8080/"
        },
        "id": "hlx7ZhNVg9VA",
        "outputId": "5aac426f-5369-4cb0-baf1-93e3e9660a70"
      },
      "execution_count": 31,
      "outputs": [
        {
          "output_type": "execute_result",
          "data": {
            "text/plain": [
              "array([[   2,  136, 8181, ...,    9,  356,    4],\n",
              "       [7842,  638,    4, ...,   84,   73,  933],\n",
              "       [   0,    0,    0, ...,   25,   98,   14],\n",
              "       ...,\n",
              "       [ 889, 2261,  849, ..., 1053, 4786,  711],\n",
              "       [   2,  882,  245, ...,  565,  652,    4],\n",
              "       [4740, 2296, 1566, ..., 4691, 1880,    4]], dtype=int32)"
            ]
          },
          "metadata": {},
          "execution_count": 31
        }
      ]
    },
    {
      "cell_type": "code",
      "source": [
        "y_test"
      ],
      "metadata": {
        "colab": {
          "base_uri": "https://localhost:8080/"
        },
        "id": "X4CdHnbg8GRS",
        "outputId": "c73907b6-3e92-4899-addb-71b463be4736"
      },
      "execution_count": 32,
      "outputs": [
        {
          "output_type": "execute_result",
          "data": {
            "text/plain": [
              "118    1\n",
              "164    0\n",
              "127    1\n",
              "73     1\n",
              "163    0\n",
              "69     1\n",
              "150    1\n",
              "90     1\n",
              "161    0\n",
              "136    1\n",
              "100    1\n",
              "32     1\n",
              "5      1\n",
              "160    1\n",
              "110    0\n",
              "85     0\n",
              "25     0\n",
              "182    0\n",
              "113    0\n",
              "157    1\n",
              "141    0\n",
              "64     1\n",
              "129    0\n",
              "87     0\n",
              "35     1\n",
              "2      1\n",
              "156    0\n",
              "95     1\n",
              "101    1\n",
              "16     0\n",
              "71     1\n",
              "175    0\n",
              "132    1\n",
              "126    0\n",
              "52     0\n",
              "43     1\n",
              "42     1\n",
              "106    0\n",
              "Name: class, dtype: int64"
            ]
          },
          "metadata": {},
          "execution_count": 32
        }
      ]
    },
    {
      "cell_type": "markdown",
      "source": [
        "Выделяем правильные ответы (преобразуем в формат one hot encoding)"
      ],
      "metadata": {
        "id": "uxWdfNJrhUIT"
      }
    },
    {
      "cell_type": "code",
      "source": [
        "y_test = utils.to_categorical(y_test, nb_classes)"
      ],
      "metadata": {
        "id": "EC-R_aL7hWca"
      },
      "execution_count": 33,
      "outputs": []
    },
    {
      "cell_type": "code",
      "source": [
        "y_test"
      ],
      "metadata": {
        "colab": {
          "base_uri": "https://localhost:8080/"
        },
        "id": "0p3i6BBshity",
        "outputId": "61fa3d1b-5fa5-4454-bd37-5c159e4a6414"
      },
      "execution_count": 34,
      "outputs": [
        {
          "output_type": "execute_result",
          "data": {
            "text/plain": [
              "array([[0., 1.],\n",
              "       [1., 0.],\n",
              "       [0., 1.],\n",
              "       [0., 1.],\n",
              "       [1., 0.],\n",
              "       [0., 1.],\n",
              "       [0., 1.],\n",
              "       [0., 1.],\n",
              "       [1., 0.],\n",
              "       [0., 1.],\n",
              "       [0., 1.],\n",
              "       [0., 1.],\n",
              "       [0., 1.],\n",
              "       [0., 1.],\n",
              "       [1., 0.],\n",
              "       [1., 0.],\n",
              "       [1., 0.],\n",
              "       [1., 0.],\n",
              "       [1., 0.],\n",
              "       [0., 1.],\n",
              "       [1., 0.],\n",
              "       [0., 1.],\n",
              "       [1., 0.],\n",
              "       [1., 0.],\n",
              "       [0., 1.],\n",
              "       [0., 1.],\n",
              "       [1., 0.],\n",
              "       [0., 1.],\n",
              "       [0., 1.],\n",
              "       [1., 0.],\n",
              "       [0., 1.],\n",
              "       [1., 0.],\n",
              "       [0., 1.],\n",
              "       [1., 0.],\n",
              "       [1., 0.],\n",
              "       [0., 1.],\n",
              "       [0., 1.],\n",
              "       [1., 0.]], dtype=float32)"
            ]
          },
          "metadata": {},
          "execution_count": 34
        }
      ]
    },
    {
      "cell_type": "markdown",
      "metadata": {
        "id": "VFUTMuKL8SNY"
      },
      "source": [
        "## Создаем нейронную сеть с долгой краткосрочной памятью - LSTM"
      ]
    },
    {
      "cell_type": "code",
      "metadata": {
        "id": "s_ZqIgqS8SNa"
      },
      "source": [
        "model_lstm = Sequential()\n",
        "# 1-й слой - Embedding - создает плотные векторные представления слов, длина вектора - 128\n",
        "model_lstm.add(Embedding(num_words, 128, input_length=max_news_len))\n",
        "# 2-й и 3-й слои - LSTM - в пих по 64 и 32 ячейки\n",
        "model_lstm.add(LSTM(64, return_sequences=True))\n",
        "model_lstm.add(LSTM(32))\n",
        "# 4-й слой - Выходной полносвязный слой, 2 нейрона (по количеству классов)\n",
        "model_lstm.add(Dense(2, activation='sigmoid'))"
      ],
      "execution_count": 35,
      "outputs": []
    },
    {
      "cell_type": "markdown",
      "source": [
        "создаем последовательную модель (определяем оптимизатор, функцию ошибки)"
      ],
      "metadata": {
        "id": "wk8ub7o6PWP3"
      }
    },
    {
      "cell_type": "code",
      "source": [
        "model_lstm.compile(optimizer='adam', \n",
        "              loss='binary_crossentropy', \n",
        "              metrics=['accuracy'])"
      ],
      "metadata": {
        "id": "KeDlT1XcJvNP"
      },
      "execution_count": 36,
      "outputs": []
    },
    {
      "cell_type": "markdown",
      "source": [
        "Выводим информацию о сети"
      ],
      "metadata": {
        "id": "EI2KXJnHmahV"
      }
    },
    {
      "cell_type": "code",
      "metadata": {
        "outputId": "7430411e-e588-40ac-ebf6-41066461b39d",
        "id": "KNc2OK3j8SNe",
        "colab": {
          "base_uri": "https://localhost:8080/"
        }
      },
      "source": [
        "model_lstm.summary()"
      ],
      "execution_count": 37,
      "outputs": [
        {
          "output_type": "stream",
          "name": "stdout",
          "text": [
            "Model: \"sequential\"\n",
            "_________________________________________________________________\n",
            " Layer (type)                Output Shape              Param #   \n",
            "=================================================================\n",
            " embedding (Embedding)       (None, 300, 128)          1280000   \n",
            "                                                                 \n",
            " lstm (LSTM)                 (None, 300, 64)           49408     \n",
            "                                                                 \n",
            " lstm_1 (LSTM)               (None, 32)                12416     \n",
            "                                                                 \n",
            " dense (Dense)               (None, 2)                 66        \n",
            "                                                                 \n",
            "=================================================================\n",
            "Total params: 1,341,890\n",
            "Trainable params: 1,341,890\n",
            "Non-trainable params: 0\n",
            "_________________________________________________________________\n"
          ]
        }
      ]
    },
    {
      "cell_type": "markdown",
      "metadata": {
        "id": "KzJtvcIa8SNh"
      },
      "source": [
        "Создаем callback для сохранения нейронной сети на каждой эпохе, если качество работы на проверочном наборе данных улучшилось. Сеть сохраняется в файл `best_model.h5`"
      ]
    },
    {
      "cell_type": "code",
      "metadata": {
        "id": "qCu0Xlyj8SNi"
      },
      "source": [
        "model_lstm_save_path = '/content/best_model_lstm.h5'\n",
        "checkpoint_callback_lstm = ModelCheckpoint(model_lstm_save_path, \n",
        "                                      monitor='val_accuracy',\n",
        "                                      save_best_only=True,\n",
        "                                      verbose=1)"
      ],
      "execution_count": 38,
      "outputs": []
    },
    {
      "cell_type": "markdown",
      "source": [
        "Обучаем нейронную сеть"
      ],
      "metadata": {
        "id": "nvFpK0HMQG6Q"
      }
    },
    {
      "cell_type": "code",
      "metadata": {
        "outputId": "72c941c4-9210-4752-e275-3249d45a2416",
        "id": "znNeO0lO8SNk",
        "colab": {
          "base_uri": "https://localhost:8080/"
        }
      },
      "source": [
        "history_lstm = model_lstm.fit(x_train,\n",
        "                              y_train, \n",
        "                              epochs=5,\n",
        "                              batch_size=64,\n",
        "                              validation_split=0.5,\n",
        "                              callbacks=[checkpoint_callback_lstm])"
      ],
      "execution_count": 80,
      "outputs": [
        {
          "output_type": "stream",
          "name": "stdout",
          "text": [
            "Epoch 1/5\n",
            "1/2 [==============>...............] - ETA: 0s - loss: 0.0222 - accuracy: 1.0000\n",
            "Epoch 1: val_accuracy did not improve from 0.73684\n",
            "2/2 [==============================] - 0s 106ms/step - loss: 0.0224 - accuracy: 1.0000 - val_loss: 0.9225 - val_accuracy: 0.7105\n",
            "Epoch 2/5\n",
            "1/2 [==============>...............] - ETA: 0s - loss: 0.0219 - accuracy: 1.0000\n",
            "Epoch 2: val_accuracy did not improve from 0.73684\n",
            "2/2 [==============================] - 0s 80ms/step - loss: 0.0217 - accuracy: 1.0000 - val_loss: 0.9009 - val_accuracy: 0.7105\n",
            "Epoch 3/5\n",
            "1/2 [==============>...............] - ETA: 0s - loss: 0.0209 - accuracy: 1.0000\n",
            "Epoch 3: val_accuracy did not improve from 0.73684\n",
            "2/2 [==============================] - 0s 72ms/step - loss: 0.0209 - accuracy: 1.0000 - val_loss: 0.9120 - val_accuracy: 0.6974\n",
            "Epoch 4/5\n",
            "1/2 [==============>...............] - ETA: 0s - loss: 0.0203 - accuracy: 1.0000\n",
            "Epoch 4: val_accuracy did not improve from 0.73684\n",
            "2/2 [==============================] - 0s 84ms/step - loss: 0.0201 - accuracy: 1.0000 - val_loss: 0.9104 - val_accuracy: 0.6974\n",
            "Epoch 5/5\n",
            "1/2 [==============>...............] - ETA: 0s - loss: 0.0194 - accuracy: 1.0000\n",
            "Epoch 5: val_accuracy did not improve from 0.73684\n",
            "2/2 [==============================] - 0s 72ms/step - loss: 0.0193 - accuracy: 1.0000 - val_loss: 0.9131 - val_accuracy: 0.7105\n"
          ]
        }
      ]
    },
    {
      "cell_type": "code",
      "metadata": {
        "outputId": "edb76be9-44ae-48ac-c6bb-c5cce72cddb4",
        "id": "iFTVTtcM8SNm",
        "colab": {
          "base_uri": "https://localhost:8080/",
          "height": 279
        }
      },
      "source": [
        "plt.plot(history_lstm.history['accuracy'], \n",
        "         label='Доля верных ответов на обучающем наборе')\n",
        "plt.plot(history_lstm.history['val_accuracy'], \n",
        "         label='Доля верных ответов на проверочном наборе')\n",
        "plt.xlabel('Эпоха обучения')\n",
        "plt.ylabel('Доля верных ответов')\n",
        "plt.legend()\n",
        "plt.show()"
      ],
      "execution_count": 81,
      "outputs": [
        {
          "output_type": "display_data",
          "data": {
            "text/plain": [
              "<Figure size 432x288 with 1 Axes>"
            ],
            "image/png": "[encoded data removed]"
          },
          "metadata": {
            "needs_background": "light"
          }
        }
      ]
    },
    {
      "cell_type": "markdown",
      "source": [
        "## GRU"
      ],
      "metadata": {
        "id": "X4o4d82mhPHU"
      }
    },
    {
      "cell_type": "code",
      "source": [
        "model_gru = Sequential()\n",
        "model_gru.add(Embedding(num_words, 32, input_length=max_news_len))\n",
        "model_gru.add(GRU(64, return_sequences=True))\n",
        "model_gru.add(GRU(32))\n",
        "model_gru.add(Dense(2, activation='sigmoid'))"
      ],
      "metadata": {
        "id": "FC7DXH_JhSlt"
      },
      "execution_count": 43,
      "outputs": []
    },
    {
      "cell_type": "code",
      "source": [
        "model_gru.compile(optimizer='adam', \n",
        "              loss='binary_crossentropy', \n",
        "              metrics=['accuracy'])"
      ],
      "metadata": {
        "id": "SBuk4IYphZNz"
      },
      "execution_count": 44,
      "outputs": []
    },
    {
      "cell_type": "code",
      "source": [
        "model_gru.summary()"
      ],
      "metadata": {
        "colab": {
          "base_uri": "https://localhost:8080/"
        },
        "id": "sZA1U-Sahmq0",
        "outputId": "a8ec273b-32cc-4b98-9d48-847d61cb1f2e"
      },
      "execution_count": 45,
      "outputs": [
        {
          "output_type": "stream",
          "name": "stdout",
          "text": [
            "Model: \"sequential_1\"\n",
            "_________________________________________________________________\n",
            " Layer (type)                Output Shape              Param #   \n",
            "=================================================================\n",
            " embedding_1 (Embedding)     (None, 300, 32)           320000    \n",
            "                                                                 \n",
            " gru (GRU)                   (None, 300, 64)           18816     \n",
            "                                                                 \n",
            " gru_1 (GRU)                 (None, 32)                9408      \n",
            "                                                                 \n",
            " dense_1 (Dense)             (None, 2)                 66        \n",
            "                                                                 \n",
            "=================================================================\n",
            "Total params: 348,290\n",
            "Trainable params: 348,290\n",
            "Non-trainable params: 0\n",
            "_________________________________________________________________\n"
          ]
        }
      ]
    },
    {
      "cell_type": "markdown",
      "source": [
        "Создаем callback для сохранения нейронной сети на каждой эпохе, если качество работы на проверочном наборе данных улучшилось. Сеть сохраняется в файл best_model_gru.h5"
      ],
      "metadata": {
        "id": "c90sNDgPhpj7"
      }
    },
    {
      "cell_type": "code",
      "source": [
        "model_gru_save_path = 'best_model_gru.h5'\n",
        "checkpoint_callback_gru = ModelCheckpoint(model_gru_save_path, \n",
        "                                      monitor='val_accuracy',\n",
        "                                      save_best_only=True,\n",
        "                                      verbose=1)"
      ],
      "metadata": {
        "id": "AsFJAJ8nhqen"
      },
      "execution_count": 46,
      "outputs": []
    },
    {
      "cell_type": "code",
      "source": [
        "history_gru = model_gru.fit(x_train, \n",
        "                              y_train, \n",
        "                              epochs=5,\n",
        "                              batch_size=32,\n",
        "                              validation_split=0.5,\n",
        "                              callbacks=[checkpoint_callback_gru])"
      ],
      "metadata": {
        "colab": {
          "base_uri": "https://localhost:8080/"
        },
        "id": "nSpOXxWahukr",
        "outputId": "06f36573-d37c-4d98-b2a3-1832140e1dcb"
      },
      "execution_count": 63,
      "outputs": [
        {
          "output_type": "stream",
          "name": "stdout",
          "text": [
            "Epoch 1/5\n",
            "3/3 [==============================] - ETA: 0s - loss: 0.0065 - accuracy: 1.0000\n",
            "Epoch 1: val_accuracy did not improve from 0.75000\n",
            "3/3 [==============================] - 0s 78ms/step - loss: 0.0065 - accuracy: 1.0000 - val_loss: 1.2190 - val_accuracy: 0.5658\n",
            "Epoch 2/5\n",
            "3/3 [==============================] - ETA: 0s - loss: 0.0062 - accuracy: 1.0000\n",
            "Epoch 2: val_accuracy did not improve from 0.75000\n",
            "3/3 [==============================] - 0s 58ms/step - loss: 0.0062 - accuracy: 1.0000 - val_loss: 1.2437 - val_accuracy: 0.5658\n",
            "Epoch 3/5\n",
            "1/3 [=========>....................] - ETA: 0s - loss: 0.0060 - accuracy: 1.0000\n",
            "Epoch 3: val_accuracy did not improve from 0.75000\n",
            "3/3 [==============================] - 0s 46ms/step - loss: 0.0059 - accuracy: 1.0000 - val_loss: 1.2689 - val_accuracy: 0.5658\n",
            "Epoch 4/5\n",
            "1/3 [=========>....................] - ETA: 0s - loss: 0.0059 - accuracy: 1.0000\n",
            "Epoch 4: val_accuracy did not improve from 0.75000\n",
            "3/3 [==============================] - 0s 52ms/step - loss: 0.0057 - accuracy: 1.0000 - val_loss: 1.2940 - val_accuracy: 0.5658\n",
            "Epoch 5/5\n",
            "1/3 [=========>....................] - ETA: 0s - loss: 0.0054 - accuracy: 1.0000\n",
            "Epoch 5: val_accuracy did not improve from 0.75000\n",
            "3/3 [==============================] - 0s 44ms/step - loss: 0.0054 - accuracy: 1.0000 - val_loss: 1.3186 - val_accuracy: 0.5658\n"
          ]
        }
      ]
    },
    {
      "cell_type": "code",
      "source": [
        "plt.plot(history_gru.history['accuracy'], \n",
        "         label='Доля верных ответов на обучающем наборе')\n",
        "plt.plot(history_gru.history['val_accuracy'], \n",
        "         label='Доля верных ответов на проверочном наборе')\n",
        "plt.xlabel('Эпоха обучения')\n",
        "plt.ylabel('Доля верных ответов')\n",
        "plt.legend()\n",
        "plt.show()"
      ],
      "metadata": {
        "colab": {
          "base_uri": "https://localhost:8080/",
          "height": 279
        },
        "id": "NfxWEOPPh84y",
        "outputId": "f1db38e3-7cdc-42d4-b80c-587cfa503093"
      },
      "execution_count": 51,
      "outputs": [
        {
          "output_type": "display_data",
          "data": {
            "text/plain": [
              "<Figure size 432x288 with 1 Axes>"
            ],
            "image/png": "[encoded data removed]"
          },
          "metadata": {
            "needs_background": "light"
          }
        }
      ]
    },
    {
      "cell_type": "markdown",
      "source": [
        "## Сверточная нейронная сеть (CNN)"
      ],
      "metadata": {
        "id": "JiicXg0qiCUa"
      }
    },
    {
      "cell_type": "code",
      "source": [
        "model_cnn = Sequential()\n",
        "model_cnn.add(Embedding(num_words, 32, input_length=max_news_len))\n",
        "model_cnn.add(Conv1D(250, 5, padding='valid', activation='relu'))\n",
        "model_cnn.add(GlobalMaxPooling1D())\n",
        "model_cnn.add(Dense(128, activation='relu'))\n",
        "model_cnn.add(Dense(2, activation='sigmoid'))"
      ],
      "metadata": {
        "id": "MMXCAOqTiFs7"
      },
      "execution_count": 52,
      "outputs": []
    },
    {
      "cell_type": "code",
      "source": [
        "model_cnn.compile(optimizer='adam', \n",
        "              loss='binary_crossentropy', \n",
        "              metrics=['accuracy'])"
      ],
      "metadata": {
        "id": "rJfA4mAtkXHU"
      },
      "execution_count": 53,
      "outputs": []
    },
    {
      "cell_type": "code",
      "source": [
        "model_cnn.summary()"
      ],
      "metadata": {
        "colab": {
          "base_uri": "https://localhost:8080/"
        },
        "id": "rWMKkVK5kZjU",
        "outputId": "17a66771-3dad-4a9f-9d50-2b986f66a294"
      },
      "execution_count": 54,
      "outputs": [
        {
          "output_type": "stream",
          "name": "stdout",
          "text": [
            "Model: \"sequential_2\"\n",
            "_________________________________________________________________\n",
            " Layer (type)                Output Shape              Param #   \n",
            "=================================================================\n",
            " embedding_2 (Embedding)     (None, 300, 32)           320000    \n",
            "                                                                 \n",
            " conv1d (Conv1D)             (None, 296, 250)          40250     \n",
            "                                                                 \n",
            " global_max_pooling1d (Globa  (None, 250)              0         \n",
            " lMaxPooling1D)                                                  \n",
            "                                                                 \n",
            " dense_2 (Dense)             (None, 128)               32128     \n",
            "                                                                 \n",
            " dense_3 (Dense)             (None, 2)                 258       \n",
            "                                                                 \n",
            "=================================================================\n",
            "Total params: 392,636\n",
            "Trainable params: 392,636\n",
            "Non-trainable params: 0\n",
            "_________________________________________________________________\n"
          ]
        }
      ]
    },
    {
      "cell_type": "markdown",
      "source": [
        "Создаем callback для сохранения нейронной сети на каждой эпохе, если качество работы на проверочном наборе данных улучшилось. Сеть сохраняется в файл best_model.h5"
      ],
      "metadata": {
        "id": "iu3ZGSknkc_E"
      }
    },
    {
      "cell_type": "code",
      "source": [
        "model_cnn_save_path = 'best_model_cnn.h5'\n",
        "checkpoint_callback_cnn = ModelCheckpoint(model_cnn_save_path, \n",
        "                                      monitor='val_accuracy',\n",
        "                                      save_best_only=True,\n",
        "                                      verbose=1)"
      ],
      "metadata": {
        "id": "NEf4MlsXkeLz"
      },
      "execution_count": 55,
      "outputs": []
    },
    {
      "cell_type": "code",
      "source": [
        "history_cnn = model_cnn.fit(x_train, \n",
        "                            y_train, \n",
        "                            epochs=5,\n",
        "                            batch_size=32,\n",
        "                            validation_split=0.5,\n",
        "                            callbacks=[checkpoint_callback_cnn])"
      ],
      "metadata": {
        "colab": {
          "base_uri": "https://localhost:8080/"
        },
        "id": "1RZyPlbjkhda",
        "outputId": "7ad98094-6599-46e4-9a9b-c2050b69d19b"
      },
      "execution_count": 60,
      "outputs": [
        {
          "output_type": "stream",
          "name": "stdout",
          "text": [
            "Epoch 1/5\n",
            "1/3 [=========>....................] - ETA: 0s - loss: 0.0294 - accuracy: 1.0000\n",
            "Epoch 1: val_accuracy did not improve from 0.60526\n",
            "3/3 [==============================] - 0s 35ms/step - loss: 0.0268 - accuracy: 1.0000 - val_loss: 0.6149 - val_accuracy: 0.6053\n",
            "Epoch 2/5\n",
            "1/3 [=========>....................] - ETA: 0s - loss: 0.0208 - accuracy: 1.0000\n",
            "Epoch 2: val_accuracy improved from 0.60526 to 0.61842, saving model to best_model_cnn.h5\n",
            "3/3 [==============================] - 0s 35ms/step - loss: 0.0190 - accuracy: 1.0000 - val_loss: 0.6092 - val_accuracy: 0.6184\n",
            "Epoch 3/5\n",
            "1/3 [=========>....................] - ETA: 0s - loss: 0.0149 - accuracy: 1.0000\n",
            "Epoch 3: val_accuracy did not improve from 0.61842\n",
            "3/3 [==============================] - 0s 27ms/step - loss: 0.0137 - accuracy: 1.0000 - val_loss: 0.6047 - val_accuracy: 0.6053\n",
            "Epoch 4/5\n",
            "1/3 [=========>....................] - ETA: 0s - loss: 0.0112 - accuracy: 1.0000\n",
            "Epoch 4: val_accuracy did not improve from 0.61842\n",
            "3/3 [==============================] - 0s 28ms/step - loss: 0.0102 - accuracy: 1.0000 - val_loss: 0.6008 - val_accuracy: 0.6053\n",
            "Epoch 5/5\n",
            "1/3 [=========>....................] - ETA: 0s - loss: 0.0088 - accuracy: 1.0000\n",
            "Epoch 5: val_accuracy did not improve from 0.61842\n",
            "3/3 [==============================] - 0s 22ms/step - loss: 0.0079 - accuracy: 1.0000 - val_loss: 0.5970 - val_accuracy: 0.6053\n"
          ]
        }
      ]
    },
    {
      "cell_type": "code",
      "source": [
        "plt.plot(history_cnn.history['accuracy'], \n",
        "         label='Доля верных ответов на обучающем наборе')\n",
        "plt.plot(history_cnn.history['val_accuracy'], \n",
        "         label='Доля верных ответов на проверочном наборе')\n",
        "plt.xlabel('Эпоха обучения')\n",
        "plt.ylabel('Доля верных ответов')\n",
        "plt.legend()\n",
        "plt.show()"
      ],
      "metadata": {
        "colab": {
          "base_uri": "https://localhost:8080/",
          "height": 279
        },
        "id": "_b9vbTXHku4b",
        "outputId": "215abbf5-4485-4a3d-e435-78354f3707ed"
      },
      "execution_count": 64,
      "outputs": [
        {
          "output_type": "display_data",
          "data": {
            "text/plain": [
              "<Figure size 432x288 with 1 Axes>"
            ],
            "image/png": "[encoded data removed]"
          },
          "metadata": {
            "needs_background": "light"
          }
        }
      ]
    },
    {
      "cell_type": "markdown",
      "metadata": {
        "id": "3DJbzO3ucewV"
      },
      "source": [
        "## Оцениваем качество работы сети на тестовом наборе данных"
      ]
    },
    {
      "cell_type": "markdown",
      "metadata": {
        "id": "YHs8Q5vqAlqC"
      },
      "source": [
        "### Сеть LSTM"
      ]
    },
    {
      "cell_type": "markdown",
      "source": [
        "Загружаем модель с лучшей долей правильных ответов на проверочном наборе данных"
      ],
      "metadata": {
        "id": "qjtJAuNgIubZ"
      }
    },
    {
      "cell_type": "code",
      "metadata": {
        "id": "OEzSL_M-ApHx"
      },
      "source": [
        "model_lstm.load_weights(model_lstm_save_path)"
      ],
      "execution_count": 82,
      "outputs": []
    },
    {
      "cell_type": "markdown",
      "source": [
        "Оцениваем качество работы сети на наборе данных для тестирования"
      ],
      "metadata": {
        "id": "v05_mmLPZGvi"
      }
    },
    {
      "cell_type": "code",
      "metadata": {
        "outputId": "63127cb1-affb-43af-f871-b52c6393b575",
        "id": "fcGg4jA9AqN4",
        "colab": {
          "base_uri": "https://localhost:8080/"
        }
      },
      "source": [
        "scores = model_lstm.evaluate(x_test, y_test, verbose=1)"
      ],
      "execution_count": 83,
      "outputs": [
        {
          "output_type": "stream",
          "name": "stdout",
          "text": [
            "2/2 [==============================] - 0s 18ms/step - loss: 1.0663 - accuracy: 0.6842\n"
          ]
        }
      ]
    },
    {
      "cell_type": "code",
      "source": [
        "print(\"Доля верных ответов на тестовых данных, в процентах:\", round(scores[1] * 100, 4))"
      ],
      "metadata": {
        "colab": {
          "base_uri": "https://localhost:8080/"
        },
        "id": "SAr1eIZ5y6Lh",
        "outputId": "48ab3059-fe8b-4eed-fef7-e8d6490e2e38"
      },
      "execution_count": 84,
      "outputs": [
        {
          "output_type": "stream",
          "name": "stdout",
          "text": [
            "Доля верных ответов на тестовых данных, в процентах: 68.4211\n"
          ]
        }
      ]
    },
    {
      "cell_type": "markdown",
      "source": [
        "### Сеть GRU"
      ],
      "metadata": {
        "id": "HY8C5tV7k2TS"
      }
    },
    {
      "cell_type": "code",
      "source": [
        "model_gru.load_weights(model_gru_save_path)"
      ],
      "metadata": {
        "id": "tnWNM0cFk6h7"
      },
      "execution_count": 86,
      "outputs": []
    },
    {
      "cell_type": "code",
      "source": [
        "scores = model_gru.evaluate(x_test, y_test, verbose=1)"
      ],
      "metadata": {
        "colab": {
          "base_uri": "https://localhost:8080/"
        },
        "id": "kKsAxFPGk-SC",
        "outputId": "c64e82ba-dc5d-44f6-c8a2-c0c8174a94d5"
      },
      "execution_count": 87,
      "outputs": [
        {
          "output_type": "stream",
          "name": "stdout",
          "text": [
            "2/2 [==============================] - 0s 19ms/step - loss: 0.7701 - accuracy: 0.7368\n"
          ]
        }
      ]
    },
    {
      "cell_type": "code",
      "source": [
        "print(\"Доля верных ответов на тестовых данных, в процентах:\", round(scores[1] * 100, 4))"
      ],
      "metadata": {
        "colab": {
          "base_uri": "https://localhost:8080/"
        },
        "id": "-rycboSylAwC",
        "outputId": "c2d00f3f-75e6-4384-e1a7-b09940beafd5"
      },
      "execution_count": 88,
      "outputs": [
        {
          "output_type": "stream",
          "name": "stdout",
          "text": [
            "Доля верных ответов на тестовых данных, в процентах: 73.6842\n"
          ]
        }
      ]
    },
    {
      "cell_type": "markdown",
      "source": [
        "### Одномерная сверточная сеть (CNN)"
      ],
      "metadata": {
        "id": "aGgPmfxZlH8q"
      }
    },
    {
      "cell_type": "code",
      "source": [
        "model_cnn.load_weights(model_cnn_save_path)"
      ],
      "metadata": {
        "id": "Ki9FhzvZlLzC"
      },
      "execution_count": 89,
      "outputs": []
    },
    {
      "cell_type": "code",
      "source": [
        "scores = model_cnn.evaluate(x_test, y_test, verbose=1)"
      ],
      "metadata": {
        "colab": {
          "base_uri": "https://localhost:8080/"
        },
        "id": "fopTgHP3lPuL",
        "outputId": "5b9b4fc8-000e-4178-b7f8-8c0c7fff09fe"
      },
      "execution_count": 90,
      "outputs": [
        {
          "output_type": "stream",
          "name": "stdout",
          "text": [
            "2/2 [==============================] - 0s 7ms/step - loss: 0.5991 - accuracy: 0.7632\n"
          ]
        }
      ]
    },
    {
      "cell_type": "code",
      "source": [
        "print(\"Доля верных ответов на тестовых данных, в процентах:\", round(scores[1] * 100, 4))"
      ],
      "metadata": {
        "colab": {
          "base_uri": "https://localhost:8080/"
        },
        "id": "TGO-EgZVlSpM",
        "outputId": "df138c26-286c-4db6-bb4d-bb5347adedd9"
      },
      "execution_count": 91,
      "outputs": [
        {
          "output_type": "stream",
          "name": "stdout",
          "text": [
            "Доля верных ответов на тестовых данных, в процентах: 76.3158\n"
          ]
        }
      ]
    },
    {
      "cell_type": "markdown",
      "source": [
        "**Оцениваем качество работы сети на новых данных**"
      ],
      "metadata": {
        "id": "RLxNrlP3ZUZS"
      }
    },
    {
      "cell_type": "code",
      "source": [
        "text = ''' President Volodymyr Zelensky of Ukraine said Monday that government officials would be prohibited from traveling abroad for vacation or any other unofficial purpose, a move intended to show that corruption would not be allowed to undermine the country’s defense.'''"
      ],
      "metadata": {
        "id": "ptX6zshIZcQ_"
      },
      "execution_count": null,
      "outputs": []
    },
    {
      "cell_type": "markdown",
      "source": [
        "Преобразуем новости в числовое представление"
      ],
      "metadata": {
        "id": "NNntQZauhKnp"
      }
    },
    {
      "cell_type": "code",
      "source": [
        "text1 = preprocess(text, stop_words, punctuation_marks, morph)"
      ],
      "metadata": {
        "id": "-69XQGk9k1CS"
      },
      "execution_count": null,
      "outputs": []
    },
    {
      "cell_type": "code",
      "source": [
        "text1"
      ],
      "metadata": {
        "colab": {
          "base_uri": "https://localhost:8080/"
        },
        "id": "Ac0lh97bmF8-",
        "outputId": "dc4a6433-1a3e-4044-c9ec-42d0bf610e37"
      },
      "execution_count": null,
      "outputs": [
        {
          "output_type": "execute_result",
          "data": {
            "text/plain": [
              "['president',\n",
              " 'volodymyr',\n",
              " 'zelensky',\n",
              " 'ukraine',\n",
              " 'said',\n",
              " 'monday',\n",
              " 'government',\n",
              " 'officials',\n",
              " 'would',\n",
              " 'prohibited',\n",
              " 'traveling',\n",
              " 'abroad',\n",
              " 'vacation',\n",
              " 'unofficial',\n",
              " 'purpose',\n",
              " 'move',\n",
              " 'intended',\n",
              " 'show',\n",
              " 'corruption',\n",
              " 'would',\n",
              " 'allowed',\n",
              " 'undermine',\n",
              " 'country',\n",
              " '’',\n",
              " 'defense']"
            ]
          },
          "metadata": {},
          "execution_count": 52
        }
      ]
    },
    {
      "cell_type": "code",
      "source": [
        "sequence = text_to_sequence(text1, word_to_index)"
      ],
      "metadata": {
        "id": "f3r3Zh9TmP-u"
      },
      "execution_count": null,
      "outputs": []
    },
    {
      "cell_type": "code",
      "source": [
        "sequence"
      ],
      "metadata": {
        "colab": {
          "base_uri": "https://localhost:8080/"
        },
        "id": "tRqddzgsmb6z",
        "outputId": "b7b44a33-6faf-40cd-d4a1-b2e30a36a24b"
      },
      "execution_count": null,
      "outputs": [
        {
          "output_type": "execute_result",
          "data": {
            "text/plain": [
              "[19,\n",
              " 1541,\n",
              " 702,\n",
              " 14,\n",
              " 5,\n",
              " 37,\n",
              " 40,\n",
              " 47,\n",
              " 8,\n",
              " 3033,\n",
              " 1893,\n",
              " 1758,\n",
              " 2644,\n",
              " 257,\n",
              " 2585,\n",
              " 136,\n",
              " 1389,\n",
              " 8,\n",
              " 703,\n",
              " 23,\n",
              " 2,\n",
              " 174]"
            ]
          },
          "metadata": {},
          "execution_count": 54
        }
      ]
    },
    {
      "cell_type": "code",
      "source": [
        "print(text)\n",
        "print(sequence)"
      ],
      "metadata": {
        "colab": {
          "base_uri": "https://localhost:8080/"
        },
        "id": "bBA_6RQ4q-rD",
        "outputId": "ac3fa94a-4647-427d-9436-833a0eab4abb"
      },
      "execution_count": null,
      "outputs": [
        {
          "output_type": "stream",
          "name": "stdout",
          "text": [
            " President Volodymyr Zelensky of Ukraine said Monday that government officials would be prohibited from traveling abroad for vacation or any other unofficial purpose, a move intended to show that corruption would not be allowed to undermine the country’s defense.\n",
            "[19, 1541, 702, 14, 5, 37, 40, 47, 8, 3033, 1893, 1758, 2644, 257, 2585, 136, 1389, 8, 703, 23, 2, 174]\n"
          ]
        }
      ]
    },
    {
      "cell_type": "code",
      "source": [
        "text2 = pad_sequences(sequence, maxlen=max_news_len)"
      ],
      "metadata": {
        "colab": {
          "base_uri": "https://localhost:8080/",
          "height": 454
        },
        "id": "XryqAQyLpk5k",
        "outputId": "21c4fba2-5578-4813-de2f-817b403b91ef"
      },
      "execution_count": null,
      "outputs": [
        {
          "output_type": "error",
          "ename": "ValueError",
          "evalue": "ignored",
          "traceback": [
            "\u001b[0;31m---------------------------------------------------------------------------\u001b[0m",
            "\u001b[0;31mTypeError\u001b[0m                                 Traceback (most recent call last)",
            "\u001b[0;32m/usr/local/lib/python3.8/dist-packages/keras/utils/data_utils.py\u001b[0m in \u001b[0;36mpad_sequences\u001b[0;34m(sequences, maxlen, dtype, padding, truncating, value)\u001b[0m\n\u001b[1;32m   1009\u001b[0m     \u001b[0;32mtry\u001b[0m\u001b[0;34m:\u001b[0m\u001b[0;34m\u001b[0m\u001b[0;34m\u001b[0m\u001b[0m\n\u001b[0;32m-> 1010\u001b[0;31m       \u001b[0mlengths\u001b[0m\u001b[0;34m.\u001b[0m\u001b[0mappend\u001b[0m\u001b[0;34m(\u001b[0m\u001b[0mlen\u001b[0m\u001b[0;34m(\u001b[0m\u001b[0mx\u001b[0m\u001b[0;34m)\u001b[0m\u001b[0;34m)\u001b[0m\u001b[0;34m\u001b[0m\u001b[0;34m\u001b[0m\u001b[0m\n\u001b[0m\u001b[1;32m   1011\u001b[0m       \u001b[0;32mif\u001b[0m \u001b[0mflag\u001b[0m \u001b[0;32mand\u001b[0m \u001b[0mlen\u001b[0m\u001b[0;34m(\u001b[0m\u001b[0mx\u001b[0m\u001b[0;34m)\u001b[0m\u001b[0;34m:\u001b[0m\u001b[0;34m\u001b[0m\u001b[0;34m\u001b[0m\u001b[0m\n",
            "\u001b[0;31mTypeError\u001b[0m: object of type 'int' has no len()",
            "\nThe above exception was the direct cause of the following exception:\n",
            "\u001b[0;31mValueError\u001b[0m                                Traceback (most recent call last)",
            "\u001b[0;32m<ipython-input-56-69c8bf384d2f>\u001b[0m in \u001b[0;36m<module>\u001b[0;34m\u001b[0m\n\u001b[0;32m----> 1\u001b[0;31m \u001b[0mtext2\u001b[0m \u001b[0;34m=\u001b[0m \u001b[0mpad_sequences\u001b[0m\u001b[0;34m(\u001b[0m\u001b[0msequence\u001b[0m\u001b[0;34m,\u001b[0m \u001b[0mmaxlen\u001b[0m\u001b[0;34m=\u001b[0m\u001b[0mmax_news_len\u001b[0m\u001b[0;34m)\u001b[0m\u001b[0;34m\u001b[0m\u001b[0;34m\u001b[0m\u001b[0m\n\u001b[0m",
            "\u001b[0;32m/usr/local/lib/python3.8/dist-packages/keras/utils/data_utils.py\u001b[0m in \u001b[0;36mpad_sequences\u001b[0;34m(sequences, maxlen, dtype, padding, truncating, value)\u001b[0m\n\u001b[1;32m   1013\u001b[0m         \u001b[0mflag\u001b[0m \u001b[0;34m=\u001b[0m \u001b[0;32mFalse\u001b[0m\u001b[0;34m\u001b[0m\u001b[0;34m\u001b[0m\u001b[0m\n\u001b[1;32m   1014\u001b[0m     \u001b[0;32mexcept\u001b[0m \u001b[0mTypeError\u001b[0m \u001b[0;32mas\u001b[0m \u001b[0me\u001b[0m\u001b[0;34m:\u001b[0m\u001b[0;34m\u001b[0m\u001b[0;34m\u001b[0m\u001b[0m\n\u001b[0;32m-> 1015\u001b[0;31m       raise ValueError('`sequences` must be a list of iterables. '\n\u001b[0m\u001b[1;32m   1016\u001b[0m                        f'Found non-iterable: {str(x)}') from e\n\u001b[1;32m   1017\u001b[0m \u001b[0;34m\u001b[0m\u001b[0m\n",
            "\u001b[0;31mValueError\u001b[0m: `sequences` must be a list of iterables. Found non-iterable: 19"
          ]
        }
      ]
    },
    {
      "cell_type": "code",
      "source": [
        "text2"
      ],
      "metadata": {
        "id": "z2p4jaFNIzEK",
        "colab": {
          "base_uri": "https://localhost:8080/",
          "height": 172
        },
        "outputId": "8db01dd7-bfbc-4e5f-a476-6c81a57c19e6"
      },
      "execution_count": null,
      "outputs": [
        {
          "output_type": "error",
          "ename": "NameError",
          "evalue": "ignored",
          "traceback": [
            "\u001b[0;31m---------------------------------------------------------------------------\u001b[0m",
            "\u001b[0;31mNameError\u001b[0m                                 Traceback (most recent call last)",
            "\u001b[0;32m<ipython-input-57-184c256e763d>\u001b[0m in \u001b[0;36m<module>\u001b[0;34m\u001b[0m\n\u001b[0;32m----> 1\u001b[0;31m \u001b[0mtext2\u001b[0m\u001b[0;34m\u001b[0m\u001b[0;34m\u001b[0m\u001b[0m\n\u001b[0m",
            "\u001b[0;31mNameError\u001b[0m: name 'text2' is not defined"
          ]
        }
      ]
    },
    {
      "cell_type": "markdown",
      "source": [
        "Загружаем модель в память"
      ],
      "metadata": {
        "id": "zJzFqpUNfouY"
      }
    },
    {
      "cell_type": "code",
      "source": [
        "model = load_model('best_model_lstm.h5')"
      ],
      "metadata": {
        "id": "VehI_Xy_foOC"
      },
      "execution_count": null,
      "outputs": []
    },
    {
      "cell_type": "markdown",
      "source": [
        "Запускаем распознавание (применяем сеть для определения класса новости)"
      ],
      "metadata": {
        "id": "fPrcaxWbgqJN"
      }
    },
    {
      "cell_type": "code",
      "source": [
        "prediction = model.predict(text2)"
      ],
      "metadata": {
        "colab": {
          "base_uri": "https://localhost:8080/",
          "height": 172
        },
        "id": "OSkl8M1PgriR",
        "outputId": "96ac397a-6d8a-4474-af0b-5911f249218d"
      },
      "execution_count": null,
      "outputs": [
        {
          "output_type": "error",
          "ename": "NameError",
          "evalue": "ignored",
          "traceback": [
            "\u001b[0;31m---------------------------------------------------------------------------\u001b[0m",
            "\u001b[0;31mNameError\u001b[0m                                 Traceback (most recent call last)",
            "\u001b[0;32m<ipython-input-59-935ca78057a4>\u001b[0m in \u001b[0;36m<module>\u001b[0;34m\u001b[0m\n\u001b[0;32m----> 1\u001b[0;31m \u001b[0mprediction\u001b[0m \u001b[0;34m=\u001b[0m \u001b[0mmodel\u001b[0m\u001b[0;34m.\u001b[0m\u001b[0mpredict\u001b[0m\u001b[0;34m(\u001b[0m\u001b[0mtext2\u001b[0m\u001b[0;34m)\u001b[0m\u001b[0;34m\u001b[0m\u001b[0;34m\u001b[0m\u001b[0m\n\u001b[0m",
            "\u001b[0;31mNameError\u001b[0m: name 'text2' is not defined"
          ]
        }
      ]
    },
    {
      "cell_type": "markdown",
      "source": [
        "Результаты распознавания"
      ],
      "metadata": {
        "id": "dTKbUbLkgz2v"
      }
    },
    {
      "cell_type": "code",
      "source": [
        "prediction"
      ],
      "metadata": {
        "colab": {
          "base_uri": "https://localhost:8080/",
          "height": 172
        },
        "id": "dzCsyUmXg1OZ",
        "outputId": "cdda5cbc-8a39-45f7-b117-2ab395a8bd7c"
      },
      "execution_count": null,
      "outputs": [
        {
          "output_type": "error",
          "ename": "NameError",
          "evalue": "ignored",
          "traceback": [
            "\u001b[0;31m---------------------------------------------------------------------------\u001b[0m",
            "\u001b[0;31mNameError\u001b[0m                                 Traceback (most recent call last)",
            "\u001b[0;32m<ipython-input-60-c3d8c93f720f>\u001b[0m in \u001b[0;36m<module>\u001b[0;34m\u001b[0m\n\u001b[0;32m----> 1\u001b[0;31m \u001b[0mprediction\u001b[0m\u001b[0;34m\u001b[0m\u001b[0;34m\u001b[0m\u001b[0m\n\u001b[0m",
            "\u001b[0;31mNameError\u001b[0m: name 'prediction' is not defined"
          ]
        }
      ]
    },
    {
      "cell_type": "code",
      "source": [
        "prediction = np.argmax(prediction)"
      ],
      "metadata": {
        "id": "A6kv0gmOkDk7",
        "colab": {
          "base_uri": "https://localhost:8080/",
          "height": 172
        },
        "outputId": "e4d04f0c-2bf5-4f45-d0af-edb421a5806a"
      },
      "execution_count": null,
      "outputs": [
        {
          "output_type": "error",
          "ename": "NameError",
          "evalue": "ignored",
          "traceback": [
            "\u001b[0;31m---------------------------------------------------------------------------\u001b[0m",
            "\u001b[0;31mNameError\u001b[0m                                 Traceback (most recent call last)",
            "\u001b[0;32m<ipython-input-61-9b6f785396fb>\u001b[0m in \u001b[0;36m<module>\u001b[0;34m\u001b[0m\n\u001b[0;32m----> 1\u001b[0;31m \u001b[0mprediction\u001b[0m \u001b[0;34m=\u001b[0m \u001b[0mnp\u001b[0m\u001b[0;34m.\u001b[0m\u001b[0margmax\u001b[0m\u001b[0;34m(\u001b[0m\u001b[0mprediction\u001b[0m\u001b[0;34m)\u001b[0m\u001b[0;34m\u001b[0m\u001b[0;34m\u001b[0m\u001b[0m\n\u001b[0m",
            "\u001b[0;31mNameError\u001b[0m: name 'prediction' is not defined"
          ]
        }
      ]
    },
    {
      "cell_type": "code",
      "source": [
        "if prediction < 0.5:\n",
        "    print('Не имеет международного значения')\n",
        "else:\n",
        "    print('Международная новость')"
      ],
      "metadata": {
        "colab": {
          "base_uri": "https://localhost:8080/",
          "height": 227
        },
        "id": "H1oDVJNGtfhR",
        "outputId": "630b0184-54f3-422c-8a85-83c467b10f63"
      },
      "execution_count": null,
      "outputs": [
        {
          "output_type": "error",
          "ename": "NameError",
          "evalue": "ignored",
          "traceback": [
            "\u001b[0;31m---------------------------------------------------------------------------\u001b[0m",
            "\u001b[0;31mNameError\u001b[0m                                 Traceback (most recent call last)",
            "\u001b[0;32m<ipython-input-62-b22a0523bf33>\u001b[0m in \u001b[0;36m<module>\u001b[0;34m\u001b[0m\n\u001b[0;32m----> 1\u001b[0;31m \u001b[0;32mif\u001b[0m \u001b[0mprediction\u001b[0m \u001b[0;34m<\u001b[0m \u001b[0;36m0.5\u001b[0m\u001b[0;34m:\u001b[0m\u001b[0;34m\u001b[0m\u001b[0;34m\u001b[0m\u001b[0m\n\u001b[0m\u001b[1;32m      2\u001b[0m     \u001b[0mprint\u001b[0m\u001b[0;34m(\u001b[0m\u001b[0;34m'Не имеет международного значения'\u001b[0m\u001b[0;34m)\u001b[0m\u001b[0;34m\u001b[0m\u001b[0;34m\u001b[0m\u001b[0m\n\u001b[1;32m      3\u001b[0m \u001b[0;32melse\u001b[0m\u001b[0;34m:\u001b[0m\u001b[0;34m\u001b[0m\u001b[0;34m\u001b[0m\u001b[0m\n\u001b[1;32m      4\u001b[0m     \u001b[0mprint\u001b[0m\u001b[0;34m(\u001b[0m\u001b[0;34m'Международная новость'\u001b[0m\u001b[0;34m)\u001b[0m\u001b[0;34m\u001b[0m\u001b[0;34m\u001b[0m\u001b[0m\n",
            "\u001b[0;31mNameError\u001b[0m: name 'prediction' is not defined"
          ]
        }
      ]
    }
  ]
}