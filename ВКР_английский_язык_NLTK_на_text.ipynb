{
  "nbformat": 4,
  "nbformat_minor": 0,
  "metadata": {
    "colab": {
      "provenance": [],
      "include_colab_link": true
    },
    "kernelspec": {
      "name": "python3",
      "display_name": "Python 3"
    },
    "accelerator": "GPU"
  },
  "cells": [
    {
      "cell_type": "markdown",
      "metadata": {
        "id": "view-in-github",
        "colab_type": "text"
      },
      "source": [
        "<a href=\"https://colab.research.google.com/github/olyavydrina/-/blob/main/%D0%92%D0%9A%D0%A0_%D0%B0%D0%BD%D0%B3%D0%BB%D0%B8%D0%B9%D1%81%D0%BA%D0%B8%D0%B9_%D1%8F%D0%B7%D1%8B%D0%BA_NLTK_%D0%BD%D0%B0_text.ipynb\" target=\"_parent\"><img src=\"https://colab.research.google.com/assets/colab-badge.svg\" alt=\"Open In Colab\"/></a>"
      ]
    },
    {
      "cell_type": "markdown",
      "source": [
        "# Подключаем необходимые библиотеки"
      ],
      "metadata": {
        "id": "OZcZF8v5yMu_"
      }
    },
    {
      "cell_type": "code",
      "metadata": {
        "id": "fN251ib04idq",
        "colab": {
          "base_uri": "https://localhost:8080/"
        },
        "outputId": "ff67d75f-bca6-4499-ea81-7c9db94a837f"
      },
      "source": [
        "%tensorflow_version 2.x\n",
        "from tensorflow.keras.models import load_model\n",
        "from tensorflow.keras.models import Sequential\n",
        "from tensorflow.keras.layers import Dense, Embedding, Dropout, LSTM\n",
        "from tensorflow.keras import utils\n",
        "from tensorflow.keras.preprocessing.sequence import pad_sequences\n",
        "from tensorflow.keras.preprocessing.text import Tokenizer\n",
        "from tensorflow.keras.callbacks import ModelCheckpoint\n",
        "from tensorflow.keras import utils\n",
        "import pandas as pd\n",
        "import numpy as np\n",
        "import matplotlib.pyplot as plt\n",
        "%matplotlib inline "
      ],
      "execution_count": null,
      "outputs": [
        {
          "output_type": "stream",
          "name": "stdout",
          "text": [
            "Colab only includes TensorFlow 2.x; %tensorflow_version has no effect.\n"
          ]
        }
      ]
    },
    {
      "cell_type": "code",
      "source": [
        "!pip install pymorphy2[fast] \n",
        "import pymorphy2\n",
        "import nltk\n",
        "from nltk.tokenize import word_tokenize\n",
        "from nltk.corpus import stopwords\n",
        "from collections import Counter\n",
        "from sklearn.model_selection import train_test_split"
      ],
      "metadata": {
        "colab": {
          "base_uri": "https://localhost:8080/"
        },
        "id": "E97LKetbxS-Q",
        "outputId": "70b6b080-6e91-4bf6-92ae-55839e17f166"
      },
      "execution_count": null,
      "outputs": [
        {
          "output_type": "stream",
          "name": "stdout",
          "text": [
            "Looking in indexes: https://pypi.org/simple, https://us-python.pkg.dev/colab-wheels/public/simple/\n",
            "Collecting pymorphy2[fast]\n",
            "  Downloading pymorphy2-0.9.1-py3-none-any.whl (55 kB)\n",
            "\u001b[2K     \u001b[90m━━━━━━━━━━━━━━━━━━━━━━━━━━━━━━━━━━━━━━━━\u001b[0m \u001b[32m55.5/55.5 KB\u001b[0m \u001b[31m2.8 MB/s\u001b[0m eta \u001b[36m0:00:00\u001b[0m\n",
            "\u001b[?25hCollecting docopt>=0.6\n",
            "  Downloading docopt-0.6.2.tar.gz (25 kB)\n",
            "  Preparing metadata (setup.py) ... \u001b[?25l\u001b[?25hdone\n",
            "Collecting dawg-python>=0.7.1\n",
            "  Downloading DAWG_Python-0.7.2-py2.py3-none-any.whl (11 kB)\n",
            "Collecting pymorphy2-dicts-ru<3.0,>=2.4\n",
            "  Downloading pymorphy2_dicts_ru-2.4.417127.4579844-py2.py3-none-any.whl (8.2 MB)\n",
            "\u001b[2K     \u001b[90m━━━━━━━━━━━━━━━━━━━━━━━━━━━━━━━━━━━━━━━━\u001b[0m \u001b[32m8.2/8.2 MB\u001b[0m \u001b[31m48.8 MB/s\u001b[0m eta \u001b[36m0:00:00\u001b[0m\n",
            "\u001b[?25hCollecting DAWG>=0.8\n",
            "  Downloading DAWG-0.8.0.tar.gz (371 kB)\n",
            "\u001b[2K     \u001b[90m━━━━━━━━━━━━━━━━━━━━━━━━━━━━━━━━━━━━━━\u001b[0m \u001b[32m371.1/371.1 KB\u001b[0m \u001b[31m30.3 MB/s\u001b[0m eta \u001b[36m0:00:00\u001b[0m\n",
            "\u001b[?25h  Preparing metadata (setup.py) ... \u001b[?25l\u001b[?25hdone\n",
            "Building wheels for collected packages: DAWG, docopt\n",
            "  Building wheel for DAWG (setup.py) ... \u001b[?25l\u001b[?25hdone\n",
            "  Created wheel for DAWG: filename=DAWG-0.8.0-cp38-cp38-linux_x86_64.whl size=1315977 sha256=bd8580edf865a41875d095f1b16fd15a8c051a991ffb0611fc80eb032ac08a2c\n",
            "  Stored in directory: /root/.cache/pip/wheels/1c/e6/8f/313a7ccc57b29a7affb7205664277a1d5ebe73bf600a69a615\n",
            "  Building wheel for docopt (setup.py) ... \u001b[?25l\u001b[?25hdone\n",
            "  Created wheel for docopt: filename=docopt-0.6.2-py2.py3-none-any.whl size=13723 sha256=0a2d2780c0e1eb4f133457a7c5221df861cfc97f2791799c4184058f928a4d5d\n",
            "  Stored in directory: /root/.cache/pip/wheels/56/ea/58/ead137b087d9e326852a851351d1debf4ada529b6ac0ec4e8c\n",
            "Successfully built DAWG docopt\n",
            "Installing collected packages: pymorphy2-dicts-ru, docopt, dawg-python, DAWG, pymorphy2\n",
            "Successfully installed DAWG-0.8.0 dawg-python-0.7.2 docopt-0.6.2 pymorphy2-0.9.1 pymorphy2-dicts-ru-2.4.417127.4579844\n"
          ]
        }
      ]
    },
    {
      "cell_type": "code",
      "metadata": {
        "id": "KVUY1PF0L_mF"
      },
      "source": [
        "# Максимальное количество слов \n",
        "num_words = 10000\n",
        "# Максимальная длина новости\n",
        "max_news_len = 300\n",
        "# Количество классов новостей\n",
        "nb_classes = 2"
      ],
      "execution_count": null,
      "outputs": []
    },
    {
      "cell_type": "code",
      "source": [
        "random_state = 42"
      ],
      "metadata": {
        "id": "mpxjbLWu0HRv"
      },
      "execution_count": null,
      "outputs": []
    },
    {
      "cell_type": "code",
      "source": [
        "nltk.download('punkt')\n",
        "nltk.download('stopwords')"
      ],
      "metadata": {
        "colab": {
          "base_uri": "https://localhost:8080/"
        },
        "id": "M6swb4vO0Cue",
        "outputId": "cb53f366-e5db-4511-e83d-68d282ccab10"
      },
      "execution_count": null,
      "outputs": [
        {
          "output_type": "stream",
          "name": "stderr",
          "text": [
            "[nltk_data] Downloading package punkt to /root/nltk_data...\n",
            "[nltk_data]   Unzipping tokenizers/punkt.zip.\n",
            "[nltk_data] Downloading package stopwords to /root/nltk_data...\n",
            "[nltk_data]   Unzipping corpora/stopwords.zip.\n"
          ]
        },
        {
          "output_type": "execute_result",
          "data": {
            "text/plain": [
              "True"
            ]
          },
          "metadata": {},
          "execution_count": 5
        }
      ]
    },
    {
      "cell_type": "markdown",
      "metadata": {
        "id": "S6itvI2G5H1k"
      },
      "source": [
        "## Загржаем и готовим набор данных"
      ]
    },
    {
      "cell_type": "code",
      "source": [
        "#!wget https://github.com/olyavydrina/-/blob/main/train2.xlsx?dl=1 -O train2.xlsx"
      ],
      "metadata": {
        "id": "VzDyKl0R_Scn"
      },
      "execution_count": null,
      "outputs": []
    },
    {
      "cell_type": "code",
      "source": [
        "#news = pd.read_excel('train2.xlsx')"
      ],
      "metadata": {
        "id": "uePvsSsL_n15"
      },
      "execution_count": null,
      "outputs": []
    },
    {
      "cell_type": "code",
      "source": [
        "news = pd.read_excel('/content/train11.xlsx')\n",
        "news.head()"
      ],
      "metadata": {
        "colab": {
          "base_uri": "https://localhost:8080/",
          "height": 206
        },
        "id": "KkfS3NiREfbL",
        "outputId": "ea3e312f-cf6b-469b-ffdc-6f7836578ddc"
      },
      "execution_count": null,
      "outputs": [
        {
          "output_type": "execute_result",
          "data": {
            "text/plain": [
              "   class                                              title  \\\n",
              "0      1  Freed Russian arms dealer Viktor Bout says he ...   \n",
              "1      1  Taiwan reports record incursion by Chinese bom...   \n",
              "2      1  Soccer union ‘sickened’ by reports Iranian pla...   \n",
              "3      1  At least seven dead as Peru protests disrupt f...   \n",
              "4      1  Indian and Chinese troops clash on disputed bo...   \n",
              "\n",
              "                                                text  \\\n",
              "0  Freed Russian arms dealer Viktor Bout said on ...   \n",
              "1  China has sent a record 18 nuclear-capable H-6...   \n",
              "2  The global soccer players’ union, FIFPRO, said...   \n",
              "3  At least seven people have died in ongoing pro...   \n",
              "4  Indian and Chinese troops have clashed on thei...   \n",
              "\n",
              "                                                link language  \n",
              "0  https://edition.cnn.com/2022/12/10/europe/vikt...      eng  \n",
              "1  https://edition.cnn.com/2022/12/13/asia/taiwan...      eng  \n",
              "2  https://edition.cnn.com/2022/12/13/middleeast/...      eng  \n",
              "3  https://edition.cnn.com/2022/12/13/americas/pe...      eng  \n",
              "4  https://edition.cnn.com/2022/12/13/asia/india-...      eng  "
            ],
            "text/html": [
              "\n",
              "  <div id=\"df-1cb4840b-be47-4dbd-9f75-7865c61ff36d\">\n",
              "    <div class=\"colab-df-container\">\n",
              "      <div>\n",
              "<style scoped>\n",
              "    .dataframe tbody tr th:only-of-type {\n",
              "        vertical-align: middle;\n",
              "    }\n",
              "\n",
              "    .dataframe tbody tr th {\n",
              "        vertical-align: top;\n",
              "    }\n",
              "\n",
              "    .dataframe thead th {\n",
              "        text-align: right;\n",
              "    }\n",
              "</style>\n",
              "<table border=\"1\" class=\"dataframe\">\n",
              "  <thead>\n",
              "    <tr style=\"text-align: right;\">\n",
              "      <th></th>\n",
              "      <th>class</th>\n",
              "      <th>title</th>\n",
              "      <th>text</th>\n",
              "      <th>link</th>\n",
              "      <th>language</th>\n",
              "    </tr>\n",
              "  </thead>\n",
              "  <tbody>\n",
              "    <tr>\n",
              "      <th>0</th>\n",
              "      <td>1</td>\n",
              "      <td>Freed Russian arms dealer Viktor Bout says he ...</td>\n",
              "      <td>Freed Russian arms dealer Viktor Bout said on ...</td>\n",
              "      <td>https://edition.cnn.com/2022/12/10/europe/vikt...</td>\n",
              "      <td>eng</td>\n",
              "    </tr>\n",
              "    <tr>\n",
              "      <th>1</th>\n",
              "      <td>1</td>\n",
              "      <td>Taiwan reports record incursion by Chinese bom...</td>\n",
              "      <td>China has sent a record 18 nuclear-capable H-6...</td>\n",
              "      <td>https://edition.cnn.com/2022/12/13/asia/taiwan...</td>\n",
              "      <td>eng</td>\n",
              "    </tr>\n",
              "    <tr>\n",
              "      <th>2</th>\n",
              "      <td>1</td>\n",
              "      <td>Soccer union ‘sickened’ by reports Iranian pla...</td>\n",
              "      <td>The global soccer players’ union, FIFPRO, said...</td>\n",
              "      <td>https://edition.cnn.com/2022/12/13/middleeast/...</td>\n",
              "      <td>eng</td>\n",
              "    </tr>\n",
              "    <tr>\n",
              "      <th>3</th>\n",
              "      <td>1</td>\n",
              "      <td>At least seven dead as Peru protests disrupt f...</td>\n",
              "      <td>At least seven people have died in ongoing pro...</td>\n",
              "      <td>https://edition.cnn.com/2022/12/13/americas/pe...</td>\n",
              "      <td>eng</td>\n",
              "    </tr>\n",
              "    <tr>\n",
              "      <th>4</th>\n",
              "      <td>1</td>\n",
              "      <td>Indian and Chinese troops clash on disputed bo...</td>\n",
              "      <td>Indian and Chinese troops have clashed on thei...</td>\n",
              "      <td>https://edition.cnn.com/2022/12/13/asia/india-...</td>\n",
              "      <td>eng</td>\n",
              "    </tr>\n",
              "  </tbody>\n",
              "</table>\n",
              "</div>\n",
              "      <button class=\"colab-df-convert\" onclick=\"convertToInteractive('df-1cb4840b-be47-4dbd-9f75-7865c61ff36d')\"\n",
              "              title=\"Convert this dataframe to an interactive table.\"\n",
              "              style=\"display:none;\">\n",
              "        \n",
              "  <svg xmlns=\"http://www.w3.org/2000/svg\" height=\"24px\"viewBox=\"0 0 24 24\"\n",
              "       width=\"24px\">\n",
              "    <path d=\"M0 0h24v24H0V0z\" fill=\"none\"/>\n",
              "    <path d=\"M18.56 5.44l.94 2.06.94-2.06 2.06-.94-2.06-.94-.94-2.06-.94 2.06-2.06.94zm-11 1L8.5 8.5l.94-2.06 2.06-.94-2.06-.94L8.5 2.5l-.94 2.06-2.06.94zm10 10l.94 2.06.94-2.06 2.06-.94-2.06-.94-.94-2.06-.94 2.06-2.06.94z\"/><path d=\"M17.41 7.96l-1.37-1.37c-.4-.4-.92-.59-1.43-.59-.52 0-1.04.2-1.43.59L10.3 9.45l-7.72 7.72c-.78.78-.78 2.05 0 2.83L4 21.41c.39.39.9.59 1.41.59.51 0 1.02-.2 1.41-.59l7.78-7.78 2.81-2.81c.8-.78.8-2.07 0-2.86zM5.41 20L4 18.59l7.72-7.72 1.47 1.35L5.41 20z\"/>\n",
              "  </svg>\n",
              "      </button>\n",
              "      \n",
              "  <style>\n",
              "    .colab-df-container {\n",
              "      display:flex;\n",
              "      flex-wrap:wrap;\n",
              "      gap: 12px;\n",
              "    }\n",
              "\n",
              "    .colab-df-convert {\n",
              "      background-color: #E8F0FE;\n",
              "      border: none;\n",
              "      border-radius: 50%;\n",
              "      cursor: pointer;\n",
              "      display: none;\n",
              "      fill: #1967D2;\n",
              "      height: 32px;\n",
              "      padding: 0 0 0 0;\n",
              "      width: 32px;\n",
              "    }\n",
              "\n",
              "    .colab-df-convert:hover {\n",
              "      background-color: #E2EBFA;\n",
              "      box-shadow: 0px 1px 2px rgba(60, 64, 67, 0.3), 0px 1px 3px 1px rgba(60, 64, 67, 0.15);\n",
              "      fill: #174EA6;\n",
              "    }\n",
              "\n",
              "    [theme=dark] .colab-df-convert {\n",
              "      background-color: #3B4455;\n",
              "      fill: #D2E3FC;\n",
              "    }\n",
              "\n",
              "    [theme=dark] .colab-df-convert:hover {\n",
              "      background-color: #434B5C;\n",
              "      box-shadow: 0px 1px 3px 1px rgba(0, 0, 0, 0.15);\n",
              "      filter: drop-shadow(0px 1px 2px rgba(0, 0, 0, 0.3));\n",
              "      fill: #FFFFFF;\n",
              "    }\n",
              "  </style>\n",
              "\n",
              "      <script>\n",
              "        const buttonEl =\n",
              "          document.querySelector('#df-1cb4840b-be47-4dbd-9f75-7865c61ff36d button.colab-df-convert');\n",
              "        buttonEl.style.display =\n",
              "          google.colab.kernel.accessAllowed ? 'block' : 'none';\n",
              "\n",
              "        async function convertToInteractive(key) {\n",
              "          const element = document.querySelector('#df-1cb4840b-be47-4dbd-9f75-7865c61ff36d');\n",
              "          const dataTable =\n",
              "            await google.colab.kernel.invokeFunction('convertToInteractive',\n",
              "                                                     [key], {});\n",
              "          if (!dataTable) return;\n",
              "\n",
              "          const docLinkHtml = 'Like what you see? Visit the ' +\n",
              "            '<a target=\"_blank\" href=https://colab.research.google.com/notebooks/data_table.ipynb>data table notebook</a>'\n",
              "            + ' to learn more about interactive tables.';\n",
              "          element.innerHTML = '';\n",
              "          dataTable['output_type'] = 'display_data';\n",
              "          await google.colab.output.renderOutput(dataTable, element);\n",
              "          const docLink = document.createElement('div');\n",
              "          docLink.innerHTML = docLinkHtml;\n",
              "          element.appendChild(docLink);\n",
              "        }\n",
              "      </script>\n",
              "    </div>\n",
              "  </div>\n",
              "  "
            ]
          },
          "metadata": {},
          "execution_count": 6
        }
      ]
    },
    {
      "cell_type": "code",
      "source": [
        "def preprocess(text, stop_words, punctuation_marks, morph):\n",
        "    tokens = word_tokenize(text.lower())\n",
        "    preprocessed_text = []\n",
        "    for token in tokens:\n",
        "        if token not in punctuation_marks:\n",
        "            lemma = morph.parse(token)[0].normal_form\n",
        "            if lemma not in stop_words:\n",
        "                preprocessed_text.append(lemma)\n",
        "    return preprocessed_text"
      ],
      "metadata": {
        "id": "v36CDjzu25Kh"
      },
      "execution_count": null,
      "outputs": []
    },
    {
      "cell_type": "code",
      "source": [
        "punctuation_marks = ['!', ',', '(', ')', ':', '-', '?', '.', '..', '...', '«', '»', ';', '–', '--']\n",
        "stop_words = stopwords.words(\"english\")\n",
        "morph = pymorphy2.MorphAnalyzer()"
      ],
      "metadata": {
        "id": "HVabqnVb2-S2"
      },
      "execution_count": null,
      "outputs": []
    },
    {
      "cell_type": "code",
      "source": [
        "news['Preprocessed_texts'] = news.apply(lambda row: preprocess(row['text'], punctuation_marks, stop_words, morph), axis=1)"
      ],
      "metadata": {
        "id": "ffNkKp7d3Bjx"
      },
      "execution_count": null,
      "outputs": []
    },
    {
      "cell_type": "markdown",
      "source": [
        "Считаем частоту слов во всех новостях"
      ],
      "metadata": {
        "id": "rGClbafQ3PKc"
      }
    },
    {
      "cell_type": "code",
      "source": [
        "words = Counter()"
      ],
      "metadata": {
        "id": "l6mZndz23QYh"
      },
      "execution_count": null,
      "outputs": []
    },
    {
      "cell_type": "code",
      "source": [
        "for txt in news['Preprocessed_texts']:\n",
        "    words.update(txt)"
      ],
      "metadata": {
        "id": "l2DJi6e_3kTx"
      },
      "execution_count": null,
      "outputs": []
    },
    {
      "cell_type": "markdown",
      "source": [
        "Создаем словарь, упорядоченный по частоте\n",
        "\n",
        "В словаре будем использовать 2 специальных кода:\n",
        "\n",
        "Код заполнитель: 0\n",
        "Неизвестное слово: 1\n",
        "Нумерация слов в словаре начинается с 2."
      ],
      "metadata": {
        "id": "-taCkIFb3tMQ"
      }
    },
    {
      "cell_type": "code",
      "source": [
        "# Словарь, отображающий слова в коды\n",
        "word_to_index = dict()\n",
        "# Словарь, отображающий коды в слова\n",
        "index_to_word = dict()"
      ],
      "metadata": {
        "id": "mP-4O8g93wuu"
      },
      "execution_count": null,
      "outputs": []
    },
    {
      "cell_type": "markdown",
      "source": [
        "Создаем словари"
      ],
      "metadata": {
        "id": "0enOJTt_30D_"
      }
    },
    {
      "cell_type": "code",
      "source": [
        "for i, word in enumerate(words.most_common(num_words - 2)):\n",
        "    word_to_index[word[0]] = i + 2\n",
        "    index_to_word[i + 2] = word[0]"
      ],
      "metadata": {
        "id": "Fc2BZh7v31ih"
      },
      "execution_count": null,
      "outputs": []
    },
    {
      "cell_type": "markdown",
      "source": [
        "Функция для преобразования списка слов в список кодов"
      ],
      "metadata": {
        "id": "7Uc7eTZT4CVs"
      }
    },
    {
      "cell_type": "code",
      "source": [
        "def text_to_sequence(txt, word_to_index):\n",
        "    seq = []\n",
        "    for word in txt:\n",
        "        index = word_to_index.get(word, 1) # 1 означает неизвестное слово\n",
        "        # Неизвестные слова не добавляем в выходную последовательность\n",
        "        if index != 1:\n",
        "            seq.append(index)\n",
        "    return seq"
      ],
      "metadata": {
        "id": "OgCTdCe3aDhv"
      },
      "execution_count": null,
      "outputs": []
    },
    {
      "cell_type": "markdown",
      "source": [
        "\n",
        "Преобразуем все тексты в последовательность кодов слов"
      ],
      "metadata": {
        "id": "FoFEF2o34IlX"
      }
    },
    {
      "cell_type": "code",
      "source": [
        "news['Sequences'] = news.apply(lambda row: text_to_sequence(row['Preprocessed_texts'], word_to_index), axis=1)"
      ],
      "metadata": {
        "id": "4I83Duh94KgZ"
      },
      "execution_count": null,
      "outputs": []
    },
    {
      "cell_type": "code",
      "source": [
        "news"
      ],
      "metadata": {
        "colab": {
          "base_uri": "https://localhost:8080/",
          "height": 641
        },
        "id": "HFwEp7NE4R-O",
        "outputId": "41cbfb08-13f8-49b5-c05a-9952d4a78e18"
      },
      "execution_count": null,
      "outputs": [
        {
          "output_type": "execute_result",
          "data": {
            "text/plain": [
              "     class                                              title  \\\n",
              "0        1  Freed Russian arms dealer Viktor Bout says he ...   \n",
              "1        1  Taiwan reports record incursion by Chinese bom...   \n",
              "2        1  Soccer union ‘sickened’ by reports Iranian pla...   \n",
              "3        1  At least seven dead as Peru protests disrupt f...   \n",
              "4        1  Indian and Chinese troops clash on disputed bo...   \n",
              "..     ...                                                ...   \n",
              "184      0  Sir Keir Starmer rakes it in after 'selling gr...   \n",
              "185      0  Rishi Sunak held 'migrants summit' with Theres...   \n",
              "186      1  Putin is 'planning for a long war' and the Wes...   \n",
              "187      1  Putin sends nuclear message to the West for a ...   \n",
              "188      0  Royal insiders fear Megxit 'harmed the late Qu...   \n",
              "\n",
              "                                                  text  \\\n",
              "0    Freed Russian arms dealer Viktor Bout said on ...   \n",
              "1    China has sent a record 18 nuclear-capable H-6...   \n",
              "2    The global soccer players’ union, FIFPRO, said...   \n",
              "3    At least seven people have died in ongoing pro...   \n",
              "4    Indian and Chinese troops have clashed on thei...   \n",
              "..                                                 ...   \n",
              "184  Sir Keir Starmer sold seven acres of green-bel...   \n",
              "185  Rishi Sunak held a ‘migrants summit’ with his ...   \n",
              "186  Putin is 'planning for a long war' and the Wes...   \n",
              "187  Russia's nuclear sabre-rattling continued for ...   \n",
              "188  The stress caused by Harry and Meghan's fallin...   \n",
              "\n",
              "                                                  link language  \\\n",
              "0    https://edition.cnn.com/2022/12/10/europe/vikt...      eng   \n",
              "1    https://edition.cnn.com/2022/12/13/asia/taiwan...      eng   \n",
              "2    https://edition.cnn.com/2022/12/13/middleeast/...      eng   \n",
              "3    https://edition.cnn.com/2022/12/13/americas/pe...      eng   \n",
              "4    https://edition.cnn.com/2022/12/13/asia/india-...      eng   \n",
              "..                                                 ...      ...   \n",
              "184  https://www.dailymail.co.uk/news/article-11550...      eng   \n",
              "185  https://www.dailymail.co.uk/news/article-11550...      eng   \n",
              "186  https://www.dailymail.co.uk/news/article-11546...      eng   \n",
              "187  https://www.dailymail.co.uk/news/article-11545...      eng   \n",
              "188  https://www.dailymail.co.uk/news/article-11549...      eng   \n",
              "\n",
              "                                    Preprocessed_texts  \\\n",
              "0    [freed, russian, arms, dealer, viktor, bout, s...   \n",
              "1    [china, sent, record, 18, nuclear-capable, h-6...   \n",
              "2    [global, soccer, players, ’, union, fifpro, sa...   \n",
              "3    [least, seven, people, died, ongoing, protests...   \n",
              "4    [indian, chinese, troops, clashed, disputed, h...   \n",
              "..                                                 ...   \n",
              "184  [sir, keir, starmer, sold, seven, acres, green...   \n",
              "185  [rishi, sunak, held, ‘, migrants, summit, ’, p...   \n",
              "186  [putin, 'planning, long, war, ', west, must, c...   \n",
              "187  [russia, 's, nuclear, sabre-rattling, continue...   \n",
              "188  [stress, caused, harry, meghan, 's, falling, r...   \n",
              "\n",
              "                                             Sequences  \n",
              "0    [8643, 38, 815, 2261, 3287, 1351, 5, 173, 3, 6...  \n",
              "1    [55, 470, 527, 1259, 4695, 6038, 3292, 708, 15...  \n",
              "2    [263, 602, 1024, 2, 150, 6054, 5, 3, 4704, 867...  \n",
              "3    [168, 604, 7, 342, 1357, 211, 212, 46, 19, 147...  \n",
              "4    [1029, 270, 443, 6079, 3311, 8707, 188, 28, 24...  \n",
              "..                                                 ...  \n",
              "184  [2254, 3275, 8274, 1301, 604, 614, 849, 68, 28...  \n",
              "185  [2828, 2042, 306, 48, 3127, 574, 2, 2906, 4683...  \n",
              "186  [90, 127, 53, 15, 265, 410, 273, 1156, 815, 14...  \n",
              "187  [25, 11, 400, 8638, 515, 794, 68, 694, 367, 73...  \n",
              "188  [3048, 818, 1801, 2839, 11, 1804, 655, 120, 10...  \n",
              "\n",
              "[189 rows x 7 columns]"
            ],
            "text/html": [
              "\n",
              "  <div id=\"df-39997be9-29b9-44e0-a7d6-a68bcbeda97e\">\n",
              "    <div class=\"colab-df-container\">\n",
              "      <div>\n",
              "<style scoped>\n",
              "    .dataframe tbody tr th:only-of-type {\n",
              "        vertical-align: middle;\n",
              "    }\n",
              "\n",
              "    .dataframe tbody tr th {\n",
              "        vertical-align: top;\n",
              "    }\n",
              "\n",
              "    .dataframe thead th {\n",
              "        text-align: right;\n",
              "    }\n",
              "</style>\n",
              "<table border=\"1\" class=\"dataframe\">\n",
              "  <thead>\n",
              "    <tr style=\"text-align: right;\">\n",
              "      <th></th>\n",
              "      <th>class</th>\n",
              "      <th>title</th>\n",
              "      <th>text</th>\n",
              "      <th>link</th>\n",
              "      <th>language</th>\n",
              "      <th>Preprocessed_texts</th>\n",
              "      <th>Sequences</th>\n",
              "    </tr>\n",
              "  </thead>\n",
              "  <tbody>\n",
              "    <tr>\n",
              "      <th>0</th>\n",
              "      <td>1</td>\n",
              "      <td>Freed Russian arms dealer Viktor Bout says he ...</td>\n",
              "      <td>Freed Russian arms dealer Viktor Bout said on ...</td>\n",
              "      <td>https://edition.cnn.com/2022/12/10/europe/vikt...</td>\n",
              "      <td>eng</td>\n",
              "      <td>[freed, russian, arms, dealer, viktor, bout, s...</td>\n",
              "      <td>[8643, 38, 815, 2261, 3287, 1351, 5, 173, 3, 6...</td>\n",
              "    </tr>\n",
              "    <tr>\n",
              "      <th>1</th>\n",
              "      <td>1</td>\n",
              "      <td>Taiwan reports record incursion by Chinese bom...</td>\n",
              "      <td>China has sent a record 18 nuclear-capable H-6...</td>\n",
              "      <td>https://edition.cnn.com/2022/12/13/asia/taiwan...</td>\n",
              "      <td>eng</td>\n",
              "      <td>[china, sent, record, 18, nuclear-capable, h-6...</td>\n",
              "      <td>[55, 470, 527, 1259, 4695, 6038, 3292, 708, 15...</td>\n",
              "    </tr>\n",
              "    <tr>\n",
              "      <th>2</th>\n",
              "      <td>1</td>\n",
              "      <td>Soccer union ‘sickened’ by reports Iranian pla...</td>\n",
              "      <td>The global soccer players’ union, FIFPRO, said...</td>\n",
              "      <td>https://edition.cnn.com/2022/12/13/middleeast/...</td>\n",
              "      <td>eng</td>\n",
              "      <td>[global, soccer, players, ’, union, fifpro, sa...</td>\n",
              "      <td>[263, 602, 1024, 2, 150, 6054, 5, 3, 4704, 867...</td>\n",
              "    </tr>\n",
              "    <tr>\n",
              "      <th>3</th>\n",
              "      <td>1</td>\n",
              "      <td>At least seven dead as Peru protests disrupt f...</td>\n",
              "      <td>At least seven people have died in ongoing pro...</td>\n",
              "      <td>https://edition.cnn.com/2022/12/13/americas/pe...</td>\n",
              "      <td>eng</td>\n",
              "      <td>[least, seven, people, died, ongoing, protests...</td>\n",
              "      <td>[168, 604, 7, 342, 1357, 211, 212, 46, 19, 147...</td>\n",
              "    </tr>\n",
              "    <tr>\n",
              "      <th>4</th>\n",
              "      <td>1</td>\n",
              "      <td>Indian and Chinese troops clash on disputed bo...</td>\n",
              "      <td>Indian and Chinese troops have clashed on thei...</td>\n",
              "      <td>https://edition.cnn.com/2022/12/13/asia/india-...</td>\n",
              "      <td>eng</td>\n",
              "      <td>[indian, chinese, troops, clashed, disputed, h...</td>\n",
              "      <td>[1029, 270, 443, 6079, 3311, 8707, 188, 28, 24...</td>\n",
              "    </tr>\n",
              "    <tr>\n",
              "      <th>...</th>\n",
              "      <td>...</td>\n",
              "      <td>...</td>\n",
              "      <td>...</td>\n",
              "      <td>...</td>\n",
              "      <td>...</td>\n",
              "      <td>...</td>\n",
              "      <td>...</td>\n",
              "    </tr>\n",
              "    <tr>\n",
              "      <th>184</th>\n",
              "      <td>0</td>\n",
              "      <td>Sir Keir Starmer rakes it in after 'selling gr...</td>\n",
              "      <td>Sir Keir Starmer sold seven acres of green-bel...</td>\n",
              "      <td>https://www.dailymail.co.uk/news/article-11550...</td>\n",
              "      <td>eng</td>\n",
              "      <td>[sir, keir, starmer, sold, seven, acres, green...</td>\n",
              "      <td>[2254, 3275, 8274, 1301, 604, 614, 849, 68, 28...</td>\n",
              "    </tr>\n",
              "    <tr>\n",
              "      <th>185</th>\n",
              "      <td>0</td>\n",
              "      <td>Rishi Sunak held 'migrants summit' with Theres...</td>\n",
              "      <td>Rishi Sunak held a ‘migrants summit’ with his ...</td>\n",
              "      <td>https://www.dailymail.co.uk/news/article-11550...</td>\n",
              "      <td>eng</td>\n",
              "      <td>[rishi, sunak, held, ‘, migrants, summit, ’, p...</td>\n",
              "      <td>[2828, 2042, 306, 48, 3127, 574, 2, 2906, 4683...</td>\n",
              "    </tr>\n",
              "    <tr>\n",
              "      <th>186</th>\n",
              "      <td>1</td>\n",
              "      <td>Putin is 'planning for a long war' and the Wes...</td>\n",
              "      <td>Putin is 'planning for a long war' and the Wes...</td>\n",
              "      <td>https://www.dailymail.co.uk/news/article-11546...</td>\n",
              "      <td>eng</td>\n",
              "      <td>[putin, 'planning, long, war, ', west, must, c...</td>\n",
              "      <td>[90, 127, 53, 15, 265, 410, 273, 1156, 815, 14...</td>\n",
              "    </tr>\n",
              "    <tr>\n",
              "      <th>187</th>\n",
              "      <td>1</td>\n",
              "      <td>Putin sends nuclear message to the West for a ...</td>\n",
              "      <td>Russia's nuclear sabre-rattling continued for ...</td>\n",
              "      <td>https://www.dailymail.co.uk/news/article-11545...</td>\n",
              "      <td>eng</td>\n",
              "      <td>[russia, 's, nuclear, sabre-rattling, continue...</td>\n",
              "      <td>[25, 11, 400, 8638, 515, 794, 68, 694, 367, 73...</td>\n",
              "    </tr>\n",
              "    <tr>\n",
              "      <th>188</th>\n",
              "      <td>0</td>\n",
              "      <td>Royal insiders fear Megxit 'harmed the late Qu...</td>\n",
              "      <td>The stress caused by Harry and Meghan's fallin...</td>\n",
              "      <td>https://www.dailymail.co.uk/news/article-11549...</td>\n",
              "      <td>eng</td>\n",
              "      <td>[stress, caused, harry, meghan, 's, falling, r...</td>\n",
              "      <td>[3048, 818, 1801, 2839, 11, 1804, 655, 120, 10...</td>\n",
              "    </tr>\n",
              "  </tbody>\n",
              "</table>\n",
              "<p>189 rows × 7 columns</p>\n",
              "</div>\n",
              "      <button class=\"colab-df-convert\" onclick=\"convertToInteractive('df-39997be9-29b9-44e0-a7d6-a68bcbeda97e')\"\n",
              "              title=\"Convert this dataframe to an interactive table.\"\n",
              "              style=\"display:none;\">\n",
              "        \n",
              "  <svg xmlns=\"http://www.w3.org/2000/svg\" height=\"24px\"viewBox=\"0 0 24 24\"\n",
              "       width=\"24px\">\n",
              "    <path d=\"M0 0h24v24H0V0z\" fill=\"none\"/>\n",
              "    <path d=\"M18.56 5.44l.94 2.06.94-2.06 2.06-.94-2.06-.94-.94-2.06-.94 2.06-2.06.94zm-11 1L8.5 8.5l.94-2.06 2.06-.94-2.06-.94L8.5 2.5l-.94 2.06-2.06.94zm10 10l.94 2.06.94-2.06 2.06-.94-2.06-.94-.94-2.06-.94 2.06-2.06.94z\"/><path d=\"M17.41 7.96l-1.37-1.37c-.4-.4-.92-.59-1.43-.59-.52 0-1.04.2-1.43.59L10.3 9.45l-7.72 7.72c-.78.78-.78 2.05 0 2.83L4 21.41c.39.39.9.59 1.41.59.51 0 1.02-.2 1.41-.59l7.78-7.78 2.81-2.81c.8-.78.8-2.07 0-2.86zM5.41 20L4 18.59l7.72-7.72 1.47 1.35L5.41 20z\"/>\n",
              "  </svg>\n",
              "      </button>\n",
              "      \n",
              "  <style>\n",
              "    .colab-df-container {\n",
              "      display:flex;\n",
              "      flex-wrap:wrap;\n",
              "      gap: 12px;\n",
              "    }\n",
              "\n",
              "    .colab-df-convert {\n",
              "      background-color: #E8F0FE;\n",
              "      border: none;\n",
              "      border-radius: 50%;\n",
              "      cursor: pointer;\n",
              "      display: none;\n",
              "      fill: #1967D2;\n",
              "      height: 32px;\n",
              "      padding: 0 0 0 0;\n",
              "      width: 32px;\n",
              "    }\n",
              "\n",
              "    .colab-df-convert:hover {\n",
              "      background-color: #E2EBFA;\n",
              "      box-shadow: 0px 1px 2px rgba(60, 64, 67, 0.3), 0px 1px 3px 1px rgba(60, 64, 67, 0.15);\n",
              "      fill: #174EA6;\n",
              "    }\n",
              "\n",
              "    [theme=dark] .colab-df-convert {\n",
              "      background-color: #3B4455;\n",
              "      fill: #D2E3FC;\n",
              "    }\n",
              "\n",
              "    [theme=dark] .colab-df-convert:hover {\n",
              "      background-color: #434B5C;\n",
              "      box-shadow: 0px 1px 3px 1px rgba(0, 0, 0, 0.15);\n",
              "      filter: drop-shadow(0px 1px 2px rgba(0, 0, 0, 0.3));\n",
              "      fill: #FFFFFF;\n",
              "    }\n",
              "  </style>\n",
              "\n",
              "      <script>\n",
              "        const buttonEl =\n",
              "          document.querySelector('#df-39997be9-29b9-44e0-a7d6-a68bcbeda97e button.colab-df-convert');\n",
              "        buttonEl.style.display =\n",
              "          google.colab.kernel.accessAllowed ? 'block' : 'none';\n",
              "\n",
              "        async function convertToInteractive(key) {\n",
              "          const element = document.querySelector('#df-39997be9-29b9-44e0-a7d6-a68bcbeda97e');\n",
              "          const dataTable =\n",
              "            await google.colab.kernel.invokeFunction('convertToInteractive',\n",
              "                                                     [key], {});\n",
              "          if (!dataTable) return;\n",
              "\n",
              "          const docLinkHtml = 'Like what you see? Visit the ' +\n",
              "            '<a target=\"_blank\" href=https://colab.research.google.com/notebooks/data_table.ipynb>data table notebook</a>'\n",
              "            + ' to learn more about interactive tables.';\n",
              "          element.innerHTML = '';\n",
              "          dataTable['output_type'] = 'display_data';\n",
              "          await google.colab.output.renderOutput(dataTable, element);\n",
              "          const docLink = document.createElement('div');\n",
              "          docLink.innerHTML = docLinkHtml;\n",
              "          element.appendChild(docLink);\n",
              "        }\n",
              "      </script>\n",
              "    </div>\n",
              "  </div>\n",
              "  "
            ]
          },
          "metadata": {},
          "execution_count": 16
        }
      ]
    },
    {
      "cell_type": "markdown",
      "source": [
        "## Выделяем данные для обучения и тестирования"
      ],
      "metadata": {
        "id": "Ip7sL49H4aIH"
      }
    },
    {
      "cell_type": "code",
      "source": [
        "train, test = train_test_split(news, test_size=0.2)"
      ],
      "metadata": {
        "id": "j51v0xwj4diP"
      },
      "execution_count": null,
      "outputs": []
    },
    {
      "cell_type": "code",
      "source": [
        "train"
      ],
      "metadata": {
        "colab": {
          "base_uri": "https://localhost:8080/",
          "height": 641
        },
        "id": "2wwax3i56UWT",
        "outputId": "09e0d181-5c36-4c33-b3d1-37fddca7e7d7"
      },
      "execution_count": null,
      "outputs": [
        {
          "output_type": "execute_result",
          "data": {
            "text/plain": [
              "     class                                              title  \\\n",
              "20       0  What to know about Lensa, the AI portrait app ...   \n",
              "80       0  Your phone is terrible at phone calls. Here’s ...   \n",
              "8        1  South African President Ramaphosa will not be ...   \n",
              "93       1  Canada: son of murdered billionaire couple tri...   \n",
              "119      0  New Zealand passes world-first tobacco law to ...   \n",
              "..     ...                                                ...   \n",
              "83       0  Emma Tucker to replace Matt Murray as editor o...   \n",
              "1        1  Taiwan reports record incursion by Chinese bom...   \n",
              "13       1  Police officers among 6 killed in rural Austra...   \n",
              "122      0  Now energy firms ask snow-hit homes to cut ele...   \n",
              "67       1  Parched Peru is restoring pre-Incan dikes to s...   \n",
              "\n",
              "                                                  text  \\\n",
              "20   Zoe Sottile, CNN\\nIf you've logged on to any s...   \n",
              "80   If you want to scream because your phone calls...   \n",
              "8    South African President Ramaphosa survived a m...   \n",
              "93   The son of a billionaire couple murdered five ...   \n",
              "119  New Zealand has introduced a steadily rising s...   \n",
              "..                                                 ...   \n",
              "83   The Wall Street Journal on Monday named Emma T...   \n",
              "1    China has sent a record 18 nuclear-capable H-6...   \n",
              "13   Sydney CNN  — Two police officers were shot de...   \n",
              "122  Customers of some energy firms will be asked t...   \n",
              "67   SAN PEDRO DE CASTA, Peru — On a mountainside h...   \n",
              "\n",
              "                                                  link language  \\\n",
              "20   https://edition.cnn.com/style/article/lensa-ai...      eng   \n",
              "80   https://www.washingtonpost.com/technology/2022...      eng   \n",
              "8    https://edition.cnn.com/2022/12/13/africa/sout...      eng   \n",
              "93   https://www.theguardian.com/world/2022/dec/12/...      eng   \n",
              "119  https://www.theguardian.com/world/2022/dec/13/...      eng   \n",
              "..                                                 ...      ...   \n",
              "83   https://www.washingtonpost.com/media/2022/12/1...      eng   \n",
              "1    https://edition.cnn.com/2022/12/13/asia/taiwan...      eng   \n",
              "13   https://edition.cnn.com/2022/12/12/australia/q...      eng   \n",
              "122  https://www.dailymail.co.uk/news/article-11527...      eng   \n",
              "67   https://www.washingtonpost.com/world/2022/12/1...      eng   \n",
              "\n",
              "                                    Preprocessed_texts  \\\n",
              "20   [zoe, sottile, cnn, 've, logged, social, media...   \n",
              "80   [want, scream, phone, calls, sound, like, garb...   \n",
              "8    [south, african, president, ramaphosa, survive...   \n",
              "93   [son, billionaire, couple, murdered, five, yea...   \n",
              "119  [new, zealand, introduced, steadily, rising, s...   \n",
              "..                                                 ...   \n",
              "83   [wall, street, journal, monday, named, emma, t...   \n",
              "1    [china, sent, record, 18, nuclear-capable, h-6...   \n",
              "13   [sydney, cnn, —, two, police, officers, shot, ...   \n",
              "122  [customers, energy, firms, asked, reduce, elec...   \n",
              "67   [san, pedro, de, casta, peru, —, mountainside,...   \n",
              "\n",
              "                                             Sequences  \n",
              "20   [9308, 9309, 167, 2141, 6397, 227, 74, 419, 49...  \n",
              "80   [78, 7665, 323, 325, 720, 20, 2, 376, 639, 797...  \n",
              "8    [110, 220, 19, 927, 2307, 257, 346, 1907, 6153...  \n",
              "93   [1236, 3135, 928, 4580, 297, 17, 388, 753, 449...  \n",
              "119  [13, 3218, 2107, 648, 2014, 629, 356, 1438, 93...  \n",
              "..                                                 ...  \n",
              "83   [799, 623, 1189, 37, 1291, 5707, 2800, 6, 787,...  \n",
              "1    [55, 470, 527, 1259, 4695, 6038, 3292, 708, 15...  \n",
              "13   [3339, 167, 6, 16, 29, 161, 311, 742, 4815, 23...  \n",
              "122  [809, 71, 2468, 349, 2499, 389, 438, 70, 16, 2...  \n",
              "67   [507, 1471, 1032, 3194, 212, 6, 248, 212, 2, 2...  \n",
              "\n",
              "[151 rows x 7 columns]"
            ],
            "text/html": [
              "\n",
              "  <div id=\"df-0630a484-cbdb-469a-a928-5883fe9f332e\">\n",
              "    <div class=\"colab-df-container\">\n",
              "      <div>\n",
              "<style scoped>\n",
              "    .dataframe tbody tr th:only-of-type {\n",
              "        vertical-align: middle;\n",
              "    }\n",
              "\n",
              "    .dataframe tbody tr th {\n",
              "        vertical-align: top;\n",
              "    }\n",
              "\n",
              "    .dataframe thead th {\n",
              "        text-align: right;\n",
              "    }\n",
              "</style>\n",
              "<table border=\"1\" class=\"dataframe\">\n",
              "  <thead>\n",
              "    <tr style=\"text-align: right;\">\n",
              "      <th></th>\n",
              "      <th>class</th>\n",
              "      <th>title</th>\n",
              "      <th>text</th>\n",
              "      <th>link</th>\n",
              "      <th>language</th>\n",
              "      <th>Preprocessed_texts</th>\n",
              "      <th>Sequences</th>\n",
              "    </tr>\n",
              "  </thead>\n",
              "  <tbody>\n",
              "    <tr>\n",
              "      <th>20</th>\n",
              "      <td>0</td>\n",
              "      <td>What to know about Lensa, the AI portrait app ...</td>\n",
              "      <td>Zoe Sottile, CNN\\nIf you've logged on to any s...</td>\n",
              "      <td>https://edition.cnn.com/style/article/lensa-ai...</td>\n",
              "      <td>eng</td>\n",
              "      <td>[zoe, sottile, cnn, 've, logged, social, media...</td>\n",
              "      <td>[9308, 9309, 167, 2141, 6397, 227, 74, 419, 49...</td>\n",
              "    </tr>\n",
              "    <tr>\n",
              "      <th>80</th>\n",
              "      <td>0</td>\n",
              "      <td>Your phone is terrible at phone calls. Here’s ...</td>\n",
              "      <td>If you want to scream because your phone calls...</td>\n",
              "      <td>https://www.washingtonpost.com/technology/2022...</td>\n",
              "      <td>eng</td>\n",
              "      <td>[want, scream, phone, calls, sound, like, garb...</td>\n",
              "      <td>[78, 7665, 323, 325, 720, 20, 2, 376, 639, 797...</td>\n",
              "    </tr>\n",
              "    <tr>\n",
              "      <th>8</th>\n",
              "      <td>1</td>\n",
              "      <td>South African President Ramaphosa will not be ...</td>\n",
              "      <td>South African President Ramaphosa survived a m...</td>\n",
              "      <td>https://edition.cnn.com/2022/12/13/africa/sout...</td>\n",
              "      <td>eng</td>\n",
              "      <td>[south, african, president, ramaphosa, survive...</td>\n",
              "      <td>[110, 220, 19, 927, 2307, 257, 346, 1907, 6153...</td>\n",
              "    </tr>\n",
              "    <tr>\n",
              "      <th>93</th>\n",
              "      <td>1</td>\n",
              "      <td>Canada: son of murdered billionaire couple tri...</td>\n",
              "      <td>The son of a billionaire couple murdered five ...</td>\n",
              "      <td>https://www.theguardian.com/world/2022/dec/12/...</td>\n",
              "      <td>eng</td>\n",
              "      <td>[son, billionaire, couple, murdered, five, yea...</td>\n",
              "      <td>[1236, 3135, 928, 4580, 297, 17, 388, 753, 449...</td>\n",
              "    </tr>\n",
              "    <tr>\n",
              "      <th>119</th>\n",
              "      <td>0</td>\n",
              "      <td>New Zealand passes world-first tobacco law to ...</td>\n",
              "      <td>New Zealand has introduced a steadily rising s...</td>\n",
              "      <td>https://www.theguardian.com/world/2022/dec/13/...</td>\n",
              "      <td>eng</td>\n",
              "      <td>[new, zealand, introduced, steadily, rising, s...</td>\n",
              "      <td>[13, 3218, 2107, 648, 2014, 629, 356, 1438, 93...</td>\n",
              "    </tr>\n",
              "    <tr>\n",
              "      <th>...</th>\n",
              "      <td>...</td>\n",
              "      <td>...</td>\n",
              "      <td>...</td>\n",
              "      <td>...</td>\n",
              "      <td>...</td>\n",
              "      <td>...</td>\n",
              "      <td>...</td>\n",
              "    </tr>\n",
              "    <tr>\n",
              "      <th>83</th>\n",
              "      <td>0</td>\n",
              "      <td>Emma Tucker to replace Matt Murray as editor o...</td>\n",
              "      <td>The Wall Street Journal on Monday named Emma T...</td>\n",
              "      <td>https://www.washingtonpost.com/media/2022/12/1...</td>\n",
              "      <td>eng</td>\n",
              "      <td>[wall, street, journal, monday, named, emma, t...</td>\n",
              "      <td>[799, 623, 1189, 37, 1291, 5707, 2800, 6, 787,...</td>\n",
              "    </tr>\n",
              "    <tr>\n",
              "      <th>1</th>\n",
              "      <td>1</td>\n",
              "      <td>Taiwan reports record incursion by Chinese bom...</td>\n",
              "      <td>China has sent a record 18 nuclear-capable H-6...</td>\n",
              "      <td>https://edition.cnn.com/2022/12/13/asia/taiwan...</td>\n",
              "      <td>eng</td>\n",
              "      <td>[china, sent, record, 18, nuclear-capable, h-6...</td>\n",
              "      <td>[55, 470, 527, 1259, 4695, 6038, 3292, 708, 15...</td>\n",
              "    </tr>\n",
              "    <tr>\n",
              "      <th>13</th>\n",
              "      <td>1</td>\n",
              "      <td>Police officers among 6 killed in rural Austra...</td>\n",
              "      <td>Sydney CNN  — Two police officers were shot de...</td>\n",
              "      <td>https://edition.cnn.com/2022/12/12/australia/q...</td>\n",
              "      <td>eng</td>\n",
              "      <td>[sydney, cnn, —, two, police, officers, shot, ...</td>\n",
              "      <td>[3339, 167, 6, 16, 29, 161, 311, 742, 4815, 23...</td>\n",
              "    </tr>\n",
              "    <tr>\n",
              "      <th>122</th>\n",
              "      <td>0</td>\n",
              "      <td>Now energy firms ask snow-hit homes to cut ele...</td>\n",
              "      <td>Customers of some energy firms will be asked t...</td>\n",
              "      <td>https://www.dailymail.co.uk/news/article-11527...</td>\n",
              "      <td>eng</td>\n",
              "      <td>[customers, energy, firms, asked, reduce, elec...</td>\n",
              "      <td>[809, 71, 2468, 349, 2499, 389, 438, 70, 16, 2...</td>\n",
              "    </tr>\n",
              "    <tr>\n",
              "      <th>67</th>\n",
              "      <td>1</td>\n",
              "      <td>Parched Peru is restoring pre-Incan dikes to s...</td>\n",
              "      <td>SAN PEDRO DE CASTA, Peru — On a mountainside h...</td>\n",
              "      <td>https://www.washingtonpost.com/world/2022/12/1...</td>\n",
              "      <td>eng</td>\n",
              "      <td>[san, pedro, de, casta, peru, —, mountainside,...</td>\n",
              "      <td>[507, 1471, 1032, 3194, 212, 6, 248, 212, 2, 2...</td>\n",
              "    </tr>\n",
              "  </tbody>\n",
              "</table>\n",
              "<p>151 rows × 7 columns</p>\n",
              "</div>\n",
              "      <button class=\"colab-df-convert\" onclick=\"convertToInteractive('df-0630a484-cbdb-469a-a928-5883fe9f332e')\"\n",
              "              title=\"Convert this dataframe to an interactive table.\"\n",
              "              style=\"display:none;\">\n",
              "        \n",
              "  <svg xmlns=\"http://www.w3.org/2000/svg\" height=\"24px\"viewBox=\"0 0 24 24\"\n",
              "       width=\"24px\">\n",
              "    <path d=\"M0 0h24v24H0V0z\" fill=\"none\"/>\n",
              "    <path d=\"M18.56 5.44l.94 2.06.94-2.06 2.06-.94-2.06-.94-.94-2.06-.94 2.06-2.06.94zm-11 1L8.5 8.5l.94-2.06 2.06-.94-2.06-.94L8.5 2.5l-.94 2.06-2.06.94zm10 10l.94 2.06.94-2.06 2.06-.94-2.06-.94-.94-2.06-.94 2.06-2.06.94z\"/><path d=\"M17.41 7.96l-1.37-1.37c-.4-.4-.92-.59-1.43-.59-.52 0-1.04.2-1.43.59L10.3 9.45l-7.72 7.72c-.78.78-.78 2.05 0 2.83L4 21.41c.39.39.9.59 1.41.59.51 0 1.02-.2 1.41-.59l7.78-7.78 2.81-2.81c.8-.78.8-2.07 0-2.86zM5.41 20L4 18.59l7.72-7.72 1.47 1.35L5.41 20z\"/>\n",
              "  </svg>\n",
              "      </button>\n",
              "      \n",
              "  <style>\n",
              "    .colab-df-container {\n",
              "      display:flex;\n",
              "      flex-wrap:wrap;\n",
              "      gap: 12px;\n",
              "    }\n",
              "\n",
              "    .colab-df-convert {\n",
              "      background-color: #E8F0FE;\n",
              "      border: none;\n",
              "      border-radius: 50%;\n",
              "      cursor: pointer;\n",
              "      display: none;\n",
              "      fill: #1967D2;\n",
              "      height: 32px;\n",
              "      padding: 0 0 0 0;\n",
              "      width: 32px;\n",
              "    }\n",
              "\n",
              "    .colab-df-convert:hover {\n",
              "      background-color: #E2EBFA;\n",
              "      box-shadow: 0px 1px 2px rgba(60, 64, 67, 0.3), 0px 1px 3px 1px rgba(60, 64, 67, 0.15);\n",
              "      fill: #174EA6;\n",
              "    }\n",
              "\n",
              "    [theme=dark] .colab-df-convert {\n",
              "      background-color: #3B4455;\n",
              "      fill: #D2E3FC;\n",
              "    }\n",
              "\n",
              "    [theme=dark] .colab-df-convert:hover {\n",
              "      background-color: #434B5C;\n",
              "      box-shadow: 0px 1px 3px 1px rgba(0, 0, 0, 0.15);\n",
              "      filter: drop-shadow(0px 1px 2px rgba(0, 0, 0, 0.3));\n",
              "      fill: #FFFFFF;\n",
              "    }\n",
              "  </style>\n",
              "\n",
              "      <script>\n",
              "        const buttonEl =\n",
              "          document.querySelector('#df-0630a484-cbdb-469a-a928-5883fe9f332e button.colab-df-convert');\n",
              "        buttonEl.style.display =\n",
              "          google.colab.kernel.accessAllowed ? 'block' : 'none';\n",
              "\n",
              "        async function convertToInteractive(key) {\n",
              "          const element = document.querySelector('#df-0630a484-cbdb-469a-a928-5883fe9f332e');\n",
              "          const dataTable =\n",
              "            await google.colab.kernel.invokeFunction('convertToInteractive',\n",
              "                                                     [key], {});\n",
              "          if (!dataTable) return;\n",
              "\n",
              "          const docLinkHtml = 'Like what you see? Visit the ' +\n",
              "            '<a target=\"_blank\" href=https://colab.research.google.com/notebooks/data_table.ipynb>data table notebook</a>'\n",
              "            + ' to learn more about interactive tables.';\n",
              "          element.innerHTML = '';\n",
              "          dataTable['output_type'] = 'display_data';\n",
              "          await google.colab.output.renderOutput(dataTable, element);\n",
              "          const docLink = document.createElement('div');\n",
              "          docLink.innerHTML = docLinkHtml;\n",
              "          element.appendChild(docLink);\n",
              "        }\n",
              "      </script>\n",
              "    </div>\n",
              "  </div>\n",
              "  "
            ]
          },
          "metadata": {},
          "execution_count": 18
        }
      ]
    },
    {
      "cell_type": "code",
      "source": [
        "test"
      ],
      "metadata": {
        "colab": {
          "base_uri": "https://localhost:8080/",
          "height": 1000
        },
        "id": "wr991Et_6YRQ",
        "outputId": "195f0380-883c-4b0b-ad4e-80a0b6bf363f"
      },
      "execution_count": null,
      "outputs": [
        {
          "output_type": "execute_result",
          "data": {
            "text/plain": [
              "     class                                              title  \\\n",
              "71       1  Renewables to overtake coal as world’s top ene...   \n",
              "77       0  Hong Kong demands Google bury protest song in ...   \n",
              "141      0  Look, no training wheels! Biden pretends to ge...   \n",
              "23       0                                Tsunamis Fast Facts   \n",
              "181      1  Tunisian parliamentary election records just 8...   \n",
              "134      0  Ministers will hold emergency Cobra meeting to...   \n",
              "133      0  Shocking moment woke Pennsylvania school board...   \n",
              "21       0  A Ukrainian photographer's love letter to his ...   \n",
              "84       0  Is chaos cooking a pathway to inner peace? Man...   \n",
              "129      0        Recent attacks on foreigners in Afghanistan   \n",
              "113      0  Make your own decorations! Eight cheap, easy a...   \n",
              "68       1  Japan to buy Tomahawk missiles in defense buil...   \n",
              "183      0  The schoolgirl getting the perfect Christmas p...   \n",
              "137      1  Biden shuts down suggestions he is sending U.S...   \n",
              "95       1  ‘No one will protect us’: how Haiti has become...   \n",
              "94       1  Peru president paves way for early elections a...   \n",
              "34       1  E.U. Roiled by Corruption Inquiry Linked to Qatar   \n",
              "107      1  ‘We are built differently’: Croatia relish sec...   \n",
              "166      1  Ukraine live briefing: Power restored to milli...   \n",
              "44       1  Belarus says it is checking its army’s combat ...   \n",
              "32       1  Snow and Cold Bring Parts of U.K. to a Standstill   \n",
              "7        1  Former US pilot held in Australia faces charge...   \n",
              "109      1  ‘I like big games’: Dominik Livakovic fired up...   \n",
              "155      1  Croatia beats Morocco in World Cup third-place...   \n",
              "140      0  Senate scrambles to avoid a shutdown by trying...   \n",
              "174      1  Iranian actor Taraneh Alidoosti arrested after...   \n",
              "61       1  Hong Kong eases covid restrictions for arrival...   \n",
              "14       1  Mark your calendar for the strongest meteor sh...   \n",
              "12       1  3 dead and foreign nationals injured after gun...   \n",
              "100      1  Ukraine calls for Patriot missiles to defend i...   \n",
              "70       1  Cause of death: Washington faltered as fentany...   \n",
              "148      0  Sweet moment father is reunited with his son i...   \n",
              "169      1  Angelina Jolie parts with U.N. refugee agency ...   \n",
              "150      1  Moscow appeals for army recruits to fight in U...   \n",
              "82       0  Gen Z came to ‘slay.’ Their bosses don’t know ...   \n",
              "81       0  Bankman-Fried bought D.C. influence by spendin...   \n",
              "58       0  2022 Review: How Republicans Lost Despite Winn...   \n",
              "92       1  Floods and landslides kill scores of people in...   \n",
              "\n",
              "                                                  text  \\\n",
              "71   The world is set to add as much renewable ener...   \n",
              "77   HONG KONG — U.S. tech giant Google is under in...   \n",
              "141  President Joe Biden tried out a child-sized bi...   \n",
              "23   Here is a look at tsunamis. Tsunamis are forme...   \n",
              "181  Tunisia has recorded the lowest electoral turn...   \n",
              "134  Plans for military staff and civil servants to...   \n",
              "133  A school treasurer in Pennsylvania has refused...   \n",
              "21   In a drone photograph by Yevhen Samuchenko, La...   \n",
              "84   Depending on her mood, Ethaney Lee is a chaoti...   \n",
              "129  KABUL, Dec 12 (Reuters) - The Taliban took bac...   \n",
              "113  Christmas can feel expensive, but adding a tou...   \n",
              "68   TOKYO — Alarmed by increasing security threats...   \n",
              "183  Thalia Coultas is getting the perfect Christma...   \n",
              "137  President Joe Biden on Monday shot down a repo...   \n",
              "95   As the news filtered through on 30 October tha...   \n",
              "94   Peru’s new president, Dina Boluarte, has annou...   \n",
              "34   BRUSSELS — As the Belgian authorities broadene...   \n",
              "107  It is quite a ridiculous idea. To come to the ...   \n",
              "166  Residents of major Ukrainian cities were diggi...   \n",
              "44   Belarus said on Tuesday that its army was asse...   \n",
              "32   LONDON — A coating of snow and ice on Sunday u...   \n",
              "7    Former US Marine pilot Daniel Duggan, who was ...   \n",
              "109  On the eve of Croatia’s crucial World Cup qual...   \n",
              "155  Croatia beat Morocco 2-1 in the third-place pl...   \n",
              "140  Senate Majority Leader Chuck Schumer of New Yo...   \n",
              "174  Taraneh Alidoosti, one of Iran’s most famous a...   \n",
              "61   After more than two years of rigid pandemic ru...   \n",
              "14   CNN — The best chance to see the strongest met...   \n",
              "12   Three people were killed and many others injur...   \n",
              "100  Ukraine has called for the west to supply Patr...   \n",
              "70   During the past seven years, as soaring quanti...   \n",
              "148  A heartwarming video shows a father and son re...   \n",
              "169  Angelina Jolie, perhaps the world’s most high-...   \n",
              "150  Moscow has begun a new campaign to encourage R...   \n",
              "82   When 24-year-old Mary Clare Wall read a messag...   \n",
              "81   Federal prosecutors charged Sam Bankman-Fried ...   \n",
              "58   Here’s a figure about the 2022 midterm electio...   \n",
              "92   At least 100 people have been killed and dozen...   \n",
              "\n",
              "                                                  link language  \\\n",
              "71   https://www.washingtonpost.com/world/2022/12/1...      eng   \n",
              "77   https://www.washingtonpost.com/world/2022/12/1...      eng   \n",
              "141  https://www.dailymail.co.uk/news/article-11530...      eng   \n",
              "23   https://edition.cnn.com/2013/08/20/world/tsuna...      eng   \n",
              "181  https://www.theguardian.com/world/2022/dec/17/...      eng   \n",
              "134  https://www.dailymail.co.uk/news/article-11528...      eng   \n",
              "133  https://www.dailymail.co.uk/news/article-11529...      eng   \n",
              "21   https://edition.cnn.com/style/article/yevhen-s...      eng   \n",
              "84   https://www.washingtonpost.com/food/2022/12/13...      eng   \n",
              "129  https://www.dailymail.co.uk/wires/reuters/arti...      eng   \n",
              "113  https://www.theguardian.com/lifeandstyle/2022/...      eng   \n",
              "68   https://www.washingtonpost.com/world/2022/12/1...      eng   \n",
              "183  https://www.dailymail.co.uk/news/article-11550...      eng   \n",
              "137  https://www.dailymail.co.uk/news/article-11529...      eng   \n",
              "95   https://www.theguardian.com/world/2022/dec/12/...      eng   \n",
              "94   https://www.theguardian.com/world/2022/dec/12/...      eng   \n",
              "34   https://www.nytimes.com/2022/12/12/world/europ...      eng   \n",
              "107  https://www.theguardian.com/football/2022/dec/...      eng   \n",
              "166  https://www.washingtonpost.com/world/2022/12/1...      eng   \n",
              "44   https://www.nytimes.com/2022/12/13/world/europ...      eng   \n",
              "32   https://www.nytimes.com/2022/12/12/world/europ...      eng   \n",
              "7    https://edition.cnn.com/2022/12/13/australia/d...      eng   \n",
              "109  https://www.theguardian.com/football/2022/dec/...      eng   \n",
              "155  https://edition.cnn.com/2022/12/17/football/cr...      eng   \n",
              "140  https://www.dailymail.co.uk/news/article-11530...      eng   \n",
              "174  https://www.theguardian.com/world/2022/dec/17/...      eng   \n",
              "61   https://www.washingtonpost.com/world/2022/12/1...      eng   \n",
              "14   https://edition.cnn.com/2022/12/13/world/gemin...      eng   \n",
              "12   https://edition.cnn.com/2022/12/12/asia/kabul-...      eng   \n",
              "100  https://www.theguardian.com/world/2022/dec/12/...      eng   \n",
              "70   https://www.washingtonpost.com/investigations/...      eng   \n",
              "148  https://www.dailymail.co.uk/news/article-11530...      eng   \n",
              "169  https://www.washingtonpost.com/world/2022/12/1...      eng   \n",
              "150  https://edition.cnn.com/2022/12/17/europe/mosc...      eng   \n",
              "82   https://www.washingtonpost.com/technology/2022...      eng   \n",
              "81   https://www.washingtonpost.com/technology/2022...      eng   \n",
              "58   https://www.nytimes.com/2022/12/13/upshot/2022...      eng   \n",
              "92   https://www.theguardian.com/world/2022/dec/13/...      eng   \n",
              "\n",
              "                                    Preprocessed_texts  \\\n",
              "71   [world, set, add, much, renewable, energy, nex...   \n",
              "77   [hong, kong, —, u.s., tech, giant, google, inc...   \n",
              "141  [president, joe, biden, tried, child-sized, bi...   \n",
              "23   [look, tsunamis, tsunamis, formed, displacemen...   \n",
              "181  [tunisia, recorded, lowest, electoral, turnout...   \n",
              "134  [plans, military, staff, civil, servants, cove...   \n",
              "133  [school, treasurer, pennsylvania, refused, vot...   \n",
              "21   [drone, photograph, yevhen, samuchenko, lake, ...   \n",
              "84   [depending, mood, ethaney, lee, chaotic, cook,...   \n",
              "129  [kabul, dec, 12, reuters, taliban, took, back,...   \n",
              "113  [christmas, feel, expensive, adding, touch, fe...   \n",
              "68   [tokyo, —, alarmed, increasing, security, thre...   \n",
              "183  [thalia, coultas, getting, perfect, christmas,...   \n",
              "137  [president, joe, biden, monday, shot, report, ...   \n",
              "95   [news, filtered, 30, october, another, reporte...   \n",
              "94   [peru, ’, new, president, dina, boluarte, anno...   \n",
              "34   [brussels, —, belgian, authorities, broadened,...   \n",
              "107  [quite, ridiculous, idea, come, world, cup, fo...   \n",
              "166  [residents, major, ukrainian, cities, digging,...   \n",
              "44   [belarus, said, tuesday, army, assessing, comb...   \n",
              "32   [london, —, coating, snow, ice, sunday, upende...   \n",
              "7    [former, us, marine, pilot, daniel, duggan, ar...   \n",
              "109  [eve, croatia, ’, crucial, world, cup, qualifi...   \n",
              "155  [croatia, beat, morocco, 2-1, third-place, pla...   \n",
              "140  [senate, majority, leader, chuck, schumer, new...   \n",
              "174  [taraneh, alidoosti, one, iran, ’, famous, act...   \n",
              "61   [two, years, rigid, pandemic, rules, arrivals,...   \n",
              "14   [cnn, —, best, chance, see, strongest, meteor,...   \n",
              "12   [three, people, killed, many, others, injured,...   \n",
              "100  [ukraine, called, west, supply, patriot, missi...   \n",
              "70   [past, seven, years, soaring, quantities, fent...   \n",
              "148  [heartwarming, video, shows, father, son, reun...   \n",
              "169  [angelina, jolie, perhaps, world, ’, high-prof...   \n",
              "150  [moscow, begun, new, campaign, encourage, russ...   \n",
              "82   [24-year-old, mary, clare, wall, read, message...   \n",
              "81   [federal, prosecutors, charged, sam, bankman-f...   \n",
              "58   [’, figure, 2022, midterm, elections, might, s...   \n",
              "92   [least, 100, people, killed, dozens, injured, ...   \n",
              "\n",
              "                                             Sequences  \n",
              "71   [24, 176, 999, 76, 2798, 71, 100, 297, 17, 107...  \n",
              "77   [378, 375, 6, 72, 376, 1420, 1347, 1486, 709, ...  \n",
              "141  [19, 1172, 83, 664, 4648, 37, 661, 108, 1052, ...  \n",
              "23   [301, 4113, 4113, 3474, 9453, 105, 2388, 1424,...  \n",
              "181  [4448, 1041, 3269, 2483, 1458, 99, 324, 19, 25...  \n",
              "134  [208, 43, 145, 1229, 3850, 886, 1456, 142, 345...  \n",
              "133  [398, 5762, 2024, 1679, 288, 8259, 8260, 253, ...  \n",
              "21   [1958, 2378, 9371, 2379, 163, 4952, 1863, 30, ...  \n",
              "84   [3546, 3380, 7738, 1248, 1688, 1161, 891, 51, ...  \n",
              "129  [1920, 2514, 457, 684, 3884, 204, 58, 234, 170...  \n",
              "113  [252, 464, 1502, 475, 2494, 1350, 3151, 4622, ...  \n",
              "68   [3482, 6, 1486, 121, 1206, 686, 53, 7376, 333,...  \n",
              "183  [2050, 3880, 793, 1751, 252, 1531, 12, 872, 31...  \n",
              "137  [19, 1172, 83, 37, 311, 254, 1828, 1708, 72, 4...  \n",
              "95   [91, 460, 364, 79, 1812, 441, 5807, 231, 2289,...  \n",
              "94   [212, 2, 13, 19, 1711, 331, 180, 208, 257, 743...  \n",
              "34   [1439, 6, 1440, 194, 9946, 335, 1111, 118, 178...  \n",
              "107  [1273, 915, 146, 24, 133, 144, 17, 218, 337, 9...  \n",
              "166  [347, 169, 95, 677, 4300, 80, 2648, 261, 1118,...  \n",
              "44   [832, 5, 81, 606, 6875, 1286, 3124, 257, 461, ...  \n",
              "32   [371, 6, 9878, 454, 1069, 139, 6578, 447, 646,...  \n",
              "7    [46, 32, 2900, 3950, 6139, 1380, 441, 197, 12,...  \n",
              "109  [2204, 570, 2, 3107, 24, 133, 25, 21, 240, 584...  \n",
              "155  [570, 1838, 423, 4602, 8466, 8219, 173, 220, 3...  \n",
              "140  [468, 1047, 380, 8328, 5939, 13, 312, 180, 37,...  \n",
              "174  [2048, 9, 241, 2, 2993, 1131, 1465, 121, 130, ...  \n",
              "61   [16, 17, 7284, 556, 401, 5473, 378, 375, 703, ...  \n",
              "14   [167, 6, 191, 872, 97, 6228, 1925, 1619, 12, 8...  \n",
              "12   [56, 7, 131, 27, 291, 755, 4001, 2608, 348, 19...  \n",
              "100  [14, 123, 265, 805, 1606, 115, 2592, 1217, 149...  \n",
              "70   [107, 604, 17, 3049, 7417, 295, 65, 75, 953, 3...  \n",
              "148  [8422, 425, 1078, 1062, 1236, 6541, 785, 609, ...  \n",
              "169  [5979, 1166, 1216, 24, 2, 2574, 5445, 993, 775...  \n",
              "150  [390, 1878, 13, 236, 2735, 1491, 6807, 863, 13...  \n",
              "82   [5085, 799, 1360, 930, 5, 2559, 8, 3, 4, 370, ...  \n",
              "81   [202, 775, 711, 1318, 159, 1112, 6146, 1073, 8...  \n",
              "58   [2, 2768, 183, 4387, 385, 242, 1739, 246, 42, ...  \n",
              "92   [168, 403, 7, 131, 1074, 755, 1007, 1857, 2147...  "
            ],
            "text/html": [
              "\n",
              "  <div id=\"df-4d0a2de1-e928-41ae-8eb9-a4ef09e10e78\">\n",
              "    <div class=\"colab-df-container\">\n",
              "      <div>\n",
              "<style scoped>\n",
              "    .dataframe tbody tr th:only-of-type {\n",
              "        vertical-align: middle;\n",
              "    }\n",
              "\n",
              "    .dataframe tbody tr th {\n",
              "        vertical-align: top;\n",
              "    }\n",
              "\n",
              "    .dataframe thead th {\n",
              "        text-align: right;\n",
              "    }\n",
              "</style>\n",
              "<table border=\"1\" class=\"dataframe\">\n",
              "  <thead>\n",
              "    <tr style=\"text-align: right;\">\n",
              "      <th></th>\n",
              "      <th>class</th>\n",
              "      <th>title</th>\n",
              "      <th>text</th>\n",
              "      <th>link</th>\n",
              "      <th>language</th>\n",
              "      <th>Preprocessed_texts</th>\n",
              "      <th>Sequences</th>\n",
              "    </tr>\n",
              "  </thead>\n",
              "  <tbody>\n",
              "    <tr>\n",
              "      <th>71</th>\n",
              "      <td>1</td>\n",
              "      <td>Renewables to overtake coal as world’s top ene...</td>\n",
              "      <td>The world is set to add as much renewable ener...</td>\n",
              "      <td>https://www.washingtonpost.com/world/2022/12/1...</td>\n",
              "      <td>eng</td>\n",
              "      <td>[world, set, add, much, renewable, energy, nex...</td>\n",
              "      <td>[24, 176, 999, 76, 2798, 71, 100, 297, 17, 107...</td>\n",
              "    </tr>\n",
              "    <tr>\n",
              "      <th>77</th>\n",
              "      <td>0</td>\n",
              "      <td>Hong Kong demands Google bury protest song in ...</td>\n",
              "      <td>HONG KONG — U.S. tech giant Google is under in...</td>\n",
              "      <td>https://www.washingtonpost.com/world/2022/12/1...</td>\n",
              "      <td>eng</td>\n",
              "      <td>[hong, kong, —, u.s., tech, giant, google, inc...</td>\n",
              "      <td>[378, 375, 6, 72, 376, 1420, 1347, 1486, 709, ...</td>\n",
              "    </tr>\n",
              "    <tr>\n",
              "      <th>141</th>\n",
              "      <td>0</td>\n",
              "      <td>Look, no training wheels! Biden pretends to ge...</td>\n",
              "      <td>President Joe Biden tried out a child-sized bi...</td>\n",
              "      <td>https://www.dailymail.co.uk/news/article-11530...</td>\n",
              "      <td>eng</td>\n",
              "      <td>[president, joe, biden, tried, child-sized, bi...</td>\n",
              "      <td>[19, 1172, 83, 664, 4648, 37, 661, 108, 1052, ...</td>\n",
              "    </tr>\n",
              "    <tr>\n",
              "      <th>23</th>\n",
              "      <td>0</td>\n",
              "      <td>Tsunamis Fast Facts</td>\n",
              "      <td>Here is a look at tsunamis. Tsunamis are forme...</td>\n",
              "      <td>https://edition.cnn.com/2013/08/20/world/tsuna...</td>\n",
              "      <td>eng</td>\n",
              "      <td>[look, tsunamis, tsunamis, formed, displacemen...</td>\n",
              "      <td>[301, 4113, 4113, 3474, 9453, 105, 2388, 1424,...</td>\n",
              "    </tr>\n",
              "    <tr>\n",
              "      <th>181</th>\n",
              "      <td>1</td>\n",
              "      <td>Tunisian parliamentary election records just 8...</td>\n",
              "      <td>Tunisia has recorded the lowest electoral turn...</td>\n",
              "      <td>https://www.theguardian.com/world/2022/dec/17/...</td>\n",
              "      <td>eng</td>\n",
              "      <td>[tunisia, recorded, lowest, electoral, turnout...</td>\n",
              "      <td>[4448, 1041, 3269, 2483, 1458, 99, 324, 19, 25...</td>\n",
              "    </tr>\n",
              "    <tr>\n",
              "      <th>134</th>\n",
              "      <td>0</td>\n",
              "      <td>Ministers will hold emergency Cobra meeting to...</td>\n",
              "      <td>Plans for military staff and civil servants to...</td>\n",
              "      <td>https://www.dailymail.co.uk/news/article-11528...</td>\n",
              "      <td>eng</td>\n",
              "      <td>[plans, military, staff, civil, servants, cove...</td>\n",
              "      <td>[208, 43, 145, 1229, 3850, 886, 1456, 142, 345...</td>\n",
              "    </tr>\n",
              "    <tr>\n",
              "      <th>133</th>\n",
              "      <td>0</td>\n",
              "      <td>Shocking moment woke Pennsylvania school board...</td>\n",
              "      <td>A school treasurer in Pennsylvania has refused...</td>\n",
              "      <td>https://www.dailymail.co.uk/news/article-11529...</td>\n",
              "      <td>eng</td>\n",
              "      <td>[school, treasurer, pennsylvania, refused, vot...</td>\n",
              "      <td>[398, 5762, 2024, 1679, 288, 8259, 8260, 253, ...</td>\n",
              "    </tr>\n",
              "    <tr>\n",
              "      <th>21</th>\n",
              "      <td>0</td>\n",
              "      <td>A Ukrainian photographer's love letter to his ...</td>\n",
              "      <td>In a drone photograph by Yevhen Samuchenko, La...</td>\n",
              "      <td>https://edition.cnn.com/style/article/yevhen-s...</td>\n",
              "      <td>eng</td>\n",
              "      <td>[drone, photograph, yevhen, samuchenko, lake, ...</td>\n",
              "      <td>[1958, 2378, 9371, 2379, 163, 4952, 1863, 30, ...</td>\n",
              "    </tr>\n",
              "    <tr>\n",
              "      <th>84</th>\n",
              "      <td>0</td>\n",
              "      <td>Is chaos cooking a pathway to inner peace? Man...</td>\n",
              "      <td>Depending on her mood, Ethaney Lee is a chaoti...</td>\n",
              "      <td>https://www.washingtonpost.com/food/2022/12/13...</td>\n",
              "      <td>eng</td>\n",
              "      <td>[depending, mood, ethaney, lee, chaotic, cook,...</td>\n",
              "      <td>[3546, 3380, 7738, 1248, 1688, 1161, 891, 51, ...</td>\n",
              "    </tr>\n",
              "    <tr>\n",
              "      <th>129</th>\n",
              "      <td>0</td>\n",
              "      <td>Recent attacks on foreigners in Afghanistan</td>\n",
              "      <td>KABUL, Dec 12 (Reuters) - The Taliban took bac...</td>\n",
              "      <td>https://www.dailymail.co.uk/wires/reuters/arti...</td>\n",
              "      <td>eng</td>\n",
              "      <td>[kabul, dec, 12, reuters, taliban, took, back,...</td>\n",
              "      <td>[1920, 2514, 457, 684, 3884, 204, 58, 234, 170...</td>\n",
              "    </tr>\n",
              "    <tr>\n",
              "      <th>113</th>\n",
              "      <td>0</td>\n",
              "      <td>Make your own decorations! Eight cheap, easy a...</td>\n",
              "      <td>Christmas can feel expensive, but adding a tou...</td>\n",
              "      <td>https://www.theguardian.com/lifeandstyle/2022/...</td>\n",
              "      <td>eng</td>\n",
              "      <td>[christmas, feel, expensive, adding, touch, fe...</td>\n",
              "      <td>[252, 464, 1502, 475, 2494, 1350, 3151, 4622, ...</td>\n",
              "    </tr>\n",
              "    <tr>\n",
              "      <th>68</th>\n",
              "      <td>1</td>\n",
              "      <td>Japan to buy Tomahawk missiles in defense buil...</td>\n",
              "      <td>TOKYO — Alarmed by increasing security threats...</td>\n",
              "      <td>https://www.washingtonpost.com/world/2022/12/1...</td>\n",
              "      <td>eng</td>\n",
              "      <td>[tokyo, —, alarmed, increasing, security, thre...</td>\n",
              "      <td>[3482, 6, 1486, 121, 1206, 686, 53, 7376, 333,...</td>\n",
              "    </tr>\n",
              "    <tr>\n",
              "      <th>183</th>\n",
              "      <td>0</td>\n",
              "      <td>The schoolgirl getting the perfect Christmas p...</td>\n",
              "      <td>Thalia Coultas is getting the perfect Christma...</td>\n",
              "      <td>https://www.dailymail.co.uk/news/article-11550...</td>\n",
              "      <td>eng</td>\n",
              "      <td>[thalia, coultas, getting, perfect, christmas,...</td>\n",
              "      <td>[2050, 3880, 793, 1751, 252, 1531, 12, 872, 31...</td>\n",
              "    </tr>\n",
              "    <tr>\n",
              "      <th>137</th>\n",
              "      <td>1</td>\n",
              "      <td>Biden shuts down suggestions he is sending U.S...</td>\n",
              "      <td>President Joe Biden on Monday shot down a repo...</td>\n",
              "      <td>https://www.dailymail.co.uk/news/article-11529...</td>\n",
              "      <td>eng</td>\n",
              "      <td>[president, joe, biden, monday, shot, report, ...</td>\n",
              "      <td>[19, 1172, 83, 37, 311, 254, 1828, 1708, 72, 4...</td>\n",
              "    </tr>\n",
              "    <tr>\n",
              "      <th>95</th>\n",
              "      <td>1</td>\n",
              "      <td>‘No one will protect us’: how Haiti has become...</td>\n",
              "      <td>As the news filtered through on 30 October tha...</td>\n",
              "      <td>https://www.theguardian.com/world/2022/dec/12/...</td>\n",
              "      <td>eng</td>\n",
              "      <td>[news, filtered, 30, october, another, reporte...</td>\n",
              "      <td>[91, 460, 364, 79, 1812, 441, 5807, 231, 2289,...</td>\n",
              "    </tr>\n",
              "    <tr>\n",
              "      <th>94</th>\n",
              "      <td>1</td>\n",
              "      <td>Peru president paves way for early elections a...</td>\n",
              "      <td>Peru’s new president, Dina Boluarte, has annou...</td>\n",
              "      <td>https://www.theguardian.com/world/2022/dec/12/...</td>\n",
              "      <td>eng</td>\n",
              "      <td>[peru, ’, new, president, dina, boluarte, anno...</td>\n",
              "      <td>[212, 2, 13, 19, 1711, 331, 180, 208, 257, 743...</td>\n",
              "    </tr>\n",
              "    <tr>\n",
              "      <th>34</th>\n",
              "      <td>1</td>\n",
              "      <td>E.U. Roiled by Corruption Inquiry Linked to Qatar</td>\n",
              "      <td>BRUSSELS — As the Belgian authorities broadene...</td>\n",
              "      <td>https://www.nytimes.com/2022/12/12/world/europ...</td>\n",
              "      <td>eng</td>\n",
              "      <td>[brussels, —, belgian, authorities, broadened,...</td>\n",
              "      <td>[1439, 6, 1440, 194, 9946, 335, 1111, 118, 178...</td>\n",
              "    </tr>\n",
              "    <tr>\n",
              "      <th>107</th>\n",
              "      <td>1</td>\n",
              "      <td>‘We are built differently’: Croatia relish sec...</td>\n",
              "      <td>It is quite a ridiculous idea. To come to the ...</td>\n",
              "      <td>https://www.theguardian.com/football/2022/dec/...</td>\n",
              "      <td>eng</td>\n",
              "      <td>[quite, ridiculous, idea, come, world, cup, fo...</td>\n",
              "      <td>[1273, 915, 146, 24, 133, 144, 17, 218, 337, 9...</td>\n",
              "    </tr>\n",
              "    <tr>\n",
              "      <th>166</th>\n",
              "      <td>1</td>\n",
              "      <td>Ukraine live briefing: Power restored to milli...</td>\n",
              "      <td>Residents of major Ukrainian cities were diggi...</td>\n",
              "      <td>https://www.washingtonpost.com/world/2022/12/1...</td>\n",
              "      <td>eng</td>\n",
              "      <td>[residents, major, ukrainian, cities, digging,...</td>\n",
              "      <td>[347, 169, 95, 677, 4300, 80, 2648, 261, 1118,...</td>\n",
              "    </tr>\n",
              "    <tr>\n",
              "      <th>44</th>\n",
              "      <td>1</td>\n",
              "      <td>Belarus says it is checking its army’s combat ...</td>\n",
              "      <td>Belarus said on Tuesday that its army was asse...</td>\n",
              "      <td>https://www.nytimes.com/2022/12/13/world/europ...</td>\n",
              "      <td>eng</td>\n",
              "      <td>[belarus, said, tuesday, army, assessing, comb...</td>\n",
              "      <td>[832, 5, 81, 606, 6875, 1286, 3124, 257, 461, ...</td>\n",
              "    </tr>\n",
              "    <tr>\n",
              "      <th>32</th>\n",
              "      <td>1</td>\n",
              "      <td>Snow and Cold Bring Parts of U.K. to a Standstill</td>\n",
              "      <td>LONDON — A coating of snow and ice on Sunday u...</td>\n",
              "      <td>https://www.nytimes.com/2022/12/12/world/europ...</td>\n",
              "      <td>eng</td>\n",
              "      <td>[london, —, coating, snow, ice, sunday, upende...</td>\n",
              "      <td>[371, 6, 9878, 454, 1069, 139, 6578, 447, 646,...</td>\n",
              "    </tr>\n",
              "    <tr>\n",
              "      <th>7</th>\n",
              "      <td>1</td>\n",
              "      <td>Former US pilot held in Australia faces charge...</td>\n",
              "      <td>Former US Marine pilot Daniel Duggan, who was ...</td>\n",
              "      <td>https://edition.cnn.com/2022/12/13/australia/d...</td>\n",
              "      <td>eng</td>\n",
              "      <td>[former, us, marine, pilot, daniel, duggan, ar...</td>\n",
              "      <td>[46, 32, 2900, 3950, 6139, 1380, 441, 197, 12,...</td>\n",
              "    </tr>\n",
              "    <tr>\n",
              "      <th>109</th>\n",
              "      <td>1</td>\n",
              "      <td>‘I like big games’: Dominik Livakovic fired up...</td>\n",
              "      <td>On the eve of Croatia’s crucial World Cup qual...</td>\n",
              "      <td>https://www.theguardian.com/football/2022/dec/...</td>\n",
              "      <td>eng</td>\n",
              "      <td>[eve, croatia, ’, crucial, world, cup, qualifi...</td>\n",
              "      <td>[2204, 570, 2, 3107, 24, 133, 25, 21, 240, 584...</td>\n",
              "    </tr>\n",
              "    <tr>\n",
              "      <th>155</th>\n",
              "      <td>1</td>\n",
              "      <td>Croatia beats Morocco in World Cup third-place...</td>\n",
              "      <td>Croatia beat Morocco 2-1 in the third-place pl...</td>\n",
              "      <td>https://edition.cnn.com/2022/12/17/football/cr...</td>\n",
              "      <td>eng</td>\n",
              "      <td>[croatia, beat, morocco, 2-1, third-place, pla...</td>\n",
              "      <td>[570, 1838, 423, 4602, 8466, 8219, 173, 220, 3...</td>\n",
              "    </tr>\n",
              "    <tr>\n",
              "      <th>140</th>\n",
              "      <td>0</td>\n",
              "      <td>Senate scrambles to avoid a shutdown by trying...</td>\n",
              "      <td>Senate Majority Leader Chuck Schumer of New Yo...</td>\n",
              "      <td>https://www.dailymail.co.uk/news/article-11530...</td>\n",
              "      <td>eng</td>\n",
              "      <td>[senate, majority, leader, chuck, schumer, new...</td>\n",
              "      <td>[468, 1047, 380, 8328, 5939, 13, 312, 180, 37,...</td>\n",
              "    </tr>\n",
              "    <tr>\n",
              "      <th>174</th>\n",
              "      <td>1</td>\n",
              "      <td>Iranian actor Taraneh Alidoosti arrested after...</td>\n",
              "      <td>Taraneh Alidoosti, one of Iran’s most famous a...</td>\n",
              "      <td>https://www.theguardian.com/world/2022/dec/17/...</td>\n",
              "      <td>eng</td>\n",
              "      <td>[taraneh, alidoosti, one, iran, ’, famous, act...</td>\n",
              "      <td>[2048, 9, 241, 2, 2993, 1131, 1465, 121, 130, ...</td>\n",
              "    </tr>\n",
              "    <tr>\n",
              "      <th>61</th>\n",
              "      <td>1</td>\n",
              "      <td>Hong Kong eases covid restrictions for arrival...</td>\n",
              "      <td>After more than two years of rigid pandemic ru...</td>\n",
              "      <td>https://www.washingtonpost.com/world/2022/12/1...</td>\n",
              "      <td>eng</td>\n",
              "      <td>[two, years, rigid, pandemic, rules, arrivals,...</td>\n",
              "      <td>[16, 17, 7284, 556, 401, 5473, 378, 375, 703, ...</td>\n",
              "    </tr>\n",
              "    <tr>\n",
              "      <th>14</th>\n",
              "      <td>1</td>\n",
              "      <td>Mark your calendar for the strongest meteor sh...</td>\n",
              "      <td>CNN — The best chance to see the strongest met...</td>\n",
              "      <td>https://edition.cnn.com/2022/12/13/world/gemin...</td>\n",
              "      <td>eng</td>\n",
              "      <td>[cnn, —, best, chance, see, strongest, meteor,...</td>\n",
              "      <td>[167, 6, 191, 872, 97, 6228, 1925, 1619, 12, 8...</td>\n",
              "    </tr>\n",
              "    <tr>\n",
              "      <th>12</th>\n",
              "      <td>1</td>\n",
              "      <td>3 dead and foreign nationals injured after gun...</td>\n",
              "      <td>Three people were killed and many others injur...</td>\n",
              "      <td>https://edition.cnn.com/2022/12/12/asia/kabul-...</td>\n",
              "      <td>eng</td>\n",
              "      <td>[three, people, killed, many, others, injured,...</td>\n",
              "      <td>[56, 7, 131, 27, 291, 755, 4001, 2608, 348, 19...</td>\n",
              "    </tr>\n",
              "    <tr>\n",
              "      <th>100</th>\n",
              "      <td>1</td>\n",
              "      <td>Ukraine calls for Patriot missiles to defend i...</td>\n",
              "      <td>Ukraine has called for the west to supply Patr...</td>\n",
              "      <td>https://www.theguardian.com/world/2022/dec/12/...</td>\n",
              "      <td>eng</td>\n",
              "      <td>[ukraine, called, west, supply, patriot, missi...</td>\n",
              "      <td>[14, 123, 265, 805, 1606, 115, 2592, 1217, 149...</td>\n",
              "    </tr>\n",
              "    <tr>\n",
              "      <th>70</th>\n",
              "      <td>1</td>\n",
              "      <td>Cause of death: Washington faltered as fentany...</td>\n",
              "      <td>During the past seven years, as soaring quanti...</td>\n",
              "      <td>https://www.washingtonpost.com/investigations/...</td>\n",
              "      <td>eng</td>\n",
              "      <td>[past, seven, years, soaring, quantities, fent...</td>\n",
              "      <td>[107, 604, 17, 3049, 7417, 295, 65, 75, 953, 3...</td>\n",
              "    </tr>\n",
              "    <tr>\n",
              "      <th>148</th>\n",
              "      <td>0</td>\n",
              "      <td>Sweet moment father is reunited with his son i...</td>\n",
              "      <td>A heartwarming video shows a father and son re...</td>\n",
              "      <td>https://www.dailymail.co.uk/news/article-11530...</td>\n",
              "      <td>eng</td>\n",
              "      <td>[heartwarming, video, shows, father, son, reun...</td>\n",
              "      <td>[8422, 425, 1078, 1062, 1236, 6541, 785, 609, ...</td>\n",
              "    </tr>\n",
              "    <tr>\n",
              "      <th>169</th>\n",
              "      <td>1</td>\n",
              "      <td>Angelina Jolie parts with U.N. refugee agency ...</td>\n",
              "      <td>Angelina Jolie, perhaps the world’s most high-...</td>\n",
              "      <td>https://www.washingtonpost.com/world/2022/12/1...</td>\n",
              "      <td>eng</td>\n",
              "      <td>[angelina, jolie, perhaps, world, ’, high-prof...</td>\n",
              "      <td>[5979, 1166, 1216, 24, 2, 2574, 5445, 993, 775...</td>\n",
              "    </tr>\n",
              "    <tr>\n",
              "      <th>150</th>\n",
              "      <td>1</td>\n",
              "      <td>Moscow appeals for army recruits to fight in U...</td>\n",
              "      <td>Moscow has begun a new campaign to encourage R...</td>\n",
              "      <td>https://edition.cnn.com/2022/12/17/europe/mosc...</td>\n",
              "      <td>eng</td>\n",
              "      <td>[moscow, begun, new, campaign, encourage, russ...</td>\n",
              "      <td>[390, 1878, 13, 236, 2735, 1491, 6807, 863, 13...</td>\n",
              "    </tr>\n",
              "    <tr>\n",
              "      <th>82</th>\n",
              "      <td>0</td>\n",
              "      <td>Gen Z came to ‘slay.’ Their bosses don’t know ...</td>\n",
              "      <td>When 24-year-old Mary Clare Wall read a messag...</td>\n",
              "      <td>https://www.washingtonpost.com/technology/2022...</td>\n",
              "      <td>eng</td>\n",
              "      <td>[24-year-old, mary, clare, wall, read, message...</td>\n",
              "      <td>[5085, 799, 1360, 930, 5, 2559, 8, 3, 4, 370, ...</td>\n",
              "    </tr>\n",
              "    <tr>\n",
              "      <th>81</th>\n",
              "      <td>0</td>\n",
              "      <td>Bankman-Fried bought D.C. influence by spendin...</td>\n",
              "      <td>Federal prosecutors charged Sam Bankman-Fried ...</td>\n",
              "      <td>https://www.washingtonpost.com/technology/2022...</td>\n",
              "      <td>eng</td>\n",
              "      <td>[federal, prosecutors, charged, sam, bankman-f...</td>\n",
              "      <td>[202, 775, 711, 1318, 159, 1112, 6146, 1073, 8...</td>\n",
              "    </tr>\n",
              "    <tr>\n",
              "      <th>58</th>\n",
              "      <td>0</td>\n",
              "      <td>2022 Review: How Republicans Lost Despite Winn...</td>\n",
              "      <td>Here’s a figure about the 2022 midterm electio...</td>\n",
              "      <td>https://www.nytimes.com/2022/12/13/upshot/2022...</td>\n",
              "      <td>eng</td>\n",
              "      <td>[’, figure, 2022, midterm, elections, might, s...</td>\n",
              "      <td>[2, 2768, 183, 4387, 385, 242, 1739, 246, 42, ...</td>\n",
              "    </tr>\n",
              "    <tr>\n",
              "      <th>92</th>\n",
              "      <td>1</td>\n",
              "      <td>Floods and landslides kill scores of people in...</td>\n",
              "      <td>At least 100 people have been killed and dozen...</td>\n",
              "      <td>https://www.theguardian.com/world/2022/dec/13/...</td>\n",
              "      <td>eng</td>\n",
              "      <td>[least, 100, people, killed, dozens, injured, ...</td>\n",
              "      <td>[168, 403, 7, 131, 1074, 755, 1007, 1857, 2147...</td>\n",
              "    </tr>\n",
              "  </tbody>\n",
              "</table>\n",
              "</div>\n",
              "      <button class=\"colab-df-convert\" onclick=\"convertToInteractive('df-4d0a2de1-e928-41ae-8eb9-a4ef09e10e78')\"\n",
              "              title=\"Convert this dataframe to an interactive table.\"\n",
              "              style=\"display:none;\">\n",
              "        \n",
              "  <svg xmlns=\"http://www.w3.org/2000/svg\" height=\"24px\"viewBox=\"0 0 24 24\"\n",
              "       width=\"24px\">\n",
              "    <path d=\"M0 0h24v24H0V0z\" fill=\"none\"/>\n",
              "    <path d=\"M18.56 5.44l.94 2.06.94-2.06 2.06-.94-2.06-.94-.94-2.06-.94 2.06-2.06.94zm-11 1L8.5 8.5l.94-2.06 2.06-.94-2.06-.94L8.5 2.5l-.94 2.06-2.06.94zm10 10l.94 2.06.94-2.06 2.06-.94-2.06-.94-.94-2.06-.94 2.06-2.06.94z\"/><path d=\"M17.41 7.96l-1.37-1.37c-.4-.4-.92-.59-1.43-.59-.52 0-1.04.2-1.43.59L10.3 9.45l-7.72 7.72c-.78.78-.78 2.05 0 2.83L4 21.41c.39.39.9.59 1.41.59.51 0 1.02-.2 1.41-.59l7.78-7.78 2.81-2.81c.8-.78.8-2.07 0-2.86zM5.41 20L4 18.59l7.72-7.72 1.47 1.35L5.41 20z\"/>\n",
              "  </svg>\n",
              "      </button>\n",
              "      \n",
              "  <style>\n",
              "    .colab-df-container {\n",
              "      display:flex;\n",
              "      flex-wrap:wrap;\n",
              "      gap: 12px;\n",
              "    }\n",
              "\n",
              "    .colab-df-convert {\n",
              "      background-color: #E8F0FE;\n",
              "      border: none;\n",
              "      border-radius: 50%;\n",
              "      cursor: pointer;\n",
              "      display: none;\n",
              "      fill: #1967D2;\n",
              "      height: 32px;\n",
              "      padding: 0 0 0 0;\n",
              "      width: 32px;\n",
              "    }\n",
              "\n",
              "    .colab-df-convert:hover {\n",
              "      background-color: #E2EBFA;\n",
              "      box-shadow: 0px 1px 2px rgba(60, 64, 67, 0.3), 0px 1px 3px 1px rgba(60, 64, 67, 0.15);\n",
              "      fill: #174EA6;\n",
              "    }\n",
              "\n",
              "    [theme=dark] .colab-df-convert {\n",
              "      background-color: #3B4455;\n",
              "      fill: #D2E3FC;\n",
              "    }\n",
              "\n",
              "    [theme=dark] .colab-df-convert:hover {\n",
              "      background-color: #434B5C;\n",
              "      box-shadow: 0px 1px 3px 1px rgba(0, 0, 0, 0.15);\n",
              "      filter: drop-shadow(0px 1px 2px rgba(0, 0, 0, 0.3));\n",
              "      fill: #FFFFFF;\n",
              "    }\n",
              "  </style>\n",
              "\n",
              "      <script>\n",
              "        const buttonEl =\n",
              "          document.querySelector('#df-4d0a2de1-e928-41ae-8eb9-a4ef09e10e78 button.colab-df-convert');\n",
              "        buttonEl.style.display =\n",
              "          google.colab.kernel.accessAllowed ? 'block' : 'none';\n",
              "\n",
              "        async function convertToInteractive(key) {\n",
              "          const element = document.querySelector('#df-4d0a2de1-e928-41ae-8eb9-a4ef09e10e78');\n",
              "          const dataTable =\n",
              "            await google.colab.kernel.invokeFunction('convertToInteractive',\n",
              "                                                     [key], {});\n",
              "          if (!dataTable) return;\n",
              "\n",
              "          const docLinkHtml = 'Like what you see? Visit the ' +\n",
              "            '<a target=\"_blank\" href=https://colab.research.google.com/notebooks/data_table.ipynb>data table notebook</a>'\n",
              "            + ' to learn more about interactive tables.';\n",
              "          element.innerHTML = '';\n",
              "          dataTable['output_type'] = 'display_data';\n",
              "          await google.colab.output.renderOutput(dataTable, element);\n",
              "          const docLink = document.createElement('div');\n",
              "          docLink.innerHTML = docLinkHtml;\n",
              "          element.appendChild(docLink);\n",
              "        }\n",
              "      </script>\n",
              "    </div>\n",
              "  </div>\n",
              "  "
            ]
          },
          "metadata": {},
          "execution_count": 19
        }
      ]
    },
    {
      "cell_type": "markdown",
      "source": [
        "## Разделяем метки классов и данные для обучения"
      ],
      "metadata": {
        "id": "K5G9ClI46hTl"
      }
    },
    {
      "cell_type": "markdown",
      "source": [
        "Данные для обучения"
      ],
      "metadata": {
        "id": "iX8Z-rFo6oYt"
      }
    },
    {
      "cell_type": "code",
      "source": [
        "x_train = train['Sequences']\n",
        "y_train = train['class']"
      ],
      "metadata": {
        "id": "RlpfWyHI6phL"
      },
      "execution_count": null,
      "outputs": []
    },
    {
      "cell_type": "code",
      "source": [
        "x_train"
      ],
      "metadata": {
        "colab": {
          "base_uri": "https://localhost:8080/"
        },
        "id": "D03BOlqL7mvJ",
        "outputId": "7e692e1b-c2e2-4154-95e7-73e2393af070"
      },
      "execution_count": null,
      "outputs": [
        {
          "output_type": "execute_result",
          "data": {
            "text/plain": [
              "20     [9308, 9309, 167, 2141, 6397, 227, 74, 419, 49...\n",
              "80     [78, 7665, 323, 325, 720, 20, 2, 376, 639, 797...\n",
              "8      [110, 220, 19, 927, 2307, 257, 346, 1907, 6153...\n",
              "93     [1236, 3135, 928, 4580, 297, 17, 388, 753, 449...\n",
              "119    [13, 3218, 2107, 648, 2014, 629, 356, 1438, 93...\n",
              "                             ...                        \n",
              "83     [799, 623, 1189, 37, 1291, 5707, 2800, 6, 787,...\n",
              "1      [55, 470, 527, 1259, 4695, 6038, 3292, 708, 15...\n",
              "13     [3339, 167, 6, 16, 29, 161, 311, 742, 4815, 23...\n",
              "122    [809, 71, 2468, 349, 2499, 389, 438, 70, 16, 2...\n",
              "67     [507, 1471, 1032, 3194, 212, 6, 248, 212, 2, 2...\n",
              "Name: Sequences, Length: 151, dtype: object"
            ]
          },
          "metadata": {},
          "execution_count": 21
        }
      ]
    },
    {
      "cell_type": "markdown",
      "source": [
        "!!! Ограничиваем длину новостных сообщений"
      ],
      "metadata": {
        "id": "oy4wG7DBcCrI"
      }
    },
    {
      "cell_type": "code",
      "source": [
        "x_train = pad_sequences(x_train, maxlen=max_news_len)"
      ],
      "metadata": {
        "id": "8ipgJZG8efGB"
      },
      "execution_count": null,
      "outputs": []
    },
    {
      "cell_type": "code",
      "source": [
        "x_train"
      ],
      "metadata": {
        "colab": {
          "base_uri": "https://localhost:8080/"
        },
        "id": "045N759qfYJu",
        "outputId": "8b3a8ea8-9fc1-42b1-82c4-f208f813d609"
      },
      "execution_count": null,
      "outputs": [
        {
          "output_type": "execute_result",
          "data": {
            "text/plain": [
              "array([[4087,  995, 9345, ..., 1519, 4092,   31],\n",
              "       [2813,  513,  639, ...,  299,  376,  639],\n",
              "       [   0,    0,    0, ..., 1600,  235,  178],\n",
              "       ...,\n",
              "       [   0,    0,    0, ...,   23,    4,    5],\n",
              "       [   0,    0,    0, ..., 2793,   66, 1320],\n",
              "       [ 302,  152,  157, ...,  345,   58,    4]], dtype=int32)"
            ]
          },
          "metadata": {},
          "execution_count": 23
        }
      ]
    },
    {
      "cell_type": "code",
      "source": [
        "y_train"
      ],
      "metadata": {
        "colab": {
          "base_uri": "https://localhost:8080/"
        },
        "id": "afx_Q6Tv7q3v",
        "outputId": "1470b34a-2677-4be5-d9e3-214925ff63f1"
      },
      "execution_count": null,
      "outputs": [
        {
          "output_type": "execute_result",
          "data": {
            "text/plain": [
              "20     0\n",
              "80     0\n",
              "8      1\n",
              "93     1\n",
              "119    0\n",
              "      ..\n",
              "83     0\n",
              "1      1\n",
              "13     1\n",
              "122    0\n",
              "67     1\n",
              "Name: class, Length: 151, dtype: int64"
            ]
          },
          "metadata": {},
          "execution_count": 24
        }
      ]
    },
    {
      "cell_type": "markdown",
      "source": [
        "!!! Выделяем правильные ответы (преобразуем в формат one hot encoding)"
      ],
      "metadata": {
        "id": "NA4gH4vJSmm2"
      }
    },
    {
      "cell_type": "code",
      "source": [
        "y_train = utils.to_categorical(y_train, nb_classes)"
      ],
      "metadata": {
        "id": "MY7SEKHhSq4y"
      },
      "execution_count": null,
      "outputs": []
    },
    {
      "cell_type": "code",
      "source": [
        "y_train"
      ],
      "metadata": {
        "colab": {
          "base_uri": "https://localhost:8080/"
        },
        "id": "zpaX39chTKbB",
        "outputId": "f57e14c7-66d6-400b-f14f-e09b1799c729"
      },
      "execution_count": null,
      "outputs": [
        {
          "output_type": "execute_result",
          "data": {
            "text/plain": [
              "array([[1., 0.],\n",
              "       [1., 0.],\n",
              "       [0., 1.],\n",
              "       [0., 1.],\n",
              "       [1., 0.],\n",
              "       [1., 0.],\n",
              "       [1., 0.],\n",
              "       [1., 0.],\n",
              "       [1., 0.],\n",
              "       [1., 0.],\n",
              "       [1., 0.],\n",
              "       [0., 1.],\n",
              "       [0., 1.],\n",
              "       [1., 0.],\n",
              "       [1., 0.],\n",
              "       [1., 0.],\n",
              "       [0., 1.],\n",
              "       [0., 1.],\n",
              "       [1., 0.],\n",
              "       [0., 1.],\n",
              "       [0., 1.],\n",
              "       [0., 1.],\n",
              "       [0., 1.],\n",
              "       [0., 1.],\n",
              "       [1., 0.],\n",
              "       [1., 0.],\n",
              "       [1., 0.],\n",
              "       [1., 0.],\n",
              "       [0., 1.],\n",
              "       [0., 1.],\n",
              "       [1., 0.],\n",
              "       [1., 0.],\n",
              "       [1., 0.],\n",
              "       [1., 0.],\n",
              "       [1., 0.],\n",
              "       [1., 0.],\n",
              "       [1., 0.],\n",
              "       [0., 1.],\n",
              "       [1., 0.],\n",
              "       [1., 0.],\n",
              "       [0., 1.],\n",
              "       [0., 1.],\n",
              "       [0., 1.],\n",
              "       [1., 0.],\n",
              "       [1., 0.],\n",
              "       [0., 1.],\n",
              "       [1., 0.],\n",
              "       [0., 1.],\n",
              "       [0., 1.],\n",
              "       [1., 0.],\n",
              "       [1., 0.],\n",
              "       [0., 1.],\n",
              "       [0., 1.],\n",
              "       [1., 0.],\n",
              "       [1., 0.],\n",
              "       [0., 1.],\n",
              "       [0., 1.],\n",
              "       [0., 1.],\n",
              "       [1., 0.],\n",
              "       [1., 0.],\n",
              "       [1., 0.],\n",
              "       [0., 1.],\n",
              "       [0., 1.],\n",
              "       [1., 0.],\n",
              "       [1., 0.],\n",
              "       [1., 0.],\n",
              "       [0., 1.],\n",
              "       [0., 1.],\n",
              "       [1., 0.],\n",
              "       [1., 0.],\n",
              "       [0., 1.],\n",
              "       [0., 1.],\n",
              "       [1., 0.],\n",
              "       [1., 0.],\n",
              "       [1., 0.],\n",
              "       [0., 1.],\n",
              "       [1., 0.],\n",
              "       [0., 1.],\n",
              "       [1., 0.],\n",
              "       [0., 1.],\n",
              "       [0., 1.],\n",
              "       [1., 0.],\n",
              "       [1., 0.],\n",
              "       [1., 0.],\n",
              "       [1., 0.],\n",
              "       [1., 0.],\n",
              "       [0., 1.],\n",
              "       [0., 1.],\n",
              "       [1., 0.],\n",
              "       [1., 0.],\n",
              "       [1., 0.],\n",
              "       [0., 1.],\n",
              "       [0., 1.],\n",
              "       [1., 0.],\n",
              "       [1., 0.],\n",
              "       [0., 1.],\n",
              "       [0., 1.],\n",
              "       [1., 0.],\n",
              "       [0., 1.],\n",
              "       [0., 1.],\n",
              "       [1., 0.],\n",
              "       [1., 0.],\n",
              "       [1., 0.],\n",
              "       [1., 0.],\n",
              "       [1., 0.],\n",
              "       [0., 1.],\n",
              "       [0., 1.],\n",
              "       [0., 1.],\n",
              "       [0., 1.],\n",
              "       [0., 1.],\n",
              "       [1., 0.],\n",
              "       [1., 0.],\n",
              "       [1., 0.],\n",
              "       [0., 1.],\n",
              "       [0., 1.],\n",
              "       [1., 0.],\n",
              "       [0., 1.],\n",
              "       [0., 1.],\n",
              "       [1., 0.],\n",
              "       [0., 1.],\n",
              "       [1., 0.],\n",
              "       [0., 1.],\n",
              "       [0., 1.],\n",
              "       [0., 1.],\n",
              "       [1., 0.],\n",
              "       [1., 0.],\n",
              "       [0., 1.],\n",
              "       [1., 0.],\n",
              "       [1., 0.],\n",
              "       [0., 1.],\n",
              "       [0., 1.],\n",
              "       [0., 1.],\n",
              "       [0., 1.],\n",
              "       [0., 1.],\n",
              "       [1., 0.],\n",
              "       [1., 0.],\n",
              "       [0., 1.],\n",
              "       [1., 0.],\n",
              "       [0., 1.],\n",
              "       [1., 0.],\n",
              "       [1., 0.],\n",
              "       [0., 1.],\n",
              "       [1., 0.],\n",
              "       [0., 1.],\n",
              "       [1., 0.],\n",
              "       [1., 0.],\n",
              "       [1., 0.],\n",
              "       [0., 1.],\n",
              "       [0., 1.],\n",
              "       [1., 0.],\n",
              "       [0., 1.]], dtype=float32)"
            ]
          },
          "metadata": {},
          "execution_count": 26
        }
      ]
    },
    {
      "cell_type": "markdown",
      "source": [
        "Данные для тестирования"
      ],
      "metadata": {
        "id": "dSPYLdTc7ydY"
      }
    },
    {
      "cell_type": "code",
      "source": [
        "x_test = test['Sequences']\n",
        "y_test = test['class']"
      ],
      "metadata": {
        "id": "aMkKROaJ70Zi"
      },
      "execution_count": null,
      "outputs": []
    },
    {
      "cell_type": "code",
      "source": [
        "x_test"
      ],
      "metadata": {
        "colab": {
          "base_uri": "https://localhost:8080/"
        },
        "id": "6b6rbxhT778m",
        "outputId": "254cd1ec-9cc5-4c30-9f72-2821c70ee923"
      },
      "execution_count": null,
      "outputs": [
        {
          "output_type": "execute_result",
          "data": {
            "text/plain": [
              "71     [24, 176, 999, 76, 2798, 71, 100, 297, 17, 107...\n",
              "77     [378, 375, 6, 72, 376, 1420, 1347, 1486, 709, ...\n",
              "141    [19, 1172, 83, 664, 4648, 37, 661, 108, 1052, ...\n",
              "23     [301, 4113, 4113, 3474, 9453, 105, 2388, 1424,...\n",
              "181    [4448, 1041, 3269, 2483, 1458, 99, 324, 19, 25...\n",
              "134    [208, 43, 145, 1229, 3850, 886, 1456, 142, 345...\n",
              "133    [398, 5762, 2024, 1679, 288, 8259, 8260, 253, ...\n",
              "21     [1958, 2378, 9371, 2379, 163, 4952, 1863, 30, ...\n",
              "84     [3546, 3380, 7738, 1248, 1688, 1161, 891, 51, ...\n",
              "129    [1920, 2514, 457, 684, 3884, 204, 58, 234, 170...\n",
              "113    [252, 464, 1502, 475, 2494, 1350, 3151, 4622, ...\n",
              "68     [3482, 6, 1486, 121, 1206, 686, 53, 7376, 333,...\n",
              "183    [2050, 3880, 793, 1751, 252, 1531, 12, 872, 31...\n",
              "137    [19, 1172, 83, 37, 311, 254, 1828, 1708, 72, 4...\n",
              "95     [91, 460, 364, 79, 1812, 441, 5807, 231, 2289,...\n",
              "94     [212, 2, 13, 19, 1711, 331, 180, 208, 257, 743...\n",
              "34     [1439, 6, 1440, 194, 9946, 335, 1111, 118, 178...\n",
              "107    [1273, 915, 146, 24, 133, 144, 17, 218, 337, 9...\n",
              "166    [347, 169, 95, 677, 4300, 80, 2648, 261, 1118,...\n",
              "44     [832, 5, 81, 606, 6875, 1286, 3124, 257, 461, ...\n",
              "32     [371, 6, 9878, 454, 1069, 139, 6578, 447, 646,...\n",
              "7      [46, 32, 2900, 3950, 6139, 1380, 441, 197, 12,...\n",
              "109    [2204, 570, 2, 3107, 24, 133, 25, 21, 240, 584...\n",
              "155    [570, 1838, 423, 4602, 8466, 8219, 173, 220, 3...\n",
              "140    [468, 1047, 380, 8328, 5939, 13, 312, 180, 37,...\n",
              "174    [2048, 9, 241, 2, 2993, 1131, 1465, 121, 130, ...\n",
              "61     [16, 17, 7284, 556, 401, 5473, 378, 375, 703, ...\n",
              "14     [167, 6, 191, 872, 97, 6228, 1925, 1619, 12, 8...\n",
              "12     [56, 7, 131, 27, 291, 755, 4001, 2608, 348, 19...\n",
              "100    [14, 123, 265, 805, 1606, 115, 2592, 1217, 149...\n",
              "70     [107, 604, 17, 3049, 7417, 295, 65, 75, 953, 3...\n",
              "148    [8422, 425, 1078, 1062, 1236, 6541, 785, 609, ...\n",
              "169    [5979, 1166, 1216, 24, 2, 2574, 5445, 993, 775...\n",
              "150    [390, 1878, 13, 236, 2735, 1491, 6807, 863, 13...\n",
              "82     [5085, 799, 1360, 930, 5, 2559, 8, 3, 4, 370, ...\n",
              "81     [202, 775, 711, 1318, 159, 1112, 6146, 1073, 8...\n",
              "58     [2, 2768, 183, 4387, 385, 242, 1739, 246, 42, ...\n",
              "92     [168, 403, 7, 131, 1074, 755, 1007, 1857, 2147...\n",
              "Name: Sequences, dtype: object"
            ]
          },
          "metadata": {},
          "execution_count": 28
        }
      ]
    },
    {
      "cell_type": "markdown",
      "source": [
        "Ограничиваем длину новостных сообщений"
      ],
      "metadata": {
        "id": "vUDhTEwxg040"
      }
    },
    {
      "cell_type": "code",
      "source": [
        "x_test = pad_sequences(x_test, maxlen=max_news_len)"
      ],
      "metadata": {
        "id": "z4g1Wo08g2jQ"
      },
      "execution_count": null,
      "outputs": []
    },
    {
      "cell_type": "code",
      "source": [
        "x_test"
      ],
      "metadata": {
        "colab": {
          "base_uri": "https://localhost:8080/"
        },
        "id": "hlx7ZhNVg9VA",
        "outputId": "2513c2c1-4472-467e-8e0c-903e542f241f"
      },
      "execution_count": null,
      "outputs": [
        {
          "output_type": "execute_result",
          "data": {
            "text/plain": [
              "array([[ 121,  409,  818, ..., 2179, 2001, 7479],\n",
              "       [  23,    7,    4, ...,   42, 1141,    4],\n",
              "       [   0,    0,    0, ..., 3492,  155, 5634],\n",
              "       ...,\n",
              "       [   0,    0,    0, ..., 2354, 2487, 4060],\n",
              "       [1766,  353,  332, ..., 5317, 7223,   80],\n",
              "       [   0,    0,    0, ..., 2532,   57, 2250]], dtype=int32)"
            ]
          },
          "metadata": {},
          "execution_count": 30
        }
      ]
    },
    {
      "cell_type": "code",
      "source": [
        "y_test"
      ],
      "metadata": {
        "colab": {
          "base_uri": "https://localhost:8080/"
        },
        "id": "X4CdHnbg8GRS",
        "outputId": "f91623a4-8f2a-407e-f929-4acb31d07c8d"
      },
      "execution_count": null,
      "outputs": [
        {
          "output_type": "execute_result",
          "data": {
            "text/plain": [
              "71     1\n",
              "77     0\n",
              "141    0\n",
              "23     0\n",
              "181    1\n",
              "134    0\n",
              "133    0\n",
              "21     0\n",
              "84     0\n",
              "129    0\n",
              "113    0\n",
              "68     1\n",
              "183    0\n",
              "137    1\n",
              "95     1\n",
              "94     1\n",
              "34     1\n",
              "107    1\n",
              "166    1\n",
              "44     1\n",
              "32     1\n",
              "7      1\n",
              "109    1\n",
              "155    1\n",
              "140    0\n",
              "174    1\n",
              "61     1\n",
              "14     1\n",
              "12     1\n",
              "100    1\n",
              "70     1\n",
              "148    0\n",
              "169    1\n",
              "150    1\n",
              "82     0\n",
              "81     0\n",
              "58     0\n",
              "92     1\n",
              "Name: class, dtype: int64"
            ]
          },
          "metadata": {},
          "execution_count": 31
        }
      ]
    },
    {
      "cell_type": "markdown",
      "source": [
        "Выделяем правильные ответы (преобразуем в формат one hot encoding)"
      ],
      "metadata": {
        "id": "uxWdfNJrhUIT"
      }
    },
    {
      "cell_type": "code",
      "source": [
        "y_test = utils.to_categorical(y_test, nb_classes)"
      ],
      "metadata": {
        "id": "EC-R_aL7hWca"
      },
      "execution_count": null,
      "outputs": []
    },
    {
      "cell_type": "code",
      "source": [
        "y_test"
      ],
      "metadata": {
        "colab": {
          "base_uri": "https://localhost:8080/"
        },
        "id": "0p3i6BBshity",
        "outputId": "232b5a25-05a1-4665-9b1d-18cf0d5573b0"
      },
      "execution_count": null,
      "outputs": [
        {
          "output_type": "execute_result",
          "data": {
            "text/plain": [
              "array([[0., 1.],\n",
              "       [1., 0.],\n",
              "       [1., 0.],\n",
              "       [1., 0.],\n",
              "       [0., 1.],\n",
              "       [1., 0.],\n",
              "       [1., 0.],\n",
              "       [1., 0.],\n",
              "       [1., 0.],\n",
              "       [1., 0.],\n",
              "       [1., 0.],\n",
              "       [0., 1.],\n",
              "       [1., 0.],\n",
              "       [0., 1.],\n",
              "       [0., 1.],\n",
              "       [0., 1.],\n",
              "       [0., 1.],\n",
              "       [0., 1.],\n",
              "       [0., 1.],\n",
              "       [0., 1.],\n",
              "       [0., 1.],\n",
              "       [0., 1.],\n",
              "       [0., 1.],\n",
              "       [0., 1.],\n",
              "       [1., 0.],\n",
              "       [0., 1.],\n",
              "       [0., 1.],\n",
              "       [0., 1.],\n",
              "       [0., 1.],\n",
              "       [0., 1.],\n",
              "       [0., 1.],\n",
              "       [1., 0.],\n",
              "       [0., 1.],\n",
              "       [0., 1.],\n",
              "       [1., 0.],\n",
              "       [1., 0.],\n",
              "       [1., 0.],\n",
              "       [0., 1.]], dtype=float32)"
            ]
          },
          "metadata": {},
          "execution_count": 33
        }
      ]
    },
    {
      "cell_type": "markdown",
      "metadata": {
        "id": "VFUTMuKL8SNY"
      },
      "source": [
        "## Создаем нейронную сеть с долгой краткосрочной памятью - LSTM"
      ]
    },
    {
      "cell_type": "code",
      "metadata": {
        "id": "s_ZqIgqS8SNa"
      },
      "source": [
        "model_lstm = Sequential()\n",
        "# 1-й слой - Embedding - создает плотные векторные представления слов, длина вектора - 128\n",
        "model_lstm.add(Embedding(num_words, 128, input_length=max_news_len))\n",
        "# 2-й и 3-й слои - LSTM - в пих по 64 и 32 ячейки\n",
        "model_lstm.add(LSTM(64, return_sequences=True))\n",
        "model_lstm.add(LSTM(32))\n",
        "# 4-й слой - Выходной полносвязный слой, 2 нейрона (по количеству классов)\n",
        "model_lstm.add(Dense(2, activation='sigmoid'))"
      ],
      "execution_count": null,
      "outputs": []
    },
    {
      "cell_type": "markdown",
      "source": [
        "создаем последовательную модель (определяем оптимизатор, функцию ошибки)"
      ],
      "metadata": {
        "id": "wk8ub7o6PWP3"
      }
    },
    {
      "cell_type": "code",
      "source": [
        "model_lstm.compile(optimizer='adam', \n",
        "              loss='binary_crossentropy', \n",
        "              metrics=['accuracy'])"
      ],
      "metadata": {
        "id": "KeDlT1XcJvNP"
      },
      "execution_count": null,
      "outputs": []
    },
    {
      "cell_type": "markdown",
      "source": [
        "Выводим информацию о сети"
      ],
      "metadata": {
        "id": "EI2KXJnHmahV"
      }
    },
    {
      "cell_type": "code",
      "metadata": {
        "outputId": "d9987a98-4882-436a-8429-8fa29bd9b6cf",
        "id": "KNc2OK3j8SNe",
        "colab": {
          "base_uri": "https://localhost:8080/"
        }
      },
      "source": [
        "model_lstm.summary()"
      ],
      "execution_count": null,
      "outputs": [
        {
          "output_type": "stream",
          "name": "stdout",
          "text": [
            "Model: \"sequential\"\n",
            "_________________________________________________________________\n",
            " Layer (type)                Output Shape              Param #   \n",
            "=================================================================\n",
            " embedding (Embedding)       (None, 300, 128)          1280000   \n",
            "                                                                 \n",
            " lstm (LSTM)                 (None, 300, 64)           49408     \n",
            "                                                                 \n",
            " lstm_1 (LSTM)               (None, 32)                12416     \n",
            "                                                                 \n",
            " dense (Dense)               (None, 2)                 66        \n",
            "                                                                 \n",
            "=================================================================\n",
            "Total params: 1,341,890\n",
            "Trainable params: 1,341,890\n",
            "Non-trainable params: 0\n",
            "_________________________________________________________________\n"
          ]
        }
      ]
    },
    {
      "cell_type": "markdown",
      "metadata": {
        "id": "KzJtvcIa8SNh"
      },
      "source": [
        "Создаем callback для сохранения нейронной сети на каждой эпохе, если качество работы на проверочном наборе данных улучшилось. Сеть сохраняется в файл `best_model.h5`"
      ]
    },
    {
      "cell_type": "code",
      "metadata": {
        "id": "qCu0Xlyj8SNi"
      },
      "source": [
        "model_lstm_save_path = '/content/best_model_lstm.h5'\n",
        "checkpoint_callback_lstm = ModelCheckpoint(model_lstm_save_path, \n",
        "                                      monitor='val_accuracy',\n",
        "                                      save_best_only=True,\n",
        "                                      verbose=1)"
      ],
      "execution_count": null,
      "outputs": []
    },
    {
      "cell_type": "markdown",
      "source": [
        "Обучаем нейронную сеть"
      ],
      "metadata": {
        "id": "nvFpK0HMQG6Q"
      }
    },
    {
      "cell_type": "code",
      "metadata": {
        "outputId": "23cbd2bc-22dd-4d5b-b7bc-0889462f3a0e",
        "id": "znNeO0lO8SNk",
        "colab": {
          "base_uri": "https://localhost:8080/"
        }
      },
      "source": [
        "history_lstm = model_lstm.fit(x_train,\n",
        "                              y_train, \n",
        "                              epochs=5,\n",
        "                              batch_size=64,\n",
        "                              validation_split=0.8,\n",
        "                              callbacks=[checkpoint_callback_lstm])"
      ],
      "execution_count": null,
      "outputs": [
        {
          "output_type": "stream",
          "name": "stdout",
          "text": [
            "Epoch 1/5\n",
            "1/1 [==============================] - ETA: 0s - loss: 0.0013 - accuracy: 1.0000\n",
            "Epoch 1: val_accuracy did not improve from 0.94215\n",
            "1/1 [==============================] - 0s 86ms/step - loss: 0.0013 - accuracy: 1.0000 - val_loss: 0.3112 - val_accuracy: 0.9421\n",
            "Epoch 2/5\n",
            "1/1 [==============================] - ETA: 0s - loss: 0.0013 - accuracy: 1.0000\n",
            "Epoch 2: val_accuracy did not improve from 0.94215\n",
            "1/1 [==============================] - 0s 61ms/step - loss: 0.0013 - accuracy: 1.0000 - val_loss: 0.3115 - val_accuracy: 0.9421\n",
            "Epoch 3/5\n",
            "1/1 [==============================] - ETA: 0s - loss: 0.0013 - accuracy: 1.0000\n",
            "Epoch 3: val_accuracy did not improve from 0.94215\n",
            "1/1 [==============================] - 0s 63ms/step - loss: 0.0013 - accuracy: 1.0000 - val_loss: 0.3117 - val_accuracy: 0.9421\n",
            "Epoch 4/5\n",
            "1/1 [==============================] - ETA: 0s - loss: 0.0013 - accuracy: 1.0000\n",
            "Epoch 4: val_accuracy did not improve from 0.94215\n",
            "1/1 [==============================] - 0s 68ms/step - loss: 0.0013 - accuracy: 1.0000 - val_loss: 0.3119 - val_accuracy: 0.9421\n",
            "Epoch 5/5\n",
            "1/1 [==============================] - ETA: 0s - loss: 0.0013 - accuracy: 1.0000\n",
            "Epoch 5: val_accuracy did not improve from 0.94215\n",
            "1/1 [==============================] - 0s 68ms/step - loss: 0.0013 - accuracy: 1.0000 - val_loss: 0.3121 - val_accuracy: 0.9421\n"
          ]
        }
      ]
    },
    {
      "cell_type": "code",
      "metadata": {
        "outputId": "fe916196-96fe-4e38-bfbf-026e515b1da5",
        "id": "iFTVTtcM8SNm",
        "colab": {
          "base_uri": "https://localhost:8080/",
          "height": 279
        }
      },
      "source": [
        "plt.plot(history_lstm.history['accuracy'], \n",
        "         label='Доля верных ответов на обучающем наборе')\n",
        "plt.plot(history_lstm.history['val_accuracy'], \n",
        "         label='Доля верных ответов на проверочном наборе')\n",
        "plt.xlabel('Эпоха обучения')\n",
        "plt.ylabel('Доля верных ответов')\n",
        "plt.legend()\n",
        "plt.show()"
      ],
      "execution_count": null,
      "outputs": [
        {
          "output_type": "display_data",
          "data": {
            "text/plain": [
              "<Figure size 432x288 with 1 Axes>"
            ],
            "image/png": "[encoded data removed]"
          },
          "metadata": {
            "needs_background": "light"
          }
        }
      ]
    },
    {
      "cell_type": "markdown",
      "metadata": {
        "id": "3DJbzO3ucewV"
      },
      "source": [
        "## Оцениваем качество работы сети на тестовом наборе данных"
      ]
    },
    {
      "cell_type": "markdown",
      "metadata": {
        "id": "YHs8Q5vqAlqC"
      },
      "source": [
        "### Сеть LSTM"
      ]
    },
    {
      "cell_type": "markdown",
      "source": [
        "Загружаем модель с лучшей долей правильных ответов на проверочном наборе данных"
      ],
      "metadata": {
        "id": "qjtJAuNgIubZ"
      }
    },
    {
      "cell_type": "code",
      "metadata": {
        "id": "OEzSL_M-ApHx"
      },
      "source": [
        "model_lstm.load_weights(model_lstm_save_path)"
      ],
      "execution_count": null,
      "outputs": []
    },
    {
      "cell_type": "markdown",
      "source": [
        "Оцениваем качество работы сети на наборе данных для тестирования"
      ],
      "metadata": {
        "id": "v05_mmLPZGvi"
      }
    },
    {
      "cell_type": "code",
      "metadata": {
        "outputId": "22063f25-d3e7-41d9-b588-00ac51dce123",
        "id": "fcGg4jA9AqN4",
        "colab": {
          "base_uri": "https://localhost:8080/"
        }
      },
      "source": [
        "scores = model_lstm.evaluate(x_test, y_test, verbose=1)"
      ],
      "execution_count": null,
      "outputs": [
        {
          "output_type": "stream",
          "name": "stdout",
          "text": [
            "2/2 [==============================] - 0s 17ms/step - loss: 1.0251 - accuracy: 0.7368\n"
          ]
        }
      ]
    },
    {
      "cell_type": "code",
      "source": [
        "print(\"Доля верных ответов на тестовых данных, в процентах:\", round(scores[1] * 100, 4))"
      ],
      "metadata": {
        "colab": {
          "base_uri": "https://localhost:8080/"
        },
        "id": "SAr1eIZ5y6Lh",
        "outputId": "ac8f0259-300e-4be8-944c-ec69cea383d6"
      },
      "execution_count": null,
      "outputs": [
        {
          "output_type": "stream",
          "name": "stdout",
          "text": [
            "Доля верных ответов на тестовых данных, в процентах: 73.6842\n"
          ]
        }
      ]
    },
    {
      "cell_type": "markdown",
      "source": [
        "**Оцениваем качество работы сети на новых данных**"
      ],
      "metadata": {
        "id": "RLxNrlP3ZUZS"
      }
    },
    {
      "cell_type": "code",
      "source": [
        "text = ''' President Volodymyr Zelensky of Ukraine said Monday that government officials would be prohibited from traveling abroad for vacation or any other unofficial purpose, a move intended to show that corruption would not be allowed to undermine the country’s defense.'''"
      ],
      "metadata": {
        "id": "ptX6zshIZcQ_"
      },
      "execution_count": null,
      "outputs": []
    },
    {
      "cell_type": "markdown",
      "source": [
        "Преобразуем новости в числовое представление"
      ],
      "metadata": {
        "id": "NNntQZauhKnp"
      }
    },
    {
      "cell_type": "code",
      "source": [
        "text1 = preprocess(text, stop_words, punctuation_marks, morph)"
      ],
      "metadata": {
        "id": "-69XQGk9k1CS"
      },
      "execution_count": null,
      "outputs": []
    },
    {
      "cell_type": "code",
      "source": [
        "text1"
      ],
      "metadata": {
        "colab": {
          "base_uri": "https://localhost:8080/"
        },
        "id": "Ac0lh97bmF8-",
        "outputId": "dc4a6433-1a3e-4044-c9ec-42d0bf610e37"
      },
      "execution_count": null,
      "outputs": [
        {
          "output_type": "execute_result",
          "data": {
            "text/plain": [
              "['president',\n",
              " 'volodymyr',\n",
              " 'zelensky',\n",
              " 'ukraine',\n",
              " 'said',\n",
              " 'monday',\n",
              " 'government',\n",
              " 'officials',\n",
              " 'would',\n",
              " 'prohibited',\n",
              " 'traveling',\n",
              " 'abroad',\n",
              " 'vacation',\n",
              " 'unofficial',\n",
              " 'purpose',\n",
              " 'move',\n",
              " 'intended',\n",
              " 'show',\n",
              " 'corruption',\n",
              " 'would',\n",
              " 'allowed',\n",
              " 'undermine',\n",
              " 'country',\n",
              " '’',\n",
              " 'defense']"
            ]
          },
          "metadata": {},
          "execution_count": 52
        }
      ]
    },
    {
      "cell_type": "code",
      "source": [
        "sequence = text_to_sequence(text1, word_to_index)"
      ],
      "metadata": {
        "id": "f3r3Zh9TmP-u"
      },
      "execution_count": null,
      "outputs": []
    },
    {
      "cell_type": "code",
      "source": [
        "sequence"
      ],
      "metadata": {
        "colab": {
          "base_uri": "https://localhost:8080/"
        },
        "id": "tRqddzgsmb6z",
        "outputId": "b7b44a33-6faf-40cd-d4a1-b2e30a36a24b"
      },
      "execution_count": null,
      "outputs": [
        {
          "output_type": "execute_result",
          "data": {
            "text/plain": [
              "[19,\n",
              " 1541,\n",
              " 702,\n",
              " 14,\n",
              " 5,\n",
              " 37,\n",
              " 40,\n",
              " 47,\n",
              " 8,\n",
              " 3033,\n",
              " 1893,\n",
              " 1758,\n",
              " 2644,\n",
              " 257,\n",
              " 2585,\n",
              " 136,\n",
              " 1389,\n",
              " 8,\n",
              " 703,\n",
              " 23,\n",
              " 2,\n",
              " 174]"
            ]
          },
          "metadata": {},
          "execution_count": 54
        }
      ]
    },
    {
      "cell_type": "code",
      "source": [
        "print(text)\n",
        "print(sequence)"
      ],
      "metadata": {
        "colab": {
          "base_uri": "https://localhost:8080/"
        },
        "id": "bBA_6RQ4q-rD",
        "outputId": "ac3fa94a-4647-427d-9436-833a0eab4abb"
      },
      "execution_count": null,
      "outputs": [
        {
          "output_type": "stream",
          "name": "stdout",
          "text": [
            " President Volodymyr Zelensky of Ukraine said Monday that government officials would be prohibited from traveling abroad for vacation or any other unofficial purpose, a move intended to show that corruption would not be allowed to undermine the country’s defense.\n",
            "[19, 1541, 702, 14, 5, 37, 40, 47, 8, 3033, 1893, 1758, 2644, 257, 2585, 136, 1389, 8, 703, 23, 2, 174]\n"
          ]
        }
      ]
    },
    {
      "cell_type": "code",
      "source": [
        "text2 = pad_sequences(sequence, maxlen=max_news_len)"
      ],
      "metadata": {
        "colab": {
          "base_uri": "https://localhost:8080/",
          "height": 454
        },
        "id": "XryqAQyLpk5k",
        "outputId": "21c4fba2-5578-4813-de2f-817b403b91ef"
      },
      "execution_count": null,
      "outputs": [
        {
          "output_type": "error",
          "ename": "ValueError",
          "evalue": "ignored",
          "traceback": [
            "\u001b[0;31m---------------------------------------------------------------------------\u001b[0m",
            "\u001b[0;31mTypeError\u001b[0m                                 Traceback (most recent call last)",
            "\u001b[0;32m/usr/local/lib/python3.8/dist-packages/keras/utils/data_utils.py\u001b[0m in \u001b[0;36mpad_sequences\u001b[0;34m(sequences, maxlen, dtype, padding, truncating, value)\u001b[0m\n\u001b[1;32m   1009\u001b[0m     \u001b[0;32mtry\u001b[0m\u001b[0;34m:\u001b[0m\u001b[0;34m\u001b[0m\u001b[0;34m\u001b[0m\u001b[0m\n\u001b[0;32m-> 1010\u001b[0;31m       \u001b[0mlengths\u001b[0m\u001b[0;34m.\u001b[0m\u001b[0mappend\u001b[0m\u001b[0;34m(\u001b[0m\u001b[0mlen\u001b[0m\u001b[0;34m(\u001b[0m\u001b[0mx\u001b[0m\u001b[0;34m)\u001b[0m\u001b[0;34m)\u001b[0m\u001b[0;34m\u001b[0m\u001b[0;34m\u001b[0m\u001b[0m\n\u001b[0m\u001b[1;32m   1011\u001b[0m       \u001b[0;32mif\u001b[0m \u001b[0mflag\u001b[0m \u001b[0;32mand\u001b[0m \u001b[0mlen\u001b[0m\u001b[0;34m(\u001b[0m\u001b[0mx\u001b[0m\u001b[0;34m)\u001b[0m\u001b[0;34m:\u001b[0m\u001b[0;34m\u001b[0m\u001b[0;34m\u001b[0m\u001b[0m\n",
            "\u001b[0;31mTypeError\u001b[0m: object of type 'int' has no len()",
            "\nThe above exception was the direct cause of the following exception:\n",
            "\u001b[0;31mValueError\u001b[0m                                Traceback (most recent call last)",
            "\u001b[0;32m<ipython-input-56-69c8bf384d2f>\u001b[0m in \u001b[0;36m<module>\u001b[0;34m\u001b[0m\n\u001b[0;32m----> 1\u001b[0;31m \u001b[0mtext2\u001b[0m \u001b[0;34m=\u001b[0m \u001b[0mpad_sequences\u001b[0m\u001b[0;34m(\u001b[0m\u001b[0msequence\u001b[0m\u001b[0;34m,\u001b[0m \u001b[0mmaxlen\u001b[0m\u001b[0;34m=\u001b[0m\u001b[0mmax_news_len\u001b[0m\u001b[0;34m)\u001b[0m\u001b[0;34m\u001b[0m\u001b[0;34m\u001b[0m\u001b[0m\n\u001b[0m",
            "\u001b[0;32m/usr/local/lib/python3.8/dist-packages/keras/utils/data_utils.py\u001b[0m in \u001b[0;36mpad_sequences\u001b[0;34m(sequences, maxlen, dtype, padding, truncating, value)\u001b[0m\n\u001b[1;32m   1013\u001b[0m         \u001b[0mflag\u001b[0m \u001b[0;34m=\u001b[0m \u001b[0;32mFalse\u001b[0m\u001b[0;34m\u001b[0m\u001b[0;34m\u001b[0m\u001b[0m\n\u001b[1;32m   1014\u001b[0m     \u001b[0;32mexcept\u001b[0m \u001b[0mTypeError\u001b[0m \u001b[0;32mas\u001b[0m \u001b[0me\u001b[0m\u001b[0;34m:\u001b[0m\u001b[0;34m\u001b[0m\u001b[0;34m\u001b[0m\u001b[0m\n\u001b[0;32m-> 1015\u001b[0;31m       raise ValueError('`sequences` must be a list of iterables. '\n\u001b[0m\u001b[1;32m   1016\u001b[0m                        f'Found non-iterable: {str(x)}') from e\n\u001b[1;32m   1017\u001b[0m \u001b[0;34m\u001b[0m\u001b[0m\n",
            "\u001b[0;31mValueError\u001b[0m: `sequences` must be a list of iterables. Found non-iterable: 19"
          ]
        }
      ]
    },
    {
      "cell_type": "code",
      "source": [
        "text2"
      ],
      "metadata": {
        "id": "z2p4jaFNIzEK",
        "colab": {
          "base_uri": "https://localhost:8080/",
          "height": 172
        },
        "outputId": "8db01dd7-bfbc-4e5f-a476-6c81a57c19e6"
      },
      "execution_count": null,
      "outputs": [
        {
          "output_type": "error",
          "ename": "NameError",
          "evalue": "ignored",
          "traceback": [
            "\u001b[0;31m---------------------------------------------------------------------------\u001b[0m",
            "\u001b[0;31mNameError\u001b[0m                                 Traceback (most recent call last)",
            "\u001b[0;32m<ipython-input-57-184c256e763d>\u001b[0m in \u001b[0;36m<module>\u001b[0;34m\u001b[0m\n\u001b[0;32m----> 1\u001b[0;31m \u001b[0mtext2\u001b[0m\u001b[0;34m\u001b[0m\u001b[0;34m\u001b[0m\u001b[0m\n\u001b[0m",
            "\u001b[0;31mNameError\u001b[0m: name 'text2' is not defined"
          ]
        }
      ]
    },
    {
      "cell_type": "markdown",
      "source": [
        "Загружаем модель в память"
      ],
      "metadata": {
        "id": "zJzFqpUNfouY"
      }
    },
    {
      "cell_type": "code",
      "source": [
        "model = load_model('best_model_lstm.h5')"
      ],
      "metadata": {
        "id": "VehI_Xy_foOC"
      },
      "execution_count": null,
      "outputs": []
    },
    {
      "cell_type": "markdown",
      "source": [
        "Запускаем распознавание (применяем сеть для определения класса новости)"
      ],
      "metadata": {
        "id": "fPrcaxWbgqJN"
      }
    },
    {
      "cell_type": "code",
      "source": [
        "prediction = model.predict(text2)"
      ],
      "metadata": {
        "colab": {
          "base_uri": "https://localhost:8080/",
          "height": 172
        },
        "id": "OSkl8M1PgriR",
        "outputId": "96ac397a-6d8a-4474-af0b-5911f249218d"
      },
      "execution_count": null,
      "outputs": [
        {
          "output_type": "error",
          "ename": "NameError",
          "evalue": "ignored",
          "traceback": [
            "\u001b[0;31m---------------------------------------------------------------------------\u001b[0m",
            "\u001b[0;31mNameError\u001b[0m                                 Traceback (most recent call last)",
            "\u001b[0;32m<ipython-input-59-935ca78057a4>\u001b[0m in \u001b[0;36m<module>\u001b[0;34m\u001b[0m\n\u001b[0;32m----> 1\u001b[0;31m \u001b[0mprediction\u001b[0m \u001b[0;34m=\u001b[0m \u001b[0mmodel\u001b[0m\u001b[0;34m.\u001b[0m\u001b[0mpredict\u001b[0m\u001b[0;34m(\u001b[0m\u001b[0mtext2\u001b[0m\u001b[0;34m)\u001b[0m\u001b[0;34m\u001b[0m\u001b[0;34m\u001b[0m\u001b[0m\n\u001b[0m",
            "\u001b[0;31mNameError\u001b[0m: name 'text2' is not defined"
          ]
        }
      ]
    },
    {
      "cell_type": "markdown",
      "source": [
        "Результаты распознавания"
      ],
      "metadata": {
        "id": "dTKbUbLkgz2v"
      }
    },
    {
      "cell_type": "code",
      "source": [
        "prediction"
      ],
      "metadata": {
        "colab": {
          "base_uri": "https://localhost:8080/",
          "height": 172
        },
        "id": "dzCsyUmXg1OZ",
        "outputId": "cdda5cbc-8a39-45f7-b117-2ab395a8bd7c"
      },
      "execution_count": null,
      "outputs": [
        {
          "output_type": "error",
          "ename": "NameError",
          "evalue": "ignored",
          "traceback": [
            "\u001b[0;31m---------------------------------------------------------------------------\u001b[0m",
            "\u001b[0;31mNameError\u001b[0m                                 Traceback (most recent call last)",
            "\u001b[0;32m<ipython-input-60-c3d8c93f720f>\u001b[0m in \u001b[0;36m<module>\u001b[0;34m\u001b[0m\n\u001b[0;32m----> 1\u001b[0;31m \u001b[0mprediction\u001b[0m\u001b[0;34m\u001b[0m\u001b[0;34m\u001b[0m\u001b[0m\n\u001b[0m",
            "\u001b[0;31mNameError\u001b[0m: name 'prediction' is not defined"
          ]
        }
      ]
    },
    {
      "cell_type": "code",
      "source": [
        "prediction = np.argmax(prediction)"
      ],
      "metadata": {
        "id": "A6kv0gmOkDk7",
        "colab": {
          "base_uri": "https://localhost:8080/",
          "height": 172
        },
        "outputId": "e4d04f0c-2bf5-4f45-d0af-edb421a5806a"
      },
      "execution_count": null,
      "outputs": [
        {
          "output_type": "error",
          "ename": "NameError",
          "evalue": "ignored",
          "traceback": [
            "\u001b[0;31m---------------------------------------------------------------------------\u001b[0m",
            "\u001b[0;31mNameError\u001b[0m                                 Traceback (most recent call last)",
            "\u001b[0;32m<ipython-input-61-9b6f785396fb>\u001b[0m in \u001b[0;36m<module>\u001b[0;34m\u001b[0m\n\u001b[0;32m----> 1\u001b[0;31m \u001b[0mprediction\u001b[0m \u001b[0;34m=\u001b[0m \u001b[0mnp\u001b[0m\u001b[0;34m.\u001b[0m\u001b[0margmax\u001b[0m\u001b[0;34m(\u001b[0m\u001b[0mprediction\u001b[0m\u001b[0;34m)\u001b[0m\u001b[0;34m\u001b[0m\u001b[0;34m\u001b[0m\u001b[0m\n\u001b[0m",
            "\u001b[0;31mNameError\u001b[0m: name 'prediction' is not defined"
          ]
        }
      ]
    },
    {
      "cell_type": "code",
      "source": [
        "if prediction < 0.5:\n",
        "    print('Не имеет международного значения')\n",
        "else:\n",
        "    print('Международная новость')"
      ],
      "metadata": {
        "colab": {
          "base_uri": "https://localhost:8080/",
          "height": 227
        },
        "id": "H1oDVJNGtfhR",
        "outputId": "630b0184-54f3-422c-8a85-83c467b10f63"
      },
      "execution_count": null,
      "outputs": [
        {
          "output_type": "error",
          "ename": "NameError",
          "evalue": "ignored",
          "traceback": [
            "\u001b[0;31m---------------------------------------------------------------------------\u001b[0m",
            "\u001b[0;31mNameError\u001b[0m                                 Traceback (most recent call last)",
            "\u001b[0;32m<ipython-input-62-b22a0523bf33>\u001b[0m in \u001b[0;36m<module>\u001b[0;34m\u001b[0m\n\u001b[0;32m----> 1\u001b[0;31m \u001b[0;32mif\u001b[0m \u001b[0mprediction\u001b[0m \u001b[0;34m<\u001b[0m \u001b[0;36m0.5\u001b[0m\u001b[0;34m:\u001b[0m\u001b[0;34m\u001b[0m\u001b[0;34m\u001b[0m\u001b[0m\n\u001b[0m\u001b[1;32m      2\u001b[0m     \u001b[0mprint\u001b[0m\u001b[0;34m(\u001b[0m\u001b[0;34m'Не имеет международного значения'\u001b[0m\u001b[0;34m)\u001b[0m\u001b[0;34m\u001b[0m\u001b[0;34m\u001b[0m\u001b[0m\n\u001b[1;32m      3\u001b[0m \u001b[0;32melse\u001b[0m\u001b[0;34m:\u001b[0m\u001b[0;34m\u001b[0m\u001b[0;34m\u001b[0m\u001b[0m\n\u001b[1;32m      4\u001b[0m     \u001b[0mprint\u001b[0m\u001b[0;34m(\u001b[0m\u001b[0;34m'Международная новость'\u001b[0m\u001b[0;34m)\u001b[0m\u001b[0;34m\u001b[0m\u001b[0;34m\u001b[0m\u001b[0m\n",
            "\u001b[0;31mNameError\u001b[0m: name 'prediction' is not defined"
          ]
        }
      ]
    }
  ]
}