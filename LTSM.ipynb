{
  "nbformat": 4,
  "nbformat_minor": 0,
  "metadata": {
    "colab": {
      "provenance": [],
      "collapsed_sections": [
        "VFUTMuKL8SNY",
        "YHs8Q5vqAlqC"
      ],
      "include_colab_link": true
    },
    "kernelspec": {
      "name": "python3",
      "display_name": "Python 3"
    },
    "accelerator": "GPU"
  },
  "cells": [
    {
      "cell_type": "markdown",
      "metadata": {
        "id": "view-in-github",
        "colab_type": "text"
      },
      "source": [
        "<a href=\"https://colab.research.google.com/github/olyavydrina/-/blob/main/LTSM.ipynb\" target=\"_parent\"><img src=\"https://colab.research.google.com/assets/colab-badge.svg\" alt=\"Open In Colab\"/></a>"
      ]
    },
    {
      "cell_type": "code",
      "metadata": {
        "id": "fN251ib04idq",
        "colab": {
          "base_uri": "https://localhost:8080/"
        },
        "outputId": "6bae03f8-ec8d-485f-a3e5-a9851ccd72b1"
      },
      "source": [
        "%tensorflow_version 2.x\n",
        "from tensorflow.keras.models import Sequential\n",
        "from tensorflow.keras.layers import Dense, Embedding, Dropout, LSTM\n",
        "from tensorflow.keras import utils\n",
        "from tensorflow.keras.preprocessing.sequence import pad_sequences\n",
        "from tensorflow.keras.preprocessing.text import Tokenizer\n",
        "from tensorflow.keras.callbacks import ModelCheckpoint\n",
        "from tensorflow.keras import utils\n",
        "import pandas as pd\n",
        "import numpy as np\n",
        "import matplotlib.pyplot as plt\n",
        "%matplotlib inline "
      ],
      "execution_count": null,
      "outputs": [
        {
          "output_type": "stream",
          "name": "stdout",
          "text": [
            "Colab only includes TensorFlow 2.x; %tensorflow_version has no effect.\n"
          ]
        }
      ]
    },
    {
      "cell_type": "markdown",
      "source": [
        "**Проект Natasha.** Набор качественных открытых инструментов для обработки естественного русского языка (NLP). Установка."
      ],
      "metadata": {
        "id": "l9mSiwQITVzF"
      }
    },
    {
      "cell_type": "code",
      "source": [
        "pip install natasha\n"
      ],
      "metadata": {
        "colab": {
          "base_uri": "https://localhost:8080/"
        },
        "id": "dROQUPOcMQj7",
        "outputId": "c9e3f6c9-ac9c-4ebb-d22f-2ab74179a4c2"
      },
      "execution_count": null,
      "outputs": [
        {
          "output_type": "stream",
          "name": "stdout",
          "text": [
            "Looking in indexes: https://pypi.org/simple, https://us-python.pkg.dev/colab-wheels/public/simple/\n",
            "Collecting natasha\n",
            "  Downloading natasha-1.4.0-py3-none-any.whl (34.4 MB)\n",
            "\u001b[2K     \u001b[90m━━━━━━━━━━━━━━━━━━━━━━━━━━━━━━━━━━━━━━━━\u001b[0m \u001b[32m34.4/34.4 MB\u001b[0m \u001b[31m43.4 MB/s\u001b[0m eta \u001b[36m0:00:00\u001b[0m\n",
            "\u001b[?25hCollecting navec>=0.9.0\n",
            "  Downloading navec-0.10.0-py3-none-any.whl (23 kB)\n",
            "Collecting yargy>=0.14.0\n",
            "  Downloading yargy-0.15.0-py3-none-any.whl (41 kB)\n",
            "\u001b[2K     \u001b[90m━━━━━━━━━━━━━━━━━━━━━━━━━━━━━━━━━━━━━━━━\u001b[0m \u001b[32m41.1/41.1 KB\u001b[0m \u001b[31m5.0 MB/s\u001b[0m eta \u001b[36m0:00:00\u001b[0m\n",
            "\u001b[?25hCollecting slovnet>=0.3.0\n",
            "  Downloading slovnet-0.5.0-py3-none-any.whl (49 kB)\n",
            "\u001b[2K     \u001b[90m━━━━━━━━━━━━━━━━━━━━━━━━━━━━━━━━━━━━━━━━\u001b[0m \u001b[32m49.4/49.4 KB\u001b[0m \u001b[31m6.8 MB/s\u001b[0m eta \u001b[36m0:00:00\u001b[0m\n",
            "\u001b[?25hCollecting pymorphy2\n",
            "  Downloading pymorphy2-0.9.1-py3-none-any.whl (55 kB)\n",
            "\u001b[2K     \u001b[90m━━━━━━━━━━━━━━━━━━━━━━━━━━━━━━━━━━━━━━━━\u001b[0m \u001b[32m55.5/55.5 KB\u001b[0m \u001b[31m6.8 MB/s\u001b[0m eta \u001b[36m0:00:00\u001b[0m\n",
            "\u001b[?25hCollecting ipymarkup>=0.8.0\n",
            "  Downloading ipymarkup-0.9.0-py3-none-any.whl (14 kB)\n",
            "Collecting razdel>=0.5.0\n",
            "  Downloading razdel-0.5.0-py3-none-any.whl (21 kB)\n",
            "Collecting intervaltree>=3\n",
            "  Downloading intervaltree-3.1.0.tar.gz (32 kB)\n",
            "  Preparing metadata (setup.py) ... \u001b[?25l\u001b[?25hdone\n",
            "Requirement already satisfied: numpy in /usr/local/lib/python3.8/dist-packages (from navec>=0.9.0->natasha) (1.21.6)\n",
            "Collecting docopt>=0.6\n",
            "  Downloading docopt-0.6.2.tar.gz (25 kB)\n",
            "  Preparing metadata (setup.py) ... \u001b[?25l\u001b[?25hdone\n",
            "Collecting dawg-python>=0.7.1\n",
            "  Downloading DAWG_Python-0.7.2-py2.py3-none-any.whl (11 kB)\n",
            "Collecting pymorphy2-dicts-ru<3.0,>=2.4\n",
            "  Downloading pymorphy2_dicts_ru-2.4.417127.4579844-py2.py3-none-any.whl (8.2 MB)\n",
            "\u001b[2K     \u001b[90m━━━━━━━━━━━━━━━━━━━━━━━━━━━━━━━━━━━━━━━━\u001b[0m \u001b[32m8.2/8.2 MB\u001b[0m \u001b[31m91.6 MB/s\u001b[0m eta \u001b[36m0:00:00\u001b[0m\n",
            "\u001b[?25hRequirement already satisfied: sortedcontainers<3.0,>=2.0 in /usr/local/lib/python3.8/dist-packages (from intervaltree>=3->ipymarkup>=0.8.0->natasha) (2.4.0)\n",
            "Building wheels for collected packages: docopt, intervaltree\n",
            "  Building wheel for docopt (setup.py) ... \u001b[?25l\u001b[?25hdone\n",
            "  Created wheel for docopt: filename=docopt-0.6.2-py2.py3-none-any.whl size=13723 sha256=a26ef03af366a94bfc5650d9332e7b10e773d4081bd86443d6697758f02e2e9d\n",
            "  Stored in directory: /root/.cache/pip/wheels/56/ea/58/ead137b087d9e326852a851351d1debf4ada529b6ac0ec4e8c\n",
            "  Building wheel for intervaltree (setup.py) ... \u001b[?25l\u001b[?25hdone\n",
            "  Created wheel for intervaltree: filename=intervaltree-3.1.0-py2.py3-none-any.whl size=26118 sha256=fa77a4689561e5cd9eb978cdf4cd7609b3e21e3775e60cef3d949bbb4400c3ac\n",
            "  Stored in directory: /root/.cache/pip/wheels/45/23/de/5789a92962483fd33cb06674792b9697c1b3766d7c7742830e\n",
            "Successfully built docopt intervaltree\n",
            "Installing collected packages: razdel, pymorphy2-dicts-ru, docopt, dawg-python, pymorphy2, navec, intervaltree, yargy, slovnet, ipymarkup, natasha\n",
            "  Attempting uninstall: intervaltree\n",
            "    Found existing installation: intervaltree 2.1.0\n",
            "    Uninstalling intervaltree-2.1.0:\n",
            "      Successfully uninstalled intervaltree-2.1.0\n",
            "Successfully installed dawg-python-0.7.2 docopt-0.6.2 intervaltree-3.1.0 ipymarkup-0.9.0 natasha-1.4.0 navec-0.10.0 pymorphy2-0.9.1 pymorphy2-dicts-ru-2.4.417127.4579844 razdel-0.5.0 slovnet-0.5.0 yargy-0.15.0\n"
          ]
        }
      ]
    },
    {
      "cell_type": "markdown",
      "source": [
        "Импорт, инициализация модулей, сборка Doc cобъекта."
      ],
      "metadata": {
        "id": "hEBlhFunTwDO"
      }
    },
    {
      "cell_type": "code",
      "source": [
        "from natasha import (\n",
        "Segmenter,\n",
        "MorphVocab,\n",
        "    \n",
        "NewsEmbedding,\n",
        "NewsMorphTagger,\n",
        "NewsSyntaxParser,\n",
        "NewsNERTagger,\n",
        "    \n",
        "PER,\n",
        "NamesExtractor,\n",
        "\n",
        "Doc\n",
        ")\n",
        "\n",
        "\n",
        "segmenter = Segmenter()\n",
        "morph_vocab = MorphVocab()\n",
        "\n",
        "emb = NewsEmbedding()\n",
        "morph_tagger = NewsMorphTagger(emb)\n",
        "syntax_parser = NewsSyntaxParser(emb)\n",
        "ner_tagger = NewsNERTagger(emb)\n",
        "\n",
        "names_extractor = NamesExtractor(morph_vocab)"
      ],
      "metadata": {
        "id": "mLf60KxMTHZM"
      },
      "execution_count": null,
      "outputs": []
    },
    {
      "cell_type": "code",
      "source": [
        "from razdel import tokenize"
      ],
      "metadata": {
        "id": "M6qfzV1_l94B"
      },
      "execution_count": null,
      "outputs": []
    },
    {
      "cell_type": "code",
      "source": [
        "import torch\n",
        "\n",
        "from navec import Navec\n",
        "from slovnet.model.emb import NavecEmbedding\n",
        "\n",
        "path = '/content/navec_hudlit_v1_12B_500K_300d_100q.tar'  # 51MB\n",
        "navec = Navec.load(path)  # ~1 sec, ~100MB RAM\n",
        "\n",
        "words = ['навек', '<unk>', '<pad>']\n",
        "ids = [navec.vocab[_] for _ in words]\n",
        "\n",
        "emb = NavecEmbedding(navec)\n",
        "input = torch.tensor(ids)\n",
        "\n",
        "emb(input)  # 3 x 300"
      ],
      "metadata": {
        "colab": {
          "base_uri": "https://localhost:8080/"
        },
        "id": "1yjlXyFkqsmZ",
        "outputId": "9a3bb331-49aa-4e83-a3a2-ef866dec142c"
      },
      "execution_count": null,
      "outputs": [
        {
          "output_type": "stream",
          "name": "stderr",
          "text": [
            "/usr/local/lib/python3.8/dist-packages/slovnet/model/emb.py:46: UserWarning: The given NumPy array is not writable, and PyTorch does not support non-writable tensors. This means writing to this tensor will result in undefined behavior. You may want to copy the array to protect its data or make it writable before converting it to a tensor. This type of warning will be suppressed for the rest of this program. (Triggered internally at ../torch/csrc/utils/tensor_numpy.cpp:199.)\n",
            "  torch.from_numpy(navec.pq.indexes),\n"
          ]
        },
        {
          "output_type": "execute_result",
          "data": {
            "text/plain": [
              "tensor([[ 3.9556e-01,  1.1601e-01,  2.4605e-01, -3.5207e-01, -8.9323e-02,\n",
              "          3.3823e-01, -5.4576e-01,  7.4727e-02, -4.7538e-01, -3.3308e-01,\n",
              "          1.4499e-01, -1.3690e-01,  8.4097e-02, -2.1418e-01, -5.7312e-01,\n",
              "         -6.1133e-02,  4.5580e-02, -3.0148e-01,  5.5967e-01, -3.0725e-01,\n",
              "         -2.3868e-01, -2.8797e-01, -1.0781e-01,  9.9575e-02,  2.5811e-01,\n",
              "          5.6495e-02, -3.0527e-02,  6.9664e-02,  1.5073e-02, -1.4275e-01,\n",
              "         -4.0886e-01,  2.8937e-01,  3.2016e-01, -2.7073e-01, -4.7028e-02,\n",
              "          4.1056e-01,  5.1552e-01, -2.7452e-01, -1.0154e-01,  4.1733e-01,\n",
              "          1.5828e-01, -3.7469e-02,  1.7745e-01, -3.5592e-02, -2.9721e-01,\n",
              "         -3.9473e-01, -4.1440e-02,  5.4959e-02,  4.7845e-01, -3.2670e-01,\n",
              "          1.4476e-01,  3.5896e-01, -3.8005e-01,  2.9925e-01, -3.1742e-01,\n",
              "         -7.1889e-01, -3.5692e-01, -2.9586e-01, -3.7184e-01,  8.9035e-02,\n",
              "         -1.2710e-01, -6.6324e-02,  3.6806e-02,  2.7049e-01,  8.9338e-03,\n",
              "         -2.0365e-01, -2.7381e-01,  8.0208e-02,  1.2610e-01,  4.5080e-02,\n",
              "         -5.6112e-01, -6.2940e-01, -3.2951e-01, -1.8106e-01, -2.8961e-01,\n",
              "          6.1978e-01, -1.0272e-01, -1.2894e-01,  2.5111e-01, -4.6670e-02,\n",
              "         -1.0174e-02,  2.7786e-01, -6.2604e-02,  3.2465e-01,  6.1493e-01,\n",
              "          1.3166e-01,  2.2565e-01,  4.1136e-01, -7.2106e-02,  2.1978e-01,\n",
              "          2.0303e-01, -4.2527e-01, -3.8725e-02, -3.8494e-01, -1.7427e-01,\n",
              "          6.5442e-01, -5.4960e-01, -4.1554e-01,  3.0385e-02,  6.3822e-01,\n",
              "          2.5512e-02, -1.0793e-01,  4.7141e-01,  1.7638e-01,  2.1022e-01,\n",
              "         -2.2765e-01, -7.0456e-02, -2.7518e-01,  1.7743e-01,  2.3115e-01,\n",
              "         -5.9743e-01,  4.4872e-01, -1.0782e-01,  3.7884e-01,  2.9361e-01,\n",
              "          3.6348e-02,  2.2075e-01, -3.4550e-01, -2.9876e-01, -1.4843e-01,\n",
              "         -2.3698e-01, -1.4348e-01, -5.1119e-02, -1.4244e-01,  2.0397e-01,\n",
              "          2.5838e-01,  4.8325e-01, -2.2960e-01,  1.6273e-02, -2.1262e-01,\n",
              "         -2.7156e-01,  2.8468e-01,  1.5231e-01, -9.2859e-02,  2.8947e-01,\n",
              "         -6.8438e-02,  1.2559e-01,  8.7020e-01,  2.2272e-02,  2.7700e-01,\n",
              "          1.9528e-01,  3.8627e-01, -1.3077e-02, -1.2606e-01,  6.6442e-02,\n",
              "          2.8920e-02, -2.0726e-01,  1.7996e-01, -1.6063e-01,  2.7738e-01,\n",
              "         -4.4023e-01,  1.3876e-01, -1.7100e-01,  7.6518e-02, -3.1988e-01,\n",
              "          3.9110e-01, -6.4132e-01, -1.8748e-01, -1.5217e-01, -3.3367e-01,\n",
              "         -2.3703e-01, -9.6474e-02,  1.4715e-01,  5.0745e-01, -4.7038e-01,\n",
              "          2.2671e-01,  1.2081e-02, -5.1758e-01,  2.8740e-01,  2.4730e-01,\n",
              "         -1.4598e-01,  7.1665e-01, -1.0583e-01, -1.0196e-01, -2.6774e-01,\n",
              "         -3.0577e-01,  3.1485e-01, -3.3664e-01, -4.4397e-01,  1.3531e-01,\n",
              "         -4.8987e-01, -4.2915e-02,  4.5427e-02, -1.2596e-01,  1.8923e-02,\n",
              "         -1.6024e-01, -9.2232e-02, -3.5194e-01, -2.7545e-01, -3.5941e-01,\n",
              "          2.6817e-01, -2.6366e-01,  9.0457e-02, -9.2097e-02, -1.9774e-01,\n",
              "          4.6269e-01,  1.1607e-01,  1.3638e-01,  6.0004e-02,  3.9527e-01,\n",
              "         -1.1322e-01,  1.2690e-01,  4.2236e-01, -3.3193e-01, -7.4226e-03,\n",
              "          1.8191e-01, -5.5758e-01, -2.4922e-01,  5.2611e-01, -1.7299e-01,\n",
              "          4.1897e-01,  6.1093e-03, -8.1025e-01,  1.3548e-01, -7.6091e-02,\n",
              "         -3.8482e-01, -1.5417e-01,  4.6581e-01, -9.7400e-03,  4.1822e-01,\n",
              "         -4.2008e-02,  2.2273e-01, -6.4145e-01,  1.8634e-01, -1.3202e-01,\n",
              "         -3.9934e-01, -2.9942e-01, -1.7588e-01,  1.9303e-02,  1.5465e-01,\n",
              "          2.7141e-02,  3.2142e-01,  2.6385e-01,  3.2257e-01, -9.9914e-02,\n",
              "         -9.1471e-03,  4.3118e-02,  6.8839e-02, -2.6404e-01, -2.3895e-01,\n",
              "          6.5638e-02, -3.2053e-01,  5.1668e-01,  2.8173e-01, -3.7288e-02,\n",
              "          1.0617e-01,  4.6700e-01, -1.5934e-01, -8.9508e-03,  3.0298e-02,\n",
              "         -7.9023e-02, -1.5837e-01,  7.5711e-02,  8.9498e-02,  3.1986e-01,\n",
              "          2.2785e-01, -4.9437e-02, -3.9528e-01, -4.7164e-01,  2.0658e-01,\n",
              "          1.4217e-02,  4.5529e-01, -1.3419e-01, -3.9373e-02, -1.2779e-01,\n",
              "          3.0422e-01,  6.3077e-03, -6.1479e-01,  3.0588e-01, -1.6315e-01,\n",
              "          4.7572e-01,  2.3351e-01, -3.7032e-02,  6.1474e-01, -6.3545e-01,\n",
              "          4.9494e-02, -2.3770e-01, -3.7476e-02, -2.0668e-01,  3.9850e-02,\n",
              "          5.5311e-02, -1.4646e-01, -7.8181e-01, -1.7054e-01, -4.7149e-01,\n",
              "          7.5343e-01,  1.6351e-01, -4.4028e-01,  3.0629e-01, -2.7545e-01,\n",
              "          7.0688e-01,  7.4454e-01,  4.4502e-01, -3.2818e-01, -6.1573e-01,\n",
              "          2.4681e-01,  2.0351e-01, -4.6858e-01, -2.0135e-01, -1.2309e-01],\n",
              "        [ 2.1431e-01,  3.7029e-01,  1.3680e-01, -1.8654e-01, -4.9157e-02,\n",
              "         -1.8875e-02, -1.3219e-02,  3.5794e-02, -3.9792e-02,  1.9413e-01,\n",
              "         -8.2587e-02,  2.4769e-04,  2.8826e-02,  2.0117e-01, -1.5427e-01,\n",
              "         -1.1394e-01, -4.7486e-02, -7.9230e-03,  6.5021e-02, -3.7848e-02,\n",
              "          6.2500e-02,  2.4957e-01,  1.0329e-01, -2.1149e-01, -1.7309e-02,\n",
              "         -2.8248e-02, -6.8758e-02, -9.2110e-02,  8.7144e-03, -1.6910e-01,\n",
              "         -5.7345e-02,  4.2102e-02, -5.2435e-01, -1.5833e-01,  5.8360e-02,\n",
              "         -6.7852e-03, -6.9321e-02, -5.7471e-03, -1.2035e-01, -4.4000e-02,\n",
              "          4.7503e-02, -2.3338e-01, -1.3302e-01,  1.2739e-01, -7.1630e-02,\n",
              "          1.2875e-01,  1.1333e-01,  1.2627e-02,  5.8997e-02,  2.4328e-01,\n",
              "         -8.1650e-02,  2.7231e-01,  1.6737e-01, -1.3362e-01,  1.8989e-01,\n",
              "         -9.0141e-02,  1.1490e-01, -5.9679e-02,  6.2645e-02, -1.4122e-01,\n",
              "         -2.0874e-01,  3.3249e-01,  2.1465e-01, -3.3467e-02,  5.2537e-02,\n",
              "         -1.4546e-01,  1.4617e-01,  1.5227e-01, -9.5225e-03,  2.5080e-02,\n",
              "          2.0392e-01, -4.7752e-02,  6.5554e-02, -4.8066e-02, -2.2732e-02,\n",
              "          1.1305e-01, -1.5462e-01,  4.8588e-02, -9.9270e-02,  1.3364e-02,\n",
              "          3.8740e-01,  1.5139e-01,  4.6594e-02,  3.7226e-01,  8.3500e-02,\n",
              "         -1.9531e-01,  4.2091e-01, -1.8361e-02,  8.9616e-02,  9.0616e-02,\n",
              "         -1.4104e-01,  1.3893e-01,  1.7567e-01, -4.7705e-02,  6.5285e-02,\n",
              "         -1.8173e-01,  1.3450e-01,  4.5293e-02,  1.7789e-01,  8.2463e-02,\n",
              "         -2.2643e-02, -7.8149e-03,  1.0493e-01,  1.1056e-01, -2.2953e-01,\n",
              "          9.8878e-02,  3.1046e-01, -8.7021e-02, -1.0318e-01,  2.1368e-01,\n",
              "         -2.5072e-02,  1.2943e-01,  1.5420e-01, -2.1949e-01,  3.7158e-02,\n",
              "         -7.8345e-02,  7.5610e-02, -1.4854e-01, -1.3058e-01, -1.7266e-01,\n",
              "         -2.3203e-01,  1.9699e-01, -1.1984e-01, -1.6124e-01, -1.2332e-02,\n",
              "          1.0877e-01,  1.7796e-01,  1.1661e-01,  5.2344e-02,  8.0440e-02,\n",
              "          1.2060e-01,  2.0155e-01, -2.4285e-02, -5.5194e-02,  3.4327e-01,\n",
              "         -1.7482e-01, -1.8962e-01,  1.7382e-02, -5.7912e-02,  7.3466e-02,\n",
              "         -1.7734e-01,  9.7564e-02,  3.9462e-02,  5.8507e-02,  8.7632e-02,\n",
              "          1.2970e-01, -9.6619e-02, -7.5556e-02,  4.5663e-02, -7.3920e-02,\n",
              "         -1.8773e-01, -2.2611e-01, -8.1767e-02, -1.4133e-01, -4.5895e-02,\n",
              "         -6.4561e-02, -1.6913e-01,  1.3028e-01, -8.0746e-02, -1.0216e-01,\n",
              "          2.4729e-01, -5.1099e-02,  3.0396e-01, -4.9666e-02,  5.2651e-02,\n",
              "         -4.5128e-02, -7.0815e-02, -9.6476e-03,  1.4118e-01, -4.3637e-03,\n",
              "         -1.0977e-01, -1.3453e-01, -5.4305e-02, -2.9188e-01, -4.8381e-02,\n",
              "         -1.3429e-01,  9.6718e-02,  1.7638e-01, -3.5463e-02,  1.2303e-01,\n",
              "          1.2731e-01,  7.4382e-02, -7.5713e-02, -1.1499e-01, -4.1284e-02,\n",
              "         -9.1428e-03,  2.7424e-01,  2.0113e-01,  7.6490e-02, -3.6524e-01,\n",
              "          1.1320e-01,  8.5415e-02, -1.0072e-01,  1.6030e-01,  1.6279e-01,\n",
              "         -2.0158e-01, -2.9432e-01, -9.0309e-02, -1.1269e-01, -2.3684e-02,\n",
              "         -4.2826e-01, -1.1719e-01,  2.2911e-01, -8.2881e-02, -4.2563e-01,\n",
              "         -3.6438e-01, -7.1365e-02, -1.9014e-01,  6.8707e-03,  1.4848e-02,\n",
              "          1.7795e-01,  1.8112e-01, -2.6902e-02, -9.5489e-03,  2.8974e-02,\n",
              "         -2.4298e-01, -1.7094e-01, -4.8234e-03, -7.0278e-04, -2.2774e-01,\n",
              "         -1.7280e-01, -1.2731e-02,  2.3089e-01,  5.3524e-02,  2.1287e-02,\n",
              "         -2.0424e-02,  1.8913e-01, -3.9485e-02, -9.1004e-02,  8.9236e-02,\n",
              "         -8.1822e-02,  5.5876e-02, -1.6897e-01,  8.4986e-02, -1.1138e-01,\n",
              "         -2.9030e-01, -1.4191e-02,  1.5913e-01,  1.4772e-01,  1.8692e-02,\n",
              "          1.1741e-02, -2.0783e-01,  9.6129e-03, -2.3202e-02, -2.7767e-01,\n",
              "         -1.8860e-02,  8.9174e-02, -1.3595e-01, -2.0286e-03,  5.4969e-02,\n",
              "         -1.8534e-02,  1.1293e-01,  2.8156e-01, -2.8426e-01, -1.2399e-01,\n",
              "          1.0273e-01, -8.6221e-02,  6.0274e-02, -1.8465e-02,  1.2081e-01,\n",
              "         -1.3786e-03,  9.4579e-02,  8.1457e-02,  1.9212e-02, -8.9423e-03,\n",
              "         -2.1411e-01, -3.1616e-01, -1.8657e-02, -6.9088e-02, -1.3001e-01,\n",
              "         -4.1087e-02, -3.0748e-01,  1.2007e-01, -2.3713e-01,  8.1377e-02,\n",
              "          1.8877e-01, -6.0567e-02, -1.2455e-01, -2.6133e-01,  1.3033e-01,\n",
              "         -1.1847e-01, -1.2758e-01, -2.4445e-02, -8.8520e-02,  1.0324e-01,\n",
              "         -8.0854e-02,  1.1291e-01,  3.4328e-02, -8.7111e-02, -1.1443e-01,\n",
              "         -1.2091e-01,  8.8399e-03, -3.7120e-03,  1.6715e-02, -1.7683e-01,\n",
              "          1.0488e-01,  1.0295e-02,  2.9499e-01, -5.6209e-02, -1.9368e-01],\n",
              "        [ 0.0000e+00,  0.0000e+00,  0.0000e+00,  0.0000e+00,  0.0000e+00,\n",
              "          0.0000e+00,  0.0000e+00,  0.0000e+00,  0.0000e+00,  0.0000e+00,\n",
              "          0.0000e+00,  0.0000e+00,  0.0000e+00,  0.0000e+00,  0.0000e+00,\n",
              "          0.0000e+00,  0.0000e+00,  0.0000e+00,  0.0000e+00,  0.0000e+00,\n",
              "          0.0000e+00,  0.0000e+00,  0.0000e+00,  0.0000e+00,  0.0000e+00,\n",
              "          0.0000e+00,  0.0000e+00,  0.0000e+00,  0.0000e+00,  0.0000e+00,\n",
              "          0.0000e+00,  0.0000e+00,  0.0000e+00,  0.0000e+00,  0.0000e+00,\n",
              "          0.0000e+00,  0.0000e+00,  0.0000e+00,  0.0000e+00,  0.0000e+00,\n",
              "          0.0000e+00,  0.0000e+00,  0.0000e+00,  0.0000e+00,  0.0000e+00,\n",
              "          0.0000e+00,  0.0000e+00,  0.0000e+00,  0.0000e+00,  0.0000e+00,\n",
              "          0.0000e+00,  0.0000e+00,  0.0000e+00,  0.0000e+00,  0.0000e+00,\n",
              "          0.0000e+00,  0.0000e+00,  0.0000e+00,  0.0000e+00,  0.0000e+00,\n",
              "          0.0000e+00,  0.0000e+00,  0.0000e+00,  0.0000e+00,  0.0000e+00,\n",
              "          0.0000e+00,  0.0000e+00,  0.0000e+00,  0.0000e+00,  0.0000e+00,\n",
              "          0.0000e+00,  0.0000e+00,  0.0000e+00,  0.0000e+00,  0.0000e+00,\n",
              "          0.0000e+00,  0.0000e+00,  0.0000e+00,  0.0000e+00,  0.0000e+00,\n",
              "          0.0000e+00,  0.0000e+00,  0.0000e+00,  0.0000e+00,  0.0000e+00,\n",
              "          0.0000e+00,  0.0000e+00,  0.0000e+00,  0.0000e+00,  0.0000e+00,\n",
              "          0.0000e+00,  0.0000e+00,  0.0000e+00,  0.0000e+00,  0.0000e+00,\n",
              "          0.0000e+00,  0.0000e+00,  0.0000e+00,  0.0000e+00,  0.0000e+00,\n",
              "          0.0000e+00,  0.0000e+00,  0.0000e+00,  0.0000e+00,  0.0000e+00,\n",
              "          0.0000e+00,  0.0000e+00,  0.0000e+00,  0.0000e+00,  0.0000e+00,\n",
              "          0.0000e+00,  0.0000e+00,  0.0000e+00,  0.0000e+00,  0.0000e+00,\n",
              "          0.0000e+00,  0.0000e+00,  0.0000e+00,  0.0000e+00,  0.0000e+00,\n",
              "          0.0000e+00,  0.0000e+00,  0.0000e+00,  0.0000e+00,  0.0000e+00,\n",
              "          0.0000e+00,  0.0000e+00,  0.0000e+00,  0.0000e+00,  0.0000e+00,\n",
              "          0.0000e+00,  0.0000e+00,  0.0000e+00,  0.0000e+00,  0.0000e+00,\n",
              "          0.0000e+00,  0.0000e+00,  0.0000e+00,  0.0000e+00,  0.0000e+00,\n",
              "          0.0000e+00,  0.0000e+00,  0.0000e+00,  0.0000e+00,  0.0000e+00,\n",
              "          0.0000e+00,  0.0000e+00,  0.0000e+00,  0.0000e+00,  0.0000e+00,\n",
              "          0.0000e+00,  0.0000e+00,  0.0000e+00,  0.0000e+00,  0.0000e+00,\n",
              "          0.0000e+00,  0.0000e+00,  0.0000e+00,  0.0000e+00,  0.0000e+00,\n",
              "          0.0000e+00,  0.0000e+00,  0.0000e+00,  0.0000e+00,  0.0000e+00,\n",
              "          0.0000e+00,  0.0000e+00,  0.0000e+00,  0.0000e+00,  0.0000e+00,\n",
              "          0.0000e+00,  0.0000e+00,  0.0000e+00,  0.0000e+00,  0.0000e+00,\n",
              "          0.0000e+00,  0.0000e+00,  0.0000e+00,  0.0000e+00,  0.0000e+00,\n",
              "          0.0000e+00,  0.0000e+00,  0.0000e+00,  0.0000e+00,  0.0000e+00,\n",
              "          0.0000e+00,  0.0000e+00,  0.0000e+00,  0.0000e+00,  0.0000e+00,\n",
              "          0.0000e+00,  0.0000e+00,  0.0000e+00,  0.0000e+00,  0.0000e+00,\n",
              "          0.0000e+00,  0.0000e+00,  0.0000e+00,  0.0000e+00,  0.0000e+00,\n",
              "          0.0000e+00,  0.0000e+00,  0.0000e+00,  0.0000e+00,  0.0000e+00,\n",
              "          0.0000e+00,  0.0000e+00,  0.0000e+00,  0.0000e+00,  0.0000e+00,\n",
              "          0.0000e+00,  0.0000e+00,  0.0000e+00,  0.0000e+00,  0.0000e+00,\n",
              "          0.0000e+00,  0.0000e+00,  0.0000e+00,  0.0000e+00,  0.0000e+00,\n",
              "          0.0000e+00,  0.0000e+00,  0.0000e+00,  0.0000e+00,  0.0000e+00,\n",
              "          0.0000e+00,  0.0000e+00,  0.0000e+00,  0.0000e+00,  0.0000e+00,\n",
              "          0.0000e+00,  0.0000e+00,  0.0000e+00,  0.0000e+00,  0.0000e+00,\n",
              "          0.0000e+00,  0.0000e+00,  0.0000e+00,  0.0000e+00,  0.0000e+00,\n",
              "          0.0000e+00,  0.0000e+00,  0.0000e+00,  0.0000e+00,  0.0000e+00,\n",
              "          0.0000e+00,  0.0000e+00,  0.0000e+00,  0.0000e+00,  0.0000e+00,\n",
              "          0.0000e+00,  0.0000e+00,  0.0000e+00,  0.0000e+00,  0.0000e+00,\n",
              "          0.0000e+00,  0.0000e+00,  0.0000e+00,  0.0000e+00,  0.0000e+00,\n",
              "          0.0000e+00,  0.0000e+00,  0.0000e+00,  0.0000e+00,  0.0000e+00,\n",
              "          0.0000e+00,  0.0000e+00,  0.0000e+00,  0.0000e+00,  0.0000e+00,\n",
              "          0.0000e+00,  0.0000e+00,  0.0000e+00,  0.0000e+00,  0.0000e+00,\n",
              "          0.0000e+00,  0.0000e+00,  0.0000e+00,  0.0000e+00,  0.0000e+00,\n",
              "          0.0000e+00,  0.0000e+00,  0.0000e+00,  0.0000e+00,  0.0000e+00,\n",
              "          0.0000e+00,  0.0000e+00,  0.0000e+00,  0.0000e+00,  0.0000e+00,\n",
              "          0.0000e+00,  0.0000e+00,  0.0000e+00,  0.0000e+00,  0.0000e+00,\n",
              "          0.0000e+00,  0.0000e+00,  0.0000e+00,  0.0000e+00,  0.0000e+00]])"
            ]
          },
          "metadata": {},
          "execution_count": 109
        }
      ]
    },
    {
      "cell_type": "code",
      "metadata": {
        "id": "KVUY1PF0L_mF"
      },
      "source": [
        "# Максимальное количество слов \n",
        "num_words = 10000\n",
        "# Максимальная длина новости\n",
        "max_news_len = 500\n",
        "# Количество классов новостей\n",
        "nb_classes = 2"
      ],
      "execution_count": null,
      "outputs": []
    },
    {
      "cell_type": "markdown",
      "metadata": {
        "id": "S6itvI2G5H1k"
      },
      "source": [
        "## Загрузка набора данных"
      ]
    },
    {
      "cell_type": "markdown",
      "source": [
        "Загружаем данные для обучения"
      ],
      "metadata": {
        "id": "t6mtyhMYEVL9"
      }
    },
    {
      "cell_type": "code",
      "source": [
        "train = pd.read_excel('/content/train.xlsx')\n",
        "train.head()"
      ],
      "metadata": {
        "colab": {
          "base_uri": "https://localhost:8080/",
          "height": 206
        },
        "id": "KkfS3NiREfbL",
        "outputId": "69fdecaa-cf78-4654-e3d7-be27f98fb734"
      },
      "execution_count": null,
      "outputs": [
        {
          "output_type": "execute_result",
          "data": {
            "text/plain": [
              "   class                                              title  \\\n",
              "0      0           Плотник ослеп и впал в кому из-за занозы   \n",
              "1      1                Зеленский оценил помощь США Украине   \n",
              "2      0  Сбившего двух пешеходов и скрывшегося с места ...   \n",
              "3      0  Саакашвили ограничили в курении электронных си...   \n",
              "4      0  Россиянка упала под прибывающий поезд в метро ...   \n",
              "\n",
              "                                                text  \\\n",
              "0  30-летний житель английского города Сент-Остел...   \n",
              "1  Президент Украины Владимир Зеленский признал, ...   \n",
              "2  Полицейские задержали водителя иномарки, сбивш...   \n",
              "3  Лечащие врачи бывшего президента Грузии Михаил...   \n",
              "4  Пассажирка упала на пути под прибывающий поезд...   \n",
              "\n",
              "                                              link language  \n",
              "0       https://lenta.ru/news/2022/12/12/splinter/      rus  \n",
              "1            https://lenta.ru/news/2022/12/12/usa/      rus  \n",
              "2  https://lenta.ru/news/2022/12/12/sbil_i_uyehal/      rus  \n",
              "3     https://lenta.ru/news/2022/12/12/sigaretyfu/      rus  \n",
              "4          https://lenta.ru/news/2022/12/12/metro/      rus  "
            ],
            "text/html": [
              "\n",
              "  <div id=\"df-7d1f7173-ab5b-40e1-b5ab-d5cef870cbc5\">\n",
              "    <div class=\"colab-df-container\">\n",
              "      <div>\n",
              "<style scoped>\n",
              "    .dataframe tbody tr th:only-of-type {\n",
              "        vertical-align: middle;\n",
              "    }\n",
              "\n",
              "    .dataframe tbody tr th {\n",
              "        vertical-align: top;\n",
              "    }\n",
              "\n",
              "    .dataframe thead th {\n",
              "        text-align: right;\n",
              "    }\n",
              "</style>\n",
              "<table border=\"1\" class=\"dataframe\">\n",
              "  <thead>\n",
              "    <tr style=\"text-align: right;\">\n",
              "      <th></th>\n",
              "      <th>class</th>\n",
              "      <th>title</th>\n",
              "      <th>text</th>\n",
              "      <th>link</th>\n",
              "      <th>language</th>\n",
              "    </tr>\n",
              "  </thead>\n",
              "  <tbody>\n",
              "    <tr>\n",
              "      <th>0</th>\n",
              "      <td>0</td>\n",
              "      <td>Плотник ослеп и впал в кому из-за занозы</td>\n",
              "      <td>30-летний житель английского города Сент-Остел...</td>\n",
              "      <td>https://lenta.ru/news/2022/12/12/splinter/</td>\n",
              "      <td>rus</td>\n",
              "    </tr>\n",
              "    <tr>\n",
              "      <th>1</th>\n",
              "      <td>1</td>\n",
              "      <td>Зеленский оценил помощь США Украине</td>\n",
              "      <td>Президент Украины Владимир Зеленский признал, ...</td>\n",
              "      <td>https://lenta.ru/news/2022/12/12/usa/</td>\n",
              "      <td>rus</td>\n",
              "    </tr>\n",
              "    <tr>\n",
              "      <th>2</th>\n",
              "      <td>0</td>\n",
              "      <td>Сбившего двух пешеходов и скрывшегося с места ...</td>\n",
              "      <td>Полицейские задержали водителя иномарки, сбивш...</td>\n",
              "      <td>https://lenta.ru/news/2022/12/12/sbil_i_uyehal/</td>\n",
              "      <td>rus</td>\n",
              "    </tr>\n",
              "    <tr>\n",
              "      <th>3</th>\n",
              "      <td>0</td>\n",
              "      <td>Саакашвили ограничили в курении электронных си...</td>\n",
              "      <td>Лечащие врачи бывшего президента Грузии Михаил...</td>\n",
              "      <td>https://lenta.ru/news/2022/12/12/sigaretyfu/</td>\n",
              "      <td>rus</td>\n",
              "    </tr>\n",
              "    <tr>\n",
              "      <th>4</th>\n",
              "      <td>0</td>\n",
              "      <td>Россиянка упала под прибывающий поезд в метро ...</td>\n",
              "      <td>Пассажирка упала на пути под прибывающий поезд...</td>\n",
              "      <td>https://lenta.ru/news/2022/12/12/metro/</td>\n",
              "      <td>rus</td>\n",
              "    </tr>\n",
              "  </tbody>\n",
              "</table>\n",
              "</div>\n",
              "      <button class=\"colab-df-convert\" onclick=\"convertToInteractive('df-7d1f7173-ab5b-40e1-b5ab-d5cef870cbc5')\"\n",
              "              title=\"Convert this dataframe to an interactive table.\"\n",
              "              style=\"display:none;\">\n",
              "        \n",
              "  <svg xmlns=\"http://www.w3.org/2000/svg\" height=\"24px\"viewBox=\"0 0 24 24\"\n",
              "       width=\"24px\">\n",
              "    <path d=\"M0 0h24v24H0V0z\" fill=\"none\"/>\n",
              "    <path d=\"M18.56 5.44l.94 2.06.94-2.06 2.06-.94-2.06-.94-.94-2.06-.94 2.06-2.06.94zm-11 1L8.5 8.5l.94-2.06 2.06-.94-2.06-.94L8.5 2.5l-.94 2.06-2.06.94zm10 10l.94 2.06.94-2.06 2.06-.94-2.06-.94-.94-2.06-.94 2.06-2.06.94z\"/><path d=\"M17.41 7.96l-1.37-1.37c-.4-.4-.92-.59-1.43-.59-.52 0-1.04.2-1.43.59L10.3 9.45l-7.72 7.72c-.78.78-.78 2.05 0 2.83L4 21.41c.39.39.9.59 1.41.59.51 0 1.02-.2 1.41-.59l7.78-7.78 2.81-2.81c.8-.78.8-2.07 0-2.86zM5.41 20L4 18.59l7.72-7.72 1.47 1.35L5.41 20z\"/>\n",
              "  </svg>\n",
              "      </button>\n",
              "      \n",
              "  <style>\n",
              "    .colab-df-container {\n",
              "      display:flex;\n",
              "      flex-wrap:wrap;\n",
              "      gap: 12px;\n",
              "    }\n",
              "\n",
              "    .colab-df-convert {\n",
              "      background-color: #E8F0FE;\n",
              "      border: none;\n",
              "      border-radius: 50%;\n",
              "      cursor: pointer;\n",
              "      display: none;\n",
              "      fill: #1967D2;\n",
              "      height: 32px;\n",
              "      padding: 0 0 0 0;\n",
              "      width: 32px;\n",
              "    }\n",
              "\n",
              "    .colab-df-convert:hover {\n",
              "      background-color: #E2EBFA;\n",
              "      box-shadow: 0px 1px 2px rgba(60, 64, 67, 0.3), 0px 1px 3px 1px rgba(60, 64, 67, 0.15);\n",
              "      fill: #174EA6;\n",
              "    }\n",
              "\n",
              "    [theme=dark] .colab-df-convert {\n",
              "      background-color: #3B4455;\n",
              "      fill: #D2E3FC;\n",
              "    }\n",
              "\n",
              "    [theme=dark] .colab-df-convert:hover {\n",
              "      background-color: #434B5C;\n",
              "      box-shadow: 0px 1px 3px 1px rgba(0, 0, 0, 0.15);\n",
              "      filter: drop-shadow(0px 1px 2px rgba(0, 0, 0, 0.3));\n",
              "      fill: #FFFFFF;\n",
              "    }\n",
              "  </style>\n",
              "\n",
              "      <script>\n",
              "        const buttonEl =\n",
              "          document.querySelector('#df-7d1f7173-ab5b-40e1-b5ab-d5cef870cbc5 button.colab-df-convert');\n",
              "        buttonEl.style.display =\n",
              "          google.colab.kernel.accessAllowed ? 'block' : 'none';\n",
              "\n",
              "        async function convertToInteractive(key) {\n",
              "          const element = document.querySelector('#df-7d1f7173-ab5b-40e1-b5ab-d5cef870cbc5');\n",
              "          const dataTable =\n",
              "            await google.colab.kernel.invokeFunction('convertToInteractive',\n",
              "                                                     [key], {});\n",
              "          if (!dataTable) return;\n",
              "\n",
              "          const docLinkHtml = 'Like what you see? Visit the ' +\n",
              "            '<a target=\"_blank\" href=https://colab.research.google.com/notebooks/data_table.ipynb>data table notebook</a>'\n",
              "            + ' to learn more about interactive tables.';\n",
              "          element.innerHTML = '';\n",
              "          dataTable['output_type'] = 'display_data';\n",
              "          await google.colab.output.renderOutput(dataTable, element);\n",
              "          const docLink = document.createElement('div');\n",
              "          docLink.innerHTML = docLinkHtml;\n",
              "          element.appendChild(docLink);\n",
              "        }\n",
              "      </script>\n",
              "    </div>\n",
              "  </div>\n",
              "  "
            ]
          },
          "metadata": {},
          "execution_count": 39
        }
      ]
    },
    {
      "cell_type": "markdown",
      "source": [
        "Загружаем данные для тестирования"
      ],
      "metadata": {
        "id": "uK03SA0rEmpp"
      }
    },
    {
      "cell_type": "code",
      "source": [
        "test = pd.read_excel('/content/test.xlsx')\n",
        "test.head()"
      ],
      "metadata": {
        "colab": {
          "base_uri": "https://localhost:8080/",
          "height": 206
        },
        "id": "_V_QawOFEpv5",
        "outputId": "b9122696-80e8-475c-b7a8-08adb647a0b7"
      },
      "execution_count": null,
      "outputs": [
        {
          "output_type": "execute_result",
          "data": {
            "text/plain": [
              "   class                                              title  \\\n",
              "0      1  В Германии планировали убить канцлера Олафа Шо...   \n",
              "1      1    Албанцы силой захватили власть на севере Косова   \n",
              "2      1  Посол покинул съезд партии в Сербии после виде...   \n",
              "3      1  Команда Байдена начала подготовку к его предвы...   \n",
              "4      1  Сборная Хорватии стала бронзовым призером чемп...   \n",
              "\n",
              "                                                text  \\\n",
              "0  Немецкий князь Генрих XIII со своими ближайшим...   \n",
              "1  Албанцы провели силовой захват власти в муници...   \n",
              "2  Посол России в Сербии Александр Боцан-Харченко...   \n",
              "3  Команда президента США Джо Байдена начала план...   \n",
              "4  Сборная Хорватии по футболу обыграла команду М...   \n",
              "\n",
              "                                               link language  \n",
              "0       https://lenta.ru/articles/2022/12/15/reich/      rus  \n",
              "1          https://lenta.ru/news/2022/12/14/kosowo/      rus  \n",
              "2            https://lenta.ru/news/2022/12/18/psll/      rus  \n",
              "3           https://lenta.ru/news/2022/12/18/biden/      rus  \n",
              "4  https://lenta.ru/news/2022/12/17/croatiamorocco/      rus  "
            ],
            "text/html": [
              "\n",
              "  <div id=\"df-73c3d35f-228f-4ed3-9ea5-4469b594528e\">\n",
              "    <div class=\"colab-df-container\">\n",
              "      <div>\n",
              "<style scoped>\n",
              "    .dataframe tbody tr th:only-of-type {\n",
              "        vertical-align: middle;\n",
              "    }\n",
              "\n",
              "    .dataframe tbody tr th {\n",
              "        vertical-align: top;\n",
              "    }\n",
              "\n",
              "    .dataframe thead th {\n",
              "        text-align: right;\n",
              "    }\n",
              "</style>\n",
              "<table border=\"1\" class=\"dataframe\">\n",
              "  <thead>\n",
              "    <tr style=\"text-align: right;\">\n",
              "      <th></th>\n",
              "      <th>class</th>\n",
              "      <th>title</th>\n",
              "      <th>text</th>\n",
              "      <th>link</th>\n",
              "      <th>language</th>\n",
              "    </tr>\n",
              "  </thead>\n",
              "  <tbody>\n",
              "    <tr>\n",
              "      <th>0</th>\n",
              "      <td>1</td>\n",
              "      <td>В Германии планировали убить канцлера Олафа Шо...</td>\n",
              "      <td>Немецкий князь Генрих XIII со своими ближайшим...</td>\n",
              "      <td>https://lenta.ru/articles/2022/12/15/reich/</td>\n",
              "      <td>rus</td>\n",
              "    </tr>\n",
              "    <tr>\n",
              "      <th>1</th>\n",
              "      <td>1</td>\n",
              "      <td>Албанцы силой захватили власть на севере Косова</td>\n",
              "      <td>Албанцы провели силовой захват власти в муници...</td>\n",
              "      <td>https://lenta.ru/news/2022/12/14/kosowo/</td>\n",
              "      <td>rus</td>\n",
              "    </tr>\n",
              "    <tr>\n",
              "      <th>2</th>\n",
              "      <td>1</td>\n",
              "      <td>Посол покинул съезд партии в Сербии после виде...</td>\n",
              "      <td>Посол России в Сербии Александр Боцан-Харченко...</td>\n",
              "      <td>https://lenta.ru/news/2022/12/18/psll/</td>\n",
              "      <td>rus</td>\n",
              "    </tr>\n",
              "    <tr>\n",
              "      <th>3</th>\n",
              "      <td>1</td>\n",
              "      <td>Команда Байдена начала подготовку к его предвы...</td>\n",
              "      <td>Команда президента США Джо Байдена начала план...</td>\n",
              "      <td>https://lenta.ru/news/2022/12/18/biden/</td>\n",
              "      <td>rus</td>\n",
              "    </tr>\n",
              "    <tr>\n",
              "      <th>4</th>\n",
              "      <td>1</td>\n",
              "      <td>Сборная Хорватии стала бронзовым призером чемп...</td>\n",
              "      <td>Сборная Хорватии по футболу обыграла команду М...</td>\n",
              "      <td>https://lenta.ru/news/2022/12/17/croatiamorocco/</td>\n",
              "      <td>rus</td>\n",
              "    </tr>\n",
              "  </tbody>\n",
              "</table>\n",
              "</div>\n",
              "      <button class=\"colab-df-convert\" onclick=\"convertToInteractive('df-73c3d35f-228f-4ed3-9ea5-4469b594528e')\"\n",
              "              title=\"Convert this dataframe to an interactive table.\"\n",
              "              style=\"display:none;\">\n",
              "        \n",
              "  <svg xmlns=\"http://www.w3.org/2000/svg\" height=\"24px\"viewBox=\"0 0 24 24\"\n",
              "       width=\"24px\">\n",
              "    <path d=\"M0 0h24v24H0V0z\" fill=\"none\"/>\n",
              "    <path d=\"M18.56 5.44l.94 2.06.94-2.06 2.06-.94-2.06-.94-.94-2.06-.94 2.06-2.06.94zm-11 1L8.5 8.5l.94-2.06 2.06-.94-2.06-.94L8.5 2.5l-.94 2.06-2.06.94zm10 10l.94 2.06.94-2.06 2.06-.94-2.06-.94-.94-2.06-.94 2.06-2.06.94z\"/><path d=\"M17.41 7.96l-1.37-1.37c-.4-.4-.92-.59-1.43-.59-.52 0-1.04.2-1.43.59L10.3 9.45l-7.72 7.72c-.78.78-.78 2.05 0 2.83L4 21.41c.39.39.9.59 1.41.59.51 0 1.02-.2 1.41-.59l7.78-7.78 2.81-2.81c.8-.78.8-2.07 0-2.86zM5.41 20L4 18.59l7.72-7.72 1.47 1.35L5.41 20z\"/>\n",
              "  </svg>\n",
              "      </button>\n",
              "      \n",
              "  <style>\n",
              "    .colab-df-container {\n",
              "      display:flex;\n",
              "      flex-wrap:wrap;\n",
              "      gap: 12px;\n",
              "    }\n",
              "\n",
              "    .colab-df-convert {\n",
              "      background-color: #E8F0FE;\n",
              "      border: none;\n",
              "      border-radius: 50%;\n",
              "      cursor: pointer;\n",
              "      display: none;\n",
              "      fill: #1967D2;\n",
              "      height: 32px;\n",
              "      padding: 0 0 0 0;\n",
              "      width: 32px;\n",
              "    }\n",
              "\n",
              "    .colab-df-convert:hover {\n",
              "      background-color: #E2EBFA;\n",
              "      box-shadow: 0px 1px 2px rgba(60, 64, 67, 0.3), 0px 1px 3px 1px rgba(60, 64, 67, 0.15);\n",
              "      fill: #174EA6;\n",
              "    }\n",
              "\n",
              "    [theme=dark] .colab-df-convert {\n",
              "      background-color: #3B4455;\n",
              "      fill: #D2E3FC;\n",
              "    }\n",
              "\n",
              "    [theme=dark] .colab-df-convert:hover {\n",
              "      background-color: #434B5C;\n",
              "      box-shadow: 0px 1px 3px 1px rgba(0, 0, 0, 0.15);\n",
              "      filter: drop-shadow(0px 1px 2px rgba(0, 0, 0, 0.3));\n",
              "      fill: #FFFFFF;\n",
              "    }\n",
              "  </style>\n",
              "\n",
              "      <script>\n",
              "        const buttonEl =\n",
              "          document.querySelector('#df-73c3d35f-228f-4ed3-9ea5-4469b594528e button.colab-df-convert');\n",
              "        buttonEl.style.display =\n",
              "          google.colab.kernel.accessAllowed ? 'block' : 'none';\n",
              "\n",
              "        async function convertToInteractive(key) {\n",
              "          const element = document.querySelector('#df-73c3d35f-228f-4ed3-9ea5-4469b594528e');\n",
              "          const dataTable =\n",
              "            await google.colab.kernel.invokeFunction('convertToInteractive',\n",
              "                                                     [key], {});\n",
              "          if (!dataTable) return;\n",
              "\n",
              "          const docLinkHtml = 'Like what you see? Visit the ' +\n",
              "            '<a target=\"_blank\" href=https://colab.research.google.com/notebooks/data_table.ipynb>data table notebook</a>'\n",
              "            + ' to learn more about interactive tables.';\n",
              "          element.innerHTML = '';\n",
              "          dataTable['output_type'] = 'display_data';\n",
              "          await google.colab.output.renderOutput(dataTable, element);\n",
              "          const docLink = document.createElement('div');\n",
              "          docLink.innerHTML = docLinkHtml;\n",
              "          element.appendChild(docLink);\n",
              "        }\n",
              "      </script>\n",
              "    </div>\n",
              "  </div>\n",
              "  "
            ]
          },
          "metadata": {},
          "execution_count": 41
        }
      ]
    },
    {
      "cell_type": "markdown",
      "metadata": {
        "id": "131Gk9fzGVMg"
      },
      "source": [
        "## Просматриваем данные"
      ]
    },
    {
      "cell_type": "code",
      "metadata": {
        "id": "V116c5A82IeD",
        "outputId": "0c95ccfa-2fe0-4e13-de74-be5517a772f1",
        "colab": {
          "base_uri": "https://localhost:8080/"
        }
      },
      "source": [
        "!ls"
      ],
      "execution_count": null,
      "outputs": [
        {
          "output_type": "stream",
          "name": "stdout",
          "text": [
            "sample_data  test.xlsx\ttrain.xlsx\n"
          ]
        }
      ]
    },
    {
      "cell_type": "code",
      "metadata": {
        "id": "k6_oiP9NGlI2",
        "outputId": "00481ebf-5972-4aa4-9847-ceb775139aed",
        "colab": {
          "base_uri": "https://localhost:8080/"
        }
      },
      "source": [
        "!head train.xlsx"
      ],
      "execution_count": null,
      "outputs": [
        {
          "output_type": "stream",
          "name": "stdout",
          "text": [
            "PK\u0003\u0004\u0014\u0000\u0006\u0000\b\u0000\u0000\u0000!\u0000b�h^\u0001\u0000\u0000�\u0004\u0000\u0000\u0013\u0000\b\u0002[Content_Types].xml �\u0004\u0002(�\u0000\u0002\u0000\u0000\u0000\u0000\u0000\u0000\u0000\u0000\u0000\u0000\u0000\u0000\u0000\u0000\u0000\u0000\u0000\u0000\u0000\u0000\u0000\u0000\u0000\u0000\u0000\u0000\u0000\u0000\u0000\u0000\u0000\u0000\u0000\u0000\u0000\u0000\u0000\u0000\u0000\u0000\u0000\u0000\u0000\u0000\u0000\u0000\u0000\u0000\u0000\u0000\u0000\u0000\u0000\u0000\u0000\u0000\u0000\u0000\u0000\u0000\u0000\u0000\u0000\u0000\u0000\u0000\u0000\u0000\u0000\u0000\u0000\u0000\u0000\u0000\u0000\u0000\u0000\u0000\u0000\u0000\u0000\u0000\u0000\u0000\u0000\u0000\u0000\u0000\u0000\u0000\u0000\u0000\u0000\u0000\u0000\u0000\u0000\u0000\u0000\u0000\u0000\u0000\u0000\u0000\u0000\u0000\u0000\u0000\u0000\u0000\u0000\u0000\u0000\u0000\u0000\u0000\u0000\u0000\u0000\u0000\u0000\u0000\u0000\u0000\u0000\u0000\u0000\u0000\u0000\u0000\u0000\u0000\u0000\u0000\u0000\u0000\u0000\u0000\u0000\u0000\u0000\u0000\u0000\u0000\u0000\u0000\u0000\u0000\u0000\u0000\u0000\u0000\u0000\u0000\u0000\u0000\u0000\u0000\u0000\u0000\u0000\u0000\u0000\u0000\u0000\u0000\u0000\u0000\u0000\u0000\u0000\u0000\u0000\u0000\u0000\u0000\u0000\u0000\u0000\u0000\u0000\u0000\u0000\u0000\u0000\u0000\u0000\u0000\u0000\u0000\u0000\u0000\u0000\u0000\u0000\u0000\u0000\u0000\u0000\u0000\u0000\u0000\u0000\u0000\u0000\u0000\u0000\u0000\u0000\u0000\u0000\u0000\u0000\u0000\u0000\u0000\u0000\u0000\u0000\u0000\u0000\u0000\u0000\u0000\u0000\u0000\u0000\u0000\u0000\u0000\u0000\u0000\u0000\u0000\u0000\u0000\u0000\u0000\u0000\u0000\u0000\u0000\u0000\u0000\u0000\u0000\u0000\u0000\u0000\u0000\u0000\u0000\u0000\u0000\u0000\u0000\u0000\u0000\u0000\u0000\u0000\u0000\u0000\u0000\u0000\u0000\u0000\u0000\u0000\u0000\u0000\u0000\u0000\u0000\u0000\u0000\u0000\u0000\u0000\u0000\u0000\u0000\u0000\u0000\u0000\u0000\u0000\u0000\u0000\u0000\u0000\u0000\u0000\u0000\u0000\u0000\u0000\u0000\u0000\u0000\u0000\u0000\u0000\u0000\u0000\u0000\u0000\u0000\u0000\u0000\u0000\u0000\u0000\u0000\u0000\u0000\u0000\u0000\u0000\u0000\u0000\u0000\u0000\u0000\u0000\u0000\u0000\u0000\u0000\u0000\u0000\u0000\u0000\u0000\u0000\u0000\u0000\u0000\u0000\u0000\u0000\u0000\u0000\u0000\u0000\u0000\u0000\u0000\u0000\u0000\u0000\u0000\u0000\u0000\u0000\u0000\u0000\u0000\u0000\u0000\u0000\u0000\u0000\u0000\u0000\u0000\u0000\u0000\u0000\u0000\u0000\u0000\u0000\u0000\u0000\u0000\u0000\u0000\u0000\u0000\u0000\u0000\u0000\u0000\u0000\u0000\u0000\u0000\u0000\u0000\u0000\u0000\u0000\u0000\u0000\u0000\u0000\u0000\u0000\u0000\u0000\u0000\u0000\u0000\u0000\u0000\u0000\u0000\u0000\u0000\u0000\u0000\u0000\u0000\u0000\u0000\u0000\u0000\u0000\u0000\u0000\u0000\u0000\u0000\u0000\u0000\u0000\u0000\u0000\u0000\u0000\u0000\u0000\u0000\u0000\u0000\u0000\u0000\u0000\u0000\u0000\u0000\u0000\u0000\u0000\u0000\u0000\u0000\u0000\u0000\u0000\u0000\u0000\u0000\u0000\u0000\u0000\u0000\u0000\u0000\u0000\u0000\u0000\u0000\u0000\u0000\u0000\u0000\u0000\u0000\u0000\u0000\u0000\u0000\u0000\u0000\u0000\u0000\u0000\u0000\u0000\u0000\u0000\u0000\u0000\u0000\u0000\u0000\u0000\u0000\u0000\u0000\u0000\u0000\u0000\u0000\u0000\u0000\u0000\u0000\u0000\u0000\u0000\u0000\u0000\u0000\u0000\u0000\u0000\u0000\u0000\u0000���N�0\u0010E�H�C�-Jܲ@\b5��\u0012*Q>�ēƪc[�ii����\u0010B�\u0015j7�\u0012��{2��h�nm���ƻR\f����U^\u001b7/���%�\u0017\u0019�rZY�\u0014\u001b@1\u0019__�f�\u0000�q��R4D�AJ�\u001ah\u0015\u0016>����V\u0011�ƹ\f�Z�9����NV�\u00118ʩ�\u0010��\u0013�ji){^��-I\u0004�\"{�\u0016v^�P!XS)bR�r��K�s(�3�`c\u0002�0���\u000e���\u0006��7\u001eM4\u001a�����ZƐk+�|\\|z�(���P��6\u0015h_-[�@�!���\u0000Pk��\u0016�2n�}�?\u0015�L��� ��%�\u0013\u001c��\u001bd����dN\u0018\"m,�ǞDO97*�~��ɸ8�O�c\u001c|n��\u0007�\u0004E��\u0014�\u0011���B\u0010��!$}�����;{���[����2�\u0006\u0000\u0000��\u0003\u0000PK\u0003\u0004\u0014\u0000\u0006\u0000\b\u0000\u0000\u0000!\u0000�U0#�\u0000\u0000\u0000L\u0002\u0000\u0000\u000b\u0000\b\u0002_rels/.rels �\u0004\u0002(�\u0000\u0002\u0000\u0000\u0000\u0000\u0000\u0000\u0000\u0000\u0000\u0000\u0000\u0000\u0000\u0000\u0000\u0000\u0000\u0000\u0000\u0000\u0000\u0000\u0000\u0000\u0000\u0000\u0000\u0000\u0000\u0000\u0000\u0000\u0000\u0000\u0000\u0000\u0000\u0000\u0000\u0000\u0000\u0000\u0000\u0000\u0000\u0000\u0000\u0000\u0000\u0000\u0000\u0000\u0000\u0000\u0000\u0000\u0000\u0000\u0000\u0000\u0000\u0000\u0000\u0000\u0000\u0000\u0000\u0000\u0000\u0000\u0000\u0000\u0000\u0000\u0000\u0000\u0000\u0000\u0000\u0000\u0000\u0000\u0000\u0000\u0000\u0000\u0000\u0000\u0000\u0000\u0000\u0000\u0000\u0000\u0000\u0000\u0000\u0000\u0000\u0000\u0000\u0000\u0000\u0000\u0000\u0000\u0000\u0000\u0000\u0000\u0000\u0000\u0000\u0000\u0000\u0000\u0000\u0000\u0000\u0000\u0000\u0000\u0000\u0000\u0000\u0000\u0000\u0000\u0000\u0000\u0000\u0000\u0000\u0000\u0000\u0000\u0000\u0000\u0000\u0000\u0000\u0000\u0000\u0000\u0000\u0000\u0000\u0000\u0000\u0000\u0000\u0000\u0000\u0000\u0000\u0000\u0000\u0000\u0000\u0000\u0000\u0000\u0000\u0000\u0000\u0000\u0000\u0000\u0000\u0000\u0000\u0000\u0000\u0000\u0000\u0000\u0000\u0000\u0000\u0000\u0000\u0000\u0000\u0000\u0000\u0000\u0000\u0000\u0000\u0000\u0000\u0000\u0000\u0000\u0000\u0000\u0000\u0000\u0000\u0000\u0000\u0000\u0000\u0000\u0000\u0000\u0000\u0000\u0000\u0000\u0000\u0000\u0000\u0000\u0000\u0000\u0000\u0000\u0000\u0000\u0000\u0000\u0000\u0000\u0000\u0000\u0000\u0000\u0000\u0000\u0000\u0000\u0000\u0000\u0000\u0000\u0000\u0000\u0000\u0000\u0000\u0000\u0000\u0000\u0000\u0000\u0000\u0000\u0000\u0000\u0000\u0000\u0000\u0000\u0000\u0000\u0000\u0000\u0000\u0000\u0000\u0000\u0000\u0000\u0000\u0000\u0000\u0000\u0000\u0000\u0000\u0000\u0000\u0000\u0000\u0000\u0000\u0000\u0000\u0000\u0000\u0000\u0000\u0000\u0000\u0000\u0000\u0000\u0000\u0000\u0000\u0000\u0000\u0000\u0000\u0000\u0000\u0000\u0000\u0000\u0000\u0000\u0000\u0000\u0000\u0000\u0000\u0000\u0000\u0000\u0000\u0000\u0000\u0000\u0000\u0000\u0000\u0000\u0000\u0000\u0000\u0000\u0000\u0000\u0000\u0000\u0000\u0000\u0000\u0000\u0000\u0000\u0000\u0000\u0000\u0000\u0000\u0000\u0000\u0000\u0000\u0000\u0000\u0000\u0000\u0000\u0000\u0000\u0000\u0000\u0000\u0000\u0000\u0000\u0000\u0000\u0000\u0000\u0000\u0000\u0000\u0000\u0000\u0000\u0000\u0000\u0000\u0000\u0000\u0000\u0000\u0000\u0000\u0000\u0000\u0000\u0000\u0000\u0000\u0000\u0000\u0000\u0000\u0000\u0000\u0000\u0000\u0000\u0000\u0000\u0000\u0000\u0000\u0000\u0000\u0000\u0000\u0000\u0000\u0000\u0000\u0000\u0000\u0000\u0000\u0000\u0000\u0000\u0000\u0000\u0000\u0000\u0000\u0000\u0000\u0000\u0000\u0000\u0000\u0000\u0000\u0000\u0000\u0000\u0000\u0000\u0000\u0000\u0000\u0000\u0000\u0000\u0000\u0000\u0000\u0000\u0000\u0000\u0000\u0000\u0000\u0000\u0000\u0000\u0000\u0000\u0000\u0000\u0000\u0000\u0000\u0000\u0000\u0000\u0000\u0000\u0000\u0000\u0000\u0000\u0000\u0000\u0000\u0000\u0000\u0000\u0000\u0000\u0000\u0000\u0000\u0000\u0000\u0000\u0000\u0000\u0000\u0000\u0000\u0000\u0000\u0000\u0000\u0000\u0000\u0000\u0000\u0000\u0000\u0000\u0000\u0000\u0000\u0000\u0000\u0000\u0000\u0000\u0000\u0000\u0000\u0000\u0000\u0000\u0000\u0000\u0000\u0000\u0000\u0000\u0000\u0000��MO�0\f��H�����ݐ\u0010BKwAH�!T~�I�\u000f���$\u001bݿ'\u001c\u0010T\u001a�\u0003G�~����<���!��4��\u0012\u0014;#�w����qu\u0007*&r�Fq���\u0011v�����GJy(v��*����K��#F��D�\u0010�.W\u001a\t\u0013�\u001c�\u0016=��Z�MY�b��\u0001�BS�����7��ϛז��\r?�9L�ҙ\u0015�sbgٮ|�l!��\u001aUSh9i�b�r:\"y_dl��D��\u0013�|-N��R\"4\u0012�2�G�%��Z�4�˝y�7\të��ɂ�\u001f��\u0001\u0000\u0000��\u0003\u0000PK\u0003\u0004\u0014\u0000\u0006\u0000\b\u0000\u0000\u0000!\u0000�>���\u0000\u0000\u0000�\u0002\u0000\u0000\u001a\u0000\b\u0001xl/_rels/workbook.xml.rels �\u0004\u0001(�\u0000\u0001\u0000\u0000\u0000\u0000\u0000\u0000\u0000\u0000\u0000\u0000\u0000\u0000\u0000\u0000\u0000\u0000\u0000\u0000\u0000\u0000\u0000\u0000\u0000\u0000\u0000\u0000\u0000\u0000\u0000\u0000\u0000\u0000\u0000\u0000\u0000\u0000\u0000\u0000\u0000\u0000\u0000\u0000\u0000\u0000\u0000\u0000\u0000\u0000\u0000\u0000\u0000\u0000\u0000\u0000\u0000\u0000\u0000\u0000\u0000\u0000\u0000\u0000\u0000\u0000\u0000\u0000\u0000\u0000\u0000\u0000\u0000\u0000\u0000\u0000\u0000\u0000\u0000\u0000\u0000\u0000\u0000\u0000\u0000\u0000\u0000\u0000\u0000\u0000\u0000\u0000\u0000\u0000\u0000\u0000\u0000\u0000\u0000\u0000\u0000\u0000\u0000\u0000\u0000\u0000\u0000\u0000\u0000\u0000\u0000\u0000\u0000\u0000\u0000\u0000\u0000\u0000\u0000\u0000\u0000\u0000\u0000\u0000\u0000\u0000\u0000\u0000\u0000\u0000\u0000\u0000\u0000\u0000\u0000\u0000\u0000\u0000\u0000\u0000\u0000\u0000\u0000\u0000\u0000\u0000\u0000\u0000\u0000\u0000\u0000\u0000\u0000\u0000\u0000\u0000\u0000\u0000\u0000\u0000\u0000\u0000\u0000\u0000\u0000\u0000\u0000\u0000\u0000\u0000\u0000\u0000\u0000\u0000\u0000\u0000\u0000\u0000\u0000\u0000\u0000\u0000\u0000\u0000\u0000\u0000\u0000\u0000\u0000\u0000\u0000\u0000\u0000\u0000\u0000\u0000\u0000\u0000\u0000\u0000\u0000\u0000\u0000\u0000\u0000\u0000\u0000\u0000\u0000\u0000\u0000\u0000\u0000\u0000\u0000\u0000\u0000\u0000\u0000\u0000\u0000\u0000\u0000\u0000\u0000\u0000\u0000\u0000\u0000\u0000\u0000\u0000\u0000\u0000\u0000\u0000\u0000\u0000\u0000\u0000\u0000\u0000\u0000\u0000\u0000\u0000\u0000\u0000\u0000\u0000\u0000\u0000\u0000\u0000\u0000\u0000\u0000\u0000�RMK�0\u0010�\u000b��0w�v\u0015\u0011�t/\"�U�\u000f\bɴ)�&!3~��\u001b*�]X�K/\u0003o�y���v�5\u000e�\u0003\u0013��+��\u0012\u0004z\u0013l�;\u0005o���\u0003\bb��\u001e�G\u0005\u0013\u0012����\u000b\u000e�s\u0013�>��,�\u00148��(%\u0019���\"D��҆4j�0u2js�\u001d�MY�˴���S쭂��� �)f���C��\u0006��y\u001f��\u0019\tI<\ry\u0000���!+��E�\b��fMy�k���\f�\u001c�K\u001e�5=|�t ��G\u001f)�s墙�U��tB��)���,���f�����\u0000\u0000\u0000��\u0003\u0000PK\u0003\u0004\u0014\u0000\u0006\u0000\b\u0000\u0000\u0000!\u0000���\u0004�\u0001\u0000\u0000�\u0003\u0000\u0000\u000f\u0000\u0000\u0000xl/workbook.xml��Mn�0\u0010��\u0005z\u0007�{��,)�a9�k\u00155P\u0014A�&k��,��\u0011H*�Qt�^�\u0017�1�\u001bu$Am�l���\f��{\u001cry}V\u0012�s��9�&!F\\3S\n",
            "}���݇`���T�T\u001a�s|�\u000e_�޾Y��=�9\"\u0000h����fA�c5W�ML�5d*c\u0015���\u0007�\u001a�i�jν�$\u000eÌ(*4\u001e\b\u000b�\u001a��*��ưVq�\u0007��z��jѸ���kp��c�\u0004̨\u0006\u0010{!���P�\u0014[l\u000f�X��`�\u001c�#\u0019�/�J0k���\u0004Pd\u0010��o\u0014�(\u001a,�����v�vD��3U]\u0015����\u0017���q\u0006Ks��\u0004l۬[!!\u001b%I\u001cb��ӊ\u001b�\u0000빽�➲\u000bl���\u0015m��A[Ƃ\u0010ϒ0���]\u000bo\u0005?���n��wB��cx\u0010�g�S\u001f�\u0013��s\u001c�q\u0006�!���C�\u001dgIڡ�3v�u�яH�n\u001f>�zzx�\u0001\"���]\b��m��#�IF%\u0003���o��y4�����|?�֊\u001c����U8O����A2���,����d\u0013\u0017�U�)�����Nx\u0014��Gt*kj��Rv��Wk꠽�!�\u000bw3�&��o\u0000\u0000\u0000��\u0003\u0000PK\u0003\u0004\u0014\u0000\u0006\u0000\b\u0000\u0000\u0000!\u0000♵*b\u0005\u0007\u0000۟\u0011\u0000\u0014\u0000\u0000\u0000xl/sharedStrings.xml�]��Օ��#�?lqE$\f�@B\"��\u0013�[}�t�J_��R�\u0013�0�i$E��g����\u0010\u0005\u0011�L��HQu\u0019c���H��}�B��\u001e�\u0018s�w�����4U�-��D|���}���\u0018s̹�z������/w��8rl��w\u001c���;V;�?;���G�y���>��\u001d�\u0013'\u000f�>|��ݝo���Ή;���/�\u0013'N����\u0013߼�ѓ'�{�9�Gw\u001e?|��c����_~~���O����s�\u0017�w\u000e?|�ѝ���\u001f��н�~���\u000f\u001fٽc��c�vO��>��\u001d�S�G�穝��W\u000f\u001e|��o=t�ȷ\u001e:���[�k�\u001b{O�����?Z�O�\u0017W֟��WW�K�O�\u0017����������{O���\u000f\u000e�?X_\\�\u001f}�����\u0017\u001e���\u001e��g���{��ԃ?\\��__�\u000fW���ά�������\u000f�>����Ɗ���\u000f�y�\u0005}���S\u0007�o�=�o��ݥ��\u0013\u0017����.�����{O����W�~���!��O��㯮��\u001a�^vQO�ʔ��?�?^ѯ/����++͚\u0011]]�;�VO�{F\u001f�h�9�骾�}y�E�{�~S\u000f���&��[��7�����ơ�Y��ѝ�ߜڽ��_��֯k\u000e�����/޵b��w�9\u0017ח��g�\u0018ڰ_<43�>xf{����ةK�C�\u001e��뺾���Fsa���Ӭ��YO��gl^vM���qE۬��X_�#\u00175 ������g�\u0000>��e\fHK� h|\u001a0\u001bk�a���S�+_���\u000e=��yK;h��\t\u0017�B㞱\b���\u0013o��\"\u001b�85Im�&�Z��{g�M/0\u0012���\u0006h\t�r^�\"^ҿäW��&��fE�ŧ����^�{~﹬�F��w�����\u0016�w�^���u�\u0000O@K1[\u0013�ً�&{g��\b%\u0002d�F�؀a\u0002��e6���\u0002�\u000e�\u0006^i�e�74\u0001��\u0015�\rB啹�\u0014x2�sE\u0002�W4�g5�˞:��\u0006�Z�\"��C��\u001d���JR��ԷXwk�V�>���\u0001\tT�\u000b\u001d\u0019��}�\u0016[����a�j,��\u0004�)K�\u0006��\u001a|Č���\u001fL��.SF��\u0007�Q���JD>f��'���,V퓚�$b�I4��\u0006Q�Ք%k��U\u0016�i��W�*!�M\u0006ŖQ+���E��ԫ�Ԅ��z�s���`+����=ka���xɻ�1�Ջ�G�cP/a\u00033څ\u001c�`13�V[�Yzv\u001aI�h2�1Q���k{/�d��\u001f�L\u001a���\u001ef��\\��0h�\u0012��F�\u0012�e=��e�\u0011\u0019=�Qj�k�3*i)o\u001e\u0006����qGq�\u00077$,��mG�ل[6ɫa���5\t�3�e6�1\u001e�\u000f��x�������\u0019h\u0003#��\u000eF�\u0001:c+v�{b=��\\G�\u0010GY!�Kʳ�rh�%o�{q=��k1w����u�_���6k�yL�\u0015\u000bs\u0014\u000f/��Y0���\u0016{T��Ó�ԯX\"T2\u001a<��W�+66�\f���l��Ǜ\"Ͳ�\"��%\u0016N�\u000f��'\u0011�g=Y�\u001b��J\u000f\u000b$M�/d<���{A+մ��d�(����^\u0014B��e�U�\u0005\u0018����ʧ�b2��OHB%z���I�t�\n",
            " U�{��_��R\u001e���W�B��1��\u001a<\u0006ۤ\u0019�Qc�e�5r��kd׃,_�{q��v�]\b�D�\u0007\t��\u0004��E\n",
            "H��*��_�-�5�\b��5���ٱ.�W��+�������0�l�\u000b3�ν����Ӓ���>ۻ ��J\u001bD��&\b\u0019�y[�'zo&�Q�z�4�|lQy3O�_\u0016�Y���\u0002��b��\u0010.\u0010��\u001f��W�[\n",
            "\u0015`fb\u000e\u0011��F\u0015�53����XE�.\n",
            "�Y1Q\u0017&�6]+gc�1�Fyf|\u001c\u000ba8\"-F\u001ae\u0011�}\t\u0019·� ��l@%����M`UA��z�T\r\r�\u0010#\u0019�P����8���%�\u0005��\u0010R?��{����Oݳ��\u0013��\u000e�s���\u0017G���9~����{\u0017��ƪ��\u001b8�Z\u0004�Q6����\u000b뿬ϭ��od�\u0018���'�U�\u001fse�1�\u0002��|�\u0012�zu��j� �W�\u0005�Q�P�Ix\u001b�\"+'\u0003\r���\u000b��U�.�\u001d\u0016�\u001b�0ȔcQ/��H��e�d\t�\r\u0007�&�v+�TT=X��v�E�]\u000b>�T����p\u0010��i�/W�?0���6\u001b?�\u0001b�Q)O\u0010Hp��\u000f��t�\n",
            "�',����wN��葿�v�b���1\u001fd��JE��)#��?�)�jh\u0002�7���`P�c\u0002= �\u0015��sb�: �AзJ2�iO��`���6ކ�F�m�\"*�b�\\�\u0014�lc3�\f\u0006y�I����\u0019�l�>�B�|\u0012�q�\u0019��#X\u000b��E6���Ůᙣ���Y\t\n",
            "\u001d\t\u0012�����?��l\u0016F�@\t��\u0011>(Q]6�+O�Rїc��\u0014�}�4�-�l��\u0002��\u0017W���2�K^�b\u001cL,�O�\u0017�<jjw @[!�\u0000$\u0003\u000b;\u001ea�����\u0014\u0006�e\u0019\u0014�A]��!;�0��#�β\u0013R\t,\u001b2�\n",
            "xɂ\u000e\r�\u0001\u0012�\u001f���D⟵N��\u00050\u000f1F�<}�.�6Ȣ!�\u0006��{���*��\u0001&��G1�\u000e�Q;,\u00158f}�\u0015k�?A\n",
            "���Q؟��~�;\u0001Ӏ�LZ��\u0006���B��ŉ�\n"
          ]
        }
      ]
    },
    {
      "cell_type": "code",
      "metadata": {
        "id": "QbfciZAYHNBb",
        "outputId": "65f80acf-0817-4dc0-e0ca-a02915cb1e26",
        "colab": {
          "base_uri": "https://localhost:8080/"
        }
      },
      "source": [
        "!head test.xlsx"
      ],
      "execution_count": null,
      "outputs": [
        {
          "output_type": "stream",
          "name": "stdout",
          "text": [
            "PK\u0003\u0004\u0014\u0000\u0006\u0000\b\u0000\u0000\u0000!\u0000b�h^\u0001\u0000\u0000�\u0004\u0000\u0000\u0013\u0000\b\u0002[Content_Types].xml �\u0004\u0002(�\u0000\u0002\u0000\u0000\u0000\u0000\u0000\u0000\u0000\u0000\u0000\u0000\u0000\u0000\u0000\u0000\u0000\u0000\u0000\u0000\u0000\u0000\u0000\u0000\u0000\u0000\u0000\u0000\u0000\u0000\u0000\u0000\u0000\u0000\u0000\u0000\u0000\u0000\u0000\u0000\u0000\u0000\u0000\u0000\u0000\u0000\u0000\u0000\u0000\u0000\u0000\u0000\u0000\u0000\u0000\u0000\u0000\u0000\u0000\u0000\u0000\u0000\u0000\u0000\u0000\u0000\u0000\u0000\u0000\u0000\u0000\u0000\u0000\u0000\u0000\u0000\u0000\u0000\u0000\u0000\u0000\u0000\u0000\u0000\u0000\u0000\u0000\u0000\u0000\u0000\u0000\u0000\u0000\u0000\u0000\u0000\u0000\u0000\u0000\u0000\u0000\u0000\u0000\u0000\u0000\u0000\u0000\u0000\u0000\u0000\u0000\u0000\u0000\u0000\u0000\u0000\u0000\u0000\u0000\u0000\u0000\u0000\u0000\u0000\u0000\u0000\u0000\u0000\u0000\u0000\u0000\u0000\u0000\u0000\u0000\u0000\u0000\u0000\u0000\u0000\u0000\u0000\u0000\u0000\u0000\u0000\u0000\u0000\u0000\u0000\u0000\u0000\u0000\u0000\u0000\u0000\u0000\u0000\u0000\u0000\u0000\u0000\u0000\u0000\u0000\u0000\u0000\u0000\u0000\u0000\u0000\u0000\u0000\u0000\u0000\u0000\u0000\u0000\u0000\u0000\u0000\u0000\u0000\u0000\u0000\u0000\u0000\u0000\u0000\u0000\u0000\u0000\u0000\u0000\u0000\u0000\u0000\u0000\u0000\u0000\u0000\u0000\u0000\u0000\u0000\u0000\u0000\u0000\u0000\u0000\u0000\u0000\u0000\u0000\u0000\u0000\u0000\u0000\u0000\u0000\u0000\u0000\u0000\u0000\u0000\u0000\u0000\u0000\u0000\u0000\u0000\u0000\u0000\u0000\u0000\u0000\u0000\u0000\u0000\u0000\u0000\u0000\u0000\u0000\u0000\u0000\u0000\u0000\u0000\u0000\u0000\u0000\u0000\u0000\u0000\u0000\u0000\u0000\u0000\u0000\u0000\u0000\u0000\u0000\u0000\u0000\u0000\u0000\u0000\u0000\u0000\u0000\u0000\u0000\u0000\u0000\u0000\u0000\u0000\u0000\u0000\u0000\u0000\u0000\u0000\u0000\u0000\u0000\u0000\u0000\u0000\u0000\u0000\u0000\u0000\u0000\u0000\u0000\u0000\u0000\u0000\u0000\u0000\u0000\u0000\u0000\u0000\u0000\u0000\u0000\u0000\u0000\u0000\u0000\u0000\u0000\u0000\u0000\u0000\u0000\u0000\u0000\u0000\u0000\u0000\u0000\u0000\u0000\u0000\u0000\u0000\u0000\u0000\u0000\u0000\u0000\u0000\u0000\u0000\u0000\u0000\u0000\u0000\u0000\u0000\u0000\u0000\u0000\u0000\u0000\u0000\u0000\u0000\u0000\u0000\u0000\u0000\u0000\u0000\u0000\u0000\u0000\u0000\u0000\u0000\u0000\u0000\u0000\u0000\u0000\u0000\u0000\u0000\u0000\u0000\u0000\u0000\u0000\u0000\u0000\u0000\u0000\u0000\u0000\u0000\u0000\u0000\u0000\u0000\u0000\u0000\u0000\u0000\u0000\u0000\u0000\u0000\u0000\u0000\u0000\u0000\u0000\u0000\u0000\u0000\u0000\u0000\u0000\u0000\u0000\u0000\u0000\u0000\u0000\u0000\u0000\u0000\u0000\u0000\u0000\u0000\u0000\u0000\u0000\u0000\u0000\u0000\u0000\u0000\u0000\u0000\u0000\u0000\u0000\u0000\u0000\u0000\u0000\u0000\u0000\u0000\u0000\u0000\u0000\u0000\u0000\u0000\u0000\u0000\u0000\u0000\u0000\u0000\u0000\u0000\u0000\u0000\u0000\u0000\u0000\u0000\u0000\u0000\u0000\u0000\u0000\u0000\u0000\u0000\u0000\u0000\u0000\u0000\u0000\u0000\u0000\u0000\u0000\u0000\u0000\u0000\u0000\u0000\u0000\u0000\u0000\u0000\u0000\u0000\u0000\u0000\u0000\u0000\u0000\u0000\u0000\u0000\u0000\u0000\u0000\u0000\u0000\u0000\u0000\u0000\u0000\u0000\u0000\u0000\u0000\u0000\u0000\u0000\u0000���N�0\u0010E�H�C�-Jܲ@\b5��\u0012*Q>�ēƪc[�ii����\u0010B�\u0015j7�\u0012��{2��h�nm���ƻR\f����U^\u001b7/���%�\u0017\u0019�rZY�\u0014\u001b@1\u0019__�f�\u0000�q��R4D�AJ�\u001ah\u0015\u0016>����V\u0011�ƹ\f�Z�9����NV�\u00118ʩ�\u0010��\u0013�ji){^��-I\u0004�\"{�\u0016v^�P!XS)bR�r��K�s(�3�`c\u0002�0���\u000e���\u0006��7\u001eM4\u001a�����ZƐk+�|\\|z�(���P��6\u0015h_-[�@�!���\u0000Pk��\u0016�2n�}�?\u0015�L��� ��%�\u0013\u001c��\u001bd����dN\u0018\"m,�ǞDO97*�~��ɸ8�O�c\u001c|n��\u0007�\u0004E��\u0014�\u0011���B\u0010��!$}�����;{���[����2�\u0006\u0000\u0000��\u0003\u0000PK\u0003\u0004\u0014\u0000\u0006\u0000\b\u0000\u0000\u0000!\u0000�U0#�\u0000\u0000\u0000L\u0002\u0000\u0000\u000b\u0000\b\u0002_rels/.rels �\u0004\u0002(�\u0000\u0002\u0000\u0000\u0000\u0000\u0000\u0000\u0000\u0000\u0000\u0000\u0000\u0000\u0000\u0000\u0000\u0000\u0000\u0000\u0000\u0000\u0000\u0000\u0000\u0000\u0000\u0000\u0000\u0000\u0000\u0000\u0000\u0000\u0000\u0000\u0000\u0000\u0000\u0000\u0000\u0000\u0000\u0000\u0000\u0000\u0000\u0000\u0000\u0000\u0000\u0000\u0000\u0000\u0000\u0000\u0000\u0000\u0000\u0000\u0000\u0000\u0000\u0000\u0000\u0000\u0000\u0000\u0000\u0000\u0000\u0000\u0000\u0000\u0000\u0000\u0000\u0000\u0000\u0000\u0000\u0000\u0000\u0000\u0000\u0000\u0000\u0000\u0000\u0000\u0000\u0000\u0000\u0000\u0000\u0000\u0000\u0000\u0000\u0000\u0000\u0000\u0000\u0000\u0000\u0000\u0000\u0000\u0000\u0000\u0000\u0000\u0000\u0000\u0000\u0000\u0000\u0000\u0000\u0000\u0000\u0000\u0000\u0000\u0000\u0000\u0000\u0000\u0000\u0000\u0000\u0000\u0000\u0000\u0000\u0000\u0000\u0000\u0000\u0000\u0000\u0000\u0000\u0000\u0000\u0000\u0000\u0000\u0000\u0000\u0000\u0000\u0000\u0000\u0000\u0000\u0000\u0000\u0000\u0000\u0000\u0000\u0000\u0000\u0000\u0000\u0000\u0000\u0000\u0000\u0000\u0000\u0000\u0000\u0000\u0000\u0000\u0000\u0000\u0000\u0000\u0000\u0000\u0000\u0000\u0000\u0000\u0000\u0000\u0000\u0000\u0000\u0000\u0000\u0000\u0000\u0000\u0000\u0000\u0000\u0000\u0000\u0000\u0000\u0000\u0000\u0000\u0000\u0000\u0000\u0000\u0000\u0000\u0000\u0000\u0000\u0000\u0000\u0000\u0000\u0000\u0000\u0000\u0000\u0000\u0000\u0000\u0000\u0000\u0000\u0000\u0000\u0000\u0000\u0000\u0000\u0000\u0000\u0000\u0000\u0000\u0000\u0000\u0000\u0000\u0000\u0000\u0000\u0000\u0000\u0000\u0000\u0000\u0000\u0000\u0000\u0000\u0000\u0000\u0000\u0000\u0000\u0000\u0000\u0000\u0000\u0000\u0000\u0000\u0000\u0000\u0000\u0000\u0000\u0000\u0000\u0000\u0000\u0000\u0000\u0000\u0000\u0000\u0000\u0000\u0000\u0000\u0000\u0000\u0000\u0000\u0000\u0000\u0000\u0000\u0000\u0000\u0000\u0000\u0000\u0000\u0000\u0000\u0000\u0000\u0000\u0000\u0000\u0000\u0000\u0000\u0000\u0000\u0000\u0000\u0000\u0000\u0000\u0000\u0000\u0000\u0000\u0000\u0000\u0000\u0000\u0000\u0000\u0000\u0000\u0000\u0000\u0000\u0000\u0000\u0000\u0000\u0000\u0000\u0000\u0000\u0000\u0000\u0000\u0000\u0000\u0000\u0000\u0000\u0000\u0000\u0000\u0000\u0000\u0000\u0000\u0000\u0000\u0000\u0000\u0000\u0000\u0000\u0000\u0000\u0000\u0000\u0000\u0000\u0000\u0000\u0000\u0000\u0000\u0000\u0000\u0000\u0000\u0000\u0000\u0000\u0000\u0000\u0000\u0000\u0000\u0000\u0000\u0000\u0000\u0000\u0000\u0000\u0000\u0000\u0000\u0000\u0000\u0000\u0000\u0000\u0000\u0000\u0000\u0000\u0000\u0000\u0000\u0000\u0000\u0000\u0000\u0000\u0000\u0000\u0000\u0000\u0000\u0000\u0000\u0000\u0000\u0000\u0000\u0000\u0000\u0000\u0000\u0000\u0000\u0000\u0000\u0000\u0000\u0000\u0000\u0000\u0000\u0000\u0000\u0000\u0000\u0000\u0000\u0000\u0000\u0000\u0000\u0000\u0000\u0000\u0000\u0000\u0000\u0000\u0000\u0000\u0000\u0000\u0000\u0000\u0000\u0000\u0000\u0000\u0000\u0000\u0000\u0000\u0000\u0000\u0000\u0000\u0000\u0000\u0000\u0000\u0000\u0000\u0000\u0000\u0000\u0000\u0000\u0000\u0000\u0000\u0000\u0000\u0000\u0000\u0000\u0000\u0000\u0000\u0000\u0000\u0000\u0000\u0000\u0000\u0000\u0000\u0000\u0000\u0000\u0000\u0000\u0000\u0000\u0000\u0000\u0000\u0000��MO�0\f��H�����ݐ\u0010BKwAH�!T~�I�\u000f���$\u001bݿ'\u001c\u0010T\u001a�\u0003G�~����<���!��4��\u0012\u0014;#�w����qu\u0007*&r�Fq���\u0011v�����GJy(v��*����K��#F��D�\u0010�.W\u001a\t\u0013�\u001c�\u0016=��Z�MY�b��\u0001�BS�����7��ϛז��\r?�9L�ҙ\u0015�sbgٮ|�l!��\u001aUSh9i�b�r:\"y_dl��D��\u0013�|-N��R\"4\u0012�2�G�%��Z�4�˝y�7\të��ɂ�\u001f��\u0001\u0000\u0000��\u0003\u0000PK\u0003\u0004\u0014\u0000\u0006\u0000\b\u0000\u0000\u0000!\u0000�>���\u0000\u0000\u0000�\u0002\u0000\u0000\u001a\u0000\b\u0001xl/_rels/workbook.xml.rels �\u0004\u0001(�\u0000\u0001\u0000\u0000\u0000\u0000\u0000\u0000\u0000\u0000\u0000\u0000\u0000\u0000\u0000\u0000\u0000\u0000\u0000\u0000\u0000\u0000\u0000\u0000\u0000\u0000\u0000\u0000\u0000\u0000\u0000\u0000\u0000\u0000\u0000\u0000\u0000\u0000\u0000\u0000\u0000\u0000\u0000\u0000\u0000\u0000\u0000\u0000\u0000\u0000\u0000\u0000\u0000\u0000\u0000\u0000\u0000\u0000\u0000\u0000\u0000\u0000\u0000\u0000\u0000\u0000\u0000\u0000\u0000\u0000\u0000\u0000\u0000\u0000\u0000\u0000\u0000\u0000\u0000\u0000\u0000\u0000\u0000\u0000\u0000\u0000\u0000\u0000\u0000\u0000\u0000\u0000\u0000\u0000\u0000\u0000\u0000\u0000\u0000\u0000\u0000\u0000\u0000\u0000\u0000\u0000\u0000\u0000\u0000\u0000\u0000\u0000\u0000\u0000\u0000\u0000\u0000\u0000\u0000\u0000\u0000\u0000\u0000\u0000\u0000\u0000\u0000\u0000\u0000\u0000\u0000\u0000\u0000\u0000\u0000\u0000\u0000\u0000\u0000\u0000\u0000\u0000\u0000\u0000\u0000\u0000\u0000\u0000\u0000\u0000\u0000\u0000\u0000\u0000\u0000\u0000\u0000\u0000\u0000\u0000\u0000\u0000\u0000\u0000\u0000\u0000\u0000\u0000\u0000\u0000\u0000\u0000\u0000\u0000\u0000\u0000\u0000\u0000\u0000\u0000\u0000\u0000\u0000\u0000\u0000\u0000\u0000\u0000\u0000\u0000\u0000\u0000\u0000\u0000\u0000\u0000\u0000\u0000\u0000\u0000\u0000\u0000\u0000\u0000\u0000\u0000\u0000\u0000\u0000\u0000\u0000\u0000\u0000\u0000\u0000\u0000\u0000\u0000\u0000\u0000\u0000\u0000\u0000\u0000\u0000\u0000\u0000\u0000\u0000\u0000\u0000\u0000\u0000\u0000\u0000\u0000\u0000\u0000\u0000\u0000\u0000\u0000\u0000\u0000\u0000\u0000\u0000\u0000\u0000\u0000\u0000\u0000\u0000\u0000\u0000\u0000\u0000\u0000�RMK�0\u0010�\u000b��0w�v\u0015\u0011�t/\"�U�\u000f\bɴ)�&!3~��\u001b*�]X�K/\u0003o�y���v�5\u000e�\u0003\u0013��+��\u0012\u0004z\u0013l�;\u0005o���\u0003\bb��\u001e�G\u0005\u0013\u0012����\u000b\u000e�s\u0013�>��,�\u00148��(%\u0019���\"D��҆4j�0u2js�\u001d�MY�˴���S쭂��� �)f���C��\u0006��y\u001f��\u0019\tI<\ry\u0000���!+��E�\b��fMy�k���\f�\u001c�K\u001e�5=|�t ��G\u001f)�s墙�U��tB��)���,���f�����\u0000\u0000\u0000��\u0003\u0000PK\u0003\u0004\u0014\u0000\u0006\u0000\b\u0000\u0000\u0000!\u0000�\u001c��\u0001\u0000\u0000�\u0003\u0000\u0000\u000f\u0000\u0000\u0000xl/workbook.xml��Mn�0\u0010��\u0005z\u0007�{��,;�`9�k\u00175P\u0014A�&k��,��\u0011H*�Qt�^�\u0017�1�\u001bu$Am�l��3C��{\u001crq}�\n",
            "�\u000b�59�G\u0014#a�-�9����C4��\u0007f\n",
            "��\u00119�\b���o�,N�\u001d��\u001e\u0011\u0000��q\u0015B�\u0011�y%4�#[\u000b\u00033�u�\u0005H݁��\tV�J��\u0015I(�\u0012ͤ�=!s�aز�\\�-o�0��8�X\u0000����\u001fh��\u0006��;6uĭ�\u0001��J�K\u0007�H�l{0ֱ�\u0002��x2�!|�֒;�m\u0019F�\"��\u0017~cJ⸷�\\�R����\u0011���L��(�\u0014�aS� �\u001cO!�'�O�5���\n",
            "f�4M(&�?��q\b�A�\u001b'�\u0019��\u0012�\n",
            "Q�F�\u001d�e8\u0010�Ӕ�q��m�\u0014'�\u0017Ӧ�|'MaO9�\u0007qy\u0016���,B��$�\u0014���G!\u000fU��|:�T�g��pD7\"ә}�������\u0007h����\u0012F.�\u0010�m��#�N�\u0014\u0007��-�&�x�\u001a\u0010��ɇnD��9�\u0016���\u0015��\u0011݌'Q:�'�,\u001d'��t�l&W��f5���\to\"\u001b>D��b.�\u001c�G�F_D�b\u001e��\u001b\u0002��\u0005\u0019T�a��7\u0000\u0000\u0000��\u0003\u0000PK\u0003\u0004\u0014\u0000\u0006\u0000\b\u0000\u0000\u0000!\u0000�W�>�a\u0002\u0000F\u0007\u0006\u0000\u0014\u0000\u0000\u0000xl/sharedStrings.xml��k�]�u��\u001b�8ՇB\u0006B�\")�\\�AZ'�si\u0003�A�|c�7\u0016\u0011�TH*n�Ѧn�lѦ��P���4@Q��I�\u0012E\n",
            "p�\u0003��\u000b�%\u001d�\u0018s���>�PRP�\"��{��{�5�c�9��_��������\u001e]�x����=t�\u0013\u000fm��=u��3����ۿ{쉇6\u0017/�>�����\u001d}���~t����\u0017��Ջ\u0017/m��s\u0017���3�.=����/>��ѳ�/>r���s��_�����K���w�_|����/>stt�ٳ�O�8�ǟ=}��C���?���\u001e:��\u000fm�?w�o�?�O��S�=���^<���^�:׿�\u001b�=:w��#\u0017�?~�¥3O�=��+�:u������\u0017��<���\u001e����\u001e�k����f���������������������_���п��׻+�\u000f�wv���`�����^�������m��{����sw�\u0003���#�~w����������\u000f_�lo�O��'�W�ۏ��\u000f7�_n�ﾧ_s�[��}n�?�~�������wW�������������vWko�o�]]�%��\u000e��H�u{��h���/�����7��~b\u001eB\u001f����\u0014l�a�{�~�1���<u�\n",
            "������\u001b��o���2H}�����\u0007��\u001e�Ǻ�e�ۓ�sfY��l?:�����-�ZS�9�`���F���߯%����'���{I߼�Y~w��V�Mx\u0018�\u0005�G�{G�ᱮ�.Ly����,����\\R\u0017�×c\u000f\u001e�\u001d\u0016����^�\u001a�.k���\u0018\u0019��?�6��-\u001b�>�\u0011�^Ī��7l9����Ɗ5�kl�7�F��\f�)�]��\\>�\u0015�?�\u0019ꗇ\fX_c\u0016��Y1�_�/��-�SqG��]j\u0010W5k2�_������\u0013\\c\u0019Y\u0004}�O\u0001�\u0005g8��\u0015�L3s�ɓO��u]\u001b��L7��[2iO\u001e���X��3i�\u0015=�}=�fS\u000f8-\u0004s���n���O݌/rg]��l���|��a�\u001a�b�5�\u000f���n_��&𧲰+ZT�$���F��c�]e�89\u0003���\u001e2L�J��\u0007VZ\u001ek\u001f�8+}uZ,��K�-�l+҄�\r'\u001f0���0A���1�����FZ�랥��\u0017�oL��%\u000f���ԇ�%�^�\r{�����`r���\r����o����2�\u00040�����QA����'y���C\u001es|4}���0l4c�\u0016 |�/���\u000b�9��yX˪\u0005\u0012���\u001b�{��'\u001bݽ��_�\u0004�\u0018�=�sq\u001b��\b\u001b�$y�<�x��צ\b��Gk.>ֲ��Qh��FM2\u0003���hBn��W܂�\n",
            "@\rˁ]��p2�|�\u0010���E=��X\u000b�W�� 2KwU\u0003!�ܵ���ϴ�Aב��}�m�����@�Ǻ�/��q#ے]�\u0002��\u0005+#6\b\u0011���]�4XG�26�\u0014�k�Fs�\u0011\u0012g\bE,\f�^���oSh�e�\b���-^頓��(���O�\u001bւ����\u001e`�Y\u000f�\u0010�q˙\u000b�t\u0002�[\n",
            "�\u0004%\u0005\u0015�ʙYi�\u001a\u0006έ�Aj��[�N�D�G��\u000bc\u0013�N�(��%�U��^�,�0���C�'\u0002�\u0005�<3�@���j������\u0013���r�p�\bྊ�;2\u0004��Jd���Q��0☬��G�\u0014<p!���\u001fXX]��G��_�}�_��\u0017�4�����Q\u0013}�\u0017���q��=$�Ѫ@\u001b������u�HyO����6k,\u0006!7�7\tV\f���Н���\u001f �_c\u0012�5�̴J\u0010�\u0005�u�26�\u001b6�B�\u0004jV=q_�I��c��-L)O�h��0\u0014������\u0019\u0007(n�'�]\u001c�k�I�\u0010iĘ?��,�\u000f�0?l#\u0018\u0011G� D\u0010w\u0007wn\u0018u\u0003�WMQN�$��ޜ|�P�Þ�S��mP���);�M�@#w�\t�\u001dl��h<�����\b�\u000e���\u001c��ޜ�ȋ�݋�qB��B\u0007�,:\u0011\u0002�\t��\u0017Ē��L#�i�2C�<��P6qJ�AG�X�\t�x=�W\u000bǔ\u0012�L��<\u0019�|7��'�\\Cڈ|\u0012�^���0K�+\u0001b/Y�Hڡ4�Y��G\u000e����\u0010��\u0017�q�\u0002�����\n",
            "�&\u001a�_�@�~K����\\\u000b���\u001at�;\u000f�,Pva���T���G��\u0004����\u0010�A�\u001a\u0016�2#\u00126�\u0000+�d��\u001f��\n"
          ]
        }
      ]
    },
    {
      "cell_type": "code",
      "metadata": {
        "id": "QHiCXhsTG835",
        "outputId": "5ea111cb-05d6-4262-ff0c-e6db7a3de926",
        "colab": {
          "base_uri": "https://localhost:8080/"
        }
      },
      "source": [
        "!wc -l train.xlsx\n",
        "!wc -l test.xlsx"
      ],
      "execution_count": null,
      "outputs": [
        {
          "output_type": "stream",
          "name": "stdout",
          "text": [
            "3000 train.xlsx\n",
            "618 test.xlsx\n"
          ]
        }
      ]
    },
    {
      "cell_type": "markdown",
      "metadata": {
        "id": "9YjyMnJOHoSY"
      },
      "source": [
        "## Загружаем данные в память"
      ]
    },
    {
      "cell_type": "markdown",
      "metadata": {
        "id": "gA0GvoWDKulp"
      },
      "source": [
        "Выделяем данные для обучения"
      ]
    },
    {
      "cell_type": "code",
      "metadata": {
        "id": "xKdpzAQKLUsh"
      },
      "source": [
        "news = train['text']"
      ],
      "execution_count": null,
      "outputs": []
    },
    {
      "cell_type": "code",
      "metadata": {
        "id": "3-13xctTLesU",
        "outputId": "a6a48616-4254-4192-d45e-019aef575bbe",
        "colab": {
          "base_uri": "https://localhost:8080/"
        }
      },
      "source": [
        "news[:3]"
      ],
      "execution_count": null,
      "outputs": [
        {
          "output_type": "execute_result",
          "data": {
            "text/plain": [
              "0    30-летний житель английского города Сент-Остел...\n",
              "1    Президент Украины Владимир Зеленский признал, ...\n",
              "2    Полицейские задержали водителя иномарки, сбивш...\n",
              "Name: text, dtype: object"
            ]
          },
          "metadata": {},
          "execution_count": 47
        }
      ]
    },
    {
      "cell_type": "markdown",
      "metadata": {
        "id": "EyruZkQeLnPa"
      },
      "source": [
        "Выделяем правильные ответы"
      ]
    },
    {
      "cell_type": "code",
      "metadata": {
        "id": "5t_vJBSyIUoG"
      },
      "source": [
        "y_train = utils.to_categorical(train['class'], nb_classes)"
      ],
      "execution_count": null,
      "outputs": []
    },
    {
      "cell_type": "code",
      "metadata": {
        "id": "gmEgMdF5IbZR",
        "outputId": "6439ca9a-f519-4e75-d19d-3b7505a90b14",
        "colab": {
          "base_uri": "https://localhost:8080/"
        }
      },
      "source": [
        "y_train"
      ],
      "execution_count": null,
      "outputs": [
        {
          "output_type": "execute_result",
          "data": {
            "text/plain": [
              "array([[1., 0.],\n",
              "       [0., 1.],\n",
              "       [1., 0.],\n",
              "       [1., 0.],\n",
              "       [1., 0.],\n",
              "       [0., 1.],\n",
              "       [1., 0.],\n",
              "       [1., 0.],\n",
              "       [0., 1.],\n",
              "       [1., 0.],\n",
              "       [1., 0.],\n",
              "       [0., 1.],\n",
              "       [1., 0.],\n",
              "       [1., 0.],\n",
              "       [1., 0.],\n",
              "       [1., 0.],\n",
              "       [0., 1.],\n",
              "       [0., 1.],\n",
              "       [0., 1.],\n",
              "       [0., 1.],\n",
              "       [0., 1.],\n",
              "       [1., 0.],\n",
              "       [0., 1.],\n",
              "       [1., 0.],\n",
              "       [0., 1.],\n",
              "       [1., 0.],\n",
              "       [1., 0.],\n",
              "       [1., 0.],\n",
              "       [0., 1.],\n",
              "       [1., 0.],\n",
              "       [0., 1.],\n",
              "       [0., 1.],\n",
              "       [0., 1.],\n",
              "       [1., 0.],\n",
              "       [1., 0.],\n",
              "       [1., 0.],\n",
              "       [1., 0.],\n",
              "       [1., 0.],\n",
              "       [0., 1.],\n",
              "       [0., 1.],\n",
              "       [0., 1.],\n",
              "       [0., 1.],\n",
              "       [0., 1.],\n",
              "       [1., 0.],\n",
              "       [0., 1.],\n",
              "       [1., 0.],\n",
              "       [1., 0.],\n",
              "       [0., 1.],\n",
              "       [0., 1.],\n",
              "       [0., 1.],\n",
              "       [0., 1.],\n",
              "       [1., 0.],\n",
              "       [0., 1.],\n",
              "       [1., 0.],\n",
              "       [0., 1.],\n",
              "       [0., 1.],\n",
              "       [0., 1.],\n",
              "       [0., 1.],\n",
              "       [1., 0.],\n",
              "       [1., 0.],\n",
              "       [0., 1.],\n",
              "       [0., 1.],\n",
              "       [0., 1.],\n",
              "       [0., 1.],\n",
              "       [0., 1.],\n",
              "       [0., 1.],\n",
              "       [0., 1.],\n",
              "       [0., 1.],\n",
              "       [0., 1.],\n",
              "       [0., 1.],\n",
              "       [0., 1.],\n",
              "       [1., 0.],\n",
              "       [1., 0.],\n",
              "       [1., 0.],\n",
              "       [1., 0.],\n",
              "       [1., 0.],\n",
              "       [1., 0.],\n",
              "       [0., 1.],\n",
              "       [1., 0.],\n",
              "       [1., 0.],\n",
              "       [1., 0.],\n",
              "       [1., 0.],\n",
              "       [1., 0.],\n",
              "       [1., 0.],\n",
              "       [0., 1.],\n",
              "       [0., 1.],\n",
              "       [0., 1.],\n",
              "       [0., 1.],\n",
              "       [0., 1.],\n",
              "       [0., 1.],\n",
              "       [0., 1.],\n",
              "       [0., 1.],\n",
              "       [0., 1.],\n",
              "       [0., 1.],\n",
              "       [0., 1.],\n",
              "       [0., 1.],\n",
              "       [0., 1.],\n",
              "       [0., 1.],\n",
              "       [0., 1.],\n",
              "       [0., 1.],\n",
              "       [0., 1.],\n",
              "       [0., 1.],\n",
              "       [0., 1.],\n",
              "       [0., 1.],\n",
              "       [0., 1.],\n",
              "       [1., 0.],\n",
              "       [1., 0.],\n",
              "       [1., 0.],\n",
              "       [1., 0.],\n",
              "       [1., 0.],\n",
              "       [1., 0.],\n",
              "       [1., 0.],\n",
              "       [1., 0.],\n",
              "       [1., 0.],\n",
              "       [1., 0.],\n",
              "       [1., 0.],\n",
              "       [1., 0.],\n",
              "       [1., 0.],\n",
              "       [1., 0.],\n",
              "       [1., 0.],\n",
              "       [0., 1.],\n",
              "       [0., 1.],\n",
              "       [0., 1.],\n",
              "       [0., 1.],\n",
              "       [0., 1.],\n",
              "       [0., 1.],\n",
              "       [0., 1.],\n",
              "       [0., 1.],\n",
              "       [0., 1.],\n",
              "       [0., 1.],\n",
              "       [0., 1.],\n",
              "       [0., 1.],\n",
              "       [0., 1.],\n",
              "       [0., 1.],\n",
              "       [0., 1.],\n",
              "       [1., 0.],\n",
              "       [1., 0.],\n",
              "       [1., 0.],\n",
              "       [1., 0.],\n",
              "       [1., 0.],\n",
              "       [1., 0.],\n",
              "       [1., 0.],\n",
              "       [1., 0.],\n",
              "       [1., 0.],\n",
              "       [1., 0.],\n",
              "       [1., 0.],\n",
              "       [1., 0.],\n",
              "       [1., 0.],\n",
              "       [1., 0.],\n",
              "       [1., 0.],\n",
              "       [0., 1.],\n",
              "       [0., 1.],\n",
              "       [0., 1.],\n",
              "       [0., 1.],\n",
              "       [0., 1.],\n",
              "       [0., 1.],\n",
              "       [0., 1.],\n",
              "       [0., 1.],\n",
              "       [0., 1.],\n",
              "       [0., 1.],\n",
              "       [0., 1.],\n",
              "       [0., 1.],\n",
              "       [0., 1.],\n",
              "       [0., 1.],\n",
              "       [0., 1.],\n",
              "       [1., 0.],\n",
              "       [1., 0.],\n",
              "       [1., 0.],\n",
              "       [1., 0.],\n",
              "       [1., 0.],\n",
              "       [1., 0.],\n",
              "       [1., 0.],\n",
              "       [1., 0.],\n",
              "       [1., 0.],\n",
              "       [1., 0.],\n",
              "       [1., 0.],\n",
              "       [1., 0.],\n",
              "       [1., 0.],\n",
              "       [1., 0.],\n",
              "       [1., 0.],\n",
              "       [0., 1.],\n",
              "       [0., 1.],\n",
              "       [0., 1.],\n",
              "       [0., 1.],\n",
              "       [0., 1.],\n",
              "       [0., 1.],\n",
              "       [0., 1.],\n",
              "       [0., 1.],\n",
              "       [0., 1.],\n",
              "       [0., 1.],\n",
              "       [0., 1.],\n",
              "       [0., 1.],\n",
              "       [0., 1.],\n",
              "       [0., 1.],\n",
              "       [0., 1.],\n",
              "       [1., 0.],\n",
              "       [1., 0.],\n",
              "       [0., 1.],\n",
              "       [1., 0.],\n",
              "       [0., 1.],\n",
              "       [1., 0.],\n",
              "       [1., 0.],\n",
              "       [1., 0.],\n",
              "       [1., 0.],\n",
              "       [1., 0.],\n",
              "       [1., 0.],\n",
              "       [1., 0.],\n",
              "       [0., 1.],\n",
              "       [0., 1.],\n",
              "       [1., 0.],\n",
              "       [1., 0.],\n",
              "       [1., 0.],\n",
              "       [1., 0.],\n",
              "       [0., 1.],\n",
              "       [1., 0.],\n",
              "       [0., 1.],\n",
              "       [1., 0.],\n",
              "       [0., 1.],\n",
              "       [0., 1.],\n",
              "       [1., 0.],\n",
              "       [1., 0.],\n",
              "       [0., 1.],\n",
              "       [0., 1.],\n",
              "       [1., 0.],\n",
              "       [1., 0.],\n",
              "       [0., 1.],\n",
              "       [0., 1.],\n",
              "       [0., 1.],\n",
              "       [0., 1.],\n",
              "       [1., 0.],\n",
              "       [1., 0.],\n",
              "       [1., 0.],\n",
              "       [1., 0.],\n",
              "       [1., 0.],\n",
              "       [1., 0.],\n",
              "       [1., 0.],\n",
              "       [1., 0.],\n",
              "       [1., 0.],\n",
              "       [1., 0.],\n",
              "       [1., 0.],\n",
              "       [0., 1.],\n",
              "       [0., 1.],\n",
              "       [0., 1.],\n",
              "       [0., 1.],\n",
              "       [0., 1.],\n",
              "       [0., 1.],\n",
              "       [0., 1.],\n",
              "       [0., 1.],\n",
              "       [0., 1.],\n",
              "       [0., 1.],\n",
              "       [0., 1.],\n",
              "       [0., 1.],\n",
              "       [0., 1.],\n",
              "       [0., 1.],\n",
              "       [0., 1.],\n",
              "       [1., 0.],\n",
              "       [1., 0.],\n",
              "       [1., 0.],\n",
              "       [1., 0.],\n",
              "       [1., 0.],\n",
              "       [1., 0.],\n",
              "       [0., 1.],\n",
              "       [1., 0.],\n",
              "       [1., 0.],\n",
              "       [1., 0.],\n",
              "       [1., 0.],\n",
              "       [1., 0.],\n",
              "       [1., 0.],\n",
              "       [1., 0.],\n",
              "       [1., 0.]], dtype=float32)"
            ]
          },
          "metadata": {},
          "execution_count": 49
        }
      ]
    },
    {
      "cell_type": "markdown",
      "metadata": {
        "id": "7JuLOCqpLsNL"
      },
      "source": [
        "## Токенизация текста"
      ]
    },
    {
      "cell_type": "code",
      "source": [
        "language = train['language']"
      ],
      "metadata": {
        "id": "QIV4bNL9hl15"
      },
      "execution_count": null,
      "outputs": []
    },
    {
      "cell_type": "code",
      "source": [
        "language[:5]"
      ],
      "metadata": {
        "colab": {
          "base_uri": "https://localhost:8080/"
        },
        "id": "atvWW_OMfnH2",
        "outputId": "cb394f07-8b39-4241-bd82-14f110a6549f"
      },
      "execution_count": null,
      "outputs": [
        {
          "output_type": "execute_result",
          "data": {
            "text/plain": [
              "0    rus\n",
              "1    rus\n",
              "2    rus\n",
              "3    rus\n",
              "4    rus\n",
              "Name: language, dtype: object"
            ]
          },
          "metadata": {},
          "execution_count": 59
        }
      ]
    },
    {
      "cell_type": "markdown",
      "metadata": {
        "id": "DTtBSvAfMusM"
      },
      "source": [
        "**Создаем токенизатор Keras**"
      ]
    },
    {
      "cell_type": "code",
      "metadata": {
        "id": "x-AUMyjMLw5T"
      },
      "source": [
        "tokenizer = Tokenizer(num_words=num_words)"
      ],
      "execution_count": null,
      "outputs": []
    },
    {
      "cell_type": "markdown",
      "metadata": {
        "id": "VIxY2pp-M2gw"
      },
      "source": [
        "Обучаем токенизатор на новостях"
      ]
    },
    {
      "cell_type": "code",
      "metadata": {
        "id": "RfsqlGJZM7HR",
        "colab": {
          "base_uri": "https://localhost:8080/",
          "height": 356
        },
        "outputId": "b5d53032-6c6e-490f-abbd-a62814ba8256"
      },
      "source": [
        "if language == 'eng' or language == 'frn':\n",
        "    tokenizer.fit_on_texts(news)\n",
        "else:\n",
        "    tokens = list(tokenize(news))"
      ],
      "execution_count": null,
      "outputs": [
        {
          "output_type": "error",
          "ename": "ValueError",
          "evalue": "ignored",
          "traceback": [
            "\u001b[0;31m---------------------------------------------------------------------------\u001b[0m",
            "\u001b[0;31mValueError\u001b[0m                                Traceback (most recent call last)",
            "\u001b[0;32m<ipython-input-101-f184a766bac3>\u001b[0m in \u001b[0;36m<module>\u001b[0;34m\u001b[0m\n\u001b[0;32m----> 1\u001b[0;31m \u001b[0;32mif\u001b[0m \u001b[0mlanguage\u001b[0m \u001b[0;34m==\u001b[0m \u001b[0;34m'eng'\u001b[0m \u001b[0;32mor\u001b[0m \u001b[0mlanguage\u001b[0m \u001b[0;34m==\u001b[0m \u001b[0;34m'frn'\u001b[0m\u001b[0;34m:\u001b[0m\u001b[0;34m\u001b[0m\u001b[0;34m\u001b[0m\u001b[0m\n\u001b[0m\u001b[1;32m      2\u001b[0m     \u001b[0mtokenizer\u001b[0m\u001b[0;34m.\u001b[0m\u001b[0mfit_on_texts\u001b[0m\u001b[0;34m(\u001b[0m\u001b[0mnews\u001b[0m\u001b[0;34m)\u001b[0m\u001b[0;34m\u001b[0m\u001b[0;34m\u001b[0m\u001b[0m\n\u001b[1;32m      3\u001b[0m \u001b[0;32melse\u001b[0m\u001b[0;34m:\u001b[0m\u001b[0;34m\u001b[0m\u001b[0;34m\u001b[0m\u001b[0m\n\u001b[1;32m      4\u001b[0m     \u001b[0mtokens\u001b[0m \u001b[0;34m=\u001b[0m \u001b[0mlist\u001b[0m\u001b[0;34m(\u001b[0m\u001b[0mtokenize\u001b[0m\u001b[0;34m(\u001b[0m\u001b[0mnews\u001b[0m\u001b[0;34m)\u001b[0m\u001b[0;34m)\u001b[0m\u001b[0;34m\u001b[0m\u001b[0;34m\u001b[0m\u001b[0m\n",
            "\u001b[0;32m/usr/local/lib/python3.8/dist-packages/pandas/core/generic.py\u001b[0m in \u001b[0;36m__nonzero__\u001b[0;34m(self)\u001b[0m\n\u001b[1;32m   1535\u001b[0m     \u001b[0;34m@\u001b[0m\u001b[0mfinal\u001b[0m\u001b[0;34m\u001b[0m\u001b[0;34m\u001b[0m\u001b[0m\n\u001b[1;32m   1536\u001b[0m     \u001b[0;32mdef\u001b[0m \u001b[0m__nonzero__\u001b[0m\u001b[0;34m(\u001b[0m\u001b[0mself\u001b[0m\u001b[0;34m)\u001b[0m\u001b[0;34m:\u001b[0m\u001b[0;34m\u001b[0m\u001b[0;34m\u001b[0m\u001b[0m\n\u001b[0;32m-> 1537\u001b[0;31m         raise ValueError(\n\u001b[0m\u001b[1;32m   1538\u001b[0m             \u001b[0;34mf\"The truth value of a {type(self).__name__} is ambiguous. \"\u001b[0m\u001b[0;34m\u001b[0m\u001b[0;34m\u001b[0m\u001b[0m\n\u001b[1;32m   1539\u001b[0m             \u001b[0;34m\"Use a.empty, a.bool(), a.item(), a.any() or a.all().\"\u001b[0m\u001b[0;34m\u001b[0m\u001b[0;34m\u001b[0m\u001b[0m\n",
            "\u001b[0;31mValueError\u001b[0m: The truth value of a Series is ambiguous. Use a.empty, a.bool(), a.item(), a.any() or a.all()."
          ]
        }
      ]
    },
    {
      "cell_type": "markdown",
      "metadata": {
        "id": "y6PqC28PND82"
      },
      "source": [
        "Просматриваем словарь токенизатора"
      ]
    },
    {
      "cell_type": "code",
      "source": [
        "tokens"
      ],
      "metadata": {
        "colab": {
          "base_uri": "https://localhost:8080/",
          "height": 172
        },
        "id": "fxAk0N1bnEBb",
        "outputId": "585fe70c-7368-4ba9-f638-c294d7994cdb"
      },
      "execution_count": null,
      "outputs": [
        {
          "output_type": "error",
          "ename": "NameError",
          "evalue": "ignored",
          "traceback": [
            "\u001b[0;31m---------------------------------------------------------------------------\u001b[0m",
            "\u001b[0;31mNameError\u001b[0m                                 Traceback (most recent call last)",
            "\u001b[0;32m<ipython-input-99-1c57b705edbf>\u001b[0m in \u001b[0;36m<module>\u001b[0;34m\u001b[0m\n\u001b[0;32m----> 1\u001b[0;31m \u001b[0mtokens\u001b[0m\u001b[0;34m\u001b[0m\u001b[0;34m\u001b[0m\u001b[0m\n\u001b[0m",
            "\u001b[0;31mNameError\u001b[0m: name 'tokens' is not defined"
          ]
        }
      ]
    },
    {
      "cell_type": "markdown",
      "source": [],
      "metadata": {
        "id": "IviiO5U7wF8o"
      }
    },
    {
      "cell_type": "code",
      "metadata": {
        "id": "8mWcH0mUMcMU",
        "outputId": "b6d4380f-89a9-4055-d07b-faec3ac10276",
        "colab": {
          "base_uri": "https://localhost:8080/"
        }
      },
      "source": [
        "tokenizer.word_index"
      ],
      "execution_count": null,
      "outputs": [
        {
          "output_type": "execute_result",
          "data": {
            "text/plain": [
              "{'the': 1,\n",
              " 'to': 2,\n",
              " 'of': 3,\n",
              " 'a': 4,\n",
              " 'and': 5,\n",
              " 'in': 6,\n",
              " 'that': 7,\n",
              " 'for': 8,\n",
              " 'on': 9,\n",
              " 'de': 10,\n",
              " 'is': 11,\n",
              " 'said': 12,\n",
              " 'with': 13,\n",
              " 'as': 14,\n",
              " '”': 15,\n",
              " 'was': 16,\n",
              " 'it': 17,\n",
              " 'from': 18,\n",
              " 'la': 19,\n",
              " 'by': 20,\n",
              " 'at': 21,\n",
              " 'have': 22,\n",
              " 'has': 23,\n",
              " 'be': 24,\n",
              " 'are': 25,\n",
              " 'à': 26,\n",
              " 'he': 27,\n",
              " 'but': 28,\n",
              " 'an': 29,\n",
              " 'в': 30,\n",
              " 'en': 31,\n",
              " 'his': 32,\n",
              " 'not': 33,\n",
              " 'les': 34,\n",
              " 'they': 35,\n",
              " 'this': 36,\n",
              " 'who': 37,\n",
              " 'will': 38,\n",
              " '—': 39,\n",
              " 'or': 40,\n",
              " 'she': 41,\n",
              " 'et': 42,\n",
              " 'their': 43,\n",
              " 'le': 44,\n",
              " 'des': 45,\n",
              " 'were': 46,\n",
              " 'been': 47,\n",
              " 'her': 48,\n",
              " 'had': 49,\n",
              " 'we': 50,\n",
              " 'more': 51,\n",
              " 'its': 52,\n",
              " 'you': 53,\n",
              " 'which': 54,\n",
              " 'after': 55,\n",
              " 'i': 56,\n",
              " 'people': 57,\n",
              " 'about': 58,\n",
              " 'one': 59,\n",
              " 'year': 60,\n",
              " 'also': 61,\n",
              " 'un': 62,\n",
              " 'would': 63,\n",
              " 'и': 64,\n",
              " 'pour': 65,\n",
              " 'than': 66,\n",
              " 'du': 67,\n",
              " 'new': 68,\n",
              " 'when': 69,\n",
              " 'over': 70,\n",
              " 'на': 71,\n",
              " 'into': 72,\n",
              " 'two': 73,\n",
              " 'up': 74,\n",
              " 'mr': 75,\n",
              " 'can': 76,\n",
              " 'ukraine': 77,\n",
              " 'all': 78,\n",
              " 'article': 79,\n",
              " 'что': 80,\n",
              " '–': 81,\n",
              " 'what': 82,\n",
              " 'there': 83,\n",
              " 'years': 84,\n",
              " 'our': 85,\n",
              " 'out': 86,\n",
              " 'so': 87,\n",
              " 'if': 88,\n",
              " 'them': 89,\n",
              " 'some': 90,\n",
              " 'par': 91,\n",
              " 'like': 92,\n",
              " 'time': 93,\n",
              " 'last': 94,\n",
              " 'your': 95,\n",
              " 'est': 96,\n",
              " 'president': 97,\n",
              " 'police': 98,\n",
              " 'une': 99,\n",
              " 'dans': 100,\n",
              " 'sur': 101,\n",
              " 'many': 102,\n",
              " 'us': 103,\n",
              " 'other': 104,\n",
              " 'could': 105,\n",
              " 'just': 106,\n",
              " 'au': 107,\n",
              " 'first': 108,\n",
              " '12': 109,\n",
              " 'monday': 110,\n",
              " 'plus': 111,\n",
              " 'que': 112,\n",
              " 'no': 113,\n",
              " 'how': 114,\n",
              " 'now': 115,\n",
              " 'u': 116,\n",
              " 'those': 117,\n",
              " 'world': 118,\n",
              " 'state': 119,\n",
              " 's': 120,\n",
              " 'qui': 121,\n",
              " 'по': 122,\n",
              " 'since': 123,\n",
              " 'during': 124,\n",
              " '2022': 125,\n",
              " 'country': 126,\n",
              " 'including': 127,\n",
              " 'according': 128,\n",
              " 'russian': 129,\n",
              " 'it’s': 130,\n",
              " 'where': 131,\n",
              " 'before': 132,\n",
              " 'while': 133,\n",
              " 'il': 134,\n",
              " 'most': 135,\n",
              " 'my': 136,\n",
              " 'russia': 137,\n",
              " 'с': 138,\n",
              " 'because': 139,\n",
              " 'government': 140,\n",
              " 'week': 141,\n",
              " \"'\": 142,\n",
              " 'three': 143,\n",
              " 'do': 144,\n",
              " 'national': 145,\n",
              " 'vous': 146,\n",
              " 'military': 147,\n",
              " 'made': 148,\n",
              " 'told': 149,\n",
              " 'against': 150,\n",
              " 'only': 151,\n",
              " 'former': 152,\n",
              " 'did': 153,\n",
              " '1': 154,\n",
              " 'such': 155,\n",
              " 'even': 156,\n",
              " 'war': 157,\n",
              " 'pas': 158,\n",
              " 'him': 159,\n",
              " 'use': 160,\n",
              " 'part': 161,\n",
              " 'across': 162,\n",
              " 'through': 163,\n",
              " 'says': 164,\n",
              " '000': 165,\n",
              " 'officials': 166,\n",
              " 'back': 167,\n",
              " 'work': 168,\n",
              " 'pouvez': 169,\n",
              " 'fr': 170,\n",
              " 'any': 171,\n",
              " 'public': 172,\n",
              " 'want': 173,\n",
              " 'lemonde': 174,\n",
              " 'offrir': 175,\n",
              " 'being': 176,\n",
              " 'long': 177,\n",
              " 'home': 178,\n",
              " 'around': 179,\n",
              " 'ou': 180,\n",
              " 'states': 181,\n",
              " 'support': 182,\n",
              " 'son': 183,\n",
              " 'tuesday': 184,\n",
              " 'day': 185,\n",
              " 'united': 186,\n",
              " 'off': 187,\n",
              " 'house': 188,\n",
              " 'china': 189,\n",
              " 'не': 190,\n",
              " 'down': 191,\n",
              " 'much': 192,\n",
              " '“i': 193,\n",
              " 'december': 194,\n",
              " 'take': 195,\n",
              " 'members': 196,\n",
              " 'very': 197,\n",
              " 'group': 198,\n",
              " 'make': 199,\n",
              " 'energy': 200,\n",
              " 'media': 201,\n",
              " 'way': 202,\n",
              " 'get': 203,\n",
              " 'conditions': 204,\n",
              " 'still': 205,\n",
              " 'life': 206,\n",
              " 'right': 207,\n",
              " 'biden': 208,\n",
              " 'under': 209,\n",
              " 'city': 210,\n",
              " 'sans': 211,\n",
              " 'days': 212,\n",
              " 'd’un': 213,\n",
              " 'political': 214,\n",
              " 'team': 215,\n",
              " 'well': 216,\n",
              " 'used': 217,\n",
              " 'south': 218,\n",
              " 'me': 219,\n",
              " 'both': 220,\n",
              " 'ukrainian': 221,\n",
              " 'bankman': 222,\n",
              " 'then': 223,\n",
              " 'news': 224,\n",
              " 'help': 225,\n",
              " 'say': 226,\n",
              " 'france': 227,\n",
              " 'missiles': 228,\n",
              " 'between': 229,\n",
              " 'next': 230,\n",
              " 'health': 231,\n",
              " 'own': 232,\n",
              " 'international': 233,\n",
              " 'these': 234,\n",
              " 'may': 235,\n",
              " 'percent': 236,\n",
              " 'он': 237,\n",
              " 'another': 238,\n",
              " 'see': 239,\n",
              " 'european': 240,\n",
              " 'past': 241,\n",
              " 'law': 242,\n",
              " 'monde': 243,\n",
              " '10': 244,\n",
              " 'added': 245,\n",
              " 'place': 246,\n",
              " 'need': 247,\n",
              " 'fried': 248,\n",
              " 'statement': 249,\n",
              " 'forces': 250,\n",
              " 'air': 251,\n",
              " '2': 252,\n",
              " 'several': 253,\n",
              " 'called': 254,\n",
              " 'security': 255,\n",
              " 'face': 256,\n",
              " 'recent': 257,\n",
              " 'same': 258,\n",
              " 'africa': 259,\n",
              " 'old': 260,\n",
              " 'months': 261,\n",
              " 'show': 262,\n",
              " 'avec': 263,\n",
              " 'month': 264,\n",
              " 'office': 265,\n",
              " 'staff': 266,\n",
              " 'mois': 267,\n",
              " 'twitter': 268,\n",
              " 'defense': 269,\n",
              " 'force': 270,\n",
              " '“we': 271,\n",
              " 'four': 272,\n",
              " '“the': 273,\n",
              " 'court': 274,\n",
              " 'nos': 275,\n",
              " 'party': 276,\n",
              " 'million': 277,\n",
              " 'company': 278,\n",
              " 'foreign': 279,\n",
              " 'killed': 280,\n",
              " 'end': 281,\n",
              " 'top': 282,\n",
              " 'partage': 283,\n",
              " 'aux': 284,\n",
              " 'ont': 285,\n",
              " 'union': 286,\n",
              " 'strikes': 287,\n",
              " 'should': 288,\n",
              " 'strike': 289,\n",
              " 'ne': 290,\n",
              " '5': 291,\n",
              " 'don’t': 292,\n",
              " 'power': 293,\n",
              " 'think': 294,\n",
              " 'covid': 295,\n",
              " 'se': 296,\n",
              " 'для': 297,\n",
              " 'sunday': 298,\n",
              " 'border': 299,\n",
              " 'major': 300,\n",
              " 'pay': 301,\n",
              " 'little': 302,\n",
              " 'republican': 303,\n",
              " 'cinq': 304,\n",
              " 'l’un': 305,\n",
              " 'été': 306,\n",
              " 'go': 307,\n",
              " 'social': 308,\n",
              " 'ce': 309,\n",
              " 'aussi': 310,\n",
              " 'person': 311,\n",
              " 'least': 312,\n",
              " 'high': 313,\n",
              " 'every': 314,\n",
              " 'already': 315,\n",
              " 'qatar': 316,\n",
              " 'trump': 317,\n",
              " '30': 318,\n",
              " 'water': 319,\n",
              " 'authorities': 320,\n",
              " 'control': 321,\n",
              " 'workers': 322,\n",
              " 'points': 323,\n",
              " 'musk': 324,\n",
              " 'jusqu’à': 325,\n",
              " 'его': 326,\n",
              " 'rights': 327,\n",
              " 'never': 328,\n",
              " 'officers': 329,\n",
              " 'case': 330,\n",
              " 'congress': 331,\n",
              " 'parliament': 332,\n",
              " 'too': 333,\n",
              " 'celui': 334,\n",
              " 'demande': 335,\n",
              " 'mais': 336,\n",
              " '»': 337,\n",
              " 'putin': 338,\n",
              " 'cnn': 339,\n",
              " 'missile': 340,\n",
              " 'data': 341,\n",
              " 'able': 342,\n",
              " 'local': 343,\n",
              " 'african': 344,\n",
              " 'away': 345,\n",
              " 'billion': 346,\n",
              " 'taking': 347,\n",
              " 'action': 348,\n",
              " 'republicans': 349,\n",
              " 'ранее': 350,\n",
              " '«': 351,\n",
              " 'good': 352,\n",
              " 'council': 353,\n",
              " 'white': 354,\n",
              " 'chinese': 355,\n",
              " 'expected': 356,\n",
              " 'general': 357,\n",
              " 'came': 358,\n",
              " 'lake': 359,\n",
              " 'using': 360,\n",
              " 'times': 361,\n",
              " 'going': 362,\n",
              " 'night': 363,\n",
              " 'family': 364,\n",
              " 'making': 365,\n",
              " 'ms': 366,\n",
              " 'haut': 367,\n",
              " 'ci': 368,\n",
              " 'toute': 369,\n",
              " 'за': 370,\n",
              " 'later': 371,\n",
              " 'among': 372,\n",
              " 'know': 373,\n",
              " 'few': 374,\n",
              " 'system': 375,\n",
              " 'come': 376,\n",
              " 'here': 377,\n",
              " 'service': 378,\n",
              " 'cup': 379,\n",
              " 'tant': 380,\n",
              " 'proches': 381,\n",
              " 'grâce': 382,\n",
              " 'services': 383,\n",
              " 'wrote': 384,\n",
              " 'hotel': 385,\n",
              " 'из': 386,\n",
              " 'о': 387,\n",
              " 'россии': 388,\n",
              " 'point': 389,\n",
              " 'november': 390,\n",
              " 'call': 391,\n",
              " 'death': 392,\n",
              " 'protests': 393,\n",
              " 'change': 394,\n",
              " 'earlier': 395,\n",
              " 'countries': 396,\n",
              " 'democratic': 397,\n",
              " 'seen': 398,\n",
              " 'head': 399,\n",
              " 'often': 400,\n",
              " 'children': 401,\n",
              " 'ftx': 402,\n",
              " 'fentanyl': 403,\n",
              " 'vos': 404,\n",
              " 'second': 405,\n",
              " 'together': 406,\n",
              " 'working': 407,\n",
              " 'best': 408,\n",
              " 'l’autorisation': 409,\n",
              " 'strictement': 410,\n",
              " 'd’informations': 411,\n",
              " 'générales': 412,\n",
              " 'https': 413,\n",
              " 'region': 414,\n",
              " 'american': 415,\n",
              " 'based': 416,\n",
              " 'set': 417,\n",
              " 'without': 418,\n",
              " 'saying': 419,\n",
              " 'better': 420,\n",
              " 'announced': 421,\n",
              " 't': 422,\n",
              " 'less': 423,\n",
              " 'committee': 424,\n",
              " 'brain': 425,\n",
              " 'partager': 426,\n",
              " 'cliquant': 427,\n",
              " 'icônes': 428,\n",
              " 'droite': 429,\n",
              " 'reproduction': 430,\n",
              " 'totale': 431,\n",
              " 'partielle': 432,\n",
              " 'écrite': 433,\n",
              " 'préalable': 434,\n",
              " 'interdite': 435,\n",
              " 'consultez': 436,\n",
              " 'vente': 437,\n",
              " 'd’autorisation': 438,\n",
              " 'contactez': 439,\n",
              " 'droitsdauteur': 440,\n",
              " 'qu’abonné': 441,\n",
              " 'articles': 442,\n",
              " 'fonctionnalité': 443,\n",
              " 'www': 444,\n",
              " 'html': 445,\n",
              " 'global': 446,\n",
              " '100': 447,\n",
              " 'known': 448,\n",
              " 'outside': 449,\n",
              " 'event': 450,\n",
              " 'likely': 451,\n",
              " 'train': 452,\n",
              " 'leaders': 453,\n",
              " 'federal': 454,\n",
              " 'cheese': 455,\n",
              " 'pays': 456,\n",
              " 'sont': 457,\n",
              " 'сша': 458,\n",
              " 'заявил': 459,\n",
              " '4': 460,\n",
              " 'reported': 461,\n",
              " 'official': 462,\n",
              " 'five': 463,\n",
              " 'become': 464,\n",
              " 'future': 465,\n",
              " 'weeks': 466,\n",
              " 'weapons': 467,\n",
              " 'north': 468,\n",
              " 'policy': 469,\n",
              " 'phone': 470,\n",
              " 'york': 471,\n",
              " 'close': 472,\n",
              " 'latest': 473,\n",
              " 'drug': 474,\n",
              " 'cette': 475,\n",
              " 'к': 476,\n",
              " 'early': 477,\n",
              " 'far': 478,\n",
              " 'took': 479,\n",
              " '2021': 480,\n",
              " 'director': 481,\n",
              " 'put': 482,\n",
              " 'financial': 483,\n",
              " 'ses': 484,\n",
              " '2020': 485,\n",
              " '13': 486,\n",
              " 'chief': 487,\n",
              " 'emergency': 488,\n",
              " 'lot': 489,\n",
              " 'until': 490,\n",
              " 'enough': 491,\n",
              " 'christmas': 492,\n",
              " 'given': 493,\n",
              " 'campaign': 494,\n",
              " 'human': 495,\n",
              " 'act': 496,\n",
              " 'start': 497,\n",
              " 'investigation': 498,\n",
              " 'others': 499,\n",
              " 'something': 500,\n",
              " 'hong': 501,\n",
              " 'neuralink': 502,\n",
              " '2019': 503,\n",
              " 'number': 504,\n",
              " 'agency': 505,\n",
              " 'continue': 506,\n",
              " 'each': 507,\n",
              " 'find': 508,\n",
              " 'might': 509,\n",
              " 'coming': 510,\n",
              " 'keep': 511,\n",
              " 'west': 512,\n",
              " 'money': 513,\n",
              " 'move': 514,\n",
              " 'vote': 515,\n",
              " 'infrastructure': 516,\n",
              " 'lives': 517,\n",
              " 'e': 518,\n",
              " 'research': 519,\n",
              " 'depuis': 520,\n",
              " 'm': 521,\n",
              " 'department': 522,\n",
              " 'report': 523,\n",
              " 'online': 524,\n",
              " 'election': 525,\n",
              " 'hit': 526,\n",
              " 'hard': 527,\n",
              " 'dust': 528,\n",
              " 'attack': 529,\n",
              " 'really': 530,\n",
              " 'whether': 531,\n",
              " 'также': 532,\n",
              " 'украине': 533,\n",
              " 'hypersonic': 534,\n",
              " 'always': 535,\n",
              " '6': 536,\n",
              " 'iran': 537,\n",
              " 'range': 538,\n",
              " 'possible': 539,\n",
              " 'school': 540,\n",
              " 'deal': 541,\n",
              " 'left': 542,\n",
              " 'showed': 543,\n",
              " 'run': 544,\n",
              " 'washington': 545,\n",
              " 'administration': 546,\n",
              " 'об': 547,\n",
              " '20': 548,\n",
              " 'different': 549,\n",
              " 'beijing': 550,\n",
              " 'having': 551,\n",
              " 'london': 552,\n",
              " 'held': 553,\n",
              " 'western': 554,\n",
              " 'ukraine’s': 555,\n",
              " 'hours': 556,\n",
              " 'important': 557,\n",
              " 'test': 558,\n",
              " 'center': 559,\n",
              " 'industry': 560,\n",
              " 'food': 561,\n",
              " 'companies': 562,\n",
              " 'democrats': 563,\n",
              " 'этом': 564,\n",
              " 'telegram': 565,\n",
              " '2023': 566,\n",
              " 'launched': 567,\n",
              " '3': 568,\n",
              " 'castillo': 569,\n",
              " 'nearly': 570,\n",
              " 'key': 571,\n",
              " 'win': 572,\n",
              " 'travel': 573,\n",
              " 'plan': 574,\n",
              " '7': 575,\n",
              " 'believe': 576,\n",
              " 'app': 577,\n",
              " 'plans': 578,\n",
              " 'drones': 579,\n",
              " 'situation': 580,\n",
              " 'southern': 581,\n",
              " 'minister': 582,\n",
              " 'attacks': 583,\n",
              " 'ever': 584,\n",
              " 'history': 585,\n",
              " 'calls': 586,\n",
              " 'per': 587,\n",
              " 'you’re': 588,\n",
              " 'ago': 589,\n",
              " 'post': 590,\n",
              " 'ces': 591,\n",
              " 'как': 592,\n",
              " '19': 593,\n",
              " '2018': 594,\n",
              " 'charges': 595,\n",
              " 'leader': 596,\n",
              " 'man': 597,\n",
              " 'trying': 598,\n",
              " 'behind': 599,\n",
              " 'troops': 600,\n",
              " 'india': 601,\n",
              " 'live': 602,\n",
              " 'half': 603,\n",
              " 'red': 604,\n",
              " 'got': 605,\n",
              " 'comment': 606,\n",
              " 'conference': 607,\n",
              " 'warned': 608,\n",
              " 'significant': 609,\n",
              " 'once': 610,\n",
              " 'business': 611,\n",
              " 'tech': 612,\n",
              " 'avait': 613,\n",
              " 'contre': 614,\n",
              " 'deux': 615,\n",
              " 'elle': 616,\n",
              " 'l’ukraine': 617,\n",
              " '15': 618,\n",
              " 'member': 619,\n",
              " 'side': 620,\n",
              " 'secretary': 621,\n",
              " 'capital': 622,\n",
              " 'following': 623,\n",
              " 'taken': 624,\n",
              " 'shot': 625,\n",
              " 'east': 626,\n",
              " 'millions': 627,\n",
              " 'women': 628,\n",
              " 'car': 629,\n",
              " 'again': 630,\n",
              " 'fait': 631,\n",
              " 'sa': 632,\n",
              " 'c’est': 633,\n",
              " 'от': 634,\n",
              " '16': 635,\n",
              " 'asked': 636,\n",
              " 'why': 637,\n",
              " 'found': 638,\n",
              " 'line': 639,\n",
              " 'died': 640,\n",
              " 'press': 641,\n",
              " 'deaths': 642,\n",
              " 'however': 643,\n",
              " 'safety': 644,\n",
              " 'university': 645,\n",
              " 'return': 646,\n",
              " 'concerns': 647,\n",
              " 'lost': 648,\n",
              " 'must': 649,\n",
              " 'request': 650,\n",
              " 'october': 651,\n",
              " 'cases': 652,\n",
              " 'pandemic': 653,\n",
              " 'look': 654,\n",
              " 'young': 655,\n",
              " 'brought': 656,\n",
              " 'prices': 657,\n",
              " 'kong': 658,\n",
              " 'things': 659,\n",
              " 'does': 660,\n",
              " 'gas': 661,\n",
              " 'zugay': 662,\n",
              " 'open': 663,\n",
              " 'give': 664,\n",
              " '11': 665,\n",
              " '17': 666,\n",
              " 'released': 667,\n",
              " 'friday': 668,\n",
              " 'season': 669,\n",
              " 'central': 670,\n",
              " 'fuel': 671,\n",
              " 'area': 672,\n",
              " 'japan': 673,\n",
              " 'australia': 674,\n",
              " 'almost': 675,\n",
              " 'country’s': 676,\n",
              " 'within': 677,\n",
              " 'rules': 678,\n",
              " '“it': 679,\n",
              " 'makes': 680,\n",
              " 'journalists': 681,\n",
              " 'snow': 682,\n",
              " 'bring': 683,\n",
              " '…': 684,\n",
              " 'paper': 685,\n",
              " 'san': 686,\n",
              " 'l': 687,\n",
              " 'eu': 688,\n",
              " 'nous': 689,\n",
              " 'tout': 690,\n",
              " 'despite': 691,\n",
              " 'began': 692,\n",
              " 'football': 693,\n",
              " 'hospital': 694,\n",
              " 'cause': 695,\n",
              " 'bill': 696,\n",
              " 'europe': 697,\n",
              " 'paris': 698,\n",
              " 'stop': 699,\n",
              " 'though': 700,\n",
              " 'real': 701,\n",
              " 'benefits': 702,\n",
              " 'executive': 703,\n",
              " 'aid': 704,\n",
              " 'russia’s': 705,\n",
              " 'device': 706,\n",
              " 'comme': 707,\n",
              " 'd’une': 708,\n",
              " 'lire': 709,\n",
              " 'leur': 710,\n",
              " 'это': 711,\n",
              " 'со': 712,\n",
              " '8': 713,\n",
              " 'video': 714,\n",
              " 'interview': 715,\n",
              " 'sent': 716,\n",
              " 'body': 717,\n",
              " 'met': 718,\n",
              " 'involved': 719,\n",
              " 'yet': 720,\n",
              " 'areas': 721,\n",
              " 'story': 722,\n",
              " 'missing': 723,\n",
              " 'moment': 724,\n",
              " 'free': 725,\n",
              " 'cut': 726,\n",
              " 'commission': 727,\n",
              " 'started': 728,\n",
              " 'that’s': 729,\n",
              " 'everyone': 730,\n",
              " \"it's\": 731,\n",
              " 'winter': 732,\n",
              " 'whose': 733,\n",
              " 'full': 734,\n",
              " 'd': 735,\n",
              " '18': 736,\n",
              " 'miles': 737,\n",
              " 'previously': 738,\n",
              " 'boluarte': 739,\n",
              " 'due': 740,\n",
              " 'elections': 741,\n",
              " 'adding': 742,\n",
              " 'along': 743,\n",
              " 'fire': 744,\n",
              " 'australian': 745,\n",
              " 'game': 746,\n",
              " 'today': 747,\n",
              " 'amid': 748,\n",
              " 'risk': 749,\n",
              " '“this': 750,\n",
              " 'questions': 751,\n",
              " 'difficult': 752,\n",
              " 'tests': 753,\n",
              " 'small': 754,\n",
              " 'big': 755,\n",
              " 'watching': 756,\n",
              " 'final': 757,\n",
              " 'speed': 758,\n",
              " 'offer': 759,\n",
              " 'feel': 760,\n",
              " 'wanted': 761,\n",
              " 'pain': 762,\n",
              " 'carbon': 763,\n",
              " 'looking': 764,\n",
              " 'sanctions': 765,\n",
              " 'senate': 766,\n",
              " 'ray': 767,\n",
              " 'сообщил': 768,\n",
              " '24': 769,\n",
              " 'ministry': 770,\n",
              " 'morning': 771,\n",
              " 'described': 772,\n",
              " 'climate': 773,\n",
              " 'led': 774,\n",
              " 'everything': 775,\n",
              " 'clear': 776,\n",
              " 'try': 777,\n",
              " 'toward': 778,\n",
              " 'street': 779,\n",
              " 'great': 780,\n",
              " 'criminal': 781,\n",
              " 'won': 782,\n",
              " 'peck': 783,\n",
              " 'woods': 784,\n",
              " 'appeared': 785,\n",
              " 'uk': 786,\n",
              " 'после': 787,\n",
              " 'риа': 788,\n",
              " 'новости': 789,\n",
              " 'network': 790,\n",
              " '25': 791,\n",
              " 'trial': 792,\n",
              " 'nuclear': 793,\n",
              " 'largest': 794,\n",
              " 'decades': 795,\n",
              " 'summit': 796,\n",
              " 'posted': 797,\n",
              " 'accused': 798,\n",
              " 'september': 799,\n",
              " 'seven': 800,\n",
              " 'protesters': 801,\n",
              " 'calling': 802,\n",
              " 'ahead': 803,\n",
              " 'question': 804,\n",
              " 'comes': 805,\n",
              " 'soon': 806,\n",
              " 'rather': 807,\n",
              " 'process': 808,\n",
              " 'independent': 809,\n",
              " 'nations': 810,\n",
              " 'violence': 811,\n",
              " 'large': 812,\n",
              " 'biggest': 813,\n",
              " 'late': 814,\n",
              " 'growing': 815,\n",
              " 'cost': 816,\n",
              " 'community': 817,\n",
              " 'heart': 818,\n",
              " 'goal': 819,\n",
              " 'inflation': 820,\n",
              " 'tobacco': 821,\n",
              " \"'the\": 822,\n",
              " 'après': 823,\n",
              " 'notre': 824,\n",
              " 'пресс': 825,\n",
              " '9': 826,\n",
              " '50': 827,\n",
              " 'vladimir': 828,\n",
              " 'arrested': 829,\n",
              " 'iranian': 830,\n",
              " 'peru’s': 831,\n",
              " 'incident': 832,\n",
              " 'spokesman': 833,\n",
              " 'built': 834,\n",
              " 'buy': 835,\n",
              " 'medical': 836,\n",
              " 'became': 837,\n",
              " 'inside': 838,\n",
              " 'longer': 839,\n",
              " 'reuters': 840,\n",
              " 'residents': 841,\n",
              " 'name': 842,\n",
              " 'course': 843,\n",
              " 'six': 844,\n",
              " 'doing': 845,\n",
              " 'order': 846,\n",
              " 'qu’il': 847,\n",
              " 'guerre': 848,\n",
              " 'будет': 849,\n",
              " 'страны': 850,\n",
              " 'декабря': 851,\n",
              " '2024': 852,\n",
              " '40': 853,\n",
              " '2014': 854,\n",
              " 'aircraft': 855,\n",
              " 'played': 856,\n",
              " 'moscow': 857,\n",
              " 'confirmed': 858,\n",
              " 'families': 859,\n",
              " 'china’s': 860,\n",
              " 'meeting': 861,\n",
              " 'images': 862,\n",
              " 'thing': 863,\n",
              " 'eight': 864,\n",
              " 'weather': 865,\n",
              " 'lead': 866,\n",
              " 'decision': 867,\n",
              " '’': 868,\n",
              " 'reporting': 869,\n",
              " 'building': 870,\n",
              " 'especially': 871,\n",
              " 'experience': 872,\n",
              " 'price': 873,\n",
              " 'received': 874,\n",
              " 'queensland': 875,\n",
              " 'property': 876,\n",
              " 'search': 877,\n",
              " 'rail': 878,\n",
              " 'means': 879,\n",
              " 'ground': 880,\n",
              " 'project': 881,\n",
              " 'friends': 882,\n",
              " 'wall': 883,\n",
              " 'hope': 884,\n",
              " 'technology': 885,\n",
              " 'level': 886,\n",
              " 'england': 887,\n",
              " 'doesn’t': 888,\n",
              " 'patients': 889,\n",
              " 'faire': 890,\n",
              " 'politique': 891,\n",
              " 'russes': 892,\n",
              " 'при': 893,\n",
              " '23': 894,\n",
              " 'saturday': 895,\n",
              " 'turned': 896,\n",
              " 'john': 897,\n",
              " 'august': 898,\n",
              " 'hour': 899,\n",
              " 'invasion': 900,\n",
              " 'reports': 901,\n",
              " 'dead': 902,\n",
              " 'source': 903,\n",
              " 'army': 904,\n",
              " 'went': 905,\n",
              " 'series': 906,\n",
              " 'non': 907,\n",
              " 'cold': 908,\n",
              " 'continued': 909,\n",
              " 'weekend': 910,\n",
              " 'role': 911,\n",
              " '“a': 912,\n",
              " 'further': 913,\n",
              " 'planned': 914,\n",
              " 'care': 915,\n",
              " 'market': 916,\n",
              " 'kind': 917,\n",
              " 'third': 918,\n",
              " 'base': 919,\n",
              " 'love': 920,\n",
              " 'hundreds': 921,\n",
              " 'art': 922,\n",
              " 'job': 923,\n",
              " 'black': 924,\n",
              " 'tried': 925,\n",
              " 'effort': 926,\n",
              " 'current': 927,\n",
              " 'converted': 928,\n",
              " 'zelensky': 929,\n",
              " 'records': 930,\n",
              " 'ministers': 931,\n",
              " 'men': 932,\n",
              " 'crypto': 933,\n",
              " 'bahamas': 934,\n",
              " 'quickly': 935,\n",
              " 'fusion': 936,\n",
              " 'украины': 937,\n",
              " 'мы': 938,\n",
              " 'i’m': 939,\n",
              " 'exchange': 940,\n",
              " 'include': 941,\n",
              " 'pressure': 942,\n",
              " 'forward': 943,\n",
              " 'fighting': 944,\n",
              " 'low': 945,\n",
              " 'leading': 946,\n",
              " 'play': 947,\n",
              " 'spending': 948,\n",
              " 'additional': 949,\n",
              " 'british': 950,\n",
              " '500': 951,\n",
              " 'cash': 952,\n",
              " 'popular': 953,\n",
              " 'targets': 954,\n",
              " 'wave': 955,\n",
              " 'parts': 956,\n",
              " 'spread': 957,\n",
              " 'funding': 958,\n",
              " 'above': 959,\n",
              " 'thousands': 960,\n",
              " 'hearing': 961,\n",
              " 'helped': 962,\n",
              " 'music': 963,\n",
              " 'january': 964,\n",
              " 'didn’t': 965,\n",
              " 'crisis': 966,\n",
              " 'legal': 967,\n",
              " 'spoke': 968,\n",
              " 'presidential': 969,\n",
              " 'prosecutors': 970,\n",
              " 'ambulance': 971,\n",
              " 'personnes': 972,\n",
              " 'президента': 973,\n",
              " 'которые': 974,\n",
              " 'response': 975,\n",
              " 'airport': 976,\n",
              " 'alleged': 977,\n",
              " 'step': 978,\n",
              " 'daily': 979,\n",
              " 'visit': 980,\n",
              " 'beyond': 981,\n",
              " 'friend': 982,\n",
              " 'woman': 983,\n",
              " '“it’s': 984,\n",
              " 'events': 985,\n",
              " 'space': 986,\n",
              " 'critical': 987,\n",
              " 'increase': 988,\n",
              " 'room': 989,\n",
              " 'matter': 990,\n",
              " 'voice': 991,\n",
              " 'impact': 992,\n",
              " 'rise': 993,\n",
              " 'older': 994,\n",
              " 'ski': 995,\n",
              " 'california': 996,\n",
              " 'can’t': 997,\n",
              " 'laws': 998,\n",
              " 'supporters': 999,\n",
              " 'needs': 1000,\n",
              " ...}"
            ]
          },
          "metadata": {},
          "execution_count": 118
        }
      ]
    },
    {
      "cell_type": "markdown",
      "source": [
        "**Использование Navec — компактные эмбеддинги для русского языка**"
      ],
      "metadata": {
        "id": "_iTDn4HfwRsx"
      }
    },
    {
      "cell_type": "code",
      "source": [
        "emb(news)"
      ],
      "metadata": {
        "colab": {
          "base_uri": "https://localhost:8080/",
          "height": 172
        },
        "id": "WGgcXT-YveXO",
        "outputId": "b9793aa7-9dc7-4f9b-9b92-66270a97efe6"
      },
      "execution_count": null,
      "outputs": [
        {
          "output_type": "error",
          "ename": "TypeError",
          "evalue": "ignored",
          "traceback": [
            "\u001b[0;31m---------------------------------------------------------------------------\u001b[0m",
            "\u001b[0;31mTypeError\u001b[0m                                 Traceback (most recent call last)",
            "\u001b[0;32m<ipython-input-113-63f9a1fed470>\u001b[0m in \u001b[0;36m<module>\u001b[0;34m\u001b[0m\n\u001b[0;32m----> 1\u001b[0;31m \u001b[0memb\u001b[0m\u001b[0;34m(\u001b[0m\u001b[0mnews\u001b[0m\u001b[0;34m)\u001b[0m\u001b[0;34m\u001b[0m\u001b[0;34m\u001b[0m\u001b[0m\n\u001b[0m",
            "\u001b[0;31mTypeError\u001b[0m: 'NewsEmbedding' object is not callable"
          ]
        }
      ]
    },
    {
      "cell_type": "markdown",
      "metadata": {
        "id": "s_nyPsVLNW-f"
      },
      "source": [
        "Преобразуем новости в числовое представление"
      ]
    },
    {
      "cell_type": "code",
      "metadata": {
        "id": "bMZ6e-zEJHr1"
      },
      "source": [
        "sequences = tokenizer.texts_to_sequences(news)"
      ],
      "execution_count": null,
      "outputs": []
    },
    {
      "cell_type": "markdown",
      "metadata": {
        "id": "aZ_NJ2SlNwMI"
      },
      "source": [
        "Просматриваем новости в числовом представлении"
      ]
    },
    {
      "cell_type": "code",
      "metadata": {
        "id": "xIUJvjguN0S0",
        "outputId": "8891aeb3-d533-475f-e6d1-d293d1231540",
        "colab": {
          "base_uri": "https://localhost:8080/"
        }
      },
      "source": [
        "index = 1\n",
        "print(news[index])\n",
        "print(sequences[index])"
      ],
      "execution_count": null,
      "outputs": [
        {
          "output_type": "stream",
          "name": "stdout",
          "text": [
            "Президент Украины Владимир Зеленский признал, что Киеву будет очень сложно без поддержки США. Об этом он сообщил в интервью телеведущему Дэвиду Леттерману для стримингового сервиса Netflix.\n",
            "\n",
            "«Мы понимаем, что происходит в США, мы за этим следим, это правда, для нас это важно, потому что США — лидер в поддержке Украины, и без их поддержки нам будет сложно, прямо очень сложно. Кстати, вопрос, когда закончится война, также зависит от этой поддержки, чтобы она была короче, нужна более мощная помощь», — заявил политик.\n",
            "\n",
            "Зеленский отметил, что украинская сторона прислушивается к сигналам со всех сторон. По его словам, «если изменится климат в политике, в Конгрессе», это может сильно повлиять на помощь Киеву. Политик добавил, что в определенный момент Украина была обеспокоена замедлением поддержки.\n",
            "\n",
            "Ранее телеканал NBC со ссылкой на трех американских чиновников сообщил о намерении США увеличить численность своих военных на Украине для усиления контроля за поставляемым оружием. Отмечается, что в настоящее время на Украине находятся «пара десятков» американских военнослужащих, включая небольшую группу, которая следит, чтобы западные «вооружения дошли до предполагаемых получателей».\n",
            "[1297, 937, 1602, 2768, 80, 2769, 849, 3161, 4408, 2033, 2490, 458, 547, 564, 237, 768, 30, 2770, 7279, 7280, 7281, 297, 2491, 2232, 7282, 80, 5478, 30, 458, 938, 370, 7283, 7284, 711, 7285, 297, 2771, 711, 5479, 3688, 80, 458, 39, 2772, 30, 4409, 937, 64, 2033, 1603, 2490, 7286, 849, 4408, 3161, 4408, 2773, 2492, 7287, 532, 5480, 634, 3162, 2490, 1074, 1399, 2233, 1400, 7288, 39, 459, 3163, 2768, 2234, 80, 7289, 5481, 476, 712, 2774, 7290, 122, 326, 1226, 7291, 30, 7292, 30, 711, 1401, 7293, 71, 1727, 2769, 3163, 1861, 80, 30, 7294, 2775, 5482, 2233, 7295, 2490, 350, 2034, 2035, 712, 1402, 71, 3164, 1728, 3689, 768, 387, 4410, 458, 2493, 2776, 3690, 1298, 71, 533, 297, 2777, 2235, 370, 3691, 2778, 2779, 80, 30, 3692, 1073, 71, 533, 3693, 5483, 5484, 1728, 5485, 3165, 5486, 5487, 1729, 5488, 1074, 3694, 5489, 5490, 1227, 5491, 5492]\n"
          ]
        }
      ]
    },
    {
      "cell_type": "code",
      "metadata": {
        "id": "sQn0O5kBtmyJ",
        "outputId": "5c8fd537-aba3-49cf-9458-b9f044bccc08",
        "colab": {
          "base_uri": "https://localhost:8080/",
          "height": 172
        }
      },
      "source": [
        "tokenizer.word_index['Президент']"
      ],
      "execution_count": null,
      "outputs": [
        {
          "output_type": "error",
          "ename": "KeyError",
          "evalue": "ignored",
          "traceback": [
            "\u001b[0;31m---------------------------------------------------------------------------\u001b[0m",
            "\u001b[0;31mKeyError\u001b[0m                                  Traceback (most recent call last)",
            "\u001b[0;32m<ipython-input-120-c874ad3f498b>\u001b[0m in \u001b[0;36m<module>\u001b[0;34m\u001b[0m\n\u001b[0;32m----> 1\u001b[0;31m \u001b[0mtokenizer\u001b[0m\u001b[0;34m.\u001b[0m\u001b[0mword_index\u001b[0m\u001b[0;34m[\u001b[0m\u001b[0;34m'Президент'\u001b[0m\u001b[0;34m]\u001b[0m\u001b[0;34m\u001b[0m\u001b[0;34m\u001b[0m\u001b[0m\n\u001b[0m",
            "\u001b[0;31mKeyError\u001b[0m: 'Президент'"
          ]
        }
      ]
    },
    {
      "cell_type": "markdown",
      "metadata": {
        "id": "neSZfrw3OYPx"
      },
      "source": [
        "Ограничиваем длину отзывов"
      ]
    },
    {
      "cell_type": "code",
      "metadata": {
        "id": "ZGLpcETkN3ex"
      },
      "source": [
        "x_train = pad_sequences(sequences, maxlen=max_news_len)"
      ],
      "execution_count": null,
      "outputs": []
    },
    {
      "cell_type": "code",
      "metadata": {
        "id": "mPW1VACmOrrm",
        "outputId": "91e7feb1-2344-45a7-d0aa-f330f2ea54a1",
        "colab": {
          "base_uri": "https://localhost:8080/"
        }
      },
      "source": [
        "x_train[:5]"
      ],
      "execution_count": null,
      "outputs": [
        {
          "output_type": "execute_result",
          "data": {
            "text/plain": [
              "array([[   0,    0,    0, ..., 1860,  138,  297],\n",
              "       [   0,    0,    0, ..., 1227, 5491, 5492],\n",
              "       [   0,    0,    0, ..., 4416,  237, 1604],\n",
              "       [   0,    0,    0, ..., 2786, 4417, 5502],\n",
              "       [   0,    0,    0, ..., 5510, 7325,  190]], dtype=int32)"
            ]
          },
          "metadata": {},
          "execution_count": 70
        }
      ]
    },
    {
      "cell_type": "markdown",
      "metadata": {
        "id": "VFUTMuKL8SNY"
      },
      "source": [
        "## Cеть LSTM"
      ]
    },
    {
      "cell_type": "code",
      "metadata": {
        "id": "s_ZqIgqS8SNa"
      },
      "source": [
        "model_lstm = Sequential()\n",
        "model_lstm.add(Embedding(num_words, 32, input_length=max_news_len))\n",
        "model_lstm.add(LSTM(16))\n",
        "model_lstm.add(Dense(2, activation='sigmoid'))"
      ],
      "execution_count": null,
      "outputs": []
    },
    {
      "cell_type": "code",
      "metadata": {
        "id": "IoxJ8kNf8SNc"
      },
      "source": [
        "model_lstm.compile(optimizer='adam', \n",
        "              loss='binary_crossentropy', \n",
        "              metrics=['accuracy'])"
      ],
      "execution_count": null,
      "outputs": []
    },
    {
      "cell_type": "code",
      "metadata": {
        "outputId": "ade980f7-7a1c-45f5-b012-fbf802cf083b",
        "id": "KNc2OK3j8SNe",
        "colab": {
          "base_uri": "https://localhost:8080/"
        }
      },
      "source": [
        "model_lstm.summary()"
      ],
      "execution_count": null,
      "outputs": [
        {
          "output_type": "stream",
          "name": "stdout",
          "text": [
            "Model: \"sequential\"\n",
            "_________________________________________________________________\n",
            " Layer (type)                Output Shape              Param #   \n",
            "=================================================================\n",
            " embedding (Embedding)       (None, 500, 32)           320000    \n",
            "                                                                 \n",
            " lstm (LSTM)                 (None, 16)                3136      \n",
            "                                                                 \n",
            " dense (Dense)               (None, 2)                 34        \n",
            "                                                                 \n",
            "=================================================================\n",
            "Total params: 323,170\n",
            "Trainable params: 323,170\n",
            "Non-trainable params: 0\n",
            "_________________________________________________________________\n"
          ]
        }
      ]
    },
    {
      "cell_type": "markdown",
      "metadata": {
        "id": "KzJtvcIa8SNh"
      },
      "source": [
        "Создаем callback для сохранения нейронной сети на каждой эпохе, если качество работы на проверочном наборе данных улучшилось. Сеть сохраняется в файл `best_model.h5`"
      ]
    },
    {
      "cell_type": "code",
      "metadata": {
        "id": "qCu0Xlyj8SNi"
      },
      "source": [
        "model_lstm_save_path = 'best_model_lstm.h5'\n",
        "checkpoint_callback_lstm = ModelCheckpoint(model_lstm_save_path, \n",
        "                                      monitor='val_accuracy',\n",
        "                                      save_best_only=True,\n",
        "                                      verbose=1)"
      ],
      "execution_count": null,
      "outputs": []
    },
    {
      "cell_type": "code",
      "metadata": {
        "outputId": "2dec7743-f106-4bd0-a1d4-60c41380a87b",
        "id": "znNeO0lO8SNk",
        "colab": {
          "base_uri": "https://localhost:8080/"
        }
      },
      "source": [
        "history_lstm = model_lstm.fit(x_train,\n",
        "                              y_train, \n",
        "                              epochs=5,\n",
        "                              batch_size=128,\n",
        "                              validation_split=0.1,\n",
        "                              callbacks=[checkpoint_callback_lstm])"
      ],
      "execution_count": null,
      "outputs": [
        {
          "output_type": "stream",
          "name": "stdout",
          "text": [
            "Epoch 1/5\n",
            "1/2 [==============>...............] - ETA: 6s - loss: 0.6932 - accuracy: 0.4844\n",
            "Epoch 1: val_accuracy improved from -inf to 0.51852, saving model to best_model_lstm.h5\n",
            "2/2 [==============================] - 7s 481ms/step - loss: 0.6932 - accuracy: 0.4856 - val_loss: 0.6924 - val_accuracy: 0.5185\n",
            "Epoch 2/5\n",
            "1/2 [==============>...............] - ETA: 0s - loss: 0.6921 - accuracy: 0.5312\n",
            "Epoch 2: val_accuracy did not improve from 0.51852\n",
            "2/2 [==============================] - 0s 56ms/step - loss: 0.6917 - accuracy: 0.5391 - val_loss: 0.6925 - val_accuracy: 0.4815\n",
            "Epoch 3/5\n",
            "1/2 [==============>...............] - ETA: 0s - loss: 0.6898 - accuracy: 0.5625\n",
            "Epoch 3: val_accuracy did not improve from 0.51852\n",
            "2/2 [==============================] - 0s 55ms/step - loss: 0.6904 - accuracy: 0.5267 - val_loss: 0.6925 - val_accuracy: 0.4815\n",
            "Epoch 4/5\n",
            "1/2 [==============>...............] - ETA: 0s - loss: 0.6892 - accuracy: 0.5156\n",
            "Epoch 4: val_accuracy did not improve from 0.51852\n",
            "2/2 [==============================] - 0s 52ms/step - loss: 0.6887 - accuracy: 0.5350 - val_loss: 0.6925 - val_accuracy: 0.4815\n",
            "Epoch 5/5\n",
            "1/2 [==============>...............] - ETA: 0s - loss: 0.6863 - accuracy: 0.5938\n",
            "Epoch 5: val_accuracy did not improve from 0.51852\n",
            "2/2 [==============================] - 0s 49ms/step - loss: 0.6870 - accuracy: 0.5514 - val_loss: 0.6925 - val_accuracy: 0.4815\n"
          ]
        }
      ]
    },
    {
      "cell_type": "code",
      "metadata": {
        "outputId": "bdc8f3c2-79b9-4200-8dcd-b9cfb55f098d",
        "id": "iFTVTtcM8SNm",
        "colab": {
          "base_uri": "https://localhost:8080/",
          "height": 279
        }
      },
      "source": [
        "plt.plot(history_lstm.history['accuracy'], \n",
        "         label='Доля верных ответов на обучающем наборе')\n",
        "plt.plot(history_lstm.history['val_accuracy'], \n",
        "         label='Доля верных ответов на проверочном наборе')\n",
        "plt.xlabel('Эпоха обучения')\n",
        "plt.ylabel('Доля верных ответов')\n",
        "plt.legend()\n",
        "plt.show()"
      ],
      "execution_count": null,
      "outputs": [
        {
          "output_type": "display_data",
          "data": {
            "text/plain": [
              "<Figure size 432x288 with 1 Axes>"
            ],
            "image/png": "[encoded data removed]"
          },
          "metadata": {
            "needs_background": "light"
          }
        }
      ]
    },
    {
      "cell_type": "markdown",
      "metadata": {
        "id": "Ma51nugyR5Ct"
      },
      "source": [
        "## Загружаем набор данных для тестирования"
      ]
    },
    {
      "cell_type": "code",
      "metadata": {
        "id": "0OQ9iHYWYJ7G"
      },
      "source": [
        "test = pd.read_excel('/content/test.xlsx')"
      ],
      "execution_count": null,
      "outputs": []
    },
    {
      "cell_type": "code",
      "metadata": {
        "id": "4W8Exe9nYYC6",
        "outputId": "aa0dc5f1-5a3b-4d7d-8a48-0a243ea7fb3c",
        "colab": {
          "base_uri": "https://localhost:8080/",
          "height": 423
        }
      },
      "source": [
        "test"
      ],
      "execution_count": null,
      "outputs": [
        {
          "output_type": "execute_result",
          "data": {
            "text/plain": [
              "    class                                              title  \\\n",
              "0       1  В Германии планировали убить канцлера Олафа Шо...   \n",
              "1       1    Албанцы силой захватили власть на севере Косова   \n",
              "2       1  Посол покинул съезд партии в Сербии после виде...   \n",
              "3       1  Команда Байдена начала подготовку к его предвы...   \n",
              "4       1  Сборная Хорватии стала бронзовым призером чемп...   \n",
              "..    ...                                                ...   \n",
              "67      1  Coupe du monde 2022 : la Croatie, troisième, s...   \n",
              "68      1  Iran : arrestation de Taraneh Alidoosti, célèb...   \n",
              "69      0  A part la dinde, y aura qui à Noël ? Les absen...   \n",
              "70      0  Arts : l’Afghanistan sous l’œil de ses artiste...   \n",
              "71      0  Mahmoud Zureik, une vigie au service de la san...   \n",
              "\n",
              "                                                 text  \\\n",
              "0   Немецкий князь Генрих XIII со своими ближайшим...   \n",
              "1   Албанцы провели силовой захват власти в муници...   \n",
              "2   Посол России в Сербии Александр Боцан-Харченко...   \n",
              "3   Команда президента США Джо Байдена начала план...   \n",
              "4   Сборная Хорватии по футболу обыграла команду М...   \n",
              "..                                                ...   \n",
              "67  Vous pouvez partager un article en cliquant su...   \n",
              "68  Vous pouvez partager un article en cliquant su...   \n",
              "69  Vous pouvez partager un article en cliquant su...   \n",
              "70  Vous pouvez partager un article en cliquant su...   \n",
              "71  Vous pouvez partager un article en cliquant su...   \n",
              "\n",
              "                                                 link language  \n",
              "0         https://lenta.ru/articles/2022/12/15/reich/      rus  \n",
              "1            https://lenta.ru/news/2022/12/14/kosowo/      rus  \n",
              "2              https://lenta.ru/news/2022/12/18/psll/      rus  \n",
              "3             https://lenta.ru/news/2022/12/18/biden/      rus  \n",
              "4    https://lenta.ru/news/2022/12/17/croatiamorocco/      rus  \n",
              "..                                                ...      ...  \n",
              "67  https://www.lemonde.fr/football/article/2022/1...      frn  \n",
              "68  https://www.lemonde.fr/international/article/2...      frn  \n",
              "69  https://www.lemonde.fr/m-perso/article/2022/12...      frn  \n",
              "70  https://www.lemonde.fr/culture/article/2022/12...      frn  \n",
              "71  https://www.lemonde.fr/sciences/article/2022/1...      frn  \n",
              "\n",
              "[72 rows x 5 columns]"
            ],
            "text/html": [
              "\n",
              "  <div id=\"df-adcb79d3-3ff7-4082-8d74-2061978f1697\">\n",
              "    <div class=\"colab-df-container\">\n",
              "      <div>\n",
              "<style scoped>\n",
              "    .dataframe tbody tr th:only-of-type {\n",
              "        vertical-align: middle;\n",
              "    }\n",
              "\n",
              "    .dataframe tbody tr th {\n",
              "        vertical-align: top;\n",
              "    }\n",
              "\n",
              "    .dataframe thead th {\n",
              "        text-align: right;\n",
              "    }\n",
              "</style>\n",
              "<table border=\"1\" class=\"dataframe\">\n",
              "  <thead>\n",
              "    <tr style=\"text-align: right;\">\n",
              "      <th></th>\n",
              "      <th>class</th>\n",
              "      <th>title</th>\n",
              "      <th>text</th>\n",
              "      <th>link</th>\n",
              "      <th>language</th>\n",
              "    </tr>\n",
              "  </thead>\n",
              "  <tbody>\n",
              "    <tr>\n",
              "      <th>0</th>\n",
              "      <td>1</td>\n",
              "      <td>В Германии планировали убить канцлера Олафа Шо...</td>\n",
              "      <td>Немецкий князь Генрих XIII со своими ближайшим...</td>\n",
              "      <td>https://lenta.ru/articles/2022/12/15/reich/</td>\n",
              "      <td>rus</td>\n",
              "    </tr>\n",
              "    <tr>\n",
              "      <th>1</th>\n",
              "      <td>1</td>\n",
              "      <td>Албанцы силой захватили власть на севере Косова</td>\n",
              "      <td>Албанцы провели силовой захват власти в муници...</td>\n",
              "      <td>https://lenta.ru/news/2022/12/14/kosowo/</td>\n",
              "      <td>rus</td>\n",
              "    </tr>\n",
              "    <tr>\n",
              "      <th>2</th>\n",
              "      <td>1</td>\n",
              "      <td>Посол покинул съезд партии в Сербии после виде...</td>\n",
              "      <td>Посол России в Сербии Александр Боцан-Харченко...</td>\n",
              "      <td>https://lenta.ru/news/2022/12/18/psll/</td>\n",
              "      <td>rus</td>\n",
              "    </tr>\n",
              "    <tr>\n",
              "      <th>3</th>\n",
              "      <td>1</td>\n",
              "      <td>Команда Байдена начала подготовку к его предвы...</td>\n",
              "      <td>Команда президента США Джо Байдена начала план...</td>\n",
              "      <td>https://lenta.ru/news/2022/12/18/biden/</td>\n",
              "      <td>rus</td>\n",
              "    </tr>\n",
              "    <tr>\n",
              "      <th>4</th>\n",
              "      <td>1</td>\n",
              "      <td>Сборная Хорватии стала бронзовым призером чемп...</td>\n",
              "      <td>Сборная Хорватии по футболу обыграла команду М...</td>\n",
              "      <td>https://lenta.ru/news/2022/12/17/croatiamorocco/</td>\n",
              "      <td>rus</td>\n",
              "    </tr>\n",
              "    <tr>\n",
              "      <th>...</th>\n",
              "      <td>...</td>\n",
              "      <td>...</td>\n",
              "      <td>...</td>\n",
              "      <td>...</td>\n",
              "      <td>...</td>\n",
              "    </tr>\n",
              "    <tr>\n",
              "      <th>67</th>\n",
              "      <td>1</td>\n",
              "      <td>Coupe du monde 2022 : la Croatie, troisième, s...</td>\n",
              "      <td>Vous pouvez partager un article en cliquant su...</td>\n",
              "      <td>https://www.lemonde.fr/football/article/2022/1...</td>\n",
              "      <td>frn</td>\n",
              "    </tr>\n",
              "    <tr>\n",
              "      <th>68</th>\n",
              "      <td>1</td>\n",
              "      <td>Iran : arrestation de Taraneh Alidoosti, célèb...</td>\n",
              "      <td>Vous pouvez partager un article en cliquant su...</td>\n",
              "      <td>https://www.lemonde.fr/international/article/2...</td>\n",
              "      <td>frn</td>\n",
              "    </tr>\n",
              "    <tr>\n",
              "      <th>69</th>\n",
              "      <td>0</td>\n",
              "      <td>A part la dinde, y aura qui à Noël ? Les absen...</td>\n",
              "      <td>Vous pouvez partager un article en cliquant su...</td>\n",
              "      <td>https://www.lemonde.fr/m-perso/article/2022/12...</td>\n",
              "      <td>frn</td>\n",
              "    </tr>\n",
              "    <tr>\n",
              "      <th>70</th>\n",
              "      <td>0</td>\n",
              "      <td>Arts : l’Afghanistan sous l’œil de ses artiste...</td>\n",
              "      <td>Vous pouvez partager un article en cliquant su...</td>\n",
              "      <td>https://www.lemonde.fr/culture/article/2022/12...</td>\n",
              "      <td>frn</td>\n",
              "    </tr>\n",
              "    <tr>\n",
              "      <th>71</th>\n",
              "      <td>0</td>\n",
              "      <td>Mahmoud Zureik, une vigie au service de la san...</td>\n",
              "      <td>Vous pouvez partager un article en cliquant su...</td>\n",
              "      <td>https://www.lemonde.fr/sciences/article/2022/1...</td>\n",
              "      <td>frn</td>\n",
              "    </tr>\n",
              "  </tbody>\n",
              "</table>\n",
              "<p>72 rows × 5 columns</p>\n",
              "</div>\n",
              "      <button class=\"colab-df-convert\" onclick=\"convertToInteractive('df-adcb79d3-3ff7-4082-8d74-2061978f1697')\"\n",
              "              title=\"Convert this dataframe to an interactive table.\"\n",
              "              style=\"display:none;\">\n",
              "        \n",
              "  <svg xmlns=\"http://www.w3.org/2000/svg\" height=\"24px\"viewBox=\"0 0 24 24\"\n",
              "       width=\"24px\">\n",
              "    <path d=\"M0 0h24v24H0V0z\" fill=\"none\"/>\n",
              "    <path d=\"M18.56 5.44l.94 2.06.94-2.06 2.06-.94-2.06-.94-.94-2.06-.94 2.06-2.06.94zm-11 1L8.5 8.5l.94-2.06 2.06-.94-2.06-.94L8.5 2.5l-.94 2.06-2.06.94zm10 10l.94 2.06.94-2.06 2.06-.94-2.06-.94-.94-2.06-.94 2.06-2.06.94z\"/><path d=\"M17.41 7.96l-1.37-1.37c-.4-.4-.92-.59-1.43-.59-.52 0-1.04.2-1.43.59L10.3 9.45l-7.72 7.72c-.78.78-.78 2.05 0 2.83L4 21.41c.39.39.9.59 1.41.59.51 0 1.02-.2 1.41-.59l7.78-7.78 2.81-2.81c.8-.78.8-2.07 0-2.86zM5.41 20L4 18.59l7.72-7.72 1.47 1.35L5.41 20z\"/>\n",
              "  </svg>\n",
              "      </button>\n",
              "      \n",
              "  <style>\n",
              "    .colab-df-container {\n",
              "      display:flex;\n",
              "      flex-wrap:wrap;\n",
              "      gap: 12px;\n",
              "    }\n",
              "\n",
              "    .colab-df-convert {\n",
              "      background-color: #E8F0FE;\n",
              "      border: none;\n",
              "      border-radius: 50%;\n",
              "      cursor: pointer;\n",
              "      display: none;\n",
              "      fill: #1967D2;\n",
              "      height: 32px;\n",
              "      padding: 0 0 0 0;\n",
              "      width: 32px;\n",
              "    }\n",
              "\n",
              "    .colab-df-convert:hover {\n",
              "      background-color: #E2EBFA;\n",
              "      box-shadow: 0px 1px 2px rgba(60, 64, 67, 0.3), 0px 1px 3px 1px rgba(60, 64, 67, 0.15);\n",
              "      fill: #174EA6;\n",
              "    }\n",
              "\n",
              "    [theme=dark] .colab-df-convert {\n",
              "      background-color: #3B4455;\n",
              "      fill: #D2E3FC;\n",
              "    }\n",
              "\n",
              "    [theme=dark] .colab-df-convert:hover {\n",
              "      background-color: #434B5C;\n",
              "      box-shadow: 0px 1px 3px 1px rgba(0, 0, 0, 0.15);\n",
              "      filter: drop-shadow(0px 1px 2px rgba(0, 0, 0, 0.3));\n",
              "      fill: #FFFFFF;\n",
              "    }\n",
              "  </style>\n",
              "\n",
              "      <script>\n",
              "        const buttonEl =\n",
              "          document.querySelector('#df-adcb79d3-3ff7-4082-8d74-2061978f1697 button.colab-df-convert');\n",
              "        buttonEl.style.display =\n",
              "          google.colab.kernel.accessAllowed ? 'block' : 'none';\n",
              "\n",
              "        async function convertToInteractive(key) {\n",
              "          const element = document.querySelector('#df-adcb79d3-3ff7-4082-8d74-2061978f1697');\n",
              "          const dataTable =\n",
              "            await google.colab.kernel.invokeFunction('convertToInteractive',\n",
              "                                                     [key], {});\n",
              "          if (!dataTable) return;\n",
              "\n",
              "          const docLinkHtml = 'Like what you see? Visit the ' +\n",
              "            '<a target=\"_blank\" href=https://colab.research.google.com/notebooks/data_table.ipynb>data table notebook</a>'\n",
              "            + ' to learn more about interactive tables.';\n",
              "          element.innerHTML = '';\n",
              "          dataTable['output_type'] = 'display_data';\n",
              "          await google.colab.output.renderOutput(dataTable, element);\n",
              "          const docLink = document.createElement('div');\n",
              "          docLink.innerHTML = docLinkHtml;\n",
              "          element.appendChild(docLink);\n",
              "        }\n",
              "      </script>\n",
              "    </div>\n",
              "  </div>\n",
              "  "
            ]
          },
          "metadata": {},
          "execution_count": 79
        }
      ]
    },
    {
      "cell_type": "markdown",
      "metadata": {
        "id": "xgEjSpX5biaJ"
      },
      "source": [
        "Преобразуем новости в числовое представление\n",
        "\n",
        "Обратите внимание, что нужно использовать токенизатор, обученный на наборе данных train."
      ]
    },
    {
      "cell_type": "code",
      "metadata": {
        "id": "wE8JtIgybvLx"
      },
      "source": [
        "test_sequences = tokenizer.texts_to_sequences(test['text'])"
      ],
      "execution_count": null,
      "outputs": []
    },
    {
      "cell_type": "code",
      "metadata": {
        "id": "haKQPtc-byBf"
      },
      "source": [
        "x_test = pad_sequences(test_sequences, maxlen=max_news_len)"
      ],
      "execution_count": null,
      "outputs": []
    },
    {
      "cell_type": "code",
      "metadata": {
        "id": "LQsqVZedb-Qf",
        "outputId": "6e82c06f-bc53-4fef-8a01-c3ec18a55d7f",
        "colab": {
          "base_uri": "https://localhost:8080/"
        }
      },
      "source": [
        "x_test[:5]"
      ],
      "execution_count": null,
      "outputs": [
        {
          "output_type": "execute_result",
          "data": {
            "text/plain": [
              "array([[5525,  387, 7642, ..., 4463, 4404, 4442],\n",
              "       [   0,    0,    0, ...,   30, 1603, 3702],\n",
              "       [   0,    0,    0, ...,   71, 3728, 2038],\n",
              "       [   0,    0,    0, ...,  291,  851, 7785],\n",
              "       [   0,    0,    0, ..., 2794,   39,  237]], dtype=int32)"
            ]
          },
          "metadata": {},
          "execution_count": 82
        }
      ]
    },
    {
      "cell_type": "markdown",
      "metadata": {
        "id": "afswW4zVcPfT"
      },
      "source": [
        "Правильные ответы"
      ]
    },
    {
      "cell_type": "code",
      "metadata": {
        "id": "tsdQdcvBcFsv"
      },
      "source": [
        "y_test = utils.to_categorical(test['class'], nb_classes)"
      ],
      "execution_count": null,
      "outputs": []
    },
    {
      "cell_type": "code",
      "metadata": {
        "id": "86TiWSg8cYkI",
        "outputId": "6050f3bd-402c-43b6-9f93-e8a4e4ce60f5",
        "colab": {
          "base_uri": "https://localhost:8080/"
        }
      },
      "source": [
        "y_test"
      ],
      "execution_count": null,
      "outputs": [
        {
          "output_type": "execute_result",
          "data": {
            "text/plain": [
              "array([[0., 1.],\n",
              "       [0., 1.],\n",
              "       [0., 1.],\n",
              "       [0., 1.],\n",
              "       [0., 1.],\n",
              "       [1., 0.],\n",
              "       [1., 0.],\n",
              "       [0., 1.],\n",
              "       [0., 1.],\n",
              "       [0., 1.],\n",
              "       [0., 1.],\n",
              "       [1., 0.],\n",
              "       [0., 1.],\n",
              "       [1., 0.],\n",
              "       [1., 0.],\n",
              "       [0., 1.],\n",
              "       [1., 0.],\n",
              "       [1., 0.],\n",
              "       [0., 1.],\n",
              "       [0., 1.],\n",
              "       [1., 0.],\n",
              "       [0., 1.],\n",
              "       [0., 1.],\n",
              "       [1., 0.],\n",
              "       [0., 1.],\n",
              "       [0., 1.],\n",
              "       [1., 0.],\n",
              "       [1., 0.],\n",
              "       [0., 1.],\n",
              "       [0., 1.],\n",
              "       [1., 0.],\n",
              "       [0., 1.],\n",
              "       [0., 1.],\n",
              "       [0., 1.],\n",
              "       [0., 1.],\n",
              "       [1., 0.],\n",
              "       [1., 0.],\n",
              "       [1., 0.],\n",
              "       [1., 0.],\n",
              "       [1., 0.],\n",
              "       [0., 1.],\n",
              "       [0., 1.],\n",
              "       [1., 0.],\n",
              "       [0., 1.],\n",
              "       [1., 0.],\n",
              "       [0., 1.],\n",
              "       [1., 0.],\n",
              "       [1., 0.],\n",
              "       [0., 1.],\n",
              "       [1., 0.],\n",
              "       [1., 0.],\n",
              "       [0., 1.],\n",
              "       [1., 0.],\n",
              "       [1., 0.],\n",
              "       [0., 1.],\n",
              "       [0., 1.],\n",
              "       [1., 0.],\n",
              "       [1., 0.],\n",
              "       [1., 0.],\n",
              "       [1., 0.],\n",
              "       [0., 1.],\n",
              "       [0., 1.],\n",
              "       [1., 0.],\n",
              "       [1., 0.],\n",
              "       [0., 1.],\n",
              "       [0., 1.],\n",
              "       [0., 1.],\n",
              "       [0., 1.],\n",
              "       [0., 1.],\n",
              "       [1., 0.],\n",
              "       [1., 0.],\n",
              "       [1., 0.]], dtype=float32)"
            ]
          },
          "metadata": {},
          "execution_count": 84
        }
      ]
    },
    {
      "cell_type": "markdown",
      "metadata": {
        "id": "3DJbzO3ucewV"
      },
      "source": [
        "## Оцениваем качество работы сети на тестовом наборе данных"
      ]
    },
    {
      "cell_type": "markdown",
      "metadata": {
        "id": "YHs8Q5vqAlqC"
      },
      "source": [
        "### Сеть LSTM"
      ]
    },
    {
      "cell_type": "code",
      "metadata": {
        "id": "OEzSL_M-ApHx"
      },
      "source": [
        "model_lstm.load_weights(model_lstm_save_path)"
      ],
      "execution_count": null,
      "outputs": []
    },
    {
      "cell_type": "markdown",
      "source": [
        "Оцениваем качество работы сети на тестовом наборе данных"
      ],
      "metadata": {
        "id": "v05_mmLPZGvi"
      }
    },
    {
      "cell_type": "code",
      "metadata": {
        "outputId": "b537207f-66fa-4c9d-959e-721af922c1bf",
        "id": "fcGg4jA9AqN4",
        "colab": {
          "base_uri": "https://localhost:8080/"
        }
      },
      "source": [
        "model_lstm.evaluate(x_test, y_test, verbose=1)"
      ],
      "execution_count": null,
      "outputs": [
        {
          "output_type": "stream",
          "name": "stdout",
          "text": [
            "3/3 [==============================] - 0s 14ms/step - loss: 0.6929 - accuracy: 0.5417\n"
          ]
        },
        {
          "output_type": "execute_result",
          "data": {
            "text/plain": [
              "[0.6928994655609131, 0.5416666865348816]"
            ]
          },
          "metadata": {},
          "execution_count": 86
        }
      ]
    },
    {
      "cell_type": "markdown",
      "source": [
        "**Оцениваем качество работы сети на новых данных**"
      ],
      "metadata": {
        "id": "RLxNrlP3ZUZS"
      }
    },
    {
      "cell_type": "code",
      "source": [
        "text = '''Supporters of former Brazilian President Jair Bolsonaro on Sunday breached security barriers set up by the Armed Forces and gained access to key buildings for each of the three branches of government, including the congressional building, the Supreme Court and the Planalto Presidential Palace, according to images shown in Brazilian media.\n",
        "\n",
        "Footage showed massive crowds in the capital of Brasília walking up a ramp that leads to the congressional building, where they had reached the Green Room, located outside the lower House of Congress’ chamber, Interim Senate President Veneziano Vital do Rogo told CNN Brasil.\n",
        "\n",
        "Other outlets showed Bolsonaro suporters entering the Supreme Court and the presidential palace, where CNN Brasil showed the arrivals of anti-riot police and the Brazilian Armed Forces. Inside, protesters were using furniture to build barricades to prevent police from entering, CNN Brasil reported.\n",
        "\n",
        "The floor of the Congress building was flooded after the sprinkler system activated when protesters attempted to set fire to the carpet, according to CNN Brasil.'''"
      ],
      "metadata": {
        "id": "ptX6zshIZcQ_"
      },
      "execution_count": null,
      "outputs": []
    },
    {
      "cell_type": "code",
      "source": [
        "sequence = tokenizer.texts_to_sequences([text])"
      ],
      "metadata": {
        "id": "sHnfcXhGaJSs"
      },
      "execution_count": null,
      "outputs": []
    },
    {
      "cell_type": "code",
      "source": [
        "sequence"
      ],
      "metadata": {
        "colab": {
          "base_uri": "https://localhost:8080/"
        },
        "id": "nQMClrsCaLSm",
        "outputId": "48808f21-1db2-4229-825d-7cbcdba03ae9"
      },
      "execution_count": null,
      "outputs": [
        {
          "output_type": "execute_result",
          "data": {
            "text/plain": [
              "[[999,\n",
              "  3,\n",
              "  152,\n",
              "  97,\n",
              "  6839,\n",
              "  9,\n",
              "  298,\n",
              "  255,\n",
              "  4813,\n",
              "  417,\n",
              "  74,\n",
              "  20,\n",
              "  1,\n",
              "  1311,\n",
              "  250,\n",
              "  5,\n",
              "  2979,\n",
              "  1115,\n",
              "  2,\n",
              "  571,\n",
              "  2843,\n",
              "  8,\n",
              "  507,\n",
              "  3,\n",
              "  1,\n",
              "  143,\n",
              "  4112,\n",
              "  3,\n",
              "  140,\n",
              "  127,\n",
              "  1,\n",
              "  6413,\n",
              "  870,\n",
              "  1,\n",
              "  1773,\n",
              "  274,\n",
              "  5,\n",
              "  1,\n",
              "  969,\n",
              "  128,\n",
              "  2,\n",
              "  862,\n",
              "  2950,\n",
              "  6,\n",
              "  201,\n",
              "  2882,\n",
              "  543,\n",
              "  1641,\n",
              "  6,\n",
              "  1,\n",
              "  622,\n",
              "  3,\n",
              "  6844,\n",
              "  4724,\n",
              "  74,\n",
              "  4,\n",
              "  3515,\n",
              "  7,\n",
              "  2,\n",
              "  1,\n",
              "  6413,\n",
              "  870,\n",
              "  131,\n",
              "  35,\n",
              "  49,\n",
              "  1325,\n",
              "  1,\n",
              "  2689,\n",
              "  989,\n",
              "  2878,\n",
              "  449,\n",
              "  1,\n",
              "  1543,\n",
              "  188,\n",
              "  3,\n",
              "  3533,\n",
              "  766,\n",
              "  97,\n",
              "  3106,\n",
              "  144,\n",
              "  149,\n",
              "  339,\n",
              "  104,\n",
              "  2665,\n",
              "  543,\n",
              "  6839,\n",
              "  4093,\n",
              "  1,\n",
              "  1773,\n",
              "  274,\n",
              "  5,\n",
              "  1,\n",
              "  969,\n",
              "  131,\n",
              "  339,\n",
              "  543,\n",
              "  1,\n",
              "  6581,\n",
              "  3,\n",
              "  1302,\n",
              "  6590,\n",
              "  98,\n",
              "  5,\n",
              "  1,\n",
              "  1311,\n",
              "  250,\n",
              "  838,\n",
              "  801,\n",
              "  46,\n",
              "  360,\n",
              "  2,\n",
              "  1173,\n",
              "  2,\n",
              "  2126,\n",
              "  98,\n",
              "  18,\n",
              "  4093,\n",
              "  339,\n",
              "  461,\n",
              "  1,\n",
              "  1694,\n",
              "  3,\n",
              "  1,\n",
              "  331,\n",
              "  870,\n",
              "  16,\n",
              "  55,\n",
              "  1,\n",
              "  375,\n",
              "  69,\n",
              "  801,\n",
              "  2258,\n",
              "  2,\n",
              "  417,\n",
              "  744,\n",
              "  2,\n",
              "  1,\n",
              "  6468,\n",
              "  128,\n",
              "  2,\n",
              "  339]]"
            ]
          },
          "metadata": {},
          "execution_count": 89
        }
      ]
    },
    {
      "cell_type": "code",
      "source": [
        "data = pad_sequences(sequence, maxlen=max_news_len)"
      ],
      "metadata": {
        "id": "MHlVVEunaPSQ"
      },
      "execution_count": null,
      "outputs": []
    },
    {
      "cell_type": "code",
      "source": [
        "data"
      ],
      "metadata": {
        "colab": {
          "base_uri": "https://localhost:8080/"
        },
        "id": "G-b1jKr0aeCH",
        "outputId": "c88b316d-8227-49a6-d270-0ac1148b9c54"
      },
      "execution_count": null,
      "outputs": [
        {
          "output_type": "execute_result",
          "data": {
            "text/plain": [
              "array([[   0,    0,    0,    0,    0,    0,    0,    0,    0,    0,    0,\n",
              "           0,    0,    0,    0,    0,    0,    0,    0,    0,    0,    0,\n",
              "           0,    0,    0,    0,    0,    0,    0,    0,    0,    0,    0,\n",
              "           0,    0,    0,    0,    0,    0,    0,    0,    0,    0,    0,\n",
              "           0,    0,    0,    0,    0,    0,    0,    0,    0,    0,    0,\n",
              "           0,    0,    0,    0,    0,    0,    0,    0,    0,    0,    0,\n",
              "           0,    0,    0,    0,    0,    0,    0,    0,    0,    0,    0,\n",
              "           0,    0,    0,    0,    0,    0,    0,    0,    0,    0,    0,\n",
              "           0,    0,    0,    0,    0,    0,    0,    0,    0,    0,    0,\n",
              "           0,    0,    0,    0,    0,    0,    0,    0,    0,    0,    0,\n",
              "           0,    0,    0,    0,    0,    0,    0,    0,    0,    0,    0,\n",
              "           0,    0,    0,    0,    0,    0,    0,    0,    0,    0,    0,\n",
              "           0,    0,    0,    0,    0,    0,    0,    0,    0,    0,    0,\n",
              "           0,    0,    0,    0,    0,    0,    0,    0,    0,    0,    0,\n",
              "           0,    0,    0,    0,    0,    0,    0,    0,    0,    0,    0,\n",
              "           0,    0,    0,    0,    0,    0,    0,    0,    0,    0,    0,\n",
              "           0,    0,    0,    0,    0,    0,    0,    0,    0,    0,    0,\n",
              "           0,    0,    0,    0,    0,    0,    0,    0,    0,    0,    0,\n",
              "           0,    0,    0,    0,    0,    0,    0,    0,    0,    0,    0,\n",
              "           0,    0,    0,    0,    0,    0,    0,    0,    0,    0,    0,\n",
              "           0,    0,    0,    0,    0,    0,    0,    0,    0,    0,    0,\n",
              "           0,    0,    0,    0,    0,    0,    0,    0,    0,    0,    0,\n",
              "           0,    0,    0,    0,    0,    0,    0,    0,    0,    0,    0,\n",
              "           0,    0,    0,    0,    0,    0,    0,    0,    0,    0,    0,\n",
              "           0,    0,    0,    0,    0,    0,    0,    0,    0,    0,    0,\n",
              "           0,    0,    0,    0,    0,    0,    0,    0,    0,    0,    0,\n",
              "           0,    0,    0,    0,    0,    0,    0,    0,    0,    0,    0,\n",
              "           0,    0,    0,    0,    0,    0,    0,    0,    0,    0,    0,\n",
              "           0,    0,    0,    0,    0,    0,    0,    0,    0,    0,    0,\n",
              "           0,    0,    0,    0,    0,    0,    0,    0,    0,    0,    0,\n",
              "           0,    0,    0,    0,    0,    0,    0,    0,    0,    0,    0,\n",
              "           0,    0,    0,    0,    0,    0,    0,    0,    0,    0,    0,\n",
              "           0,    0,    0,    0,    0,    0,    0,  999,    3,  152,   97,\n",
              "        6839,    9,  298,  255, 4813,  417,   74,   20,    1, 1311,  250,\n",
              "           5, 2979, 1115,    2,  571, 2843,    8,  507,    3,    1,  143,\n",
              "        4112,    3,  140,  127,    1, 6413,  870,    1, 1773,  274,    5,\n",
              "           1,  969,  128,    2,  862, 2950,    6,  201, 2882,  543, 1641,\n",
              "           6,    1,  622,    3, 6844, 4724,   74,    4, 3515,    7,    2,\n",
              "           1, 6413,  870,  131,   35,   49, 1325,    1, 2689,  989, 2878,\n",
              "         449,    1, 1543,  188,    3, 3533,  766,   97, 3106,  144,  149,\n",
              "         339,  104, 2665,  543, 6839, 4093,    1, 1773,  274,    5,    1,\n",
              "         969,  131,  339,  543,    1, 6581,    3, 1302, 6590,   98,    5,\n",
              "           1, 1311,  250,  838,  801,   46,  360,    2, 1173,    2, 2126,\n",
              "          98,   18, 4093,  339,  461,    1, 1694,    3,    1,  331,  870,\n",
              "          16,   55,    1,  375,   69,  801, 2258,    2,  417,  744,    2,\n",
              "           1, 6468,  128,    2,  339]], dtype=int32)"
            ]
          },
          "metadata": {},
          "execution_count": 91
        }
      ]
    },
    {
      "cell_type": "code",
      "source": [
        "data = utils.to_categorical(nb_classes)"
      ],
      "metadata": {
        "id": "iwyzCCBLahdZ"
      },
      "execution_count": null,
      "outputs": []
    },
    {
      "cell_type": "code",
      "source": [
        "data"
      ],
      "metadata": {
        "id": "P8MuLRugchgb",
        "outputId": "99a94e40-73b6-490a-a678-36ce11eaad59",
        "colab": {
          "base_uri": "https://localhost:8080/"
        }
      },
      "execution_count": null,
      "outputs": [
        {
          "output_type": "execute_result",
          "data": {
            "text/plain": [
              "array([0., 0., 1.], dtype=float32)"
            ]
          },
          "metadata": {},
          "execution_count": 93
        }
      ]
    }
  ]
}