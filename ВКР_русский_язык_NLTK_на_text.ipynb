{
  "nbformat": 4,
  "nbformat_minor": 0,
  "metadata": {
    "colab": {
      "provenance": [],
      "include_colab_link": true
    },
    "kernelspec": {
      "name": "python3",
      "display_name": "Python 3"
    },
    "accelerator": "GPU"
  },
  "cells": [
    {
      "cell_type": "markdown",
      "metadata": {
        "id": "view-in-github",
        "colab_type": "text"
      },
      "source": [
        "<a href=\"https://colab.research.google.com/github/olyavydrina/-/blob/main/%D0%92%D0%9A%D0%A0_%D1%80%D1%83%D1%81%D1%81%D0%BA%D0%B8%D0%B9_%D1%8F%D0%B7%D1%8B%D0%BA_NLTK_%D0%BD%D0%B0_text.ipynb\" target=\"_parent\"><img src=\"https://colab.research.google.com/assets/colab-badge.svg\" alt=\"Open In Colab\"/></a>"
      ]
    },
    {
      "cell_type": "markdown",
      "source": [
        "# Подключаем необходимые библиотеки"
      ],
      "metadata": {
        "id": "OZcZF8v5yMu_"
      }
    },
    {
      "cell_type": "code",
      "metadata": {
        "id": "fN251ib04idq",
        "colab": {
          "base_uri": "https://localhost:8080/"
        },
        "outputId": "8c4f504c-0486-4324-88b0-4e517cbea407"
      },
      "source": [
        "%tensorflow_version 2.x\n",
        "from tensorflow.keras.models import load_model\n",
        "from tensorflow.keras.models import Sequential\n",
        "from tensorflow.keras.layers import Dense, Embedding, MaxPooling1D, Conv1D, GlobalMaxPooling1D, Dropout, LSTM, GRU\n",
        "from tensorflow.keras import utils\n",
        "from tensorflow.keras.preprocessing.sequence import pad_sequences\n",
        "from tensorflow.keras.preprocessing.text import Tokenizer\n",
        "from tensorflow.keras.callbacks import ModelCheckpoint\n",
        "from tensorflow.keras import utils\n",
        "import pandas as pd\n",
        "import numpy as np\n",
        "import matplotlib.pyplot as plt\n",
        "%matplotlib inline "
      ],
      "execution_count": 56,
      "outputs": [
        {
          "output_type": "stream",
          "name": "stdout",
          "text": [
            "Colab only includes TensorFlow 2.x; %tensorflow_version has no effect.\n"
          ]
        }
      ]
    },
    {
      "cell_type": "code",
      "source": [
        "!pip install pymorphy2[fast] \n",
        "import pymorphy2\n",
        "import nltk\n",
        "from nltk.tokenize import word_tokenize\n",
        "from nltk.corpus import stopwords\n",
        "from collections import Counter\n",
        "from sklearn.model_selection import train_test_split"
      ],
      "metadata": {
        "colab": {
          "base_uri": "https://localhost:8080/"
        },
        "id": "E97LKetbxS-Q",
        "outputId": "9b0813c1-e4c1-497b-ccb8-7ed88407c395"
      },
      "execution_count": 2,
      "outputs": [
        {
          "output_type": "stream",
          "name": "stdout",
          "text": [
            "Looking in indexes: https://pypi.org/simple, https://us-python.pkg.dev/colab-wheels/public/simple/\n",
            "Collecting pymorphy2[fast]\n",
            "  Downloading pymorphy2-0.9.1-py3-none-any.whl (55 kB)\n",
            "\u001b[2K     \u001b[90m━━━━━━━━━━━━━━━━━━━━━━━━━━━━━━━━━━━━━━━━\u001b[0m \u001b[32m55.5/55.5 KB\u001b[0m \u001b[31m7.4 MB/s\u001b[0m eta \u001b[36m0:00:00\u001b[0m\n",
            "\u001b[?25hCollecting docopt>=0.6\n",
            "  Downloading docopt-0.6.2.tar.gz (25 kB)\n",
            "  Preparing metadata (setup.py) ... \u001b[?25l\u001b[?25hdone\n",
            "Collecting pymorphy2-dicts-ru<3.0,>=2.4\n",
            "  Downloading pymorphy2_dicts_ru-2.4.417127.4579844-py2.py3-none-any.whl (8.2 MB)\n",
            "\u001b[2K     \u001b[90m━━━━━━━━━━━━━━━━━━━━━━━━━━━━━━━━━━━━━━━━\u001b[0m \u001b[32m8.2/8.2 MB\u001b[0m \u001b[31m97.2 MB/s\u001b[0m eta \u001b[36m0:00:00\u001b[0m\n",
            "\u001b[?25hCollecting dawg-python>=0.7.1\n",
            "  Downloading DAWG_Python-0.7.2-py2.py3-none-any.whl (11 kB)\n",
            "Collecting DAWG>=0.8\n",
            "  Downloading DAWG-0.8.0.tar.gz (371 kB)\n",
            "\u001b[2K     \u001b[90m━━━━━━━━━━━━━━━━━━━━━━━━━━━━━━━━━━━━━━\u001b[0m \u001b[32m371.1/371.1 KB\u001b[0m \u001b[31m38.9 MB/s\u001b[0m eta \u001b[36m0:00:00\u001b[0m\n",
            "\u001b[?25h  Preparing metadata (setup.py) ... \u001b[?25l\u001b[?25hdone\n",
            "Building wheels for collected packages: DAWG, docopt\n",
            "  Building wheel for DAWG (setup.py) ... \u001b[?25l\u001b[?25hdone\n",
            "  Created wheel for DAWG: filename=DAWG-0.8.0-cp38-cp38-linux_x86_64.whl size=1316031 sha256=db866ee87f2c5f3028e49dad994cc65091b25963c79f49eb4750e5ee942100dc\n",
            "  Stored in directory: /root/.cache/pip/wheels/1c/e6/8f/313a7ccc57b29a7affb7205664277a1d5ebe73bf600a69a615\n",
            "  Building wheel for docopt (setup.py) ... \u001b[?25l\u001b[?25hdone\n",
            "  Created wheel for docopt: filename=docopt-0.6.2-py2.py3-none-any.whl size=13723 sha256=81caeaa97e6ed2643874bf8e1f62b5aff39913b7696c1a943d71ebb4092f5733\n",
            "  Stored in directory: /root/.cache/pip/wheels/56/ea/58/ead137b087d9e326852a851351d1debf4ada529b6ac0ec4e8c\n",
            "Successfully built DAWG docopt\n",
            "Installing collected packages: pymorphy2-dicts-ru, docopt, dawg-python, DAWG, pymorphy2\n",
            "Successfully installed DAWG-0.8.0 dawg-python-0.7.2 docopt-0.6.2 pymorphy2-0.9.1 pymorphy2-dicts-ru-2.4.417127.4579844\n"
          ]
        }
      ]
    },
    {
      "cell_type": "code",
      "metadata": {
        "id": "KVUY1PF0L_mF"
      },
      "source": [
        "# Максимальное количество слов \n",
        "num_words = 10000\n",
        "# Максимальная длина новости\n",
        "max_news_len = 300\n",
        "# Количество классов новостей\n",
        "nb_classes = 2"
      ],
      "execution_count": 3,
      "outputs": []
    },
    {
      "cell_type": "code",
      "source": [
        "random_state = 42"
      ],
      "metadata": {
        "id": "mpxjbLWu0HRv"
      },
      "execution_count": 4,
      "outputs": []
    },
    {
      "cell_type": "code",
      "source": [
        "nltk.download('punkt')\n",
        "nltk.download('stopwords')"
      ],
      "metadata": {
        "colab": {
          "base_uri": "https://localhost:8080/"
        },
        "id": "M6swb4vO0Cue",
        "outputId": "d45761ab-413e-4f7b-b275-82ad074072d1"
      },
      "execution_count": 5,
      "outputs": [
        {
          "output_type": "stream",
          "name": "stderr",
          "text": [
            "[nltk_data] Downloading package punkt to /root/nltk_data...\n",
            "[nltk_data]   Unzipping tokenizers/punkt.zip.\n",
            "[nltk_data] Downloading package stopwords to /root/nltk_data...\n",
            "[nltk_data]   Unzipping corpora/stopwords.zip.\n"
          ]
        },
        {
          "output_type": "execute_result",
          "data": {
            "text/plain": [
              "True"
            ]
          },
          "metadata": {},
          "execution_count": 5
        }
      ]
    },
    {
      "cell_type": "markdown",
      "metadata": {
        "id": "S6itvI2G5H1k"
      },
      "source": [
        "## Загржаем и готовим набор данных"
      ]
    },
    {
      "cell_type": "code",
      "source": [
        "#!wget https://github.com/olyavydrina/-/blob/main/train2.xlsx?dl=1 -O train2.xlsx"
      ],
      "metadata": {
        "id": "VzDyKl0R_Scn"
      },
      "execution_count": 6,
      "outputs": []
    },
    {
      "cell_type": "code",
      "source": [
        "#news = pd.read_excel('train2.xlsx')"
      ],
      "metadata": {
        "id": "uePvsSsL_n15"
      },
      "execution_count": null,
      "outputs": []
    },
    {
      "cell_type": "code",
      "source": [
        "news = pd.read_excel('/content/train2.xlsx')\n",
        "news.head()"
      ],
      "metadata": {
        "colab": {
          "base_uri": "https://localhost:8080/",
          "height": 206
        },
        "id": "KkfS3NiREfbL",
        "outputId": "e1fce097-0fdb-4efd-8851-6f663f476b00"
      },
      "execution_count": 7,
      "outputs": [
        {
          "output_type": "execute_result",
          "data": {
            "text/plain": [
              "   class                                              title  \\\n",
              "0      0           Плотник ослеп и впал в кому из-за занозы   \n",
              "1      1                Зеленский оценил помощь США Украине   \n",
              "2      0  Сбившего двух пешеходов и скрывшегося с места ...   \n",
              "3      0  Саакашвили ограничили в курении электронных си...   \n",
              "4      0  Россиянка упала под прибывающий поезд в метро ...   \n",
              "\n",
              "                                                text  \\\n",
              "0  30-летний житель английского города Сент-Остел...   \n",
              "1  Президент Украины Владимир Зеленский признал, ...   \n",
              "2  Полицейские задержали водителя иномарки, сбивш...   \n",
              "3  Лечащие врачи бывшего президента Грузии Михаил...   \n",
              "4  Пассажирка упала на пути под прибывающий поезд...   \n",
              "\n",
              "                                              link language  \n",
              "0       https://lenta.ru/news/2022/12/12/splinter/      rus  \n",
              "1            https://lenta.ru/news/2022/12/12/usa/      rus  \n",
              "2  https://lenta.ru/news/2022/12/12/sbil_i_uyehal/      rus  \n",
              "3     https://lenta.ru/news/2022/12/12/sigaretyfu/      rus  \n",
              "4          https://lenta.ru/news/2022/12/12/metro/      rus  "
            ],
            "text/html": [
              "\n",
              "  <div id=\"df-7fde3f39-91b9-4a28-9394-7126d4b78882\">\n",
              "    <div class=\"colab-df-container\">\n",
              "      <div>\n",
              "<style scoped>\n",
              "    .dataframe tbody tr th:only-of-type {\n",
              "        vertical-align: middle;\n",
              "    }\n",
              "\n",
              "    .dataframe tbody tr th {\n",
              "        vertical-align: top;\n",
              "    }\n",
              "\n",
              "    .dataframe thead th {\n",
              "        text-align: right;\n",
              "    }\n",
              "</style>\n",
              "<table border=\"1\" class=\"dataframe\">\n",
              "  <thead>\n",
              "    <tr style=\"text-align: right;\">\n",
              "      <th></th>\n",
              "      <th>class</th>\n",
              "      <th>title</th>\n",
              "      <th>text</th>\n",
              "      <th>link</th>\n",
              "      <th>language</th>\n",
              "    </tr>\n",
              "  </thead>\n",
              "  <tbody>\n",
              "    <tr>\n",
              "      <th>0</th>\n",
              "      <td>0</td>\n",
              "      <td>Плотник ослеп и впал в кому из-за занозы</td>\n",
              "      <td>30-летний житель английского города Сент-Остел...</td>\n",
              "      <td>https://lenta.ru/news/2022/12/12/splinter/</td>\n",
              "      <td>rus</td>\n",
              "    </tr>\n",
              "    <tr>\n",
              "      <th>1</th>\n",
              "      <td>1</td>\n",
              "      <td>Зеленский оценил помощь США Украине</td>\n",
              "      <td>Президент Украины Владимир Зеленский признал, ...</td>\n",
              "      <td>https://lenta.ru/news/2022/12/12/usa/</td>\n",
              "      <td>rus</td>\n",
              "    </tr>\n",
              "    <tr>\n",
              "      <th>2</th>\n",
              "      <td>0</td>\n",
              "      <td>Сбившего двух пешеходов и скрывшегося с места ...</td>\n",
              "      <td>Полицейские задержали водителя иномарки, сбивш...</td>\n",
              "      <td>https://lenta.ru/news/2022/12/12/sbil_i_uyehal/</td>\n",
              "      <td>rus</td>\n",
              "    </tr>\n",
              "    <tr>\n",
              "      <th>3</th>\n",
              "      <td>0</td>\n",
              "      <td>Саакашвили ограничили в курении электронных си...</td>\n",
              "      <td>Лечащие врачи бывшего президента Грузии Михаил...</td>\n",
              "      <td>https://lenta.ru/news/2022/12/12/sigaretyfu/</td>\n",
              "      <td>rus</td>\n",
              "    </tr>\n",
              "    <tr>\n",
              "      <th>4</th>\n",
              "      <td>0</td>\n",
              "      <td>Россиянка упала под прибывающий поезд в метро ...</td>\n",
              "      <td>Пассажирка упала на пути под прибывающий поезд...</td>\n",
              "      <td>https://lenta.ru/news/2022/12/12/metro/</td>\n",
              "      <td>rus</td>\n",
              "    </tr>\n",
              "  </tbody>\n",
              "</table>\n",
              "</div>\n",
              "      <button class=\"colab-df-convert\" onclick=\"convertToInteractive('df-7fde3f39-91b9-4a28-9394-7126d4b78882')\"\n",
              "              title=\"Convert this dataframe to an interactive table.\"\n",
              "              style=\"display:none;\">\n",
              "        \n",
              "  <svg xmlns=\"http://www.w3.org/2000/svg\" height=\"24px\"viewBox=\"0 0 24 24\"\n",
              "       width=\"24px\">\n",
              "    <path d=\"M0 0h24v24H0V0z\" fill=\"none\"/>\n",
              "    <path d=\"M18.56 5.44l.94 2.06.94-2.06 2.06-.94-2.06-.94-.94-2.06-.94 2.06-2.06.94zm-11 1L8.5 8.5l.94-2.06 2.06-.94-2.06-.94L8.5 2.5l-.94 2.06-2.06.94zm10 10l.94 2.06.94-2.06 2.06-.94-2.06-.94-.94-2.06-.94 2.06-2.06.94z\"/><path d=\"M17.41 7.96l-1.37-1.37c-.4-.4-.92-.59-1.43-.59-.52 0-1.04.2-1.43.59L10.3 9.45l-7.72 7.72c-.78.78-.78 2.05 0 2.83L4 21.41c.39.39.9.59 1.41.59.51 0 1.02-.2 1.41-.59l7.78-7.78 2.81-2.81c.8-.78.8-2.07 0-2.86zM5.41 20L4 18.59l7.72-7.72 1.47 1.35L5.41 20z\"/>\n",
              "  </svg>\n",
              "      </button>\n",
              "      \n",
              "  <style>\n",
              "    .colab-df-container {\n",
              "      display:flex;\n",
              "      flex-wrap:wrap;\n",
              "      gap: 12px;\n",
              "    }\n",
              "\n",
              "    .colab-df-convert {\n",
              "      background-color: #E8F0FE;\n",
              "      border: none;\n",
              "      border-radius: 50%;\n",
              "      cursor: pointer;\n",
              "      display: none;\n",
              "      fill: #1967D2;\n",
              "      height: 32px;\n",
              "      padding: 0 0 0 0;\n",
              "      width: 32px;\n",
              "    }\n",
              "\n",
              "    .colab-df-convert:hover {\n",
              "      background-color: #E2EBFA;\n",
              "      box-shadow: 0px 1px 2px rgba(60, 64, 67, 0.3), 0px 1px 3px 1px rgba(60, 64, 67, 0.15);\n",
              "      fill: #174EA6;\n",
              "    }\n",
              "\n",
              "    [theme=dark] .colab-df-convert {\n",
              "      background-color: #3B4455;\n",
              "      fill: #D2E3FC;\n",
              "    }\n",
              "\n",
              "    [theme=dark] .colab-df-convert:hover {\n",
              "      background-color: #434B5C;\n",
              "      box-shadow: 0px 1px 3px 1px rgba(0, 0, 0, 0.15);\n",
              "      filter: drop-shadow(0px 1px 2px rgba(0, 0, 0, 0.3));\n",
              "      fill: #FFFFFF;\n",
              "    }\n",
              "  </style>\n",
              "\n",
              "      <script>\n",
              "        const buttonEl =\n",
              "          document.querySelector('#df-7fde3f39-91b9-4a28-9394-7126d4b78882 button.colab-df-convert');\n",
              "        buttonEl.style.display =\n",
              "          google.colab.kernel.accessAllowed ? 'block' : 'none';\n",
              "\n",
              "        async function convertToInteractive(key) {\n",
              "          const element = document.querySelector('#df-7fde3f39-91b9-4a28-9394-7126d4b78882');\n",
              "          const dataTable =\n",
              "            await google.colab.kernel.invokeFunction('convertToInteractive',\n",
              "                                                     [key], {});\n",
              "          if (!dataTable) return;\n",
              "\n",
              "          const docLinkHtml = 'Like what you see? Visit the ' +\n",
              "            '<a target=\"_blank\" href=https://colab.research.google.com/notebooks/data_table.ipynb>data table notebook</a>'\n",
              "            + ' to learn more about interactive tables.';\n",
              "          element.innerHTML = '';\n",
              "          dataTable['output_type'] = 'display_data';\n",
              "          await google.colab.output.renderOutput(dataTable, element);\n",
              "          const docLink = document.createElement('div');\n",
              "          docLink.innerHTML = docLinkHtml;\n",
              "          element.appendChild(docLink);\n",
              "        }\n",
              "      </script>\n",
              "    </div>\n",
              "  </div>\n",
              "  "
            ]
          },
          "metadata": {},
          "execution_count": 7
        }
      ]
    },
    {
      "cell_type": "code",
      "source": [
        "def preprocess(text, stop_words, punctuation_marks, morph):\n",
        "    tokens = word_tokenize(text.lower())\n",
        "    preprocessed_text = []\n",
        "    for token in tokens:\n",
        "        if token not in punctuation_marks:\n",
        "            lemma = morph.parse(token)[0].normal_form\n",
        "            if lemma not in stop_words:\n",
        "                preprocessed_text.append(lemma)\n",
        "    return preprocessed_text"
      ],
      "metadata": {
        "id": "v36CDjzu25Kh"
      },
      "execution_count": 8,
      "outputs": []
    },
    {
      "cell_type": "code",
      "source": [
        "punctuation_marks = ['!', ',', '(', ')', ':', '-', '?', '.', '..', '...', '«', '»', ';', '–', '--']\n",
        "stop_words = stopwords.words(\"russian\")\n",
        "morph = pymorphy2.MorphAnalyzer()"
      ],
      "metadata": {
        "id": "HVabqnVb2-S2"
      },
      "execution_count": 9,
      "outputs": []
    },
    {
      "cell_type": "code",
      "source": [
        "news['Preprocessed_texts'] = news.apply(lambda row: preprocess(row['text'], punctuation_marks, stop_words, morph), axis=1)"
      ],
      "metadata": {
        "id": "ffNkKp7d3Bjx"
      },
      "execution_count": 10,
      "outputs": []
    },
    {
      "cell_type": "markdown",
      "source": [
        "Считаем частоту слов во всех новостях"
      ],
      "metadata": {
        "id": "rGClbafQ3PKc"
      }
    },
    {
      "cell_type": "code",
      "source": [
        "words = Counter()"
      ],
      "metadata": {
        "id": "l6mZndz23QYh"
      },
      "execution_count": 11,
      "outputs": []
    },
    {
      "cell_type": "code",
      "source": [
        "for txt in news['Preprocessed_texts']:\n",
        "    words.update(txt)"
      ],
      "metadata": {
        "id": "l2DJi6e_3kTx"
      },
      "execution_count": 12,
      "outputs": []
    },
    {
      "cell_type": "markdown",
      "source": [
        "Создаем словарь, упорядоченный по частоте\n",
        "\n",
        "В словаре будем использовать 2 специальных кода:\n",
        "\n",
        "Код заполнитель: 0\n",
        "Неизвестное слово: 1\n",
        "Нумерация слов в словаре начинается с 2."
      ],
      "metadata": {
        "id": "-taCkIFb3tMQ"
      }
    },
    {
      "cell_type": "code",
      "source": [
        "# Словарь, отображающий слова в коды\n",
        "word_to_index = dict()\n",
        "# Словарь, отображающий коды в слова\n",
        "index_to_word = dict()"
      ],
      "metadata": {
        "id": "mP-4O8g93wuu"
      },
      "execution_count": 13,
      "outputs": []
    },
    {
      "cell_type": "markdown",
      "source": [
        "Создаем словари"
      ],
      "metadata": {
        "id": "0enOJTt_30D_"
      }
    },
    {
      "cell_type": "code",
      "source": [
        "for i, word in enumerate(words.most_common(num_words - 2)):\n",
        "    word_to_index[word[0]] = i + 2\n",
        "    index_to_word[i + 2] = word[0]"
      ],
      "metadata": {
        "id": "Fc2BZh7v31ih"
      },
      "execution_count": 14,
      "outputs": []
    },
    {
      "cell_type": "markdown",
      "source": [
        "Функция для преобразования списка слов в список кодов"
      ],
      "metadata": {
        "id": "7Uc7eTZT4CVs"
      }
    },
    {
      "cell_type": "code",
      "source": [
        "def text_to_sequence(txt, word_to_index):\n",
        "    seq = []\n",
        "    for word in txt:\n",
        "        index = word_to_index.get(word, 1) # 1 означает неизвестное слово\n",
        "        # Неизвестные слова не добавляем в выходную последовательность\n",
        "        if index != 1:\n",
        "            seq.append(index)\n",
        "    return seq"
      ],
      "metadata": {
        "id": "OgCTdCe3aDhv"
      },
      "execution_count": 15,
      "outputs": []
    },
    {
      "cell_type": "markdown",
      "source": [
        "\n",
        "Преобразуем все тексты в последовательность кодов слов"
      ],
      "metadata": {
        "id": "FoFEF2o34IlX"
      }
    },
    {
      "cell_type": "code",
      "source": [
        "news['Sequences'] = news.apply(lambda row: text_to_sequence(row['Preprocessed_texts'], word_to_index), axis=1)"
      ],
      "metadata": {
        "id": "4I83Duh94KgZ"
      },
      "execution_count": 16,
      "outputs": []
    },
    {
      "cell_type": "code",
      "source": [
        "news"
      ],
      "metadata": {
        "colab": {
          "base_uri": "https://localhost:8080/",
          "height": 641
        },
        "id": "HFwEp7NE4R-O",
        "outputId": "0a99d86f-bde2-4101-8878-7e6bba5ae3c3"
      },
      "execution_count": 17,
      "outputs": [
        {
          "output_type": "execute_result",
          "data": {
            "text/plain": [
              "     class                                              title  \\\n",
              "0        0           Плотник ослеп и впал в кому из-за занозы   \n",
              "1        1                Зеленский оценил помощь США Украине   \n",
              "2        0  Сбившего двух пешеходов и скрывшегося с места ...   \n",
              "3        0  Саакашвили ограничили в курении электронных си...   \n",
              "4        0  Россиянка упала под прибывающий поезд в метро ...   \n",
              "..     ...                                                ...   \n",
              "109      1  Шольц назвал три причины не поставлять немецки...   \n",
              "110      0  Девушка получила переломы, упав в оркестровую ...   \n",
              "111      1  СМИ: США пытались помешать Украине совершить п...   \n",
              "112      1  Минобороны подтвердило удары по объектам на Ук...   \n",
              "113      0  На Египетский мост в Петербурге вернули скульп...   \n",
              "\n",
              "                                                  text  \\\n",
              "0    30-летний житель английского города Сент-Остел...   \n",
              "1    Президент Украины Владимир Зеленский признал, ...   \n",
              "2    Полицейские задержали водителя иномарки, сбивш...   \n",
              "3    Лечащие врачи бывшего президента Грузии Михаил...   \n",
              "4    Пассажирка упала на пути под прибывающий поезд...   \n",
              "..                                                 ...   \n",
              "109  МОСКВА, 17 дек — РИА Новости. Канцлер Германии...   \n",
              "110  САРАТОВ, 17 дек - РИА Новости. Зрительница упа...   \n",
              "111  ВАШИНГТОН, 18 дек - РИА Новости. Газета New Yo...   \n",
              "112  МОСКВА, 18 дек — РИА Новости. Министерство обо...   \n",
              "113  С.-ПЕТЕРБУРГ, 17 дек — РИА Новости. Скульптуры...   \n",
              "\n",
              "                                                  link language  \\\n",
              "0           https://lenta.ru/news/2022/12/12/splinter/      rus   \n",
              "1                https://lenta.ru/news/2022/12/12/usa/      rus   \n",
              "2      https://lenta.ru/news/2022/12/12/sbil_i_uyehal/      rus   \n",
              "3         https://lenta.ru/news/2022/12/12/sigaretyfu/      rus   \n",
              "4              https://lenta.ru/news/2022/12/12/metro/      rus   \n",
              "..                                                 ...      ...   \n",
              "109      https://ria.ru/20221217/tanki-1839465444.html      rus   \n",
              "110  https://ria.ru/20221217/konservatoriya-1839463...      rus   \n",
              "111  https://ria.ru/20221218/gerasimov-1839474804.html      rus   \n",
              "112       https://ria.ru/20221218/udar-1839474444.html      rus   \n",
              "113  https://ria.ru/20221217/skulptury-1839464856.html      rus   \n",
              "\n",
              "                                    Preprocessed_texts  \\\n",
              "0    [30-летний, житель, английский, город, сента-о...   \n",
              "1    [президент, украина, владимир, зеленский, приз...   \n",
              "2    [полицейский, задержать, водитель, иномарка, с...   \n",
              "3    [лечить, врач, бывший, президент, грузия, миха...   \n",
              "4    [пассажирка, упасть, путь, прибывать, поезд, м...   \n",
              "..                                                 ...   \n",
              "109  [москва, 17, дек, —, риа, новость, канцлер, ге...   \n",
              "110  [саратов, 17, дек, риа, новость, зрительница, ...   \n",
              "111  [вашингтон, 18, дек, риа, новость, газета, new...   \n",
              "112  [москва, 18, дек, —, риа, новость, министерств...   \n",
              "113  [с.-петербург, 17, дек, —, риа, новость, скуль...   \n",
              "\n",
              "                                             Sequences  \n",
              "0    [2358, 174, 2359, 101, 2360, 2361, 2362, 2363,...  \n",
              "1    [17, 5, 85, 311, 532, 86, 264, 533, 93, 12, 16...  \n",
              "2    [110, 105, 195, 840, 665, 177, 61, 123, 436, 6...  \n",
              "3    [2425, 528, 196, 17, 667, 668, 1107, 3, 72, 24...  \n",
              "4    [1572, 377, 669, 1111, 1112, 543, 1573, 1092, ...  \n",
              "..                                                 ...  \n",
              "109  [61, 234, 430, 2, 35, 30, 277, 21, 504, 352, 2...  \n",
              "110  [4879, 234, 430, 35, 30, 4880, 377, 560, 2349,...  \n",
              "111  [129, 469, 430, 35, 30, 420, 1437, 1438, 1439,...  \n",
              "112  [61, 469, 430, 2, 35, 30, 294, 167, 4, 551, 99...  \n",
              "113  [4927, 234, 430, 2, 35, 30, 827, 1532, 346, 15...  \n",
              "\n",
              "[114 rows x 7 columns]"
            ],
            "text/html": [
              "\n",
              "  <div id=\"df-3f6bdeb4-e177-424b-bc4d-46196e3ea35c\">\n",
              "    <div class=\"colab-df-container\">\n",
              "      <div>\n",
              "<style scoped>\n",
              "    .dataframe tbody tr th:only-of-type {\n",
              "        vertical-align: middle;\n",
              "    }\n",
              "\n",
              "    .dataframe tbody tr th {\n",
              "        vertical-align: top;\n",
              "    }\n",
              "\n",
              "    .dataframe thead th {\n",
              "        text-align: right;\n",
              "    }\n",
              "</style>\n",
              "<table border=\"1\" class=\"dataframe\">\n",
              "  <thead>\n",
              "    <tr style=\"text-align: right;\">\n",
              "      <th></th>\n",
              "      <th>class</th>\n",
              "      <th>title</th>\n",
              "      <th>text</th>\n",
              "      <th>link</th>\n",
              "      <th>language</th>\n",
              "      <th>Preprocessed_texts</th>\n",
              "      <th>Sequences</th>\n",
              "    </tr>\n",
              "  </thead>\n",
              "  <tbody>\n",
              "    <tr>\n",
              "      <th>0</th>\n",
              "      <td>0</td>\n",
              "      <td>Плотник ослеп и впал в кому из-за занозы</td>\n",
              "      <td>30-летний житель английского города Сент-Остел...</td>\n",
              "      <td>https://lenta.ru/news/2022/12/12/splinter/</td>\n",
              "      <td>rus</td>\n",
              "      <td>[30-летний, житель, английский, город, сента-о...</td>\n",
              "      <td>[2358, 174, 2359, 101, 2360, 2361, 2362, 2363,...</td>\n",
              "    </tr>\n",
              "    <tr>\n",
              "      <th>1</th>\n",
              "      <td>1</td>\n",
              "      <td>Зеленский оценил помощь США Украине</td>\n",
              "      <td>Президент Украины Владимир Зеленский признал, ...</td>\n",
              "      <td>https://lenta.ru/news/2022/12/12/usa/</td>\n",
              "      <td>rus</td>\n",
              "      <td>[президент, украина, владимир, зеленский, приз...</td>\n",
              "      <td>[17, 5, 85, 311, 532, 86, 264, 533, 93, 12, 16...</td>\n",
              "    </tr>\n",
              "    <tr>\n",
              "      <th>2</th>\n",
              "      <td>0</td>\n",
              "      <td>Сбившего двух пешеходов и скрывшегося с места ...</td>\n",
              "      <td>Полицейские задержали водителя иномарки, сбивш...</td>\n",
              "      <td>https://lenta.ru/news/2022/12/12/sbil_i_uyehal/</td>\n",
              "      <td>rus</td>\n",
              "      <td>[полицейский, задержать, водитель, иномарка, с...</td>\n",
              "      <td>[110, 105, 195, 840, 665, 177, 61, 123, 436, 6...</td>\n",
              "    </tr>\n",
              "    <tr>\n",
              "      <th>3</th>\n",
              "      <td>0</td>\n",
              "      <td>Саакашвили ограничили в курении электронных си...</td>\n",
              "      <td>Лечащие врачи бывшего президента Грузии Михаил...</td>\n",
              "      <td>https://lenta.ru/news/2022/12/12/sigaretyfu/</td>\n",
              "      <td>rus</td>\n",
              "      <td>[лечить, врач, бывший, президент, грузия, миха...</td>\n",
              "      <td>[2425, 528, 196, 17, 667, 668, 1107, 3, 72, 24...</td>\n",
              "    </tr>\n",
              "    <tr>\n",
              "      <th>4</th>\n",
              "      <td>0</td>\n",
              "      <td>Россиянка упала под прибывающий поезд в метро ...</td>\n",
              "      <td>Пассажирка упала на пути под прибывающий поезд...</td>\n",
              "      <td>https://lenta.ru/news/2022/12/12/metro/</td>\n",
              "      <td>rus</td>\n",
              "      <td>[пассажирка, упасть, путь, прибывать, поезд, м...</td>\n",
              "      <td>[1572, 377, 669, 1111, 1112, 543, 1573, 1092, ...</td>\n",
              "    </tr>\n",
              "    <tr>\n",
              "      <th>...</th>\n",
              "      <td>...</td>\n",
              "      <td>...</td>\n",
              "      <td>...</td>\n",
              "      <td>...</td>\n",
              "      <td>...</td>\n",
              "      <td>...</td>\n",
              "      <td>...</td>\n",
              "    </tr>\n",
              "    <tr>\n",
              "      <th>109</th>\n",
              "      <td>1</td>\n",
              "      <td>Шольц назвал три причины не поставлять немецки...</td>\n",
              "      <td>МОСКВА, 17 дек — РИА Новости. Канцлер Германии...</td>\n",
              "      <td>https://ria.ru/20221217/tanki-1839465444.html</td>\n",
              "      <td>rus</td>\n",
              "      <td>[москва, 17, дек, —, риа, новость, канцлер, ге...</td>\n",
              "      <td>[61, 234, 430, 2, 35, 30, 277, 21, 504, 352, 2...</td>\n",
              "    </tr>\n",
              "    <tr>\n",
              "      <th>110</th>\n",
              "      <td>0</td>\n",
              "      <td>Девушка получила переломы, упав в оркестровую ...</td>\n",
              "      <td>САРАТОВ, 17 дек - РИА Новости. Зрительница упа...</td>\n",
              "      <td>https://ria.ru/20221217/konservatoriya-1839463...</td>\n",
              "      <td>rus</td>\n",
              "      <td>[саратов, 17, дек, риа, новость, зрительница, ...</td>\n",
              "      <td>[4879, 234, 430, 35, 30, 4880, 377, 560, 2349,...</td>\n",
              "    </tr>\n",
              "    <tr>\n",
              "      <th>111</th>\n",
              "      <td>1</td>\n",
              "      <td>СМИ: США пытались помешать Украине совершить п...</td>\n",
              "      <td>ВАШИНГТОН, 18 дек - РИА Новости. Газета New Yo...</td>\n",
              "      <td>https://ria.ru/20221218/gerasimov-1839474804.html</td>\n",
              "      <td>rus</td>\n",
              "      <td>[вашингтон, 18, дек, риа, новость, газета, new...</td>\n",
              "      <td>[129, 469, 430, 35, 30, 420, 1437, 1438, 1439,...</td>\n",
              "    </tr>\n",
              "    <tr>\n",
              "      <th>112</th>\n",
              "      <td>1</td>\n",
              "      <td>Минобороны подтвердило удары по объектам на Ук...</td>\n",
              "      <td>МОСКВА, 18 дек — РИА Новости. Министерство обо...</td>\n",
              "      <td>https://ria.ru/20221218/udar-1839474444.html</td>\n",
              "      <td>rus</td>\n",
              "      <td>[москва, 18, дек, —, риа, новость, министерств...</td>\n",
              "      <td>[61, 469, 430, 2, 35, 30, 294, 167, 4, 551, 99...</td>\n",
              "    </tr>\n",
              "    <tr>\n",
              "      <th>113</th>\n",
              "      <td>0</td>\n",
              "      <td>На Египетский мост в Петербурге вернули скульп...</td>\n",
              "      <td>С.-ПЕТЕРБУРГ, 17 дек — РИА Новости. Скульптуры...</td>\n",
              "      <td>https://ria.ru/20221217/skulptury-1839464856.html</td>\n",
              "      <td>rus</td>\n",
              "      <td>[с.-петербург, 17, дек, —, риа, новость, скуль...</td>\n",
              "      <td>[4927, 234, 430, 2, 35, 30, 827, 1532, 346, 15...</td>\n",
              "    </tr>\n",
              "  </tbody>\n",
              "</table>\n",
              "<p>114 rows × 7 columns</p>\n",
              "</div>\n",
              "      <button class=\"colab-df-convert\" onclick=\"convertToInteractive('df-3f6bdeb4-e177-424b-bc4d-46196e3ea35c')\"\n",
              "              title=\"Convert this dataframe to an interactive table.\"\n",
              "              style=\"display:none;\">\n",
              "        \n",
              "  <svg xmlns=\"http://www.w3.org/2000/svg\" height=\"24px\"viewBox=\"0 0 24 24\"\n",
              "       width=\"24px\">\n",
              "    <path d=\"M0 0h24v24H0V0z\" fill=\"none\"/>\n",
              "    <path d=\"M18.56 5.44l.94 2.06.94-2.06 2.06-.94-2.06-.94-.94-2.06-.94 2.06-2.06.94zm-11 1L8.5 8.5l.94-2.06 2.06-.94-2.06-.94L8.5 2.5l-.94 2.06-2.06.94zm10 10l.94 2.06.94-2.06 2.06-.94-2.06-.94-.94-2.06-.94 2.06-2.06.94z\"/><path d=\"M17.41 7.96l-1.37-1.37c-.4-.4-.92-.59-1.43-.59-.52 0-1.04.2-1.43.59L10.3 9.45l-7.72 7.72c-.78.78-.78 2.05 0 2.83L4 21.41c.39.39.9.59 1.41.59.51 0 1.02-.2 1.41-.59l7.78-7.78 2.81-2.81c.8-.78.8-2.07 0-2.86zM5.41 20L4 18.59l7.72-7.72 1.47 1.35L5.41 20z\"/>\n",
              "  </svg>\n",
              "      </button>\n",
              "      \n",
              "  <style>\n",
              "    .colab-df-container {\n",
              "      display:flex;\n",
              "      flex-wrap:wrap;\n",
              "      gap: 12px;\n",
              "    }\n",
              "\n",
              "    .colab-df-convert {\n",
              "      background-color: #E8F0FE;\n",
              "      border: none;\n",
              "      border-radius: 50%;\n",
              "      cursor: pointer;\n",
              "      display: none;\n",
              "      fill: #1967D2;\n",
              "      height: 32px;\n",
              "      padding: 0 0 0 0;\n",
              "      width: 32px;\n",
              "    }\n",
              "\n",
              "    .colab-df-convert:hover {\n",
              "      background-color: #E2EBFA;\n",
              "      box-shadow: 0px 1px 2px rgba(60, 64, 67, 0.3), 0px 1px 3px 1px rgba(60, 64, 67, 0.15);\n",
              "      fill: #174EA6;\n",
              "    }\n",
              "\n",
              "    [theme=dark] .colab-df-convert {\n",
              "      background-color: #3B4455;\n",
              "      fill: #D2E3FC;\n",
              "    }\n",
              "\n",
              "    [theme=dark] .colab-df-convert:hover {\n",
              "      background-color: #434B5C;\n",
              "      box-shadow: 0px 1px 3px 1px rgba(0, 0, 0, 0.15);\n",
              "      filter: drop-shadow(0px 1px 2px rgba(0, 0, 0, 0.3));\n",
              "      fill: #FFFFFF;\n",
              "    }\n",
              "  </style>\n",
              "\n",
              "      <script>\n",
              "        const buttonEl =\n",
              "          document.querySelector('#df-3f6bdeb4-e177-424b-bc4d-46196e3ea35c button.colab-df-convert');\n",
              "        buttonEl.style.display =\n",
              "          google.colab.kernel.accessAllowed ? 'block' : 'none';\n",
              "\n",
              "        async function convertToInteractive(key) {\n",
              "          const element = document.querySelector('#df-3f6bdeb4-e177-424b-bc4d-46196e3ea35c');\n",
              "          const dataTable =\n",
              "            await google.colab.kernel.invokeFunction('convertToInteractive',\n",
              "                                                     [key], {});\n",
              "          if (!dataTable) return;\n",
              "\n",
              "          const docLinkHtml = 'Like what you see? Visit the ' +\n",
              "            '<a target=\"_blank\" href=https://colab.research.google.com/notebooks/data_table.ipynb>data table notebook</a>'\n",
              "            + ' to learn more about interactive tables.';\n",
              "          element.innerHTML = '';\n",
              "          dataTable['output_type'] = 'display_data';\n",
              "          await google.colab.output.renderOutput(dataTable, element);\n",
              "          const docLink = document.createElement('div');\n",
              "          docLink.innerHTML = docLinkHtml;\n",
              "          element.appendChild(docLink);\n",
              "        }\n",
              "      </script>\n",
              "    </div>\n",
              "  </div>\n",
              "  "
            ]
          },
          "metadata": {},
          "execution_count": 17
        }
      ]
    },
    {
      "cell_type": "markdown",
      "source": [
        "## Выделяем данные для обучения и тестирования"
      ],
      "metadata": {
        "id": "Ip7sL49H4aIH"
      }
    },
    {
      "cell_type": "code",
      "source": [
        "train, test = train_test_split(news, test_size=0.2)"
      ],
      "metadata": {
        "id": "j51v0xwj4diP"
      },
      "execution_count": 18,
      "outputs": []
    },
    {
      "cell_type": "code",
      "source": [
        "train"
      ],
      "metadata": {
        "colab": {
          "base_uri": "https://localhost:8080/",
          "height": 641
        },
        "id": "2wwax3i56UWT",
        "outputId": "a7552453-d49b-4e5d-d9f0-30223dbb01d4"
      },
      "execution_count": 19,
      "outputs": [
        {
          "output_type": "execute_result",
          "data": {
            "text/plain": [
              "     class                                              title  \\\n",
              "7        0                  «Русалки» спасли тонущего дайвера   \n",
              "81       0  В Челябинской области арестовали мать, бросивш...   \n",
              "12       0    Путин встретился с главой Конституционного суда   \n",
              "112      1  Минобороны подтвердило удары по объектам на Ук...   \n",
              "99       1  «Продолжим наносить удары по экономике России»...   \n",
              "..     ...                                                ...   \n",
              "6        0  СК подтвердил задержание сварщика и прораба по...   \n",
              "13       0     Устроившего пожар в «Меге» строителя задержали   \n",
              "67       1      При обстреле ВСУ Горловки погиб мирный житель   \n",
              "8        1  Австрия оценила возможность вступления Украины...   \n",
              "70       1  Россия поддержит обращение Сербии в СБ ООН, за...   \n",
              "\n",
              "                                                  text  \\\n",
              "7    Три аквалангистки, 26-летняя Элайна Гарсия и е...   \n",
              "81   Жительница города Чебаркуль Челябинской област...   \n",
              "12   Президент России Владимир Путин в понедельник,...   \n",
              "112  МОСКВА, 18 дек — РИА Новости. Министерство обо...   \n",
              "99   Евросоюз сообщил о введении девятого по счёту ...   \n",
              "..                                                 ...   \n",
              "6    Следственный комитет (СК) России подтвердил за...   \n",
              "13   В Подмосковье задержали строителя, устроившего...   \n",
              "67   Один мирный житель погиб, еще один ранен в рез...   \n",
              "8    Канцлер Австрии Карл Нехаммер заявил, что не с...   \n",
              "70   Москва поддержит обращение Сербии в СБ ООН в с...   \n",
              "\n",
              "                                                  link language  \\\n",
              "7           https://lenta.ru/news/2022/12/12/mermaids/      rus   \n",
              "81   https://ria.ru/20221212/mladenets-1838189573.html      rus   \n",
              "12         https://lenta.ru/news/2022/12/12/const_sud/      rus   \n",
              "112       https://ria.ru/20221218/udar-1839474444.html      rus   \n",
              "99   https://russian.rt.com/world/article/1087204-s...      rus   \n",
              "..                                                 ...      ...   \n",
              "6                 https://lenta.ru/news/2022/12/12/sk/      rus   \n",
              "13        https://lenta.ru/news/2022/12/12/zaderzhali/      rus   \n",
              "67    https://ria.ru/20221212/gorlovka-1838199188.html      rus   \n",
              "8                 https://lenta.ru/news/2022/12/12/es/      rus   \n",
              "70   https://ria.ru/20221212/obraschenie-1838195464...      rus   \n",
              "\n",
              "                                    Preprocessed_texts  \\\n",
              "7    [аквалангистка, 26-летний, элайна, гарсия, кол...   \n",
              "81   [жительница, город, чебаркуль, челябинский, об...   \n",
              "12   [президент, россия, владимир, путин, понедельн...   \n",
              "112  [москва, 18, дек, —, риа, новость, министерств...   \n",
              "99   [евросоюз, сообщить, введение, девятый, счёт, ...   \n",
              "..                                                 ...   \n",
              "6    [следственный, комитет, ск, россия, подтвердит...   \n",
              "13   [подмосковье, задержать, строитель, устроить, ...   \n",
              "67   [мирный, житель, погибнуть, ранить, результат,...   \n",
              "8    [канцлер, австрия, карл, нехаммера, заявить, с...   \n",
              "70   [москва, поддержать, обращение, сербия, сб, оо...   \n",
              "\n",
              "                                             Sequences  \n",
              "7    [2479, 2480, 2481, 859, 1131, 1603, 1604, 1605...  \n",
              "81   [1975, 101, 1976, 3311, 165, 128, 1391, 1010, ...  \n",
              "12   [17, 4, 85, 58, 164, 399, 22, 46, 1151, 116, 1...  \n",
              "112  [61, 469, 430, 2, 35, 30, 294, 167, 4, 551, 99...  \n",
              "99   [278, 16, 2250, 892, 145, 166, 336, 4327, 1507...  \n",
              "..                                                 ...  \n",
              "6    [323, 225, 676, 4, 551, 549, 552, 553, 45, 159...  \n",
              "13   [2584, 105, 2585, 2586, 159, 702, 177, 559, 32...  \n",
              "67   [740, 174, 260, 1913, 102, 776, 1358, 34, 207,...  \n",
              "8    [277, 1139, 1634, 2521, 10, 88, 387, 448, 5, 1...  \n",
              "70   [61, 493, 457, 28, 1295, 132, 114, 631, 157, 2...  \n",
              "\n",
              "[91 rows x 7 columns]"
            ],
            "text/html": [
              "\n",
              "  <div id=\"df-482dfec5-2e21-4bc0-a8cc-7d17751e3440\">\n",
              "    <div class=\"colab-df-container\">\n",
              "      <div>\n",
              "<style scoped>\n",
              "    .dataframe tbody tr th:only-of-type {\n",
              "        vertical-align: middle;\n",
              "    }\n",
              "\n",
              "    .dataframe tbody tr th {\n",
              "        vertical-align: top;\n",
              "    }\n",
              "\n",
              "    .dataframe thead th {\n",
              "        text-align: right;\n",
              "    }\n",
              "</style>\n",
              "<table border=\"1\" class=\"dataframe\">\n",
              "  <thead>\n",
              "    <tr style=\"text-align: right;\">\n",
              "      <th></th>\n",
              "      <th>class</th>\n",
              "      <th>title</th>\n",
              "      <th>text</th>\n",
              "      <th>link</th>\n",
              "      <th>language</th>\n",
              "      <th>Preprocessed_texts</th>\n",
              "      <th>Sequences</th>\n",
              "    </tr>\n",
              "  </thead>\n",
              "  <tbody>\n",
              "    <tr>\n",
              "      <th>7</th>\n",
              "      <td>0</td>\n",
              "      <td>«Русалки» спасли тонущего дайвера</td>\n",
              "      <td>Три аквалангистки, 26-летняя Элайна Гарсия и е...</td>\n",
              "      <td>https://lenta.ru/news/2022/12/12/mermaids/</td>\n",
              "      <td>rus</td>\n",
              "      <td>[аквалангистка, 26-летний, элайна, гарсия, кол...</td>\n",
              "      <td>[2479, 2480, 2481, 859, 1131, 1603, 1604, 1605...</td>\n",
              "    </tr>\n",
              "    <tr>\n",
              "      <th>81</th>\n",
              "      <td>0</td>\n",
              "      <td>В Челябинской области арестовали мать, бросивш...</td>\n",
              "      <td>Жительница города Чебаркуль Челябинской област...</td>\n",
              "      <td>https://ria.ru/20221212/mladenets-1838189573.html</td>\n",
              "      <td>rus</td>\n",
              "      <td>[жительница, город, чебаркуль, челябинский, об...</td>\n",
              "      <td>[1975, 101, 1976, 3311, 165, 128, 1391, 1010, ...</td>\n",
              "    </tr>\n",
              "    <tr>\n",
              "      <th>12</th>\n",
              "      <td>0</td>\n",
              "      <td>Путин встретился с главой Конституционного суда</td>\n",
              "      <td>Президент России Владимир Путин в понедельник,...</td>\n",
              "      <td>https://lenta.ru/news/2022/12/12/const_sud/</td>\n",
              "      <td>rus</td>\n",
              "      <td>[президент, россия, владимир, путин, понедельн...</td>\n",
              "      <td>[17, 4, 85, 58, 164, 399, 22, 46, 1151, 116, 1...</td>\n",
              "    </tr>\n",
              "    <tr>\n",
              "      <th>112</th>\n",
              "      <td>1</td>\n",
              "      <td>Минобороны подтвердило удары по объектам на Ук...</td>\n",
              "      <td>МОСКВА, 18 дек — РИА Новости. Министерство обо...</td>\n",
              "      <td>https://ria.ru/20221218/udar-1839474444.html</td>\n",
              "      <td>rus</td>\n",
              "      <td>[москва, 18, дек, —, риа, новость, министерств...</td>\n",
              "      <td>[61, 469, 430, 2, 35, 30, 294, 167, 4, 551, 99...</td>\n",
              "    </tr>\n",
              "    <tr>\n",
              "      <th>99</th>\n",
              "      <td>1</td>\n",
              "      <td>«Продолжим наносить удары по экономике России»...</td>\n",
              "      <td>Евросоюз сообщил о введении девятого по счёту ...</td>\n",
              "      <td>https://russian.rt.com/world/article/1087204-s...</td>\n",
              "      <td>rus</td>\n",
              "      <td>[евросоюз, сообщить, введение, девятый, счёт, ...</td>\n",
              "      <td>[278, 16, 2250, 892, 145, 166, 336, 4327, 1507...</td>\n",
              "    </tr>\n",
              "    <tr>\n",
              "      <th>...</th>\n",
              "      <td>...</td>\n",
              "      <td>...</td>\n",
              "      <td>...</td>\n",
              "      <td>...</td>\n",
              "      <td>...</td>\n",
              "      <td>...</td>\n",
              "      <td>...</td>\n",
              "    </tr>\n",
              "    <tr>\n",
              "      <th>6</th>\n",
              "      <td>0</td>\n",
              "      <td>СК подтвердил задержание сварщика и прораба по...</td>\n",
              "      <td>Следственный комитет (СК) России подтвердил за...</td>\n",
              "      <td>https://lenta.ru/news/2022/12/12/sk/</td>\n",
              "      <td>rus</td>\n",
              "      <td>[следственный, комитет, ск, россия, подтвердит...</td>\n",
              "      <td>[323, 225, 676, 4, 551, 549, 552, 553, 45, 159...</td>\n",
              "    </tr>\n",
              "    <tr>\n",
              "      <th>13</th>\n",
              "      <td>0</td>\n",
              "      <td>Устроившего пожар в «Меге» строителя задержали</td>\n",
              "      <td>В Подмосковье задержали строителя, устроившего...</td>\n",
              "      <td>https://lenta.ru/news/2022/12/12/zaderzhali/</td>\n",
              "      <td>rus</td>\n",
              "      <td>[подмосковье, задержать, строитель, устроить, ...</td>\n",
              "      <td>[2584, 105, 2585, 2586, 159, 702, 177, 559, 32...</td>\n",
              "    </tr>\n",
              "    <tr>\n",
              "      <th>67</th>\n",
              "      <td>1</td>\n",
              "      <td>При обстреле ВСУ Горловки погиб мирный житель</td>\n",
              "      <td>Один мирный житель погиб, еще один ранен в рез...</td>\n",
              "      <td>https://ria.ru/20221212/gorlovka-1838199188.html</td>\n",
              "      <td>rus</td>\n",
              "      <td>[мирный, житель, погибнуть, ранить, результат,...</td>\n",
              "      <td>[740, 174, 260, 1913, 102, 776, 1358, 34, 207,...</td>\n",
              "    </tr>\n",
              "    <tr>\n",
              "      <th>8</th>\n",
              "      <td>1</td>\n",
              "      <td>Австрия оценила возможность вступления Украины...</td>\n",
              "      <td>Канцлер Австрии Карл Нехаммер заявил, что не с...</td>\n",
              "      <td>https://lenta.ru/news/2022/12/12/es/</td>\n",
              "      <td>rus</td>\n",
              "      <td>[канцлер, австрия, карл, нехаммера, заявить, с...</td>\n",
              "      <td>[277, 1139, 1634, 2521, 10, 88, 387, 448, 5, 1...</td>\n",
              "    </tr>\n",
              "    <tr>\n",
              "      <th>70</th>\n",
              "      <td>1</td>\n",
              "      <td>Россия поддержит обращение Сербии в СБ ООН, за...</td>\n",
              "      <td>Москва поддержит обращение Сербии в СБ ООН в с...</td>\n",
              "      <td>https://ria.ru/20221212/obraschenie-1838195464...</td>\n",
              "      <td>rus</td>\n",
              "      <td>[москва, поддержать, обращение, сербия, сб, оо...</td>\n",
              "      <td>[61, 493, 457, 28, 1295, 132, 114, 631, 157, 2...</td>\n",
              "    </tr>\n",
              "  </tbody>\n",
              "</table>\n",
              "<p>91 rows × 7 columns</p>\n",
              "</div>\n",
              "      <button class=\"colab-df-convert\" onclick=\"convertToInteractive('df-482dfec5-2e21-4bc0-a8cc-7d17751e3440')\"\n",
              "              title=\"Convert this dataframe to an interactive table.\"\n",
              "              style=\"display:none;\">\n",
              "        \n",
              "  <svg xmlns=\"http://www.w3.org/2000/svg\" height=\"24px\"viewBox=\"0 0 24 24\"\n",
              "       width=\"24px\">\n",
              "    <path d=\"M0 0h24v24H0V0z\" fill=\"none\"/>\n",
              "    <path d=\"M18.56 5.44l.94 2.06.94-2.06 2.06-.94-2.06-.94-.94-2.06-.94 2.06-2.06.94zm-11 1L8.5 8.5l.94-2.06 2.06-.94-2.06-.94L8.5 2.5l-.94 2.06-2.06.94zm10 10l.94 2.06.94-2.06 2.06-.94-2.06-.94-.94-2.06-.94 2.06-2.06.94z\"/><path d=\"M17.41 7.96l-1.37-1.37c-.4-.4-.92-.59-1.43-.59-.52 0-1.04.2-1.43.59L10.3 9.45l-7.72 7.72c-.78.78-.78 2.05 0 2.83L4 21.41c.39.39.9.59 1.41.59.51 0 1.02-.2 1.41-.59l7.78-7.78 2.81-2.81c.8-.78.8-2.07 0-2.86zM5.41 20L4 18.59l7.72-7.72 1.47 1.35L5.41 20z\"/>\n",
              "  </svg>\n",
              "      </button>\n",
              "      \n",
              "  <style>\n",
              "    .colab-df-container {\n",
              "      display:flex;\n",
              "      flex-wrap:wrap;\n",
              "      gap: 12px;\n",
              "    }\n",
              "\n",
              "    .colab-df-convert {\n",
              "      background-color: #E8F0FE;\n",
              "      border: none;\n",
              "      border-radius: 50%;\n",
              "      cursor: pointer;\n",
              "      display: none;\n",
              "      fill: #1967D2;\n",
              "      height: 32px;\n",
              "      padding: 0 0 0 0;\n",
              "      width: 32px;\n",
              "    }\n",
              "\n",
              "    .colab-df-convert:hover {\n",
              "      background-color: #E2EBFA;\n",
              "      box-shadow: 0px 1px 2px rgba(60, 64, 67, 0.3), 0px 1px 3px 1px rgba(60, 64, 67, 0.15);\n",
              "      fill: #174EA6;\n",
              "    }\n",
              "\n",
              "    [theme=dark] .colab-df-convert {\n",
              "      background-color: #3B4455;\n",
              "      fill: #D2E3FC;\n",
              "    }\n",
              "\n",
              "    [theme=dark] .colab-df-convert:hover {\n",
              "      background-color: #434B5C;\n",
              "      box-shadow: 0px 1px 3px 1px rgba(0, 0, 0, 0.15);\n",
              "      filter: drop-shadow(0px 1px 2px rgba(0, 0, 0, 0.3));\n",
              "      fill: #FFFFFF;\n",
              "    }\n",
              "  </style>\n",
              "\n",
              "      <script>\n",
              "        const buttonEl =\n",
              "          document.querySelector('#df-482dfec5-2e21-4bc0-a8cc-7d17751e3440 button.colab-df-convert');\n",
              "        buttonEl.style.display =\n",
              "          google.colab.kernel.accessAllowed ? 'block' : 'none';\n",
              "\n",
              "        async function convertToInteractive(key) {\n",
              "          const element = document.querySelector('#df-482dfec5-2e21-4bc0-a8cc-7d17751e3440');\n",
              "          const dataTable =\n",
              "            await google.colab.kernel.invokeFunction('convertToInteractive',\n",
              "                                                     [key], {});\n",
              "          if (!dataTable) return;\n",
              "\n",
              "          const docLinkHtml = 'Like what you see? Visit the ' +\n",
              "            '<a target=\"_blank\" href=https://colab.research.google.com/notebooks/data_table.ipynb>data table notebook</a>'\n",
              "            + ' to learn more about interactive tables.';\n",
              "          element.innerHTML = '';\n",
              "          dataTable['output_type'] = 'display_data';\n",
              "          await google.colab.output.renderOutput(dataTable, element);\n",
              "          const docLink = document.createElement('div');\n",
              "          docLink.innerHTML = docLinkHtml;\n",
              "          element.appendChild(docLink);\n",
              "        }\n",
              "      </script>\n",
              "    </div>\n",
              "  </div>\n",
              "  "
            ]
          },
          "metadata": {},
          "execution_count": 19
        }
      ]
    },
    {
      "cell_type": "code",
      "source": [
        "test"
      ],
      "metadata": {
        "colab": {
          "base_uri": "https://localhost:8080/",
          "height": 1000
        },
        "id": "wr991Et_6YRQ",
        "outputId": "49013672-046f-4f5e-cd34-3daab0137bb4"
      },
      "execution_count": 20,
      "outputs": [
        {
          "output_type": "execute_result",
          "data": {
            "text/plain": [
              "     class                                              title  \\\n",
              "106      0  Мэрия Москвы: заболеваемость ОРВИ не помешала ...   \n",
              "28       1  Матыцин прокомментировал заявление США по учас...   \n",
              "43       0  Сварщик и прораб задержаны по делу о пожаре в ...   \n",
              "80       0  Число погибших при обстреле Киевского района Д...   \n",
              "95       0  В России уличный кот спровоцировал аварию с тр...   \n",
              "11       1  Байден ответил на сообщения об отправке америк...   \n",
              "32       1  Шольц выступил за сотрудничество с Россией пос...   \n",
              "104      0  Минцифры России предупредило о массовых кражах...   \n",
              "35       0  GFG завершила продажу российского бизнеса Lamo...   \n",
              "66       1  ВС России нанесли удар по живой силе противник...   \n",
              "23       0                  Старой одежде присвоят новые коды   \n",
              "55       1  Министр обороны Британии Уоллес допустил поста...   \n",
              "93       1  Команда Байдена начала подготовку к его предвы...   \n",
              "53       0  Путин поручил кабмину увеличить зарплаты бюдже...   \n",
              "79       0  По делу о пожаре в ТЦ \"МЕГА Химки\" задержали п...   \n",
              "47       1  NBC: администрация Байдена намерена усилить ко...   \n",
              "107      0  Финансист предупредил о подводных камнях новог...   \n",
              "20       1      На Украине призвали исключить Венгрию из НАТО   \n",
              "74       0  В Пермском крае перевернулся автобус, есть пос...   \n",
              "84       1  Большой пресс-конференции Путина в этом году н...   \n",
              "78       0  В Москве полиция задержала водителя иномарки, ...   \n",
              "57       1  Захарова: Бут стал символом юридического беспо...   \n",
              "87       1  МИД Сербии: Белград призовет отложить вопрос о...   \n",
              "\n",
              "                                                  text  \\\n",
              "106  Медицинская сестра в инфекционном отделении дл...   \n",
              "28   Министр спорта Олег Матыцин прокомментировал з...   \n",
              "43   «Задержаны прораб и сварщик строительно-технич...   \n",
              "80   Число погибших при обстреле Киевского района Д...   \n",
              "95   В Волгоградской области животное спровоцировал...   \n",
              "11   Президент США Джо Байден опроверг отправку аме...   \n",
              "32   «Канцлер Германии высказался о перспективе воз...   \n",
              "104  Об этом ведомство написало в своём Telegram. «...   \n",
              "35   Об этом говорится на сайте GFG. «GFG получила ...   \n",
              "66   Части российских Вооруженных сил Западного вое...   \n",
              "23   Текстильные отходы в России предложили выделит...   \n",
              "55   Уоллес подчеркнул, что британское Минобороны п...   \n",
              "93   Команда президента США Джо Байдена начала план...   \n",
              "53   Соответствующие указания опубликованы на сайте...   \n",
              "79   По делу о пожаре в ТЦ \"МЕГА Химки\" задержали п...   \n",
              "47   «Высокопоставленные официальные лица США подче...   \n",
              "107  МОСКВА, 18 дек — РИА Новости. Перед Новым годо...   \n",
              "20   Глава комитета по международным делам Верховно...   \n",
              "74   Автобус с пассажирами перевернулся в Кизеловск...   \n",
              "84   Большой пресс-конференции Владимира Путина до ...   \n",
              "78   Полицейские задержали водителя иномарки, сбивш...   \n",
              "57   Захарова подчеркнула, что всё случившееся с Бу...   \n",
              "87   Руководство Сербии призовет страны-члены ЕС, к...   \n",
              "\n",
              "                                                  link language  \\\n",
              "106  https://ria.ru/20221218/koronavirus-1839476045...      rus   \n",
              "28          https://lenta.ru/news/2022/12/12/matytsin/      rus   \n",
              "43   https://russian.rt.com/russia/news/1085378-sva...      rus   \n",
              "80     https://ria.ru/20221212/obstrel-1838194852.html      rus   \n",
              "95            https://lenta.ru/news/2022/12/17/kotdtp/      rus   \n",
              "11     https://lenta.ru/news/2022/12/12/neotpravlyaut/      rus   \n",
              "32   https://russian.rt.com/world/news/1085396-germ...      rus   \n",
              "104  https://russian.rt.com/russia/news/1087534-min...      rus   \n",
              "35   https://russian.rt.com/russia/news/1085392-ros...      rus   \n",
              "66    https://ria.ru/20221212/akatsiya-1838198014.html      rus   \n",
              "23   https://lenta.ru/news/2022/12/12/odezhda_otkhody/      rus   \n",
              "55   https://russian.rt.com/world/news/1085328-brit...      rus   \n",
              "93             https://lenta.ru/news/2022/12/18/biden/      rus   \n",
              "53   https://russian.rt.com/russia/news/1085336-put...      rus   \n",
              "79   https://ria.ru/20221212/podozrevaemye-18381974...      rus   \n",
              "47   https://russian.rt.com/world/news/1085359-oruz...      rus   \n",
              "107   https://ria.ru/20221218/depozity-1839473129.html      rus   \n",
              "20              https://lenta.ru/news/2022/12/12/iskl/      rus   \n",
              "74     https://ria.ru/20221212/avtobus-1838204580.html      rus   \n",
              "84       https://ria.ru/20221212/putin-1838063531.html      rus   \n",
              "78     https://ria.ru/20221212/voditel-1838199698.html      rus   \n",
              "57   https://russian.rt.com/world/news/1085308-zaha...      rus   \n",
              "87   https://ria.ru/20221212/evrosoyuz-1838133254.html      rus   \n",
              "\n",
              "                                    Preprocessed_texts  \\\n",
              "106  [медицинский, сестра, инфекционный, отделение,...   \n",
              "28   [министр, спорт, олег, матыцин, прокомментиров...   \n",
              "43   [задержать, прораб, сварщик, строительно-техни...   \n",
              "80   [число, погибнуть, обстрел, киевский, район, д...   \n",
              "95   [волгоградский, область, животное, спровоциров...   \n",
              "11   [президент, сша, джо, байден, опровергнуть, от...   \n",
              "32   [канцлер, германия, высказаться, перспектива, ...   \n",
              "104  [ведомство, написать, свой, telegram, 17, дека...   \n",
              "35   [говориться, сайт, gfg, gfg, получить, выручка...   \n",
              "66   [часть, российский, вооружённый, сила, западны...   \n",
              "23   [текстильный, отход, россия, предложить, выдел...   \n",
              "55   [уоллес, подчеркнуть, британский, минобороны, ...   \n",
              "93   [команда, президент, сша, джо, байден, начало,...   \n",
              "53   [соответствующий, указание, опубликовать, сайт...   \n",
              "79   [дело, пожар, тц, ``, мег, химки, '', задержат...   \n",
              "47   [высокопоставленный, официальный, лицо, сша, п...   \n",
              "107  [москва, 18, дек, —, риа, новость, новый, год,...   \n",
              "20   [глава, комитет, международный, дело, верховны...   \n",
              "74   [автобус, пассажир, перевернуться, кизеловский...   \n",
              "84   [большой, пресс-конференция, владимир, путин, ...   \n",
              "78   [полицейский, задержать, водитель, иномарка, с...   \n",
              "57   [захаров, подчеркнуть, всё, случиться, бут, яв...   \n",
              "87   [руководство, сербия, призвать, страна-член, е...   \n",
              "\n",
              "                                             Sequences  \n",
              "106  [1300, 2191, 4802, 1994, 830, 2319, 61, 469, 4...  \n",
              "28   [89, 1676, 1257, 1770, 1180, 100, 471, 225, 12...  \n",
              "43   [105, 553, 552, 1820, 1293, 441, 555, 852, 384...  \n",
              "80   [67, 260, 776, 121, 133, 777, 32, 34, 207, 197...  \n",
              "95   [3975, 165, 3976, 2142, 437, 176, 126, 796, 23...  \n",
              "11   [17, 12, 398, 184, 2575, 1655, 42, 19, 5, 273,...  \n",
              "32   [277, 21, 886, 692, 953, 336, 413, 4, 739, 55,...  \n",
              "104  [95, 416, 15, 962, 234, 22, 691, 4676, 731, 14...  \n",
              "35   [91, 458, 743, 743, 78, 1280, 1794, 2895, 959,...  \n",
              "66   [65, 20, 343, 76, 155, 19, 1351, 510, 253, 157...  \n",
              "23   [915, 347, 4, 276, 1227, 916, 2708, 2709, 347,...  \n",
              "55   [1840, 74, 3010, 1198, 1841, 1285, 73, 3, 3011...  \n",
              "93   [109, 17, 12, 398, 184, 75, 3919, 3920, 1470, ...  \n",
              "53   [1317, 1167, 459, 458, 460, 316, 58, 10, 696, ...  \n",
              "79   [45, 159, 684, 7, 559, 324, 8, 105, 553, 552, ...  \n",
              "47   [1825, 402, 473, 12, 74, 439, 25, 591, 19, 297...  \n",
              "107  [61, 469, 430, 2, 35, 30, 25, 6, 942, 239, 482...  \n",
              "20   [18, 225, 140, 45, 1207, 1631, 5, 97, 1208, 34...  \n",
              "74   [1949, 1381, 3232, 3233, 1351, 1950, 383, 126,...  \n",
              "84   [178, 634, 85, 58, 25, 6, 770, 10, 179, 17, 50...  \n",
              "78   [110, 105, 195, 840, 665, 123, 436, 1969, 94, ...  \n",
              "57   [1324, 74, 188, 1856, 344, 96, 1325, 3043, 70,...  \n",
              "87   [2038, 28, 342, 1417, 52, 3, 2039, 786, 382, 2...  "
            ],
            "text/html": [
              "\n",
              "  <div id=\"df-8e2d44f8-0dd8-4038-9f0d-890b6a19dd29\">\n",
              "    <div class=\"colab-df-container\">\n",
              "      <div>\n",
              "<style scoped>\n",
              "    .dataframe tbody tr th:only-of-type {\n",
              "        vertical-align: middle;\n",
              "    }\n",
              "\n",
              "    .dataframe tbody tr th {\n",
              "        vertical-align: top;\n",
              "    }\n",
              "\n",
              "    .dataframe thead th {\n",
              "        text-align: right;\n",
              "    }\n",
              "</style>\n",
              "<table border=\"1\" class=\"dataframe\">\n",
              "  <thead>\n",
              "    <tr style=\"text-align: right;\">\n",
              "      <th></th>\n",
              "      <th>class</th>\n",
              "      <th>title</th>\n",
              "      <th>text</th>\n",
              "      <th>link</th>\n",
              "      <th>language</th>\n",
              "      <th>Preprocessed_texts</th>\n",
              "      <th>Sequences</th>\n",
              "    </tr>\n",
              "  </thead>\n",
              "  <tbody>\n",
              "    <tr>\n",
              "      <th>106</th>\n",
              "      <td>0</td>\n",
              "      <td>Мэрия Москвы: заболеваемость ОРВИ не помешала ...</td>\n",
              "      <td>Медицинская сестра в инфекционном отделении дл...</td>\n",
              "      <td>https://ria.ru/20221218/koronavirus-1839476045...</td>\n",
              "      <td>rus</td>\n",
              "      <td>[медицинский, сестра, инфекционный, отделение,...</td>\n",
              "      <td>[1300, 2191, 4802, 1994, 830, 2319, 61, 469, 4...</td>\n",
              "    </tr>\n",
              "    <tr>\n",
              "      <th>28</th>\n",
              "      <td>1</td>\n",
              "      <td>Матыцин прокомментировал заявление США по учас...</td>\n",
              "      <td>Министр спорта Олег Матыцин прокомментировал з...</td>\n",
              "      <td>https://lenta.ru/news/2022/12/12/matytsin/</td>\n",
              "      <td>rus</td>\n",
              "      <td>[министр, спорт, олег, матыцин, прокомментиров...</td>\n",
              "      <td>[89, 1676, 1257, 1770, 1180, 100, 471, 225, 12...</td>\n",
              "    </tr>\n",
              "    <tr>\n",
              "      <th>43</th>\n",
              "      <td>0</td>\n",
              "      <td>Сварщик и прораб задержаны по делу о пожаре в ...</td>\n",
              "      <td>«Задержаны прораб и сварщик строительно-технич...</td>\n",
              "      <td>https://russian.rt.com/russia/news/1085378-sva...</td>\n",
              "      <td>rus</td>\n",
              "      <td>[задержать, прораб, сварщик, строительно-техни...</td>\n",
              "      <td>[105, 553, 552, 1820, 1293, 441, 555, 852, 384...</td>\n",
              "    </tr>\n",
              "    <tr>\n",
              "      <th>80</th>\n",
              "      <td>0</td>\n",
              "      <td>Число погибших при обстреле Киевского района Д...</td>\n",
              "      <td>Число погибших при обстреле Киевского района Д...</td>\n",
              "      <td>https://ria.ru/20221212/obstrel-1838194852.html</td>\n",
              "      <td>rus</td>\n",
              "      <td>[число, погибнуть, обстрел, киевский, район, д...</td>\n",
              "      <td>[67, 260, 776, 121, 133, 777, 32, 34, 207, 197...</td>\n",
              "    </tr>\n",
              "    <tr>\n",
              "      <th>95</th>\n",
              "      <td>0</td>\n",
              "      <td>В России уличный кот спровоцировал аварию с тр...</td>\n",
              "      <td>В Волгоградской области животное спровоцировал...</td>\n",
              "      <td>https://lenta.ru/news/2022/12/17/kotdtp/</td>\n",
              "      <td>rus</td>\n",
              "      <td>[волгоградский, область, животное, спровоциров...</td>\n",
              "      <td>[3975, 165, 3976, 2142, 437, 176, 126, 796, 23...</td>\n",
              "    </tr>\n",
              "    <tr>\n",
              "      <th>11</th>\n",
              "      <td>1</td>\n",
              "      <td>Байден ответил на сообщения об отправке америк...</td>\n",
              "      <td>Президент США Джо Байден опроверг отправку аме...</td>\n",
              "      <td>https://lenta.ru/news/2022/12/12/neotpravlyaut/</td>\n",
              "      <td>rus</td>\n",
              "      <td>[президент, сша, джо, байден, опровергнуть, от...</td>\n",
              "      <td>[17, 12, 398, 184, 2575, 1655, 42, 19, 5, 273,...</td>\n",
              "    </tr>\n",
              "    <tr>\n",
              "      <th>32</th>\n",
              "      <td>1</td>\n",
              "      <td>Шольц выступил за сотрудничество с Россией пос...</td>\n",
              "      <td>«Канцлер Германии высказался о перспективе воз...</td>\n",
              "      <td>https://russian.rt.com/world/news/1085396-germ...</td>\n",
              "      <td>rus</td>\n",
              "      <td>[канцлер, германия, высказаться, перспектива, ...</td>\n",
              "      <td>[277, 21, 886, 692, 953, 336, 413, 4, 739, 55,...</td>\n",
              "    </tr>\n",
              "    <tr>\n",
              "      <th>104</th>\n",
              "      <td>0</td>\n",
              "      <td>Минцифры России предупредило о массовых кражах...</td>\n",
              "      <td>Об этом ведомство написало в своём Telegram. «...</td>\n",
              "      <td>https://russian.rt.com/russia/news/1087534-min...</td>\n",
              "      <td>rus</td>\n",
              "      <td>[ведомство, написать, свой, telegram, 17, дека...</td>\n",
              "      <td>[95, 416, 15, 962, 234, 22, 691, 4676, 731, 14...</td>\n",
              "    </tr>\n",
              "    <tr>\n",
              "      <th>35</th>\n",
              "      <td>0</td>\n",
              "      <td>GFG завершила продажу российского бизнеса Lamo...</td>\n",
              "      <td>Об этом говорится на сайте GFG. «GFG получила ...</td>\n",
              "      <td>https://russian.rt.com/russia/news/1085392-ros...</td>\n",
              "      <td>rus</td>\n",
              "      <td>[говориться, сайт, gfg, gfg, получить, выручка...</td>\n",
              "      <td>[91, 458, 743, 743, 78, 1280, 1794, 2895, 959,...</td>\n",
              "    </tr>\n",
              "    <tr>\n",
              "      <th>66</th>\n",
              "      <td>1</td>\n",
              "      <td>ВС России нанесли удар по живой силе противник...</td>\n",
              "      <td>Части российских Вооруженных сил Западного вое...</td>\n",
              "      <td>https://ria.ru/20221212/akatsiya-1838198014.html</td>\n",
              "      <td>rus</td>\n",
              "      <td>[часть, российский, вооружённый, сила, западны...</td>\n",
              "      <td>[65, 20, 343, 76, 155, 19, 1351, 510, 253, 157...</td>\n",
              "    </tr>\n",
              "    <tr>\n",
              "      <th>23</th>\n",
              "      <td>0</td>\n",
              "      <td>Старой одежде присвоят новые коды</td>\n",
              "      <td>Текстильные отходы в России предложили выделит...</td>\n",
              "      <td>https://lenta.ru/news/2022/12/12/odezhda_otkhody/</td>\n",
              "      <td>rus</td>\n",
              "      <td>[текстильный, отход, россия, предложить, выдел...</td>\n",
              "      <td>[915, 347, 4, 276, 1227, 916, 2708, 2709, 347,...</td>\n",
              "    </tr>\n",
              "    <tr>\n",
              "      <th>55</th>\n",
              "      <td>1</td>\n",
              "      <td>Министр обороны Британии Уоллес допустил поста...</td>\n",
              "      <td>Уоллес подчеркнул, что британское Минобороны п...</td>\n",
              "      <td>https://russian.rt.com/world/news/1085328-brit...</td>\n",
              "      <td>rus</td>\n",
              "      <td>[уоллес, подчеркнуть, британский, минобороны, ...</td>\n",
              "      <td>[1840, 74, 3010, 1198, 1841, 1285, 73, 3, 3011...</td>\n",
              "    </tr>\n",
              "    <tr>\n",
              "      <th>93</th>\n",
              "      <td>1</td>\n",
              "      <td>Команда Байдена начала подготовку к его предвы...</td>\n",
              "      <td>Команда президента США Джо Байдена начала план...</td>\n",
              "      <td>https://lenta.ru/news/2022/12/18/biden/</td>\n",
              "      <td>rus</td>\n",
              "      <td>[команда, президент, сша, джо, байден, начало,...</td>\n",
              "      <td>[109, 17, 12, 398, 184, 75, 3919, 3920, 1470, ...</td>\n",
              "    </tr>\n",
              "    <tr>\n",
              "      <th>53</th>\n",
              "      <td>0</td>\n",
              "      <td>Путин поручил кабмину увеличить зарплаты бюдже...</td>\n",
              "      <td>Соответствующие указания опубликованы на сайте...</td>\n",
              "      <td>https://russian.rt.com/russia/news/1085336-put...</td>\n",
              "      <td>rus</td>\n",
              "      <td>[соответствующий, указание, опубликовать, сайт...</td>\n",
              "      <td>[1317, 1167, 459, 458, 460, 316, 58, 10, 696, ...</td>\n",
              "    </tr>\n",
              "    <tr>\n",
              "      <th>79</th>\n",
              "      <td>0</td>\n",
              "      <td>По делу о пожаре в ТЦ \"МЕГА Химки\" задержали п...</td>\n",
              "      <td>По делу о пожаре в ТЦ \"МЕГА Химки\" задержали п...</td>\n",
              "      <td>https://ria.ru/20221212/podozrevaemye-18381974...</td>\n",
              "      <td>rus</td>\n",
              "      <td>[дело, пожар, тц, ``, мег, химки, '', задержат...</td>\n",
              "      <td>[45, 159, 684, 7, 559, 324, 8, 105, 553, 552, ...</td>\n",
              "    </tr>\n",
              "    <tr>\n",
              "      <th>47</th>\n",
              "      <td>1</td>\n",
              "      <td>NBC: администрация Байдена намерена усилить ко...</td>\n",
              "      <td>«Высокопоставленные официальные лица США подче...</td>\n",
              "      <td>https://russian.rt.com/world/news/1085359-oruz...</td>\n",
              "      <td>rus</td>\n",
              "      <td>[высокопоставленный, официальный, лицо, сша, п...</td>\n",
              "      <td>[1825, 402, 473, 12, 74, 439, 25, 591, 19, 297...</td>\n",
              "    </tr>\n",
              "    <tr>\n",
              "      <th>107</th>\n",
              "      <td>0</td>\n",
              "      <td>Финансист предупредил о подводных камнях новог...</td>\n",
              "      <td>МОСКВА, 18 дек — РИА Новости. Перед Новым годо...</td>\n",
              "      <td>https://ria.ru/20221218/depozity-1839473129.html</td>\n",
              "      <td>rus</td>\n",
              "      <td>[москва, 18, дек, —, риа, новость, новый, год,...</td>\n",
              "      <td>[61, 469, 430, 2, 35, 30, 25, 6, 942, 239, 482...</td>\n",
              "    </tr>\n",
              "    <tr>\n",
              "      <th>20</th>\n",
              "      <td>1</td>\n",
              "      <td>На Украине призвали исключить Венгрию из НАТО</td>\n",
              "      <td>Глава комитета по международным делам Верховно...</td>\n",
              "      <td>https://lenta.ru/news/2022/12/12/iskl/</td>\n",
              "      <td>rus</td>\n",
              "      <td>[глава, комитет, международный, дело, верховны...</td>\n",
              "      <td>[18, 225, 140, 45, 1207, 1631, 5, 97, 1208, 34...</td>\n",
              "    </tr>\n",
              "    <tr>\n",
              "      <th>74</th>\n",
              "      <td>0</td>\n",
              "      <td>В Пермском крае перевернулся автобус, есть пос...</td>\n",
              "      <td>Автобус с пассажирами перевернулся в Кизеловск...</td>\n",
              "      <td>https://ria.ru/20221212/avtobus-1838204580.html</td>\n",
              "      <td>rus</td>\n",
              "      <td>[автобус, пассажир, перевернуться, кизеловский...</td>\n",
              "      <td>[1949, 1381, 3232, 3233, 1351, 1950, 383, 126,...</td>\n",
              "    </tr>\n",
              "    <tr>\n",
              "      <th>84</th>\n",
              "      <td>1</td>\n",
              "      <td>Большой пресс-конференции Путина в этом году н...</td>\n",
              "      <td>Большой пресс-конференции Владимира Путина до ...</td>\n",
              "      <td>https://ria.ru/20221212/putin-1838063531.html</td>\n",
              "      <td>rus</td>\n",
              "      <td>[большой, пресс-конференция, владимир, путин, ...</td>\n",
              "      <td>[178, 634, 85, 58, 25, 6, 770, 10, 179, 17, 50...</td>\n",
              "    </tr>\n",
              "    <tr>\n",
              "      <th>78</th>\n",
              "      <td>0</td>\n",
              "      <td>В Москве полиция задержала водителя иномарки, ...</td>\n",
              "      <td>Полицейские задержали водителя иномарки, сбивш...</td>\n",
              "      <td>https://ria.ru/20221212/voditel-1838199698.html</td>\n",
              "      <td>rus</td>\n",
              "      <td>[полицейский, задержать, водитель, иномарка, с...</td>\n",
              "      <td>[110, 105, 195, 840, 665, 123, 436, 1969, 94, ...</td>\n",
              "    </tr>\n",
              "    <tr>\n",
              "      <th>57</th>\n",
              "      <td>1</td>\n",
              "      <td>Захарова: Бут стал символом юридического беспо...</td>\n",
              "      <td>Захарова подчеркнула, что всё случившееся с Бу...</td>\n",
              "      <td>https://russian.rt.com/world/news/1085308-zaha...</td>\n",
              "      <td>rus</td>\n",
              "      <td>[захаров, подчеркнуть, всё, случиться, бут, яв...</td>\n",
              "      <td>[1324, 74, 188, 1856, 344, 96, 1325, 3043, 70,...</td>\n",
              "    </tr>\n",
              "    <tr>\n",
              "      <th>87</th>\n",
              "      <td>1</td>\n",
              "      <td>МИД Сербии: Белград призовет отложить вопрос о...</td>\n",
              "      <td>Руководство Сербии призовет страны-члены ЕС, к...</td>\n",
              "      <td>https://ria.ru/20221212/evrosoyuz-1838133254.html</td>\n",
              "      <td>rus</td>\n",
              "      <td>[руководство, сербия, призвать, страна-член, е...</td>\n",
              "      <td>[2038, 28, 342, 1417, 52, 3, 2039, 786, 382, 2...</td>\n",
              "    </tr>\n",
              "  </tbody>\n",
              "</table>\n",
              "</div>\n",
              "      <button class=\"colab-df-convert\" onclick=\"convertToInteractive('df-8e2d44f8-0dd8-4038-9f0d-890b6a19dd29')\"\n",
              "              title=\"Convert this dataframe to an interactive table.\"\n",
              "              style=\"display:none;\">\n",
              "        \n",
              "  <svg xmlns=\"http://www.w3.org/2000/svg\" height=\"24px\"viewBox=\"0 0 24 24\"\n",
              "       width=\"24px\">\n",
              "    <path d=\"M0 0h24v24H0V0z\" fill=\"none\"/>\n",
              "    <path d=\"M18.56 5.44l.94 2.06.94-2.06 2.06-.94-2.06-.94-.94-2.06-.94 2.06-2.06.94zm-11 1L8.5 8.5l.94-2.06 2.06-.94-2.06-.94L8.5 2.5l-.94 2.06-2.06.94zm10 10l.94 2.06.94-2.06 2.06-.94-2.06-.94-.94-2.06-.94 2.06-2.06.94z\"/><path d=\"M17.41 7.96l-1.37-1.37c-.4-.4-.92-.59-1.43-.59-.52 0-1.04.2-1.43.59L10.3 9.45l-7.72 7.72c-.78.78-.78 2.05 0 2.83L4 21.41c.39.39.9.59 1.41.59.51 0 1.02-.2 1.41-.59l7.78-7.78 2.81-2.81c.8-.78.8-2.07 0-2.86zM5.41 20L4 18.59l7.72-7.72 1.47 1.35L5.41 20z\"/>\n",
              "  </svg>\n",
              "      </button>\n",
              "      \n",
              "  <style>\n",
              "    .colab-df-container {\n",
              "      display:flex;\n",
              "      flex-wrap:wrap;\n",
              "      gap: 12px;\n",
              "    }\n",
              "\n",
              "    .colab-df-convert {\n",
              "      background-color: #E8F0FE;\n",
              "      border: none;\n",
              "      border-radius: 50%;\n",
              "      cursor: pointer;\n",
              "      display: none;\n",
              "      fill: #1967D2;\n",
              "      height: 32px;\n",
              "      padding: 0 0 0 0;\n",
              "      width: 32px;\n",
              "    }\n",
              "\n",
              "    .colab-df-convert:hover {\n",
              "      background-color: #E2EBFA;\n",
              "      box-shadow: 0px 1px 2px rgba(60, 64, 67, 0.3), 0px 1px 3px 1px rgba(60, 64, 67, 0.15);\n",
              "      fill: #174EA6;\n",
              "    }\n",
              "\n",
              "    [theme=dark] .colab-df-convert {\n",
              "      background-color: #3B4455;\n",
              "      fill: #D2E3FC;\n",
              "    }\n",
              "\n",
              "    [theme=dark] .colab-df-convert:hover {\n",
              "      background-color: #434B5C;\n",
              "      box-shadow: 0px 1px 3px 1px rgba(0, 0, 0, 0.15);\n",
              "      filter: drop-shadow(0px 1px 2px rgba(0, 0, 0, 0.3));\n",
              "      fill: #FFFFFF;\n",
              "    }\n",
              "  </style>\n",
              "\n",
              "      <script>\n",
              "        const buttonEl =\n",
              "          document.querySelector('#df-8e2d44f8-0dd8-4038-9f0d-890b6a19dd29 button.colab-df-convert');\n",
              "        buttonEl.style.display =\n",
              "          google.colab.kernel.accessAllowed ? 'block' : 'none';\n",
              "\n",
              "        async function convertToInteractive(key) {\n",
              "          const element = document.querySelector('#df-8e2d44f8-0dd8-4038-9f0d-890b6a19dd29');\n",
              "          const dataTable =\n",
              "            await google.colab.kernel.invokeFunction('convertToInteractive',\n",
              "                                                     [key], {});\n",
              "          if (!dataTable) return;\n",
              "\n",
              "          const docLinkHtml = 'Like what you see? Visit the ' +\n",
              "            '<a target=\"_blank\" href=https://colab.research.google.com/notebooks/data_table.ipynb>data table notebook</a>'\n",
              "            + ' to learn more about interactive tables.';\n",
              "          element.innerHTML = '';\n",
              "          dataTable['output_type'] = 'display_data';\n",
              "          await google.colab.output.renderOutput(dataTable, element);\n",
              "          const docLink = document.createElement('div');\n",
              "          docLink.innerHTML = docLinkHtml;\n",
              "          element.appendChild(docLink);\n",
              "        }\n",
              "      </script>\n",
              "    </div>\n",
              "  </div>\n",
              "  "
            ]
          },
          "metadata": {},
          "execution_count": 20
        }
      ]
    },
    {
      "cell_type": "markdown",
      "source": [
        "## Разделяем метки классов и данные для обучения"
      ],
      "metadata": {
        "id": "K5G9ClI46hTl"
      }
    },
    {
      "cell_type": "markdown",
      "source": [
        "Данные для обучения"
      ],
      "metadata": {
        "id": "iX8Z-rFo6oYt"
      }
    },
    {
      "cell_type": "code",
      "source": [
        "x_train = train['Sequences']\n",
        "y_train = train['class']"
      ],
      "metadata": {
        "id": "RlpfWyHI6phL"
      },
      "execution_count": 21,
      "outputs": []
    },
    {
      "cell_type": "code",
      "source": [
        "x_train"
      ],
      "metadata": {
        "colab": {
          "base_uri": "https://localhost:8080/"
        },
        "id": "D03BOlqL7mvJ",
        "outputId": "b8b8fbcf-2a50-41f1-a3e3-03005fa8b05a"
      },
      "execution_count": 22,
      "outputs": [
        {
          "output_type": "execute_result",
          "data": {
            "text/plain": [
              "7      [2479, 2480, 2481, 859, 1131, 1603, 1604, 1605...\n",
              "81     [1975, 101, 1976, 3311, 165, 128, 1391, 1010, ...\n",
              "12     [17, 4, 85, 58, 164, 399, 22, 46, 1151, 116, 1...\n",
              "112    [61, 469, 430, 2, 35, 30, 294, 167, 4, 551, 99...\n",
              "99     [278, 16, 2250, 892, 145, 166, 336, 4327, 1507...\n",
              "                             ...                        \n",
              "6      [323, 225, 676, 4, 551, 549, 552, 553, 45, 159...\n",
              "13     [2584, 105, 2585, 2586, 159, 702, 177, 559, 32...\n",
              "67     [740, 174, 260, 1913, 102, 776, 1358, 34, 207,...\n",
              "8      [277, 1139, 1634, 2521, 10, 88, 387, 448, 5, 1...\n",
              "70     [61, 493, 457, 28, 1295, 132, 114, 631, 157, 2...\n",
              "Name: Sequences, Length: 91, dtype: object"
            ]
          },
          "metadata": {},
          "execution_count": 22
        }
      ]
    },
    {
      "cell_type": "markdown",
      "source": [
        "!!! Ограничиваем длину новостных сообщений"
      ],
      "metadata": {
        "id": "oy4wG7DBcCrI"
      }
    },
    {
      "cell_type": "code",
      "source": [
        "x_train = pad_sequences(x_train, maxlen=max_news_len)"
      ],
      "metadata": {
        "id": "8ipgJZG8efGB"
      },
      "execution_count": 23,
      "outputs": []
    },
    {
      "cell_type": "code",
      "source": [
        "x_train"
      ],
      "metadata": {
        "colab": {
          "base_uri": "https://localhost:8080/"
        },
        "id": "045N759qfYJu",
        "outputId": "2dc3c868-3b82-4ef1-9206-b1a5105ad8a1"
      },
      "execution_count": 24,
      "outputs": [
        {
          "output_type": "execute_result",
          "data": {
            "text/plain": [
              "array([[   0,    0,    0, ..., 2520,   26, 1136],\n",
              "       [   0,    0,    0, ..., 1982, 1387,  423],\n",
              "       [   0,    0,    0, ..., 1176,   17,  143],\n",
              "       ...,\n",
              "       [   0,    0,    0, ..., 1915,  327,   37],\n",
              "       [   0,    0,    0, ..., 1147,   80,  388],\n",
              "       [   0,    0,    0, ...,    8,  160,  294]], dtype=int32)"
            ]
          },
          "metadata": {},
          "execution_count": 24
        }
      ]
    },
    {
      "cell_type": "code",
      "source": [
        "y_train"
      ],
      "metadata": {
        "colab": {
          "base_uri": "https://localhost:8080/"
        },
        "id": "afx_Q6Tv7q3v",
        "outputId": "4089a8f0-fbee-406c-91eb-ad37192a46f5"
      },
      "execution_count": 25,
      "outputs": [
        {
          "output_type": "execute_result",
          "data": {
            "text/plain": [
              "7      0\n",
              "81     0\n",
              "12     0\n",
              "112    1\n",
              "99     1\n",
              "      ..\n",
              "6      0\n",
              "13     0\n",
              "67     1\n",
              "8      1\n",
              "70     1\n",
              "Name: class, Length: 91, dtype: int64"
            ]
          },
          "metadata": {},
          "execution_count": 25
        }
      ]
    },
    {
      "cell_type": "markdown",
      "source": [
        "!!! Выделяем правильные ответы (преобразуем в формат one hot encoding)"
      ],
      "metadata": {
        "id": "NA4gH4vJSmm2"
      }
    },
    {
      "cell_type": "code",
      "source": [
        "y_train = utils.to_categorical(y_train, nb_classes)"
      ],
      "metadata": {
        "id": "MY7SEKHhSq4y"
      },
      "execution_count": 26,
      "outputs": []
    },
    {
      "cell_type": "code",
      "source": [
        "y_train"
      ],
      "metadata": {
        "colab": {
          "base_uri": "https://localhost:8080/"
        },
        "id": "zpaX39chTKbB",
        "outputId": "29a16711-7ccd-4353-d5eb-47b57c03f87d"
      },
      "execution_count": 27,
      "outputs": [
        {
          "output_type": "execute_result",
          "data": {
            "text/plain": [
              "array([[1., 0.],\n",
              "       [1., 0.],\n",
              "       [1., 0.],\n",
              "       [0., 1.],\n",
              "       [0., 1.],\n",
              "       [0., 1.],\n",
              "       [1., 0.],\n",
              "       [0., 1.],\n",
              "       [0., 1.],\n",
              "       [1., 0.],\n",
              "       [0., 1.],\n",
              "       [0., 1.],\n",
              "       [0., 1.],\n",
              "       [1., 0.],\n",
              "       [0., 1.],\n",
              "       [0., 1.],\n",
              "       [0., 1.],\n",
              "       [0., 1.],\n",
              "       [1., 0.],\n",
              "       [1., 0.],\n",
              "       [1., 0.],\n",
              "       [0., 1.],\n",
              "       [0., 1.],\n",
              "       [1., 0.],\n",
              "       [0., 1.],\n",
              "       [1., 0.],\n",
              "       [0., 1.],\n",
              "       [0., 1.],\n",
              "       [1., 0.],\n",
              "       [1., 0.],\n",
              "       [1., 0.],\n",
              "       [1., 0.],\n",
              "       [1., 0.],\n",
              "       [0., 1.],\n",
              "       [0., 1.],\n",
              "       [0., 1.],\n",
              "       [0., 1.],\n",
              "       [0., 1.],\n",
              "       [0., 1.],\n",
              "       [0., 1.],\n",
              "       [1., 0.],\n",
              "       [0., 1.],\n",
              "       [1., 0.],\n",
              "       [1., 0.],\n",
              "       [0., 1.],\n",
              "       [0., 1.],\n",
              "       [1., 0.],\n",
              "       [0., 1.],\n",
              "       [0., 1.],\n",
              "       [1., 0.],\n",
              "       [1., 0.],\n",
              "       [0., 1.],\n",
              "       [1., 0.],\n",
              "       [0., 1.],\n",
              "       [0., 1.],\n",
              "       [0., 1.],\n",
              "       [0., 1.],\n",
              "       [0., 1.],\n",
              "       [0., 1.],\n",
              "       [1., 0.],\n",
              "       [0., 1.],\n",
              "       [0., 1.],\n",
              "       [0., 1.],\n",
              "       [1., 0.],\n",
              "       [1., 0.],\n",
              "       [0., 1.],\n",
              "       [1., 0.],\n",
              "       [1., 0.],\n",
              "       [1., 0.],\n",
              "       [0., 1.],\n",
              "       [1., 0.],\n",
              "       [0., 1.],\n",
              "       [0., 1.],\n",
              "       [0., 1.],\n",
              "       [0., 1.],\n",
              "       [1., 0.],\n",
              "       [1., 0.],\n",
              "       [1., 0.],\n",
              "       [0., 1.],\n",
              "       [0., 1.],\n",
              "       [0., 1.],\n",
              "       [1., 0.],\n",
              "       [1., 0.],\n",
              "       [1., 0.],\n",
              "       [0., 1.],\n",
              "       [1., 0.],\n",
              "       [1., 0.],\n",
              "       [1., 0.],\n",
              "       [0., 1.],\n",
              "       [0., 1.],\n",
              "       [0., 1.]], dtype=float32)"
            ]
          },
          "metadata": {},
          "execution_count": 27
        }
      ]
    },
    {
      "cell_type": "markdown",
      "source": [
        "Данные для тестирования"
      ],
      "metadata": {
        "id": "dSPYLdTc7ydY"
      }
    },
    {
      "cell_type": "code",
      "source": [
        "x_test = test['Sequences']\n",
        "y_test = test['class']"
      ],
      "metadata": {
        "id": "aMkKROaJ70Zi"
      },
      "execution_count": 28,
      "outputs": []
    },
    {
      "cell_type": "code",
      "source": [
        "x_test"
      ],
      "metadata": {
        "colab": {
          "base_uri": "https://localhost:8080/"
        },
        "id": "6b6rbxhT778m",
        "outputId": "c5825d2c-58e7-46b0-dab8-900312c992fa"
      },
      "execution_count": 29,
      "outputs": [
        {
          "output_type": "execute_result",
          "data": {
            "text/plain": [
              "106    [1300, 2191, 4802, 1994, 830, 2319, 61, 469, 4...\n",
              "28     [89, 1676, 1257, 1770, 1180, 100, 471, 225, 12...\n",
              "43     [105, 553, 552, 1820, 1293, 441, 555, 852, 384...\n",
              "80     [67, 260, 776, 121, 133, 777, 32, 34, 207, 197...\n",
              "95     [3975, 165, 3976, 2142, 437, 176, 126, 796, 23...\n",
              "11     [17, 12, 398, 184, 2575, 1655, 42, 19, 5, 273,...\n",
              "32     [277, 21, 886, 692, 953, 336, 413, 4, 739, 55,...\n",
              "104    [95, 416, 15, 962, 234, 22, 691, 4676, 731, 14...\n",
              "35     [91, 458, 743, 743, 78, 1280, 1794, 2895, 959,...\n",
              "66     [65, 20, 343, 76, 155, 19, 1351, 510, 253, 157...\n",
              "23     [915, 347, 4, 276, 1227, 916, 2708, 2709, 347,...\n",
              "55     [1840, 74, 3010, 1198, 1841, 1285, 73, 3, 3011...\n",
              "93     [109, 17, 12, 398, 184, 75, 3919, 3920, 1470, ...\n",
              "53     [1317, 1167, 459, 458, 460, 316, 58, 10, 696, ...\n",
              "79     [45, 159, 684, 7, 559, 324, 8, 105, 553, 552, ...\n",
              "47     [1825, 402, 473, 12, 74, 439, 25, 591, 19, 297...\n",
              "107    [61, 469, 430, 2, 35, 30, 25, 6, 942, 239, 482...\n",
              "20     [18, 225, 140, 45, 1207, 1631, 5, 97, 1208, 34...\n",
              "74     [1949, 1381, 3232, 3233, 1351, 1950, 383, 126,...\n",
              "84     [178, 634, 85, 58, 25, 6, 770, 10, 179, 17, 50...\n",
              "78     [110, 105, 195, 840, 665, 123, 436, 1969, 94, ...\n",
              "57     [1324, 74, 188, 1856, 344, 96, 1325, 3043, 70,...\n",
              "87     [2038, 28, 342, 1417, 52, 3, 2039, 786, 382, 2...\n",
              "Name: Sequences, dtype: object"
            ]
          },
          "metadata": {},
          "execution_count": 29
        }
      ]
    },
    {
      "cell_type": "markdown",
      "source": [
        "Ограничиваем длину новостных сообщений"
      ],
      "metadata": {
        "id": "vUDhTEwxg040"
      }
    },
    {
      "cell_type": "code",
      "source": [
        "x_test = pad_sequences(x_test, maxlen=max_news_len)"
      ],
      "metadata": {
        "id": "z4g1Wo08g2jQ"
      },
      "execution_count": 30,
      "outputs": []
    },
    {
      "cell_type": "code",
      "source": [
        "x_test"
      ],
      "metadata": {
        "colab": {
          "base_uri": "https://localhost:8080/"
        },
        "id": "hlx7ZhNVg9VA",
        "outputId": "63ef755e-3e1c-4c02-975c-568a99618f84"
      },
      "execution_count": 31,
      "outputs": [
        {
          "output_type": "execute_result",
          "data": {
            "text/plain": [
              "array([[   0,    0,    0, ..., 1886, 1074,  825],\n",
              "       [   0,    0,    0, ..., 1183,  580, 2860],\n",
              "       [   0,    0,    0, ...,  274, 2945, 2946],\n",
              "       ...,\n",
              "       [   0,    0,    0, ...,  192,  317, 1558],\n",
              "       [   0,    0,    0, ..., 3048,  981,  200],\n",
              "       [   0,    0,    0, ..., 3494,  181,  132]], dtype=int32)"
            ]
          },
          "metadata": {},
          "execution_count": 31
        }
      ]
    },
    {
      "cell_type": "code",
      "source": [
        "y_test"
      ],
      "metadata": {
        "colab": {
          "base_uri": "https://localhost:8080/"
        },
        "id": "X4CdHnbg8GRS",
        "outputId": "a78f7d49-3eff-4ed4-999c-e5c3cdd60b4c"
      },
      "execution_count": 32,
      "outputs": [
        {
          "output_type": "execute_result",
          "data": {
            "text/plain": [
              "106    0\n",
              "28     1\n",
              "43     0\n",
              "80     0\n",
              "95     0\n",
              "11     1\n",
              "32     1\n",
              "104    0\n",
              "35     0\n",
              "66     1\n",
              "23     0\n",
              "55     1\n",
              "93     1\n",
              "53     0\n",
              "79     0\n",
              "47     1\n",
              "107    0\n",
              "20     1\n",
              "74     0\n",
              "84     1\n",
              "78     0\n",
              "57     1\n",
              "87     1\n",
              "Name: class, dtype: int64"
            ]
          },
          "metadata": {},
          "execution_count": 32
        }
      ]
    },
    {
      "cell_type": "markdown",
      "source": [
        "Выделяем правильные ответы (преобразуем в формат one hot encoding)"
      ],
      "metadata": {
        "id": "uxWdfNJrhUIT"
      }
    },
    {
      "cell_type": "code",
      "source": [
        "y_test = utils.to_categorical(y_test, nb_classes)"
      ],
      "metadata": {
        "id": "EC-R_aL7hWca"
      },
      "execution_count": 33,
      "outputs": []
    },
    {
      "cell_type": "code",
      "source": [
        "y_test"
      ],
      "metadata": {
        "colab": {
          "base_uri": "https://localhost:8080/"
        },
        "id": "0p3i6BBshity",
        "outputId": "5eae79b3-8038-4ff9-d622-530bc682ce3a"
      },
      "execution_count": 34,
      "outputs": [
        {
          "output_type": "execute_result",
          "data": {
            "text/plain": [
              "array([[1., 0.],\n",
              "       [0., 1.],\n",
              "       [1., 0.],\n",
              "       [1., 0.],\n",
              "       [1., 0.],\n",
              "       [0., 1.],\n",
              "       [0., 1.],\n",
              "       [1., 0.],\n",
              "       [1., 0.],\n",
              "       [0., 1.],\n",
              "       [1., 0.],\n",
              "       [0., 1.],\n",
              "       [0., 1.],\n",
              "       [1., 0.],\n",
              "       [1., 0.],\n",
              "       [0., 1.],\n",
              "       [1., 0.],\n",
              "       [0., 1.],\n",
              "       [1., 0.],\n",
              "       [0., 1.],\n",
              "       [1., 0.],\n",
              "       [0., 1.],\n",
              "       [0., 1.]], dtype=float32)"
            ]
          },
          "metadata": {},
          "execution_count": 34
        }
      ]
    },
    {
      "cell_type": "markdown",
      "metadata": {
        "id": "VFUTMuKL8SNY"
      },
      "source": [
        "## Создаем нейронную сеть с долгой краткосрочной памятью - LSTM"
      ]
    },
    {
      "cell_type": "code",
      "metadata": {
        "id": "s_ZqIgqS8SNa"
      },
      "source": [
        "model_lstm = Sequential()\n",
        "# 1-й слой - Embedding - создает плотные векторные представления слов, длина вектора - 128\n",
        "model_lstm.add(Embedding(num_words, 128, input_length=max_news_len))\n",
        "# 2-й и 3-й слои - LSTM - в пих по 64 и 32 ячейки\n",
        "model_lstm.add(LSTM(64, return_sequences=True))\n",
        "model_lstm.add(LSTM(32))\n",
        "# 4-й слой - Выходной полносвязный слой, 2 нейрона (по количеству классов)\n",
        "model_lstm.add(Dense(2, activation='sigmoid'))"
      ],
      "execution_count": 35,
      "outputs": []
    },
    {
      "cell_type": "markdown",
      "source": [
        "создаем последовательную модель (определяем оптимизатор, функцию ошибки)"
      ],
      "metadata": {
        "id": "wk8ub7o6PWP3"
      }
    },
    {
      "cell_type": "code",
      "source": [
        "model_lstm.compile(optimizer='adam', \n",
        "              loss='binary_crossentropy', \n",
        "              metrics=['accuracy'])"
      ],
      "metadata": {
        "id": "KeDlT1XcJvNP"
      },
      "execution_count": 36,
      "outputs": []
    },
    {
      "cell_type": "markdown",
      "source": [
        "Выводим информацию о сети"
      ],
      "metadata": {
        "id": "EI2KXJnHmahV"
      }
    },
    {
      "cell_type": "code",
      "metadata": {
        "outputId": "efea9584-124f-4a1f-90d9-a8518da43a79",
        "id": "KNc2OK3j8SNe",
        "colab": {
          "base_uri": "https://localhost:8080/"
        }
      },
      "source": [
        "model_lstm.summary()"
      ],
      "execution_count": 37,
      "outputs": [
        {
          "output_type": "stream",
          "name": "stdout",
          "text": [
            "Model: \"sequential\"\n",
            "_________________________________________________________________\n",
            " Layer (type)                Output Shape              Param #   \n",
            "=================================================================\n",
            " embedding (Embedding)       (None, 300, 128)          1280000   \n",
            "                                                                 \n",
            " lstm (LSTM)                 (None, 300, 64)           49408     \n",
            "                                                                 \n",
            " lstm_1 (LSTM)               (None, 32)                12416     \n",
            "                                                                 \n",
            " dense (Dense)               (None, 2)                 66        \n",
            "                                                                 \n",
            "=================================================================\n",
            "Total params: 1,341,890\n",
            "Trainable params: 1,341,890\n",
            "Non-trainable params: 0\n",
            "_________________________________________________________________\n"
          ]
        }
      ]
    },
    {
      "cell_type": "markdown",
      "metadata": {
        "id": "KzJtvcIa8SNh"
      },
      "source": [
        "Создаем callback для сохранения нейронной сети на каждой эпохе, если качество работы на проверочном наборе данных улучшилось. Сеть сохраняется в файл `best_model.h5`"
      ]
    },
    {
      "cell_type": "code",
      "metadata": {
        "id": "qCu0Xlyj8SNi"
      },
      "source": [
        "model_lstm_save_path = '/content/best_model_lstm.h5'\n",
        "checkpoint_callback_lstm = ModelCheckpoint(model_lstm_save_path, \n",
        "                                      monitor='val_accuracy',\n",
        "                                      save_best_only=True,\n",
        "                                      verbose=1)"
      ],
      "execution_count": 38,
      "outputs": []
    },
    {
      "cell_type": "markdown",
      "source": [
        "Обучаем нейронную сеть"
      ],
      "metadata": {
        "id": "nvFpK0HMQG6Q"
      }
    },
    {
      "cell_type": "code",
      "metadata": {
        "outputId": "258abaae-d98f-46ec-c4a4-2b923ba2fd45",
        "id": "znNeO0lO8SNk",
        "colab": {
          "base_uri": "https://localhost:8080/"
        }
      },
      "source": [
        "history_lstm = model_lstm.fit(x_train,\n",
        "                              y_train, \n",
        "                              epochs=5,\n",
        "                              batch_size=32,\n",
        "                              validation_split=0.5,\n",
        "                              callbacks=[checkpoint_callback_lstm])"
      ],
      "execution_count": 42,
      "outputs": [
        {
          "output_type": "stream",
          "name": "stdout",
          "text": [
            "Epoch 1/5\n",
            "1/2 [==============>...............] - ETA: 0s - loss: 0.2133 - accuracy: 1.0000\n",
            "Epoch 1: val_accuracy did not improve from 0.67391\n",
            "2/2 [==============================] - 0s 111ms/step - loss: 0.2125 - accuracy: 1.0000 - val_loss: 0.7267 - val_accuracy: 0.5870\n",
            "Epoch 2/5\n",
            "1/2 [==============>...............] - ETA: 0s - loss: 0.1890 - accuracy: 1.0000\n",
            "Epoch 2: val_accuracy did not improve from 0.67391\n",
            "2/2 [==============================] - 0s 72ms/step - loss: 0.1894 - accuracy: 1.0000 - val_loss: 0.8077 - val_accuracy: 0.4783\n",
            "Epoch 3/5\n",
            "1/2 [==============>...............] - ETA: 0s - loss: 0.1618 - accuracy: 1.0000\n",
            "Epoch 3: val_accuracy did not improve from 0.67391\n",
            "2/2 [==============================] - 0s 71ms/step - loss: 0.1704 - accuracy: 1.0000 - val_loss: 0.8380 - val_accuracy: 0.5000\n",
            "Epoch 4/5\n",
            "1/2 [==============>...............] - ETA: 0s - loss: 0.1388 - accuracy: 1.0000\n",
            "Epoch 4: val_accuracy did not improve from 0.67391\n",
            "2/2 [==============================] - 0s 65ms/step - loss: 0.1547 - accuracy: 1.0000 - val_loss: 0.8658 - val_accuracy: 0.5000\n",
            "Epoch 5/5\n",
            "1/2 [==============>...............] - ETA: 0s - loss: 0.1201 - accuracy: 1.0000\n",
            "Epoch 5: val_accuracy did not improve from 0.67391\n",
            "2/2 [==============================] - 0s 108ms/step - loss: 0.1438 - accuracy: 1.0000 - val_loss: 0.8343 - val_accuracy: 0.5435\n"
          ]
        }
      ]
    },
    {
      "cell_type": "code",
      "metadata": {
        "outputId": "ee422ad1-6cd8-4c90-be90-4c8cad4fdae1",
        "id": "iFTVTtcM8SNm",
        "colab": {
          "base_uri": "https://localhost:8080/",
          "height": 279
        }
      },
      "source": [
        "plt.plot(history_lstm.history['accuracy'], \n",
        "         label='Доля верных ответов на обучающем наборе')\n",
        "plt.plot(history_lstm.history['val_accuracy'], \n",
        "         label='Доля верных ответов на проверочном наборе')\n",
        "plt.xlabel('Эпоха обучения')\n",
        "plt.ylabel('Доля верных ответов')\n",
        "plt.legend()\n",
        "plt.show()"
      ],
      "execution_count": 43,
      "outputs": [
        {
          "output_type": "display_data",
          "data": {
            "text/plain": [
              "<Figure size 432x288 with 1 Axes>"
            ],
            "image/png": "[encoded data removed]"
          },
          "metadata": {
            "needs_background": "light"
          }
        }
      ]
    },
    {
      "cell_type": "markdown",
      "source": [
        "## Cеть GRU"
      ],
      "metadata": {
        "id": "0dIWbNEWYMhm"
      }
    },
    {
      "cell_type": "code",
      "source": [
        "model_gru = Sequential()\n",
        "model_gru.add(Embedding(num_words, 32, input_length=max_news_len))\n",
        "model_gru.add(GRU(64, return_sequences=True))\n",
        "model_gru.add(GRU(32))\n",
        "model_gru.add(Dense(2, activation='sigmoid'))"
      ],
      "metadata": {
        "id": "RX3X1WlpYREC"
      },
      "execution_count": 57,
      "outputs": []
    },
    {
      "cell_type": "code",
      "source": [
        "model_gru.compile(optimizer='adam', \n",
        "              loss='binary_crossentropy', \n",
        "              metrics=['accuracy'])"
      ],
      "metadata": {
        "id": "61Ds1D4QY8at"
      },
      "execution_count": 59,
      "outputs": []
    },
    {
      "cell_type": "code",
      "source": [
        "model_gru.summary()"
      ],
      "metadata": {
        "colab": {
          "base_uri": "https://localhost:8080/"
        },
        "id": "v6g59hC8ZFlL",
        "outputId": "20a29194-1b89-4ba3-bce9-8fe9ab910b89"
      },
      "execution_count": 60,
      "outputs": [
        {
          "output_type": "stream",
          "name": "stdout",
          "text": [
            "Model: \"sequential_2\"\n",
            "_________________________________________________________________\n",
            " Layer (type)                Output Shape              Param #   \n",
            "=================================================================\n",
            " embedding_2 (Embedding)     (None, 300, 32)           320000    \n",
            "                                                                 \n",
            " gru (GRU)                   (None, 300, 64)           18816     \n",
            "                                                                 \n",
            " gru_1 (GRU)                 (None, 32)                9408      \n",
            "                                                                 \n",
            " dense_1 (Dense)             (None, 2)                 66        \n",
            "                                                                 \n",
            "=================================================================\n",
            "Total params: 348,290\n",
            "Trainable params: 348,290\n",
            "Non-trainable params: 0\n",
            "_________________________________________________________________\n"
          ]
        }
      ]
    },
    {
      "cell_type": "markdown",
      "source": [
        "Создаем callback для сохранения нейронной сети на каждой эпохе, если качество работы на проверочном наборе данных улучшилось. Сеть сохраняется в файл best_model_gru.h5"
      ],
      "metadata": {
        "id": "mZI-NYrPZLnV"
      }
    },
    {
      "cell_type": "code",
      "source": [
        "model_gru_save_path = 'best_model_gru.h5'\n",
        "checkpoint_callback_gru = ModelCheckpoint(model_gru_save_path, \n",
        "                                      monitor='val_accuracy',\n",
        "                                      save_best_only=True,\n",
        "                                      verbose=1)"
      ],
      "metadata": {
        "id": "aa7rE3MbZPdt"
      },
      "execution_count": 61,
      "outputs": []
    },
    {
      "cell_type": "code",
      "source": [
        "history_gru = model_gru.fit(x_train, \n",
        "                              y_train, \n",
        "                              epochs=5,\n",
        "                              batch_size=32,\n",
        "                              validation_split=0.5,\n",
        "                              callbacks=[checkpoint_callback_gru])"
      ],
      "metadata": {
        "colab": {
          "base_uri": "https://localhost:8080/"
        },
        "id": "DPTcGZNBZST8",
        "outputId": "8afcf87e-f9e8-41e4-d5ee-66c17e8dffb1"
      },
      "execution_count": 65,
      "outputs": [
        {
          "output_type": "stream",
          "name": "stdout",
          "text": [
            "Epoch 1/5\n",
            "1/2 [==============>...............] - ETA: 0s - loss: 0.0358 - accuracy: 1.0000\n",
            "Epoch 1: val_accuracy did not improve from 0.60870\n",
            "2/2 [==============================] - 0s 104ms/step - loss: 0.0323 - accuracy: 1.0000 - val_loss: 0.9404 - val_accuracy: 0.5435\n",
            "Epoch 2/5\n",
            "1/2 [==============>...............] - ETA: 0s - loss: 0.0149 - accuracy: 1.0000\n",
            "Epoch 2: val_accuracy did not improve from 0.60870\n",
            "2/2 [==============================] - 0s 72ms/step - loss: 0.0133 - accuracy: 1.0000 - val_loss: 1.3138 - val_accuracy: 0.5217\n",
            "Epoch 3/5\n",
            "1/2 [==============>...............] - ETA: 0s - loss: 0.0123 - accuracy: 1.0000\n",
            "Epoch 3: val_accuracy did not improve from 0.60870\n",
            "2/2 [==============================] - 0s 73ms/step - loss: 0.0124 - accuracy: 1.0000 - val_loss: 1.5906 - val_accuracy: 0.5217\n",
            "Epoch 4/5\n",
            "1/2 [==============>...............] - ETA: 0s - loss: 0.0101 - accuracy: 1.0000\n",
            "Epoch 4: val_accuracy did not improve from 0.60870\n",
            "2/2 [==============================] - 0s 59ms/step - loss: 0.0099 - accuracy: 1.0000 - val_loss: 1.6280 - val_accuracy: 0.5217\n",
            "Epoch 5/5\n",
            "1/2 [==============>...............] - ETA: 0s - loss: 0.0057 - accuracy: 1.0000\n",
            "Epoch 5: val_accuracy did not improve from 0.60870\n",
            "2/2 [==============================] - 0s 58ms/step - loss: 0.0051 - accuracy: 1.0000 - val_loss: 1.4007 - val_accuracy: 0.5652\n"
          ]
        }
      ]
    },
    {
      "cell_type": "code",
      "source": [
        "plt.plot(history_gru.history['accuracy'], \n",
        "         label='Доля верных ответов на обучающем наборе')\n",
        "plt.plot(history_gru.history['val_accuracy'], \n",
        "         label='Доля верных ответов на проверочном наборе')\n",
        "plt.xlabel('Эпоха обучения')\n",
        "plt.ylabel('Доля верных ответов')\n",
        "plt.legend()\n",
        "plt.show()"
      ],
      "metadata": {
        "colab": {
          "base_uri": "https://localhost:8080/",
          "height": 279
        },
        "id": "Vz90mp3yZdU8",
        "outputId": "4bed7fdb-b5c7-477c-b40f-b8b9ac95d2f9"
      },
      "execution_count": 66,
      "outputs": [
        {
          "output_type": "display_data",
          "data": {
            "text/plain": [
              "<Figure size 432x288 with 1 Axes>"
            ],
            "image/png": "[encoded data removed]"
          },
          "metadata": {
            "needs_background": "light"
          }
        }
      ]
    },
    {
      "cell_type": "markdown",
      "source": [
        "## Сверточная нейронная сеть (CNN)"
      ],
      "metadata": {
        "id": "FuAeNtaZZpC8"
      }
    },
    {
      "cell_type": "code",
      "source": [
        "model_cnn = Sequential()\n",
        "model_cnn.add(Embedding(num_words, 32, input_length=max_news_len))\n",
        "model_cnn.add(Conv1D(250, 5, padding='valid', activation='relu'))\n",
        "model_cnn.add(GlobalMaxPooling1D())\n",
        "model_cnn.add(Dense(128, activation='relu'))\n",
        "model_cnn.add(Dense(2, activation='sigmoid'))"
      ],
      "metadata": {
        "id": "IkOF3AVMZs1T"
      },
      "execution_count": 67,
      "outputs": []
    },
    {
      "cell_type": "code",
      "source": [
        "model_cnn.compile(optimizer='adam', \n",
        "              loss='binary_crossentropy', \n",
        "              metrics=['accuracy'])"
      ],
      "metadata": {
        "id": "8owXyPSSaWYD"
      },
      "execution_count": 69,
      "outputs": []
    },
    {
      "cell_type": "code",
      "source": [
        "model_cnn.summary()"
      ],
      "metadata": {
        "colab": {
          "base_uri": "https://localhost:8080/"
        },
        "id": "zzaGIICWahyT",
        "outputId": "978b0fda-99df-4776-bf24-63b2f74f5ca3"
      },
      "execution_count": 70,
      "outputs": [
        {
          "output_type": "stream",
          "name": "stdout",
          "text": [
            "Model: \"sequential_3\"\n",
            "_________________________________________________________________\n",
            " Layer (type)                Output Shape              Param #   \n",
            "=================================================================\n",
            " embedding_3 (Embedding)     (None, 300, 32)           320000    \n",
            "                                                                 \n",
            " conv1d (Conv1D)             (None, 296, 250)          40250     \n",
            "                                                                 \n",
            " global_max_pooling1d (Globa  (None, 250)              0         \n",
            " lMaxPooling1D)                                                  \n",
            "                                                                 \n",
            " dense_2 (Dense)             (None, 128)               32128     \n",
            "                                                                 \n",
            " dense_3 (Dense)             (None, 2)                 258       \n",
            "                                                                 \n",
            "=================================================================\n",
            "Total params: 392,636\n",
            "Trainable params: 392,636\n",
            "Non-trainable params: 0\n",
            "_________________________________________________________________\n"
          ]
        }
      ]
    },
    {
      "cell_type": "markdown",
      "source": [
        "Создаем callback для сохранения нейронной сети на каждой эпохе, если качество работы на проверочном наборе данных улучшилось. Сеть сохраняется в файл best_model.h5"
      ],
      "metadata": {
        "id": "LSDGHJnPancR"
      }
    },
    {
      "cell_type": "code",
      "source": [
        "model_cnn_save_path = 'best_model_cnn.h5'\n",
        "checkpoint_callback_cnn = ModelCheckpoint(model_cnn_save_path, \n",
        "                                      monitor='val_accuracy',\n",
        "                                      save_best_only=True,\n",
        "                                      verbose=1)"
      ],
      "metadata": {
        "id": "wtlj2z9napM8"
      },
      "execution_count": 71,
      "outputs": []
    },
    {
      "cell_type": "code",
      "source": [
        "history_cnn = model_cnn.fit(x_train, \n",
        "                            y_train, \n",
        "                            epochs=5,\n",
        "                            batch_size=32,\n",
        "                            validation_split=0.5,\n",
        "                            callbacks=[checkpoint_callback_cnn])"
      ],
      "metadata": {
        "colab": {
          "base_uri": "https://localhost:8080/"
        },
        "id": "FnmYQUFravfL",
        "outputId": "d6476217-290c-4fee-a5d1-5aaf4ea4524d"
      },
      "execution_count": 76,
      "outputs": [
        {
          "output_type": "stream",
          "name": "stdout",
          "text": [
            "Epoch 1/5\n",
            "1/2 [==============>...............] - ETA: 0s - loss: 0.1468 - accuracy: 1.0000\n",
            "Epoch 1: val_accuracy did not improve from 0.60870\n",
            "2/2 [==============================] - 0s 53ms/step - loss: 0.1352 - accuracy: 1.0000 - val_loss: 0.6245 - val_accuracy: 0.6087\n",
            "Epoch 2/5\n",
            "1/2 [==============>...............] - ETA: 0s - loss: 0.1051 - accuracy: 1.0000\n",
            "Epoch 2: val_accuracy did not improve from 0.60870\n",
            "2/2 [==============================] - 0s 30ms/step - loss: 0.1065 - accuracy: 1.0000 - val_loss: 0.6240 - val_accuracy: 0.6087\n",
            "Epoch 3/5\n",
            "1/2 [==============>...............] - ETA: 0s - loss: 0.0965 - accuracy: 1.0000\n",
            "Epoch 3: val_accuracy improved from 0.60870 to 0.63043, saving model to best_model_cnn.h5\n",
            "2/2 [==============================] - 0s 60ms/step - loss: 0.0838 - accuracy: 1.0000 - val_loss: 0.6235 - val_accuracy: 0.6304\n",
            "Epoch 4/5\n",
            "1/2 [==============>...............] - ETA: 0s - loss: 0.0642 - accuracy: 1.0000\n",
            "Epoch 4: val_accuracy did not improve from 0.63043\n",
            "2/2 [==============================] - 0s 28ms/step - loss: 0.0635 - accuracy: 1.0000 - val_loss: 0.6239 - val_accuracy: 0.6087\n",
            "Epoch 5/5\n",
            "1/2 [==============>...............] - ETA: 0s - loss: 0.0516 - accuracy: 1.0000\n",
            "Epoch 5: val_accuracy did not improve from 0.63043\n",
            "2/2 [==============================] - 0s 31ms/step - loss: 0.0482 - accuracy: 1.0000 - val_loss: 0.6228 - val_accuracy: 0.6087\n"
          ]
        }
      ]
    },
    {
      "cell_type": "code",
      "source": [
        "plt.plot(history_cnn.history['accuracy'], \n",
        "         label='Доля верных ответов на обучающем наборе')\n",
        "plt.plot(history_cnn.history['val_accuracy'], \n",
        "         label='Доля верных ответов на проверочном наборе')\n",
        "plt.xlabel('Эпоха обучения')\n",
        "plt.ylabel('Доля верных ответов')\n",
        "plt.legend()\n",
        "plt.show()"
      ],
      "metadata": {
        "colab": {
          "base_uri": "https://localhost:8080/",
          "height": 279
        },
        "id": "bosgjv47a-R8",
        "outputId": "f5f0b11b-5611-48a7-dea0-8192e268a657"
      },
      "execution_count": 78,
      "outputs": [
        {
          "output_type": "display_data",
          "data": {
            "text/plain": [
              "<Figure size 432x288 with 1 Axes>"
            ],
            "image/png": "[encoded data removed]"
          },
          "metadata": {
            "needs_background": "light"
          }
        }
      ]
    },
    {
      "cell_type": "markdown",
      "metadata": {
        "id": "3DJbzO3ucewV"
      },
      "source": [
        "## Оцениваем качество работы сети на тестовом наборе данных"
      ]
    },
    {
      "cell_type": "markdown",
      "metadata": {
        "id": "YHs8Q5vqAlqC"
      },
      "source": [
        "### Сеть LSTM"
      ]
    },
    {
      "cell_type": "markdown",
      "source": [
        "Загружаем модель с лучшей долей правильных ответов на проверочном наборе данных"
      ],
      "metadata": {
        "id": "qjtJAuNgIubZ"
      }
    },
    {
      "cell_type": "code",
      "metadata": {
        "id": "OEzSL_M-ApHx"
      },
      "source": [
        "model_lstm.load_weights(model_lstm_save_path)"
      ],
      "execution_count": 44,
      "outputs": []
    },
    {
      "cell_type": "markdown",
      "source": [
        "Оцениваем качество работы сети на наборе данных для тестирования"
      ],
      "metadata": {
        "id": "v05_mmLPZGvi"
      }
    },
    {
      "cell_type": "code",
      "metadata": {
        "outputId": "971467b7-e444-4b67-e200-be8066673728",
        "id": "fcGg4jA9AqN4",
        "colab": {
          "base_uri": "https://localhost:8080/"
        }
      },
      "source": [
        "scores = model_lstm.evaluate(x_test, y_test, verbose=1)"
      ],
      "execution_count": 45,
      "outputs": [
        {
          "output_type": "stream",
          "name": "stdout",
          "text": [
            "1/1 [==============================] - 0s 28ms/step - loss: 0.6367 - accuracy: 0.6957\n"
          ]
        }
      ]
    },
    {
      "cell_type": "code",
      "source": [
        "print(\"Доля верных ответов на тестовых данных, в процентах:\", round(scores[1] * 100, 4))"
      ],
      "metadata": {
        "colab": {
          "base_uri": "https://localhost:8080/"
        },
        "id": "SAr1eIZ5y6Lh",
        "outputId": "725fb5d2-4917-48ae-b02b-66152cee806d"
      },
      "execution_count": 46,
      "outputs": [
        {
          "output_type": "stream",
          "name": "stdout",
          "text": [
            "Доля верных ответов на тестовых данных, в процентах: 69.5652\n"
          ]
        }
      ]
    },
    {
      "cell_type": "markdown",
      "source": [
        "### Сеть GRU"
      ],
      "metadata": {
        "id": "O6dLG-WodD2F"
      }
    },
    {
      "cell_type": "code",
      "source": [
        "model_gru.load_weights(model_gru_save_path)"
      ],
      "metadata": {
        "id": "ssimzTeodHPD"
      },
      "execution_count": 79,
      "outputs": []
    },
    {
      "cell_type": "code",
      "source": [
        "scores = model_gru.evaluate(x_test, y_test, verbose=1)"
      ],
      "metadata": {
        "colab": {
          "base_uri": "https://localhost:8080/"
        },
        "id": "qZJFBrVtdLNj",
        "outputId": "473a3aab-8d0f-4f64-de75-44a5f10125d7"
      },
      "execution_count": 81,
      "outputs": [
        {
          "output_type": "stream",
          "name": "stdout",
          "text": [
            "1/1 [==============================] - 0s 31ms/step - loss: 0.5613 - accuracy: 0.6522\n"
          ]
        }
      ]
    },
    {
      "cell_type": "code",
      "source": [
        "print(\"Доля верных ответов на тестовых данных, в процентах:\", round(scores[1] * 100, 4))"
      ],
      "metadata": {
        "colab": {
          "base_uri": "https://localhost:8080/"
        },
        "id": "oxOyTvJ9dTlT",
        "outputId": "d8bf0ce5-1ce6-4964-c31b-e5117275fe82"
      },
      "execution_count": 82,
      "outputs": [
        {
          "output_type": "stream",
          "name": "stdout",
          "text": [
            "Доля верных ответов на тестовых данных, в процентах: 65.2174\n"
          ]
        }
      ]
    },
    {
      "cell_type": "markdown",
      "source": [
        "### Одномерная сверточная сеть (CNN)"
      ],
      "metadata": {
        "id": "UWFsaiftdXji"
      }
    },
    {
      "cell_type": "code",
      "source": [
        "model_cnn.load_weights(model_cnn_save_path)"
      ],
      "metadata": {
        "id": "AkxOKA3Sdi9i"
      },
      "execution_count": 83,
      "outputs": []
    },
    {
      "cell_type": "code",
      "source": [
        "scores = model_cnn.evaluate(x_test, y_test, verbose=1)"
      ],
      "metadata": {
        "colab": {
          "base_uri": "https://localhost:8080/"
        },
        "id": "TwvNg2x4do_L",
        "outputId": "51ae4bc8-ba46-4540-844e-e5f098786e0b"
      },
      "execution_count": 84,
      "outputs": [
        {
          "output_type": "stream",
          "name": "stdout",
          "text": [
            "1/1 [==============================] - 0s 35ms/step - loss: 0.5392 - accuracy: 0.6522\n"
          ]
        }
      ]
    },
    {
      "cell_type": "code",
      "source": [
        "print(\"Доля верных ответов на тестовых данных, в процентах:\", round(scores[1] * 100, 4))"
      ],
      "metadata": {
        "colab": {
          "base_uri": "https://localhost:8080/"
        },
        "id": "Iu2qDmbwdtx7",
        "outputId": "3a6478c8-198d-436c-dc80-a2921815faa5"
      },
      "execution_count": 85,
      "outputs": [
        {
          "output_type": "stream",
          "name": "stdout",
          "text": [
            "Доля верных ответов на тестовых данных, в процентах: 65.2174\n"
          ]
        }
      ]
    },
    {
      "cell_type": "markdown",
      "source": [
        "**Оцениваем качество работы сети на новых данных**"
      ],
      "metadata": {
        "id": "RLxNrlP3ZUZS"
      }
    },
    {
      "cell_type": "code",
      "source": [
        "text = ''' Удар украинских войск по больнице в Новоайдаре в Луганской Народной Республике является нарушением Устава ООН, заявил РИА Новости генеральный координатор сирийского центра помощи жертвам насилия и терроризма Тамер Яги. Украинские войска 28 января нанесли удар по больнице в Новоайдаре (ЛНР) из американских реактивных систем залпового огня HIMARS. Погибли 14 человек, еще 24 получили ранения, сообщило Минобороны РФ. В ведомстве отметили, что удар по гражданскому объекту является военным преступлением.'''"
      ],
      "metadata": {
        "id": "ptX6zshIZcQ_"
      },
      "execution_count": 47,
      "outputs": []
    },
    {
      "cell_type": "markdown",
      "source": [
        "Преобразуем новости в числовое представление"
      ],
      "metadata": {
        "id": "NNntQZauhKnp"
      }
    },
    {
      "cell_type": "code",
      "source": [
        "text1 = preprocess(text, stop_words, punctuation_marks, morph)"
      ],
      "metadata": {
        "id": "-69XQGk9k1CS"
      },
      "execution_count": 48,
      "outputs": []
    },
    {
      "cell_type": "code",
      "source": [
        "text1"
      ],
      "metadata": {
        "colab": {
          "base_uri": "https://localhost:8080/"
        },
        "id": "Ac0lh97bmF8-",
        "outputId": "bb438282-2ecf-436e-abe8-3b8321843216"
      },
      "execution_count": 49,
      "outputs": [
        {
          "output_type": "execute_result",
          "data": {
            "text/plain": [
              "['удар',\n",
              " 'украинский',\n",
              " 'войско',\n",
              " 'больница',\n",
              " 'новоайдар',\n",
              " 'луганский',\n",
              " 'народный',\n",
              " 'республика',\n",
              " 'являться',\n",
              " 'нарушение',\n",
              " 'устав',\n",
              " 'оон',\n",
              " 'заявить',\n",
              " 'риа',\n",
              " 'новость',\n",
              " 'генеральный',\n",
              " 'координатор',\n",
              " 'сирийский',\n",
              " 'центр',\n",
              " 'помощь',\n",
              " 'жертва',\n",
              " 'насилие',\n",
              " 'терроризм',\n",
              " 'тамер',\n",
              " 'яга',\n",
              " 'украинский',\n",
              " 'войско',\n",
              " '28',\n",
              " 'январь',\n",
              " 'нанести',\n",
              " 'удар',\n",
              " 'больница',\n",
              " 'новоайдар',\n",
              " 'лнр',\n",
              " 'американский',\n",
              " 'реактивный',\n",
              " 'система',\n",
              " 'залповый',\n",
              " 'огонь',\n",
              " 'himars',\n",
              " 'погибнуть',\n",
              " '14',\n",
              " 'человек',\n",
              " 'ещё',\n",
              " '24',\n",
              " 'получить',\n",
              " 'ранение',\n",
              " 'сообщить',\n",
              " 'минобороны',\n",
              " 'рф',\n",
              " 'ведомство',\n",
              " 'отметить',\n",
              " 'удар',\n",
              " 'гражданский',\n",
              " 'объект',\n",
              " 'являться',\n",
              " 'военный',\n",
              " 'преступление']"
            ]
          },
          "metadata": {},
          "execution_count": 49
        }
      ]
    },
    {
      "cell_type": "code",
      "source": [
        "sequence = text_to_sequence(text1, word_to_index)"
      ],
      "metadata": {
        "id": "f3r3Zh9TmP-u"
      },
      "execution_count": 50,
      "outputs": []
    },
    {
      "cell_type": "code",
      "source": [
        "sequence"
      ],
      "metadata": {
        "colab": {
          "base_uri": "https://localhost:8080/"
        },
        "id": "tRqddzgsmb6z",
        "outputId": "0d03ce52-5771-4352-f3f3-7d748c08fa6e"
      },
      "execution_count": 51,
      "outputs": [
        {
          "output_type": "execute_result",
          "data": {
            "text/plain": [
              "[253,\n",
              " 34,\n",
              " 207,\n",
              " 530,\n",
              " 232,\n",
              " 96,\n",
              " 444,\n",
              " 132,\n",
              " 10,\n",
              " 35,\n",
              " 30,\n",
              " 918,\n",
              " 3017,\n",
              " 177,\n",
              " 51,\n",
              " 982,\n",
              " 3146,\n",
              " 34,\n",
              " 207,\n",
              " 4388,\n",
              " 947,\n",
              " 510,\n",
              " 253,\n",
              " 530,\n",
              " 4425,\n",
              " 42,\n",
              " 4232,\n",
              " 71,\n",
              " 4233,\n",
              " 856,\n",
              " 2916,\n",
              " 260,\n",
              " 759,\n",
              " 37,\n",
              " 172,\n",
              " 736,\n",
              " 78,\n",
              " 1299,\n",
              " 16,\n",
              " 1198,\n",
              " 38,\n",
              " 95,\n",
              " 57,\n",
              " 253,\n",
              " 799,\n",
              " 217,\n",
              " 96,\n",
              " 19,\n",
              " 1264]"
            ]
          },
          "metadata": {},
          "execution_count": 51
        }
      ]
    },
    {
      "cell_type": "code",
      "source": [
        "print(text)\n",
        "print(sequence)"
      ],
      "metadata": {
        "colab": {
          "base_uri": "https://localhost:8080/"
        },
        "id": "bBA_6RQ4q-rD",
        "outputId": "e762c587-55b6-4c2c-b8e5-119eab60acb5"
      },
      "execution_count": 52,
      "outputs": [
        {
          "output_type": "stream",
          "name": "stdout",
          "text": [
            " Удар украинских войск по больнице в Новоайдаре в Луганской Народной Республике является нарушением Устава ООН, заявил РИА Новости генеральный координатор сирийского центра помощи жертвам насилия и терроризма Тамер Яги. Украинские войска 28 января нанесли удар по больнице в Новоайдаре (ЛНР) из американских реактивных систем залпового огня HIMARS. Погибли 14 человек, еще 24 получили ранения, сообщило Минобороны РФ. В ведомстве отметили, что удар по гражданскому объекту является военным преступлением.\n",
            "[253, 34, 207, 530, 232, 96, 444, 132, 10, 35, 30, 918, 3017, 177, 51, 982, 3146, 34, 207, 4388, 947, 510, 253, 530, 4425, 42, 4232, 71, 4233, 856, 2916, 260, 759, 37, 172, 736, 78, 1299, 16, 1198, 38, 95, 57, 253, 799, 217, 96, 19, 1264]\n"
          ]
        }
      ]
    },
    {
      "cell_type": "code",
      "source": [
        "text2 = pad_sequences(sequence, maxlen=max_news_len)"
      ],
      "metadata": {
        "colab": {
          "base_uri": "https://localhost:8080/",
          "height": 432
        },
        "id": "XryqAQyLpk5k",
        "outputId": "4a7a2aa6-7039-4b91-bc4e-96e4233ca67d"
      },
      "execution_count": 53,
      "outputs": [
        {
          "output_type": "error",
          "ename": "ValueError",
          "evalue": "ignored",
          "traceback": [
            "\u001b[0;31m---------------------------------------------------------------------------\u001b[0m",
            "\u001b[0;31mTypeError\u001b[0m                                 Traceback (most recent call last)",
            "\u001b[0;32m/usr/local/lib/python3.8/dist-packages/keras/utils/data_utils.py\u001b[0m in \u001b[0;36mpad_sequences\u001b[0;34m(sequences, maxlen, dtype, padding, truncating, value)\u001b[0m\n\u001b[1;32m   1009\u001b[0m     \u001b[0;32mtry\u001b[0m\u001b[0;34m:\u001b[0m\u001b[0;34m\u001b[0m\u001b[0;34m\u001b[0m\u001b[0m\n\u001b[0;32m-> 1010\u001b[0;31m       \u001b[0mlengths\u001b[0m\u001b[0;34m.\u001b[0m\u001b[0mappend\u001b[0m\u001b[0;34m(\u001b[0m\u001b[0mlen\u001b[0m\u001b[0;34m(\u001b[0m\u001b[0mx\u001b[0m\u001b[0;34m)\u001b[0m\u001b[0;34m)\u001b[0m\u001b[0;34m\u001b[0m\u001b[0;34m\u001b[0m\u001b[0m\n\u001b[0m\u001b[1;32m   1011\u001b[0m       \u001b[0;32mif\u001b[0m \u001b[0mflag\u001b[0m \u001b[0;32mand\u001b[0m \u001b[0mlen\u001b[0m\u001b[0;34m(\u001b[0m\u001b[0mx\u001b[0m\u001b[0;34m)\u001b[0m\u001b[0;34m:\u001b[0m\u001b[0;34m\u001b[0m\u001b[0;34m\u001b[0m\u001b[0m\n",
            "\u001b[0;31mTypeError\u001b[0m: object of type 'int' has no len()",
            "\nThe above exception was the direct cause of the following exception:\n",
            "\u001b[0;31mValueError\u001b[0m                                Traceback (most recent call last)",
            "\u001b[0;32m<ipython-input-53-69c8bf384d2f>\u001b[0m in \u001b[0;36m<module>\u001b[0;34m\u001b[0m\n\u001b[0;32m----> 1\u001b[0;31m \u001b[0mtext2\u001b[0m \u001b[0;34m=\u001b[0m \u001b[0mpad_sequences\u001b[0m\u001b[0;34m(\u001b[0m\u001b[0msequence\u001b[0m\u001b[0;34m,\u001b[0m \u001b[0mmaxlen\u001b[0m\u001b[0;34m=\u001b[0m\u001b[0mmax_news_len\u001b[0m\u001b[0;34m)\u001b[0m\u001b[0;34m\u001b[0m\u001b[0;34m\u001b[0m\u001b[0m\n\u001b[0m",
            "\u001b[0;32m/usr/local/lib/python3.8/dist-packages/keras/utils/data_utils.py\u001b[0m in \u001b[0;36mpad_sequences\u001b[0;34m(sequences, maxlen, dtype, padding, truncating, value)\u001b[0m\n\u001b[1;32m   1013\u001b[0m         \u001b[0mflag\u001b[0m \u001b[0;34m=\u001b[0m \u001b[0;32mFalse\u001b[0m\u001b[0;34m\u001b[0m\u001b[0;34m\u001b[0m\u001b[0m\n\u001b[1;32m   1014\u001b[0m     \u001b[0;32mexcept\u001b[0m \u001b[0mTypeError\u001b[0m \u001b[0;32mas\u001b[0m \u001b[0me\u001b[0m\u001b[0;34m:\u001b[0m\u001b[0;34m\u001b[0m\u001b[0;34m\u001b[0m\u001b[0m\n\u001b[0;32m-> 1015\u001b[0;31m       raise ValueError('`sequences` must be a list of iterables. '\n\u001b[0m\u001b[1;32m   1016\u001b[0m                        f'Found non-iterable: {str(x)}') from e\n\u001b[1;32m   1017\u001b[0m \u001b[0;34m\u001b[0m\u001b[0m\n",
            "\u001b[0;31mValueError\u001b[0m: `sequences` must be a list of iterables. Found non-iterable: 253"
          ]
        }
      ]
    },
    {
      "cell_type": "code",
      "source": [
        "text2"
      ],
      "metadata": {
        "id": "z2p4jaFNIzEK",
        "colab": {
          "base_uri": "https://localhost:8080/",
          "height": 165
        },
        "outputId": "201fdaff-c988-44a5-927e-ae0d9a55ed1a"
      },
      "execution_count": 54,
      "outputs": [
        {
          "output_type": "error",
          "ename": "NameError",
          "evalue": "ignored",
          "traceback": [
            "\u001b[0;31m---------------------------------------------------------------------------\u001b[0m",
            "\u001b[0;31mNameError\u001b[0m                                 Traceback (most recent call last)",
            "\u001b[0;32m<ipython-input-54-184c256e763d>\u001b[0m in \u001b[0;36m<module>\u001b[0;34m\u001b[0m\n\u001b[0;32m----> 1\u001b[0;31m \u001b[0mtext2\u001b[0m\u001b[0;34m\u001b[0m\u001b[0;34m\u001b[0m\u001b[0m\n\u001b[0m",
            "\u001b[0;31mNameError\u001b[0m: name 'text2' is not defined"
          ]
        }
      ]
    },
    {
      "cell_type": "markdown",
      "source": [
        "Загружаем модель в память"
      ],
      "metadata": {
        "id": "zJzFqpUNfouY"
      }
    },
    {
      "cell_type": "code",
      "source": [
        "model = load_model('best_model_lstm.h5')"
      ],
      "metadata": {
        "id": "VehI_Xy_foOC"
      },
      "execution_count": null,
      "outputs": []
    },
    {
      "cell_type": "markdown",
      "source": [
        "Запускаем распознавание (применяем сеть для определения класса новости)"
      ],
      "metadata": {
        "id": "fPrcaxWbgqJN"
      }
    },
    {
      "cell_type": "code",
      "source": [
        "prediction = model.predict(text2)"
      ],
      "metadata": {
        "colab": {
          "base_uri": "https://localhost:8080/",
          "height": 770
        },
        "id": "OSkl8M1PgriR",
        "outputId": "9e345dbb-63a6-453a-b18f-e5f9e6c20656"
      },
      "execution_count": null,
      "outputs": [
        {
          "output_type": "stream",
          "name": "stderr",
          "text": [
            "WARNING:tensorflow:Model was constructed with shape (None, 300) for input KerasTensor(type_spec=TensorSpec(shape=(None, 300), dtype=tf.float32, name='embedding_11_input'), name='embedding_11_input', description=\"created by layer 'embedding_11_input'\"), but it was called on an input with incompatible shape (None,).\n"
          ]
        },
        {
          "output_type": "error",
          "ename": "ValueError",
          "evalue": "ignored",
          "traceback": [
            "\u001b[0;31m---------------------------------------------------------------------------\u001b[0m",
            "\u001b[0;31mValueError\u001b[0m                                Traceback (most recent call last)",
            "\u001b[0;32m<ipython-input-323-935ca78057a4>\u001b[0m in \u001b[0;36m<module>\u001b[0;34m\u001b[0m\n\u001b[0;32m----> 1\u001b[0;31m \u001b[0mprediction\u001b[0m \u001b[0;34m=\u001b[0m \u001b[0mmodel\u001b[0m\u001b[0;34m.\u001b[0m\u001b[0mpredict\u001b[0m\u001b[0;34m(\u001b[0m\u001b[0mtext2\u001b[0m\u001b[0;34m)\u001b[0m\u001b[0;34m\u001b[0m\u001b[0;34m\u001b[0m\u001b[0m\n\u001b[0m",
            "\u001b[0;32m/usr/local/lib/python3.8/dist-packages/keras/utils/traceback_utils.py\u001b[0m in \u001b[0;36merror_handler\u001b[0;34m(*args, **kwargs)\u001b[0m\n\u001b[1;32m     65\u001b[0m     \u001b[0;32mexcept\u001b[0m \u001b[0mException\u001b[0m \u001b[0;32mas\u001b[0m \u001b[0me\u001b[0m\u001b[0;34m:\u001b[0m  \u001b[0;31m# pylint: disable=broad-except\u001b[0m\u001b[0;34m\u001b[0m\u001b[0;34m\u001b[0m\u001b[0m\n\u001b[1;32m     66\u001b[0m       \u001b[0mfiltered_tb\u001b[0m \u001b[0;34m=\u001b[0m \u001b[0m_process_traceback_frames\u001b[0m\u001b[0;34m(\u001b[0m\u001b[0me\u001b[0m\u001b[0;34m.\u001b[0m\u001b[0m__traceback__\u001b[0m\u001b[0;34m)\u001b[0m\u001b[0;34m\u001b[0m\u001b[0;34m\u001b[0m\u001b[0m\n\u001b[0;32m---> 67\u001b[0;31m       \u001b[0;32mraise\u001b[0m \u001b[0me\u001b[0m\u001b[0;34m.\u001b[0m\u001b[0mwith_traceback\u001b[0m\u001b[0;34m(\u001b[0m\u001b[0mfiltered_tb\u001b[0m\u001b[0;34m)\u001b[0m \u001b[0;32mfrom\u001b[0m \u001b[0;32mNone\u001b[0m\u001b[0;34m\u001b[0m\u001b[0;34m\u001b[0m\u001b[0m\n\u001b[0m\u001b[1;32m     68\u001b[0m     \u001b[0;32mfinally\u001b[0m\u001b[0;34m:\u001b[0m\u001b[0;34m\u001b[0m\u001b[0;34m\u001b[0m\u001b[0m\n\u001b[1;32m     69\u001b[0m       \u001b[0;32mdel\u001b[0m \u001b[0mfiltered_tb\u001b[0m\u001b[0;34m\u001b[0m\u001b[0;34m\u001b[0m\u001b[0m\n",
            "\u001b[0;32m/usr/local/lib/python3.8/dist-packages/keras/engine/training.py\u001b[0m in \u001b[0;36mtf__predict_function\u001b[0;34m(iterator)\u001b[0m\n\u001b[1;32m     13\u001b[0m                 \u001b[0;32mtry\u001b[0m\u001b[0;34m:\u001b[0m\u001b[0;34m\u001b[0m\u001b[0;34m\u001b[0m\u001b[0m\n\u001b[1;32m     14\u001b[0m                     \u001b[0mdo_return\u001b[0m \u001b[0;34m=\u001b[0m \u001b[0;32mTrue\u001b[0m\u001b[0;34m\u001b[0m\u001b[0;34m\u001b[0m\u001b[0m\n\u001b[0;32m---> 15\u001b[0;31m                     \u001b[0mretval_\u001b[0m \u001b[0;34m=\u001b[0m \u001b[0mag__\u001b[0m\u001b[0;34m.\u001b[0m\u001b[0mconverted_call\u001b[0m\u001b[0;34m(\u001b[0m\u001b[0mag__\u001b[0m\u001b[0;34m.\u001b[0m\u001b[0mld\u001b[0m\u001b[0;34m(\u001b[0m\u001b[0mstep_function\u001b[0m\u001b[0;34m)\u001b[0m\u001b[0;34m,\u001b[0m \u001b[0;34m(\u001b[0m\u001b[0mag__\u001b[0m\u001b[0;34m.\u001b[0m\u001b[0mld\u001b[0m\u001b[0;34m(\u001b[0m\u001b[0mself\u001b[0m\u001b[0;34m)\u001b[0m\u001b[0;34m,\u001b[0m \u001b[0mag__\u001b[0m\u001b[0;34m.\u001b[0m\u001b[0mld\u001b[0m\u001b[0;34m(\u001b[0m\u001b[0miterator\u001b[0m\u001b[0;34m)\u001b[0m\u001b[0;34m)\u001b[0m\u001b[0;34m,\u001b[0m \u001b[0;32mNone\u001b[0m\u001b[0;34m,\u001b[0m \u001b[0mfscope\u001b[0m\u001b[0;34m)\u001b[0m\u001b[0;34m\u001b[0m\u001b[0;34m\u001b[0m\u001b[0m\n\u001b[0m\u001b[1;32m     16\u001b[0m                 \u001b[0;32mexcept\u001b[0m\u001b[0;34m:\u001b[0m\u001b[0;34m\u001b[0m\u001b[0;34m\u001b[0m\u001b[0m\n\u001b[1;32m     17\u001b[0m                     \u001b[0mdo_return\u001b[0m \u001b[0;34m=\u001b[0m \u001b[0;32mFalse\u001b[0m\u001b[0;34m\u001b[0m\u001b[0;34m\u001b[0m\u001b[0m\n",
            "\u001b[0;31mValueError\u001b[0m: in user code:\n\n    File \"/usr/local/lib/python3.8/dist-packages/keras/engine/training.py\", line 1845, in predict_function  *\n        return step_function(self, iterator)\n    File \"/usr/local/lib/python3.8/dist-packages/keras/engine/training.py\", line 1834, in step_function  **\n        outputs = model.distribute_strategy.run(run_step, args=(data,))\n    File \"/usr/local/lib/python3.8/dist-packages/keras/engine/training.py\", line 1823, in run_step  **\n        outputs = model.predict_step(data)\n    File \"/usr/local/lib/python3.8/dist-packages/keras/engine/training.py\", line 1791, in predict_step\n        return self(x, training=False)\n    File \"/usr/local/lib/python3.8/dist-packages/keras/utils/traceback_utils.py\", line 67, in error_handler\n        raise e.with_traceback(filtered_tb) from None\n    File \"/usr/local/lib/python3.8/dist-packages/keras/engine/input_spec.py\", line 214, in assert_input_compatibility\n        raise ValueError(f'Input {input_index} of layer \"{layer_name}\" '\n\n    ValueError: Exception encountered when calling layer \"sequential_11\" (type Sequential).\n    \n    Input 0 of layer \"lstm_21\" is incompatible with the layer: expected ndim=3, found ndim=2. Full shape received: (None, 128)\n    \n    Call arguments received by layer \"sequential_11\" (type Sequential):\n      • inputs=tf.Tensor(shape=(None,), dtype=int64)\n      • training=False\n      • mask=None\n"
          ]
        }
      ]
    },
    {
      "cell_type": "markdown",
      "source": [
        "Результаты распознавания"
      ],
      "metadata": {
        "id": "dTKbUbLkgz2v"
      }
    },
    {
      "cell_type": "code",
      "source": [
        "prediction"
      ],
      "metadata": {
        "colab": {
          "base_uri": "https://localhost:8080/",
          "height": 172
        },
        "id": "dzCsyUmXg1OZ",
        "outputId": "3bed2360-6e96-49b8-99a2-d2aa8228c708"
      },
      "execution_count": null,
      "outputs": [
        {
          "output_type": "error",
          "ename": "NameError",
          "evalue": "ignored",
          "traceback": [
            "\u001b[0;31m---------------------------------------------------------------------------\u001b[0m",
            "\u001b[0;31mNameError\u001b[0m                                 Traceback (most recent call last)",
            "\u001b[0;32m<ipython-input-292-c3d8c93f720f>\u001b[0m in \u001b[0;36m<module>\u001b[0;34m\u001b[0m\n\u001b[0;32m----> 1\u001b[0;31m \u001b[0mprediction\u001b[0m\u001b[0;34m\u001b[0m\u001b[0;34m\u001b[0m\u001b[0m\n\u001b[0m",
            "\u001b[0;31mNameError\u001b[0m: name 'prediction' is not defined"
          ]
        }
      ]
    },
    {
      "cell_type": "code",
      "source": [
        "prediction = np.argmax(prediction)"
      ],
      "metadata": {
        "id": "A6kv0gmOkDk7",
        "colab": {
          "base_uri": "https://localhost:8080/",
          "height": 172
        },
        "outputId": "a73539fe-c29f-494b-a6fb-7194dd53aec7"
      },
      "execution_count": null,
      "outputs": [
        {
          "output_type": "error",
          "ename": "NameError",
          "evalue": "ignored",
          "traceback": [
            "\u001b[0;31m---------------------------------------------------------------------------\u001b[0m",
            "\u001b[0;31mNameError\u001b[0m                                 Traceback (most recent call last)",
            "\u001b[0;32m<ipython-input-293-9b6f785396fb>\u001b[0m in \u001b[0;36m<module>\u001b[0;34m\u001b[0m\n\u001b[0;32m----> 1\u001b[0;31m \u001b[0mprediction\u001b[0m \u001b[0;34m=\u001b[0m \u001b[0mnp\u001b[0m\u001b[0;34m.\u001b[0m\u001b[0margmax\u001b[0m\u001b[0;34m(\u001b[0m\u001b[0mprediction\u001b[0m\u001b[0;34m)\u001b[0m\u001b[0;34m\u001b[0m\u001b[0;34m\u001b[0m\u001b[0m\n\u001b[0m",
            "\u001b[0;31mNameError\u001b[0m: name 'prediction' is not defined"
          ]
        }
      ]
    },
    {
      "cell_type": "code",
      "source": [
        "if prediction < 0.5:\n",
        "    print('Не имеет международного значения')\n",
        "else:\n",
        "    print('Международная новость')"
      ],
      "metadata": {
        "colab": {
          "base_uri": "https://localhost:8080/",
          "height": 227
        },
        "id": "H1oDVJNGtfhR",
        "outputId": "3c8a7c92-021f-444b-cd6e-59e44876f7d1"
      },
      "execution_count": null,
      "outputs": [
        {
          "output_type": "error",
          "ename": "NameError",
          "evalue": "ignored",
          "traceback": [
            "\u001b[0;31m---------------------------------------------------------------------------\u001b[0m",
            "\u001b[0;31mNameError\u001b[0m                                 Traceback (most recent call last)",
            "\u001b[0;32m<ipython-input-294-b22a0523bf33>\u001b[0m in \u001b[0;36m<module>\u001b[0;34m\u001b[0m\n\u001b[0;32m----> 1\u001b[0;31m \u001b[0;32mif\u001b[0m \u001b[0mprediction\u001b[0m \u001b[0;34m<\u001b[0m \u001b[0;36m0.5\u001b[0m\u001b[0;34m:\u001b[0m\u001b[0;34m\u001b[0m\u001b[0;34m\u001b[0m\u001b[0m\n\u001b[0m\u001b[1;32m      2\u001b[0m     \u001b[0mprint\u001b[0m\u001b[0;34m(\u001b[0m\u001b[0;34m'Не имеет международного значения'\u001b[0m\u001b[0;34m)\u001b[0m\u001b[0;34m\u001b[0m\u001b[0;34m\u001b[0m\u001b[0m\n\u001b[1;32m      3\u001b[0m \u001b[0;32melse\u001b[0m\u001b[0;34m:\u001b[0m\u001b[0;34m\u001b[0m\u001b[0;34m\u001b[0m\u001b[0m\n\u001b[1;32m      4\u001b[0m     \u001b[0mprint\u001b[0m\u001b[0;34m(\u001b[0m\u001b[0;34m'Международная новость'\u001b[0m\u001b[0;34m)\u001b[0m\u001b[0;34m\u001b[0m\u001b[0;34m\u001b[0m\u001b[0m\n",
            "\u001b[0;31mNameError\u001b[0m: name 'prediction' is not defined"
          ]
        }
      ]
    }
  ]
}