{
  "nbformat": 4,
  "nbformat_minor": 0,
  "metadata": {
    "colab": {
      "provenance": [],
      "include_colab_link": true
    },
    "kernelspec": {
      "name": "python3",
      "display_name": "Python 3"
    },
    "accelerator": "GPU"
  },
  "cells": [
    {
      "cell_type": "markdown",
      "metadata": {
        "id": "view-in-github",
        "colab_type": "text"
      },
      "source": [
        "<a href=\"https://colab.research.google.com/github/olyavydrina/-/blob/main/%D0%92%D0%9A%D0%A0_%D1%80%D1%83%D1%81%D1%81%D0%BA%D0%B8%D0%B9_%D1%8F%D0%B7%D1%8B%D0%BA_NLTK.ipynb\" target=\"_parent\"><img src=\"https://colab.research.google.com/assets/colab-badge.svg\" alt=\"Open In Colab\"/></a>"
      ]
    },
    {
      "cell_type": "markdown",
      "source": [
        "# Подключаем необходимые библиотеки"
      ],
      "metadata": {
        "id": "OZcZF8v5yMu_"
      }
    },
    {
      "cell_type": "code",
      "metadata": {
        "id": "fN251ib04idq",
        "colab": {
          "base_uri": "https://localhost:8080/"
        },
        "outputId": "a9e789d2-9a0a-493a-a019-16ffb9c11bfa"
      },
      "source": [
        "%tensorflow_version 2.x\n",
        "from tensorflow.keras.models import load_model\n",
        "from tensorflow.keras.models import Sequential\n",
        "from tensorflow.keras.layers import Dense, Embedding, Dropout, LSTM\n",
        "from tensorflow.keras import utils\n",
        "from tensorflow.keras.preprocessing.sequence import pad_sequences\n",
        "from tensorflow.keras.preprocessing.text import Tokenizer\n",
        "from tensorflow.keras.callbacks import ModelCheckpoint\n",
        "from tensorflow.keras import utils\n",
        "import pandas as pd\n",
        "import numpy as np\n",
        "import matplotlib.pyplot as plt\n",
        "%matplotlib inline "
      ],
      "execution_count": 123,
      "outputs": [
        {
          "output_type": "stream",
          "name": "stdout",
          "text": [
            "Colab only includes TensorFlow 2.x; %tensorflow_version has no effect.\n"
          ]
        }
      ]
    },
    {
      "cell_type": "code",
      "source": [
        "!pip install pymorphy2[fast] \n",
        "import pymorphy2\n",
        "import nltk\n",
        "from nltk.tokenize import word_tokenize\n",
        "from nltk.corpus import stopwords\n",
        "from collections import Counter\n",
        "from sklearn.model_selection import train_test_split"
      ],
      "metadata": {
        "colab": {
          "base_uri": "https://localhost:8080/"
        },
        "id": "E97LKetbxS-Q",
        "outputId": "d12fcd36-f165-4138-8fcc-0f6d506775cc"
      },
      "execution_count": 124,
      "outputs": [
        {
          "output_type": "stream",
          "name": "stdout",
          "text": [
            "Looking in indexes: https://pypi.org/simple, https://us-python.pkg.dev/colab-wheels/public/simple/\n",
            "Requirement already satisfied: pymorphy2[fast] in /usr/local/lib/python3.8/dist-packages (0.9.1)\n",
            "Requirement already satisfied: pymorphy2-dicts-ru<3.0,>=2.4 in /usr/local/lib/python3.8/dist-packages (from pymorphy2[fast]) (2.4.417127.4579844)\n",
            "Requirement already satisfied: docopt>=0.6 in /usr/local/lib/python3.8/dist-packages (from pymorphy2[fast]) (0.6.2)\n",
            "Requirement already satisfied: dawg-python>=0.7.1 in /usr/local/lib/python3.8/dist-packages (from pymorphy2[fast]) (0.7.2)\n",
            "Requirement already satisfied: DAWG>=0.8 in /usr/local/lib/python3.8/dist-packages (from pymorphy2[fast]) (0.8.0)\n"
          ]
        }
      ]
    },
    {
      "cell_type": "code",
      "metadata": {
        "id": "KVUY1PF0L_mF"
      },
      "source": [
        "# Максимальное количество слов \n",
        "num_words = 10000\n",
        "# Максимальная длина новости\n",
        "max_news_len = 300\n",
        "# Количество классов новостей\n",
        "nb_classes = 2"
      ],
      "execution_count": 125,
      "outputs": []
    },
    {
      "cell_type": "code",
      "source": [
        "random_state = 42"
      ],
      "metadata": {
        "id": "mpxjbLWu0HRv"
      },
      "execution_count": 126,
      "outputs": []
    },
    {
      "cell_type": "code",
      "source": [
        "nltk.download('punkt')\n",
        "nltk.download('stopwords')"
      ],
      "metadata": {
        "colab": {
          "base_uri": "https://localhost:8080/"
        },
        "id": "M6swb4vO0Cue",
        "outputId": "9986b4ca-1d44-4006-9570-6081fd165874"
      },
      "execution_count": 127,
      "outputs": [
        {
          "output_type": "stream",
          "name": "stderr",
          "text": [
            "[nltk_data] Downloading package punkt to /root/nltk_data...\n",
            "[nltk_data]   Package punkt is already up-to-date!\n",
            "[nltk_data] Downloading package stopwords to /root/nltk_data...\n",
            "[nltk_data]   Package stopwords is already up-to-date!\n"
          ]
        },
        {
          "output_type": "execute_result",
          "data": {
            "text/plain": [
              "True"
            ]
          },
          "metadata": {},
          "execution_count": 127
        }
      ]
    },
    {
      "cell_type": "markdown",
      "metadata": {
        "id": "S6itvI2G5H1k"
      },
      "source": [
        "## Загржаем и готовим набор данных"
      ]
    },
    {
      "cell_type": "code",
      "source": [
        "#!wget https://github.com/olyavydrina/-/blob/main/train2.xlsx?dl=1 -O train2.xlsx"
      ],
      "metadata": {
        "id": "VzDyKl0R_Scn"
      },
      "execution_count": 128,
      "outputs": []
    },
    {
      "cell_type": "code",
      "source": [
        "#news = pd.read_excel('train2.xlsx')"
      ],
      "metadata": {
        "id": "uePvsSsL_n15"
      },
      "execution_count": 129,
      "outputs": []
    },
    {
      "cell_type": "code",
      "source": [
        "news = pd.read_excel('/content/train2.xlsx')\n",
        "news.head()"
      ],
      "metadata": {
        "colab": {
          "base_uri": "https://localhost:8080/",
          "height": 206
        },
        "id": "KkfS3NiREfbL",
        "outputId": "20eb9875-1db6-47c2-cdef-ec1917708598"
      },
      "execution_count": 130,
      "outputs": [
        {
          "output_type": "execute_result",
          "data": {
            "text/plain": [
              "   class                                              title  \\\n",
              "0      0           Плотник ослеп и впал в кому из-за занозы   \n",
              "1      1                Зеленский оценил помощь США Украине   \n",
              "2      0  Сбившего двух пешеходов и скрывшегося с места ...   \n",
              "3      0  Саакашвили ограничили в курении электронных си...   \n",
              "4      0  Россиянка упала под прибывающий поезд в метро ...   \n",
              "\n",
              "                                                text  \\\n",
              "0  30-летний житель английского города Сент-Остел...   \n",
              "1  Президент Украины Владимир Зеленский признал, ...   \n",
              "2  Полицейские задержали водителя иномарки, сбивш...   \n",
              "3  Лечащие врачи бывшего президента Грузии Михаил...   \n",
              "4  Пассажирка упала на пути под прибывающий поезд...   \n",
              "\n",
              "                                              link language  \n",
              "0       https://lenta.ru/news/2022/12/12/splinter/      rus  \n",
              "1            https://lenta.ru/news/2022/12/12/usa/      rus  \n",
              "2  https://lenta.ru/news/2022/12/12/sbil_i_uyehal/      rus  \n",
              "3     https://lenta.ru/news/2022/12/12/sigaretyfu/      rus  \n",
              "4          https://lenta.ru/news/2022/12/12/metro/      rus  "
            ],
            "text/html": [
              "\n",
              "  <div id=\"df-c2ed4cae-3a30-4616-9632-1690d6172e4e\">\n",
              "    <div class=\"colab-df-container\">\n",
              "      <div>\n",
              "<style scoped>\n",
              "    .dataframe tbody tr th:only-of-type {\n",
              "        vertical-align: middle;\n",
              "    }\n",
              "\n",
              "    .dataframe tbody tr th {\n",
              "        vertical-align: top;\n",
              "    }\n",
              "\n",
              "    .dataframe thead th {\n",
              "        text-align: right;\n",
              "    }\n",
              "</style>\n",
              "<table border=\"1\" class=\"dataframe\">\n",
              "  <thead>\n",
              "    <tr style=\"text-align: right;\">\n",
              "      <th></th>\n",
              "      <th>class</th>\n",
              "      <th>title</th>\n",
              "      <th>text</th>\n",
              "      <th>link</th>\n",
              "      <th>language</th>\n",
              "    </tr>\n",
              "  </thead>\n",
              "  <tbody>\n",
              "    <tr>\n",
              "      <th>0</th>\n",
              "      <td>0</td>\n",
              "      <td>Плотник ослеп и впал в кому из-за занозы</td>\n",
              "      <td>30-летний житель английского города Сент-Остел...</td>\n",
              "      <td>https://lenta.ru/news/2022/12/12/splinter/</td>\n",
              "      <td>rus</td>\n",
              "    </tr>\n",
              "    <tr>\n",
              "      <th>1</th>\n",
              "      <td>1</td>\n",
              "      <td>Зеленский оценил помощь США Украине</td>\n",
              "      <td>Президент Украины Владимир Зеленский признал, ...</td>\n",
              "      <td>https://lenta.ru/news/2022/12/12/usa/</td>\n",
              "      <td>rus</td>\n",
              "    </tr>\n",
              "    <tr>\n",
              "      <th>2</th>\n",
              "      <td>0</td>\n",
              "      <td>Сбившего двух пешеходов и скрывшегося с места ...</td>\n",
              "      <td>Полицейские задержали водителя иномарки, сбивш...</td>\n",
              "      <td>https://lenta.ru/news/2022/12/12/sbil_i_uyehal/</td>\n",
              "      <td>rus</td>\n",
              "    </tr>\n",
              "    <tr>\n",
              "      <th>3</th>\n",
              "      <td>0</td>\n",
              "      <td>Саакашвили ограничили в курении электронных си...</td>\n",
              "      <td>Лечащие врачи бывшего президента Грузии Михаил...</td>\n",
              "      <td>https://lenta.ru/news/2022/12/12/sigaretyfu/</td>\n",
              "      <td>rus</td>\n",
              "    </tr>\n",
              "    <tr>\n",
              "      <th>4</th>\n",
              "      <td>0</td>\n",
              "      <td>Россиянка упала под прибывающий поезд в метро ...</td>\n",
              "      <td>Пассажирка упала на пути под прибывающий поезд...</td>\n",
              "      <td>https://lenta.ru/news/2022/12/12/metro/</td>\n",
              "      <td>rus</td>\n",
              "    </tr>\n",
              "  </tbody>\n",
              "</table>\n",
              "</div>\n",
              "      <button class=\"colab-df-convert\" onclick=\"convertToInteractive('df-c2ed4cae-3a30-4616-9632-1690d6172e4e')\"\n",
              "              title=\"Convert this dataframe to an interactive table.\"\n",
              "              style=\"display:none;\">\n",
              "        \n",
              "  <svg xmlns=\"http://www.w3.org/2000/svg\" height=\"24px\"viewBox=\"0 0 24 24\"\n",
              "       width=\"24px\">\n",
              "    <path d=\"M0 0h24v24H0V0z\" fill=\"none\"/>\n",
              "    <path d=\"M18.56 5.44l.94 2.06.94-2.06 2.06-.94-2.06-.94-.94-2.06-.94 2.06-2.06.94zm-11 1L8.5 8.5l.94-2.06 2.06-.94-2.06-.94L8.5 2.5l-.94 2.06-2.06.94zm10 10l.94 2.06.94-2.06 2.06-.94-2.06-.94-.94-2.06-.94 2.06-2.06.94z\"/><path d=\"M17.41 7.96l-1.37-1.37c-.4-.4-.92-.59-1.43-.59-.52 0-1.04.2-1.43.59L10.3 9.45l-7.72 7.72c-.78.78-.78 2.05 0 2.83L4 21.41c.39.39.9.59 1.41.59.51 0 1.02-.2 1.41-.59l7.78-7.78 2.81-2.81c.8-.78.8-2.07 0-2.86zM5.41 20L4 18.59l7.72-7.72 1.47 1.35L5.41 20z\"/>\n",
              "  </svg>\n",
              "      </button>\n",
              "      \n",
              "  <style>\n",
              "    .colab-df-container {\n",
              "      display:flex;\n",
              "      flex-wrap:wrap;\n",
              "      gap: 12px;\n",
              "    }\n",
              "\n",
              "    .colab-df-convert {\n",
              "      background-color: #E8F0FE;\n",
              "      border: none;\n",
              "      border-radius: 50%;\n",
              "      cursor: pointer;\n",
              "      display: none;\n",
              "      fill: #1967D2;\n",
              "      height: 32px;\n",
              "      padding: 0 0 0 0;\n",
              "      width: 32px;\n",
              "    }\n",
              "\n",
              "    .colab-df-convert:hover {\n",
              "      background-color: #E2EBFA;\n",
              "      box-shadow: 0px 1px 2px rgba(60, 64, 67, 0.3), 0px 1px 3px 1px rgba(60, 64, 67, 0.15);\n",
              "      fill: #174EA6;\n",
              "    }\n",
              "\n",
              "    [theme=dark] .colab-df-convert {\n",
              "      background-color: #3B4455;\n",
              "      fill: #D2E3FC;\n",
              "    }\n",
              "\n",
              "    [theme=dark] .colab-df-convert:hover {\n",
              "      background-color: #434B5C;\n",
              "      box-shadow: 0px 1px 3px 1px rgba(0, 0, 0, 0.15);\n",
              "      filter: drop-shadow(0px 1px 2px rgba(0, 0, 0, 0.3));\n",
              "      fill: #FFFFFF;\n",
              "    }\n",
              "  </style>\n",
              "\n",
              "      <script>\n",
              "        const buttonEl =\n",
              "          document.querySelector('#df-c2ed4cae-3a30-4616-9632-1690d6172e4e button.colab-df-convert');\n",
              "        buttonEl.style.display =\n",
              "          google.colab.kernel.accessAllowed ? 'block' : 'none';\n",
              "\n",
              "        async function convertToInteractive(key) {\n",
              "          const element = document.querySelector('#df-c2ed4cae-3a30-4616-9632-1690d6172e4e');\n",
              "          const dataTable =\n",
              "            await google.colab.kernel.invokeFunction('convertToInteractive',\n",
              "                                                     [key], {});\n",
              "          if (!dataTable) return;\n",
              "\n",
              "          const docLinkHtml = 'Like what you see? Visit the ' +\n",
              "            '<a target=\"_blank\" href=https://colab.research.google.com/notebooks/data_table.ipynb>data table notebook</a>'\n",
              "            + ' to learn more about interactive tables.';\n",
              "          element.innerHTML = '';\n",
              "          dataTable['output_type'] = 'display_data';\n",
              "          await google.colab.output.renderOutput(dataTable, element);\n",
              "          const docLink = document.createElement('div');\n",
              "          docLink.innerHTML = docLinkHtml;\n",
              "          element.appendChild(docLink);\n",
              "        }\n",
              "      </script>\n",
              "    </div>\n",
              "  </div>\n",
              "  "
            ]
          },
          "metadata": {},
          "execution_count": 130
        }
      ]
    },
    {
      "cell_type": "code",
      "source": [
        "def preprocess(text, stop_words, punctuation_marks, morph):\n",
        "    tokens = word_tokenize(text.lower())\n",
        "    preprocessed_text = []\n",
        "    for token in tokens:\n",
        "        if token not in punctuation_marks:\n",
        "            lemma = morph.parse(token)[0].normal_form\n",
        "            if lemma not in stop_words:\n",
        "                preprocessed_text.append(lemma)\n",
        "    return preprocessed_text"
      ],
      "metadata": {
        "id": "v36CDjzu25Kh"
      },
      "execution_count": 131,
      "outputs": []
    },
    {
      "cell_type": "code",
      "source": [
        "punctuation_marks = ['!', ',', '(', ')', ':', '-', '?', '.', '..', '...', '«', '»', ';', '–', '--']\n",
        "stop_words = stopwords.words(\"russian\")\n",
        "morph = pymorphy2.MorphAnalyzer()"
      ],
      "metadata": {
        "id": "HVabqnVb2-S2"
      },
      "execution_count": 132,
      "outputs": []
    },
    {
      "cell_type": "code",
      "source": [
        "news['Preprocessed_texts'] = news.apply(lambda row: preprocess(row['text'], punctuation_marks, stop_words, morph), axis=1)"
      ],
      "metadata": {
        "id": "ffNkKp7d3Bjx"
      },
      "execution_count": 133,
      "outputs": []
    },
    {
      "cell_type": "markdown",
      "source": [
        "Считаем частоту слов во всех новостях"
      ],
      "metadata": {
        "id": "rGClbafQ3PKc"
      }
    },
    {
      "cell_type": "code",
      "source": [
        "words = Counter()"
      ],
      "metadata": {
        "id": "l6mZndz23QYh"
      },
      "execution_count": 134,
      "outputs": []
    },
    {
      "cell_type": "code",
      "source": [
        "for txt in news['Preprocessed_texts']:\n",
        "    words.update(txt)"
      ],
      "metadata": {
        "id": "l2DJi6e_3kTx"
      },
      "execution_count": 135,
      "outputs": []
    },
    {
      "cell_type": "markdown",
      "source": [
        "Создаем словарь, упорядоченный по частоте\n",
        "\n",
        "В словаре будем использовать 2 специальных кода:\n",
        "\n",
        "Код заполнитель: 0\n",
        "Неизвестное слово: 1\n",
        "Нумерация слов в словаре начинается с 2."
      ],
      "metadata": {
        "id": "-taCkIFb3tMQ"
      }
    },
    {
      "cell_type": "code",
      "source": [
        "# Словарь, отображающий слова в коды\n",
        "word_to_index = dict()\n",
        "# Словарь, отображающий коды в слова\n",
        "index_to_word = dict()"
      ],
      "metadata": {
        "id": "mP-4O8g93wuu"
      },
      "execution_count": 136,
      "outputs": []
    },
    {
      "cell_type": "markdown",
      "source": [
        "Создаем словари"
      ],
      "metadata": {
        "id": "0enOJTt_30D_"
      }
    },
    {
      "cell_type": "code",
      "source": [
        "for i, word in enumerate(words.most_common(num_words - 2)):\n",
        "    word_to_index[word[0]] = i + 2\n",
        "    index_to_word[i + 2] = word[0]"
      ],
      "metadata": {
        "id": "Fc2BZh7v31ih"
      },
      "execution_count": 137,
      "outputs": []
    },
    {
      "cell_type": "markdown",
      "source": [
        "Функция для преобразования списка слов в список кодов"
      ],
      "metadata": {
        "id": "7Uc7eTZT4CVs"
      }
    },
    {
      "cell_type": "code",
      "source": [
        "def text_to_sequence(txt, word_to_index):\n",
        "    seq = []\n",
        "    for word in txt:\n",
        "        index = word_to_index.get(word, 1) # 1 означает неизвестное слово\n",
        "        # Неизвестные слова не добавляем в выходную последовательность\n",
        "        if index != 1:\n",
        "            seq.append(index)\n",
        "    return seq"
      ],
      "metadata": {
        "id": "OgCTdCe3aDhv"
      },
      "execution_count": 138,
      "outputs": []
    },
    {
      "cell_type": "markdown",
      "source": [
        "\n",
        "Преобразуем все тексты в последовательность кодов слов"
      ],
      "metadata": {
        "id": "FoFEF2o34IlX"
      }
    },
    {
      "cell_type": "code",
      "source": [
        "news['Sequences'] = news.apply(lambda row: text_to_sequence(row['Preprocessed_texts'], word_to_index), axis=1)"
      ],
      "metadata": {
        "id": "4I83Duh94KgZ"
      },
      "execution_count": 139,
      "outputs": []
    },
    {
      "cell_type": "code",
      "source": [
        "news"
      ],
      "metadata": {
        "colab": {
          "base_uri": "https://localhost:8080/",
          "height": 641
        },
        "id": "HFwEp7NE4R-O",
        "outputId": "2966b8bf-4cc2-4a8a-f9ee-559d782cfc99"
      },
      "execution_count": 140,
      "outputs": [
        {
          "output_type": "execute_result",
          "data": {
            "text/plain": [
              "     class                                              title  \\\n",
              "0        0           Плотник ослеп и впал в кому из-за занозы   \n",
              "1        1                Зеленский оценил помощь США Украине   \n",
              "2        0  Сбившего двух пешеходов и скрывшегося с места ...   \n",
              "3        0  Саакашвили ограничили в курении электронных си...   \n",
              "4        0  Россиянка упала под прибывающий поезд в метро ...   \n",
              "..     ...                                                ...   \n",
              "109      1  Шольц назвал три причины не поставлять немецки...   \n",
              "110      0  Девушка получила переломы, упав в оркестровую ...   \n",
              "111      1  СМИ: США пытались помешать Украине совершить п...   \n",
              "112      1  Минобороны подтвердило удары по объектам на Ук...   \n",
              "113      0  На Египетский мост в Петербурге вернули скульп...   \n",
              "\n",
              "                                                  text  \\\n",
              "0    30-летний житель английского города Сент-Остел...   \n",
              "1    Президент Украины Владимир Зеленский признал, ...   \n",
              "2    Полицейские задержали водителя иномарки, сбивш...   \n",
              "3    Лечащие врачи бывшего президента Грузии Михаил...   \n",
              "4    Пассажирка упала на пути под прибывающий поезд...   \n",
              "..                                                 ...   \n",
              "109  МОСКВА, 17 дек — РИА Новости. Канцлер Германии...   \n",
              "110  САРАТОВ, 17 дек - РИА Новости. Зрительница упа...   \n",
              "111  ВАШИНГТОН, 18 дек - РИА Новости. Газета New Yo...   \n",
              "112  МОСКВА, 18 дек — РИА Новости. Министерство обо...   \n",
              "113  С.-ПЕТЕРБУРГ, 17 дек — РИА Новости. Скульптуры...   \n",
              "\n",
              "                                                  link language  \\\n",
              "0           https://lenta.ru/news/2022/12/12/splinter/      rus   \n",
              "1                https://lenta.ru/news/2022/12/12/usa/      rus   \n",
              "2      https://lenta.ru/news/2022/12/12/sbil_i_uyehal/      rus   \n",
              "3         https://lenta.ru/news/2022/12/12/sigaretyfu/      rus   \n",
              "4              https://lenta.ru/news/2022/12/12/metro/      rus   \n",
              "..                                                 ...      ...   \n",
              "109      https://ria.ru/20221217/tanki-1839465444.html      rus   \n",
              "110  https://ria.ru/20221217/konservatoriya-1839463...      rus   \n",
              "111  https://ria.ru/20221218/gerasimov-1839474804.html      rus   \n",
              "112       https://ria.ru/20221218/udar-1839474444.html      rus   \n",
              "113  https://ria.ru/20221217/skulptury-1839464856.html      rus   \n",
              "\n",
              "                                    Preprocessed_texts  \\\n",
              "0    [30-летний, житель, английский, город, сента-о...   \n",
              "1    [президент, украина, владимир, зеленский, приз...   \n",
              "2    [полицейский, задержать, водитель, иномарка, с...   \n",
              "3    [лечить, врач, бывший, президент, грузия, миха...   \n",
              "4    [пассажирка, упасть, путь, прибывать, поезд, м...   \n",
              "..                                                 ...   \n",
              "109  [москва, 17, дек, —, риа, новость, канцлер, ге...   \n",
              "110  [саратов, 17, дек, риа, новость, зрительница, ...   \n",
              "111  [вашингтон, 18, дек, риа, новость, газета, new...   \n",
              "112  [москва, 18, дек, —, риа, новость, министерств...   \n",
              "113  [с.-петербург, 17, дек, —, риа, новость, скуль...   \n",
              "\n",
              "                                             Sequences  \n",
              "0    [2358, 174, 2359, 101, 2360, 2361, 2362, 2363,...  \n",
              "1    [17, 5, 85, 311, 532, 86, 264, 533, 93, 12, 16...  \n",
              "2    [110, 105, 195, 840, 665, 177, 61, 123, 436, 6...  \n",
              "3    [2425, 528, 196, 17, 667, 668, 1107, 3, 72, 24...  \n",
              "4    [1572, 377, 669, 1111, 1112, 543, 1573, 1092, ...  \n",
              "..                                                 ...  \n",
              "109  [61, 234, 430, 2, 35, 30, 277, 21, 504, 352, 2...  \n",
              "110  [4879, 234, 430, 35, 30, 4880, 377, 560, 2349,...  \n",
              "111  [129, 469, 430, 35, 30, 420, 1437, 1438, 1439,...  \n",
              "112  [61, 469, 430, 2, 35, 30, 294, 167, 4, 551, 99...  \n",
              "113  [4927, 234, 430, 2, 35, 30, 827, 1532, 346, 15...  \n",
              "\n",
              "[114 rows x 7 columns]"
            ],
            "text/html": [
              "\n",
              "  <div id=\"df-d304412f-6261-430d-b1e7-9d5f5799c0dd\">\n",
              "    <div class=\"colab-df-container\">\n",
              "      <div>\n",
              "<style scoped>\n",
              "    .dataframe tbody tr th:only-of-type {\n",
              "        vertical-align: middle;\n",
              "    }\n",
              "\n",
              "    .dataframe tbody tr th {\n",
              "        vertical-align: top;\n",
              "    }\n",
              "\n",
              "    .dataframe thead th {\n",
              "        text-align: right;\n",
              "    }\n",
              "</style>\n",
              "<table border=\"1\" class=\"dataframe\">\n",
              "  <thead>\n",
              "    <tr style=\"text-align: right;\">\n",
              "      <th></th>\n",
              "      <th>class</th>\n",
              "      <th>title</th>\n",
              "      <th>text</th>\n",
              "      <th>link</th>\n",
              "      <th>language</th>\n",
              "      <th>Preprocessed_texts</th>\n",
              "      <th>Sequences</th>\n",
              "    </tr>\n",
              "  </thead>\n",
              "  <tbody>\n",
              "    <tr>\n",
              "      <th>0</th>\n",
              "      <td>0</td>\n",
              "      <td>Плотник ослеп и впал в кому из-за занозы</td>\n",
              "      <td>30-летний житель английского города Сент-Остел...</td>\n",
              "      <td>https://lenta.ru/news/2022/12/12/splinter/</td>\n",
              "      <td>rus</td>\n",
              "      <td>[30-летний, житель, английский, город, сента-о...</td>\n",
              "      <td>[2358, 174, 2359, 101, 2360, 2361, 2362, 2363,...</td>\n",
              "    </tr>\n",
              "    <tr>\n",
              "      <th>1</th>\n",
              "      <td>1</td>\n",
              "      <td>Зеленский оценил помощь США Украине</td>\n",
              "      <td>Президент Украины Владимир Зеленский признал, ...</td>\n",
              "      <td>https://lenta.ru/news/2022/12/12/usa/</td>\n",
              "      <td>rus</td>\n",
              "      <td>[президент, украина, владимир, зеленский, приз...</td>\n",
              "      <td>[17, 5, 85, 311, 532, 86, 264, 533, 93, 12, 16...</td>\n",
              "    </tr>\n",
              "    <tr>\n",
              "      <th>2</th>\n",
              "      <td>0</td>\n",
              "      <td>Сбившего двух пешеходов и скрывшегося с места ...</td>\n",
              "      <td>Полицейские задержали водителя иномарки, сбивш...</td>\n",
              "      <td>https://lenta.ru/news/2022/12/12/sbil_i_uyehal/</td>\n",
              "      <td>rus</td>\n",
              "      <td>[полицейский, задержать, водитель, иномарка, с...</td>\n",
              "      <td>[110, 105, 195, 840, 665, 177, 61, 123, 436, 6...</td>\n",
              "    </tr>\n",
              "    <tr>\n",
              "      <th>3</th>\n",
              "      <td>0</td>\n",
              "      <td>Саакашвили ограничили в курении электронных си...</td>\n",
              "      <td>Лечащие врачи бывшего президента Грузии Михаил...</td>\n",
              "      <td>https://lenta.ru/news/2022/12/12/sigaretyfu/</td>\n",
              "      <td>rus</td>\n",
              "      <td>[лечить, врач, бывший, президент, грузия, миха...</td>\n",
              "      <td>[2425, 528, 196, 17, 667, 668, 1107, 3, 72, 24...</td>\n",
              "    </tr>\n",
              "    <tr>\n",
              "      <th>4</th>\n",
              "      <td>0</td>\n",
              "      <td>Россиянка упала под прибывающий поезд в метро ...</td>\n",
              "      <td>Пассажирка упала на пути под прибывающий поезд...</td>\n",
              "      <td>https://lenta.ru/news/2022/12/12/metro/</td>\n",
              "      <td>rus</td>\n",
              "      <td>[пассажирка, упасть, путь, прибывать, поезд, м...</td>\n",
              "      <td>[1572, 377, 669, 1111, 1112, 543, 1573, 1092, ...</td>\n",
              "    </tr>\n",
              "    <tr>\n",
              "      <th>...</th>\n",
              "      <td>...</td>\n",
              "      <td>...</td>\n",
              "      <td>...</td>\n",
              "      <td>...</td>\n",
              "      <td>...</td>\n",
              "      <td>...</td>\n",
              "      <td>...</td>\n",
              "    </tr>\n",
              "    <tr>\n",
              "      <th>109</th>\n",
              "      <td>1</td>\n",
              "      <td>Шольц назвал три причины не поставлять немецки...</td>\n",
              "      <td>МОСКВА, 17 дек — РИА Новости. Канцлер Германии...</td>\n",
              "      <td>https://ria.ru/20221217/tanki-1839465444.html</td>\n",
              "      <td>rus</td>\n",
              "      <td>[москва, 17, дек, —, риа, новость, канцлер, ге...</td>\n",
              "      <td>[61, 234, 430, 2, 35, 30, 277, 21, 504, 352, 2...</td>\n",
              "    </tr>\n",
              "    <tr>\n",
              "      <th>110</th>\n",
              "      <td>0</td>\n",
              "      <td>Девушка получила переломы, упав в оркестровую ...</td>\n",
              "      <td>САРАТОВ, 17 дек - РИА Новости. Зрительница упа...</td>\n",
              "      <td>https://ria.ru/20221217/konservatoriya-1839463...</td>\n",
              "      <td>rus</td>\n",
              "      <td>[саратов, 17, дек, риа, новость, зрительница, ...</td>\n",
              "      <td>[4879, 234, 430, 35, 30, 4880, 377, 560, 2349,...</td>\n",
              "    </tr>\n",
              "    <tr>\n",
              "      <th>111</th>\n",
              "      <td>1</td>\n",
              "      <td>СМИ: США пытались помешать Украине совершить п...</td>\n",
              "      <td>ВАШИНГТОН, 18 дек - РИА Новости. Газета New Yo...</td>\n",
              "      <td>https://ria.ru/20221218/gerasimov-1839474804.html</td>\n",
              "      <td>rus</td>\n",
              "      <td>[вашингтон, 18, дек, риа, новость, газета, new...</td>\n",
              "      <td>[129, 469, 430, 35, 30, 420, 1437, 1438, 1439,...</td>\n",
              "    </tr>\n",
              "    <tr>\n",
              "      <th>112</th>\n",
              "      <td>1</td>\n",
              "      <td>Минобороны подтвердило удары по объектам на Ук...</td>\n",
              "      <td>МОСКВА, 18 дек — РИА Новости. Министерство обо...</td>\n",
              "      <td>https://ria.ru/20221218/udar-1839474444.html</td>\n",
              "      <td>rus</td>\n",
              "      <td>[москва, 18, дек, —, риа, новость, министерств...</td>\n",
              "      <td>[61, 469, 430, 2, 35, 30, 294, 167, 4, 551, 99...</td>\n",
              "    </tr>\n",
              "    <tr>\n",
              "      <th>113</th>\n",
              "      <td>0</td>\n",
              "      <td>На Египетский мост в Петербурге вернули скульп...</td>\n",
              "      <td>С.-ПЕТЕРБУРГ, 17 дек — РИА Новости. Скульптуры...</td>\n",
              "      <td>https://ria.ru/20221217/skulptury-1839464856.html</td>\n",
              "      <td>rus</td>\n",
              "      <td>[с.-петербург, 17, дек, —, риа, новость, скуль...</td>\n",
              "      <td>[4927, 234, 430, 2, 35, 30, 827, 1532, 346, 15...</td>\n",
              "    </tr>\n",
              "  </tbody>\n",
              "</table>\n",
              "<p>114 rows × 7 columns</p>\n",
              "</div>\n",
              "      <button class=\"colab-df-convert\" onclick=\"convertToInteractive('df-d304412f-6261-430d-b1e7-9d5f5799c0dd')\"\n",
              "              title=\"Convert this dataframe to an interactive table.\"\n",
              "              style=\"display:none;\">\n",
              "        \n",
              "  <svg xmlns=\"http://www.w3.org/2000/svg\" height=\"24px\"viewBox=\"0 0 24 24\"\n",
              "       width=\"24px\">\n",
              "    <path d=\"M0 0h24v24H0V0z\" fill=\"none\"/>\n",
              "    <path d=\"M18.56 5.44l.94 2.06.94-2.06 2.06-.94-2.06-.94-.94-2.06-.94 2.06-2.06.94zm-11 1L8.5 8.5l.94-2.06 2.06-.94-2.06-.94L8.5 2.5l-.94 2.06-2.06.94zm10 10l.94 2.06.94-2.06 2.06-.94-2.06-.94-.94-2.06-.94 2.06-2.06.94z\"/><path d=\"M17.41 7.96l-1.37-1.37c-.4-.4-.92-.59-1.43-.59-.52 0-1.04.2-1.43.59L10.3 9.45l-7.72 7.72c-.78.78-.78 2.05 0 2.83L4 21.41c.39.39.9.59 1.41.59.51 0 1.02-.2 1.41-.59l7.78-7.78 2.81-2.81c.8-.78.8-2.07 0-2.86zM5.41 20L4 18.59l7.72-7.72 1.47 1.35L5.41 20z\"/>\n",
              "  </svg>\n",
              "      </button>\n",
              "      \n",
              "  <style>\n",
              "    .colab-df-container {\n",
              "      display:flex;\n",
              "      flex-wrap:wrap;\n",
              "      gap: 12px;\n",
              "    }\n",
              "\n",
              "    .colab-df-convert {\n",
              "      background-color: #E8F0FE;\n",
              "      border: none;\n",
              "      border-radius: 50%;\n",
              "      cursor: pointer;\n",
              "      display: none;\n",
              "      fill: #1967D2;\n",
              "      height: 32px;\n",
              "      padding: 0 0 0 0;\n",
              "      width: 32px;\n",
              "    }\n",
              "\n",
              "    .colab-df-convert:hover {\n",
              "      background-color: #E2EBFA;\n",
              "      box-shadow: 0px 1px 2px rgba(60, 64, 67, 0.3), 0px 1px 3px 1px rgba(60, 64, 67, 0.15);\n",
              "      fill: #174EA6;\n",
              "    }\n",
              "\n",
              "    [theme=dark] .colab-df-convert {\n",
              "      background-color: #3B4455;\n",
              "      fill: #D2E3FC;\n",
              "    }\n",
              "\n",
              "    [theme=dark] .colab-df-convert:hover {\n",
              "      background-color: #434B5C;\n",
              "      box-shadow: 0px 1px 3px 1px rgba(0, 0, 0, 0.15);\n",
              "      filter: drop-shadow(0px 1px 2px rgba(0, 0, 0, 0.3));\n",
              "      fill: #FFFFFF;\n",
              "    }\n",
              "  </style>\n",
              "\n",
              "      <script>\n",
              "        const buttonEl =\n",
              "          document.querySelector('#df-d304412f-6261-430d-b1e7-9d5f5799c0dd button.colab-df-convert');\n",
              "        buttonEl.style.display =\n",
              "          google.colab.kernel.accessAllowed ? 'block' : 'none';\n",
              "\n",
              "        async function convertToInteractive(key) {\n",
              "          const element = document.querySelector('#df-d304412f-6261-430d-b1e7-9d5f5799c0dd');\n",
              "          const dataTable =\n",
              "            await google.colab.kernel.invokeFunction('convertToInteractive',\n",
              "                                                     [key], {});\n",
              "          if (!dataTable) return;\n",
              "\n",
              "          const docLinkHtml = 'Like what you see? Visit the ' +\n",
              "            '<a target=\"_blank\" href=https://colab.research.google.com/notebooks/data_table.ipynb>data table notebook</a>'\n",
              "            + ' to learn more about interactive tables.';\n",
              "          element.innerHTML = '';\n",
              "          dataTable['output_type'] = 'display_data';\n",
              "          await google.colab.output.renderOutput(dataTable, element);\n",
              "          const docLink = document.createElement('div');\n",
              "          docLink.innerHTML = docLinkHtml;\n",
              "          element.appendChild(docLink);\n",
              "        }\n",
              "      </script>\n",
              "    </div>\n",
              "  </div>\n",
              "  "
            ]
          },
          "metadata": {},
          "execution_count": 140
        }
      ]
    },
    {
      "cell_type": "markdown",
      "source": [
        "## Выделяем данные для обучения и тестирования"
      ],
      "metadata": {
        "id": "Ip7sL49H4aIH"
      }
    },
    {
      "cell_type": "code",
      "source": [
        "train, test = train_test_split(news, test_size=0.2)"
      ],
      "metadata": {
        "id": "j51v0xwj4diP"
      },
      "execution_count": 141,
      "outputs": []
    },
    {
      "cell_type": "code",
      "source": [
        "train"
      ],
      "metadata": {
        "colab": {
          "base_uri": "https://localhost:8080/",
          "height": 641
        },
        "id": "2wwax3i56UWT",
        "outputId": "bc0411bb-8421-4ac7-b2c7-094a4d5edda3"
      },
      "execution_count": 142,
      "outputs": [
        {
          "output_type": "execute_result",
          "data": {
            "text/plain": [
              "     class                                              title  \\\n",
              "38       1  Пентагон «продолжит пересматривать» уровень пр...   \n",
              "5        1  В Госдуме назвали условия вхождения Сербии в с...   \n",
              "94       1  Сборная Хорватии стала бронзовым призером чемп...   \n",
              "103      0  В Татарстане выявили 112 случаев коронавируса ...   \n",
              "100      1  «Формализация антироссийских настроений»: поче...   \n",
              "..     ...                                                ...   \n",
              "71       0  Путин поручил правительству увеличить зарплаты...   \n",
              "10       0  Путин поручил кабмину увеличить зарплаты бюдже...   \n",
              "21       0  Кадыров отреагировал на доклад о наступлении п...   \n",
              "27       0  Россиянам перечислили признаки перелома из-за ...   \n",
              "49       1  Оплачивающий поставки оружия Украине Фонд мира...   \n",
              "\n",
              "                                                  text  \\\n",
              "38   «Что я могу сообщить вам, так это то, что мы п...   \n",
              "5    Первый зампредседателя комитета Госдумы по меж...   \n",
              "94   Сборная Хорватии по футболу обыграла команду М...   \n",
              "103  Об этом сообщает «Реальное время» со ссылкой н...   \n",
              "100  Канада решила восстановить санкции против турб...   \n",
              "..                                                 ...   \n",
              "71   Президент Владимир Путин поручил кабмину увели...   \n",
              "10   Президент России Владимир Путин поручил кабмин...   \n",
              "21   Глава Чечни Рамзан Кадыров в своем Telegram-ка...   \n",
              "27   Отек и отсутствие подвижности конечности являю...   \n",
              "49   «Мы приняли решение, что Европейский фонд мира...   \n",
              "\n",
              "                                                  link language  \\\n",
              "38   https://russian.rt.com/world/news/1085389-ssha...      rus   \n",
              "5             https://lenta.ru/news/2022/12/12/serbia/      rus   \n",
              "94    https://lenta.ru/news/2022/12/17/croatiamorocco/      rus   \n",
              "103  https://russian.rt.com/russia/news/1087544-reg...      rus   \n",
              "100  https://russian.rt.com/world/article/1086675-s...      rus   \n",
              "..                                                 ...      ...   \n",
              "71    https://ria.ru/20221212/zarplaty-1838178927.html      rus   \n",
              "10      https://lenta.ru/news/2022/12/12/uvelicheniee/      rus   \n",
              "21           https://lenta.ru/news/2022/12/12/kadyrov/      rus   \n",
              "27          https://lenta.ru/news/2022/12/12/fracture/      rus   \n",
              "49   https://russian.rt.com/world/news/1085354-fond...      rus   \n",
              "\n",
              "                                    Preprocessed_texts  \\\n",
              "38   [мочь, сообщить, это, продолжить, пересматрива...   \n",
              "5    [первый, зампредседателя, комитет, госдума, ме...   \n",
              "94   [сборная, хорватия, футбол, обыграть, команда,...   \n",
              "103  [сообщать, реальный, время, ссылка, региональн...   \n",
              "100  [канада, решить, восстановить, санкция, против...   \n",
              "..                                                 ...   \n",
              "71   [президент, владимир, путин, поручить, кабмин,...   \n",
              "10   [президент, россия, владимир, путин, поручить,...   \n",
              "21   [глава, чечня, рамзан, кадыров, свой, telegram...   \n",
              "27   [отечь, отсутствие, подвижность, конечность, я...   \n",
              "49   [принять, решение, европейский, фонд, мир, уве...   \n",
              "\n",
              "                                             Sequences  \n",
              "38   [31, 16, 11, 212, 1285, 454, 254, 591, 9, 2, 6...  \n",
              "5    [36, 2449, 225, 1581, 140, 45, 850, 1117, 380,...  \n",
              "94   [216, 624, 734, 1471, 109, 1031, 24, 3949, 395...  \n",
              "103  [44, 974, 26, 104, 2036, 4660, 784, 75, 4661, ...  \n",
              "100  [134, 193, 657, 69, 59, 308, 20, 2258, 1070, 4...  \n",
              "..                                                 ...  \n",
              "71   [17, 85, 58, 574, 874, 312, 75, 334, 6, 395, 1...  \n",
              "10   [17, 4, 85, 58, 574, 874, 312, 395, 1165, 575,...  \n",
              "21   [18, 2676, 1707, 1215, 15, 558, 2677, 1168, 12...  \n",
              "27   [1248, 729, 1758, 929, 96, 1759, 609, 930, 279...  \n",
              "49   [197, 40, 80, 1307, 49, 312, 577, 6, 1832, 302...  \n",
              "\n",
              "[91 rows x 7 columns]"
            ],
            "text/html": [
              "\n",
              "  <div id=\"df-7c71080a-fc86-4063-8020-e5b08c3e42c5\">\n",
              "    <div class=\"colab-df-container\">\n",
              "      <div>\n",
              "<style scoped>\n",
              "    .dataframe tbody tr th:only-of-type {\n",
              "        vertical-align: middle;\n",
              "    }\n",
              "\n",
              "    .dataframe tbody tr th {\n",
              "        vertical-align: top;\n",
              "    }\n",
              "\n",
              "    .dataframe thead th {\n",
              "        text-align: right;\n",
              "    }\n",
              "</style>\n",
              "<table border=\"1\" class=\"dataframe\">\n",
              "  <thead>\n",
              "    <tr style=\"text-align: right;\">\n",
              "      <th></th>\n",
              "      <th>class</th>\n",
              "      <th>title</th>\n",
              "      <th>text</th>\n",
              "      <th>link</th>\n",
              "      <th>language</th>\n",
              "      <th>Preprocessed_texts</th>\n",
              "      <th>Sequences</th>\n",
              "    </tr>\n",
              "  </thead>\n",
              "  <tbody>\n",
              "    <tr>\n",
              "      <th>38</th>\n",
              "      <td>1</td>\n",
              "      <td>Пентагон «продолжит пересматривать» уровень пр...</td>\n",
              "      <td>«Что я могу сообщить вам, так это то, что мы п...</td>\n",
              "      <td>https://russian.rt.com/world/news/1085389-ssha...</td>\n",
              "      <td>rus</td>\n",
              "      <td>[мочь, сообщить, это, продолжить, пересматрива...</td>\n",
              "      <td>[31, 16, 11, 212, 1285, 454, 254, 591, 9, 2, 6...</td>\n",
              "    </tr>\n",
              "    <tr>\n",
              "      <th>5</th>\n",
              "      <td>1</td>\n",
              "      <td>В Госдуме назвали условия вхождения Сербии в с...</td>\n",
              "      <td>Первый зампредседателя комитета Госдумы по меж...</td>\n",
              "      <td>https://lenta.ru/news/2022/12/12/serbia/</td>\n",
              "      <td>rus</td>\n",
              "      <td>[первый, зампредседателя, комитет, госдума, ме...</td>\n",
              "      <td>[36, 2449, 225, 1581, 140, 45, 850, 1117, 380,...</td>\n",
              "    </tr>\n",
              "    <tr>\n",
              "      <th>94</th>\n",
              "      <td>1</td>\n",
              "      <td>Сборная Хорватии стала бронзовым призером чемп...</td>\n",
              "      <td>Сборная Хорватии по футболу обыграла команду М...</td>\n",
              "      <td>https://lenta.ru/news/2022/12/17/croatiamorocco/</td>\n",
              "      <td>rus</td>\n",
              "      <td>[сборная, хорватия, футбол, обыграть, команда,...</td>\n",
              "      <td>[216, 624, 734, 1471, 109, 1031, 24, 3949, 395...</td>\n",
              "    </tr>\n",
              "    <tr>\n",
              "      <th>103</th>\n",
              "      <td>0</td>\n",
              "      <td>В Татарстане выявили 112 случаев коронавируса ...</td>\n",
              "      <td>Об этом сообщает «Реальное время» со ссылкой н...</td>\n",
              "      <td>https://russian.rt.com/russia/news/1087544-reg...</td>\n",
              "      <td>rus</td>\n",
              "      <td>[сообщать, реальный, время, ссылка, региональн...</td>\n",
              "      <td>[44, 974, 26, 104, 2036, 4660, 784, 75, 4661, ...</td>\n",
              "    </tr>\n",
              "    <tr>\n",
              "      <th>100</th>\n",
              "      <td>1</td>\n",
              "      <td>«Формализация антироссийских настроений»: поче...</td>\n",
              "      <td>Канада решила восстановить санкции против турб...</td>\n",
              "      <td>https://russian.rt.com/world/article/1086675-s...</td>\n",
              "      <td>rus</td>\n",
              "      <td>[канада, решить, восстановить, санкция, против...</td>\n",
              "      <td>[134, 193, 657, 69, 59, 308, 20, 2258, 1070, 4...</td>\n",
              "    </tr>\n",
              "    <tr>\n",
              "      <th>...</th>\n",
              "      <td>...</td>\n",
              "      <td>...</td>\n",
              "      <td>...</td>\n",
              "      <td>...</td>\n",
              "      <td>...</td>\n",
              "      <td>...</td>\n",
              "      <td>...</td>\n",
              "    </tr>\n",
              "    <tr>\n",
              "      <th>71</th>\n",
              "      <td>0</td>\n",
              "      <td>Путин поручил правительству увеличить зарплаты...</td>\n",
              "      <td>Президент Владимир Путин поручил кабмину увели...</td>\n",
              "      <td>https://ria.ru/20221212/zarplaty-1838178927.html</td>\n",
              "      <td>rus</td>\n",
              "      <td>[президент, владимир, путин, поручить, кабмин,...</td>\n",
              "      <td>[17, 85, 58, 574, 874, 312, 75, 334, 6, 395, 1...</td>\n",
              "    </tr>\n",
              "    <tr>\n",
              "      <th>10</th>\n",
              "      <td>0</td>\n",
              "      <td>Путин поручил кабмину увеличить зарплаты бюдже...</td>\n",
              "      <td>Президент России Владимир Путин поручил кабмин...</td>\n",
              "      <td>https://lenta.ru/news/2022/12/12/uvelicheniee/</td>\n",
              "      <td>rus</td>\n",
              "      <td>[президент, россия, владимир, путин, поручить,...</td>\n",
              "      <td>[17, 4, 85, 58, 574, 874, 312, 395, 1165, 575,...</td>\n",
              "    </tr>\n",
              "    <tr>\n",
              "      <th>21</th>\n",
              "      <td>0</td>\n",
              "      <td>Кадыров отреагировал на доклад о наступлении п...</td>\n",
              "      <td>Глава Чечни Рамзан Кадыров в своем Telegram-ка...</td>\n",
              "      <td>https://lenta.ru/news/2022/12/12/kadyrov/</td>\n",
              "      <td>rus</td>\n",
              "      <td>[глава, чечня, рамзан, кадыров, свой, telegram...</td>\n",
              "      <td>[18, 2676, 1707, 1215, 15, 558, 2677, 1168, 12...</td>\n",
              "    </tr>\n",
              "    <tr>\n",
              "      <th>27</th>\n",
              "      <td>0</td>\n",
              "      <td>Россиянам перечислили признаки перелома из-за ...</td>\n",
              "      <td>Отек и отсутствие подвижности конечности являю...</td>\n",
              "      <td>https://lenta.ru/news/2022/12/12/fracture/</td>\n",
              "      <td>rus</td>\n",
              "      <td>[отечь, отсутствие, подвижность, конечность, я...</td>\n",
              "      <td>[1248, 729, 1758, 929, 96, 1759, 609, 930, 279...</td>\n",
              "    </tr>\n",
              "    <tr>\n",
              "      <th>49</th>\n",
              "      <td>1</td>\n",
              "      <td>Оплачивающий поставки оружия Украине Фонд мира...</td>\n",
              "      <td>«Мы приняли решение, что Европейский фонд мира...</td>\n",
              "      <td>https://russian.rt.com/world/news/1085354-fond...</td>\n",
              "      <td>rus</td>\n",
              "      <td>[принять, решение, европейский, фонд, мир, уве...</td>\n",
              "      <td>[197, 40, 80, 1307, 49, 312, 577, 6, 1832, 302...</td>\n",
              "    </tr>\n",
              "  </tbody>\n",
              "</table>\n",
              "<p>91 rows × 7 columns</p>\n",
              "</div>\n",
              "      <button class=\"colab-df-convert\" onclick=\"convertToInteractive('df-7c71080a-fc86-4063-8020-e5b08c3e42c5')\"\n",
              "              title=\"Convert this dataframe to an interactive table.\"\n",
              "              style=\"display:none;\">\n",
              "        \n",
              "  <svg xmlns=\"http://www.w3.org/2000/svg\" height=\"24px\"viewBox=\"0 0 24 24\"\n",
              "       width=\"24px\">\n",
              "    <path d=\"M0 0h24v24H0V0z\" fill=\"none\"/>\n",
              "    <path d=\"M18.56 5.44l.94 2.06.94-2.06 2.06-.94-2.06-.94-.94-2.06-.94 2.06-2.06.94zm-11 1L8.5 8.5l.94-2.06 2.06-.94-2.06-.94L8.5 2.5l-.94 2.06-2.06.94zm10 10l.94 2.06.94-2.06 2.06-.94-2.06-.94-.94-2.06-.94 2.06-2.06.94z\"/><path d=\"M17.41 7.96l-1.37-1.37c-.4-.4-.92-.59-1.43-.59-.52 0-1.04.2-1.43.59L10.3 9.45l-7.72 7.72c-.78.78-.78 2.05 0 2.83L4 21.41c.39.39.9.59 1.41.59.51 0 1.02-.2 1.41-.59l7.78-7.78 2.81-2.81c.8-.78.8-2.07 0-2.86zM5.41 20L4 18.59l7.72-7.72 1.47 1.35L5.41 20z\"/>\n",
              "  </svg>\n",
              "      </button>\n",
              "      \n",
              "  <style>\n",
              "    .colab-df-container {\n",
              "      display:flex;\n",
              "      flex-wrap:wrap;\n",
              "      gap: 12px;\n",
              "    }\n",
              "\n",
              "    .colab-df-convert {\n",
              "      background-color: #E8F0FE;\n",
              "      border: none;\n",
              "      border-radius: 50%;\n",
              "      cursor: pointer;\n",
              "      display: none;\n",
              "      fill: #1967D2;\n",
              "      height: 32px;\n",
              "      padding: 0 0 0 0;\n",
              "      width: 32px;\n",
              "    }\n",
              "\n",
              "    .colab-df-convert:hover {\n",
              "      background-color: #E2EBFA;\n",
              "      box-shadow: 0px 1px 2px rgba(60, 64, 67, 0.3), 0px 1px 3px 1px rgba(60, 64, 67, 0.15);\n",
              "      fill: #174EA6;\n",
              "    }\n",
              "\n",
              "    [theme=dark] .colab-df-convert {\n",
              "      background-color: #3B4455;\n",
              "      fill: #D2E3FC;\n",
              "    }\n",
              "\n",
              "    [theme=dark] .colab-df-convert:hover {\n",
              "      background-color: #434B5C;\n",
              "      box-shadow: 0px 1px 3px 1px rgba(0, 0, 0, 0.15);\n",
              "      filter: drop-shadow(0px 1px 2px rgba(0, 0, 0, 0.3));\n",
              "      fill: #FFFFFF;\n",
              "    }\n",
              "  </style>\n",
              "\n",
              "      <script>\n",
              "        const buttonEl =\n",
              "          document.querySelector('#df-7c71080a-fc86-4063-8020-e5b08c3e42c5 button.colab-df-convert');\n",
              "        buttonEl.style.display =\n",
              "          google.colab.kernel.accessAllowed ? 'block' : 'none';\n",
              "\n",
              "        async function convertToInteractive(key) {\n",
              "          const element = document.querySelector('#df-7c71080a-fc86-4063-8020-e5b08c3e42c5');\n",
              "          const dataTable =\n",
              "            await google.colab.kernel.invokeFunction('convertToInteractive',\n",
              "                                                     [key], {});\n",
              "          if (!dataTable) return;\n",
              "\n",
              "          const docLinkHtml = 'Like what you see? Visit the ' +\n",
              "            '<a target=\"_blank\" href=https://colab.research.google.com/notebooks/data_table.ipynb>data table notebook</a>'\n",
              "            + ' to learn more about interactive tables.';\n",
              "          element.innerHTML = '';\n",
              "          dataTable['output_type'] = 'display_data';\n",
              "          await google.colab.output.renderOutput(dataTable, element);\n",
              "          const docLink = document.createElement('div');\n",
              "          docLink.innerHTML = docLinkHtml;\n",
              "          element.appendChild(docLink);\n",
              "        }\n",
              "      </script>\n",
              "    </div>\n",
              "  </div>\n",
              "  "
            ]
          },
          "metadata": {},
          "execution_count": 142
        }
      ]
    },
    {
      "cell_type": "code",
      "source": [
        "test"
      ],
      "metadata": {
        "colab": {
          "base_uri": "https://localhost:8080/",
          "height": 1000
        },
        "id": "wr991Et_6YRQ",
        "outputId": "723a8973-786b-481a-c88d-54bbee8dba97"
      },
      "execution_count": 143,
      "outputs": [
        {
          "output_type": "execute_result",
          "data": {
            "text/plain": [
              "     class                                              title  \\\n",
              "78       0  В Москве полиция задержала водителя иномарки, ...   \n",
              "106      0  Мэрия Москвы: заболеваемость ОРВИ не помешала ...   \n",
              "102      1  Обмен голами в дебюте и шедевр Оршича: Хорвати...   \n",
              "17       1  США захотели увеличить число своих военных на ...   \n",
              "50       1  Эрдоган заявил, что на юго-востоке Турции обна...   \n",
              "11       1  Байден ответил на сообщения об отправке америк...   \n",
              "63       1  Шольц выступил за сотрудничество с Россией пос...   \n",
              "82       0  Ученые придумали, как достичь эффекта невидимости   \n",
              "92       1  Посол покинул съезд партии в Сербии после виде...   \n",
              "9        0  Сбер предложил бизнесу купить золото в цифрово...   \n",
              "53       0  Путин поручил кабмину увеличить зарплаты бюдже...   \n",
              "47       1  NBC: администрация Байдена намерена усилить ко...   \n",
              "110      0  Девушка получила переломы, упав в оркестровую ...   \n",
              "61       1  Ряд стран ЕС выразил демарш Франции после комм...   \n",
              "67       1      При обстреле ВСУ Горловки погиб мирный житель   \n",
              "54       1  Боррель подтвердил, что новые санкции против Р...   \n",
              "15       0  В Москве водитель иномарки сбил двух пешеходов...   \n",
              "89       1  Роналдо заявил, что будет рад победе Месси на ...   \n",
              "112      1  Минобороны подтвердило удары по объектам на Ук...   \n",
              "74       0  В Пермском крае перевернулся автобус, есть пос...   \n",
              "2        0  Сбившего двух пешеходов и скрывшегося с места ...   \n",
              "87       1  МИД Сербии: Белград призовет отложить вопрос о...   \n",
              "13       0     Устроившего пожар в «Меге» строителя задержали   \n",
              "\n",
              "                                                  text  \\\n",
              "78   Полицейские задержали водителя иномарки, сбивш...   \n",
              "106  Медицинская сестра в инфекционном отделении дл...   \n",
              "102  Проведение матчей за третье место на чемпионат...   \n",
              "17   США планируют увеличить численность своих воен...   \n",
              "50   «Стоимость запасов составляет примерно $12 млр...   \n",
              "11   Президент США Джо Байден опроверг отправку аме...   \n",
              "63   кономическое сотрудничество с Россией должно с...   \n",
              "82   Ученые ТПУ совместно с зарубежными коллегами р...   \n",
              "92   Посол России в Сербии Александр Боцан-Харченко...   \n",
              "9    Сбер начинает выпуск цифровых финансовых актив...   \n",
              "53   Соответствующие указания опубликованы на сайте...   \n",
              "47   «Высокопоставленные официальные лица США подче...   \n",
              "110  САРАТОВ, 17 дек - РИА Новости. Зрительница упа...   \n",
              "61   Страны Балтии и ряд других европейских государ...   \n",
              "67   Один мирный житель погиб, еще один ранен в рез...   \n",
              "54   «Мы обсудили девятый пакет санкций против Росс...   \n",
              "15   В Москве водитель иномарки сбил двух пешеходов...   \n",
              "89   Двукратный чемпион мира бразилец Роналдо заяви...   \n",
              "112  МОСКВА, 18 дек — РИА Новости. Министерство обо...   \n",
              "74   Автобус с пассажирами перевернулся в Кизеловск...   \n",
              "2    Полицейские задержали водителя иномарки, сбивш...   \n",
              "87   Руководство Сербии призовет страны-члены ЕС, к...   \n",
              "13   В Подмосковье задержали строителя, устроившего...   \n",
              "\n",
              "                                                  link language  \\\n",
              "78     https://ria.ru/20221212/voditel-1838199698.html      rus   \n",
              "106  https://ria.ru/20221218/koronavirus-1839476045...      rus   \n",
              "102  https://russian.rt.com/sport/article/1087519-h...      rus   \n",
              "17               https://lenta.ru/news/2022/12/12/ukr/      rus   \n",
              "50   https://russian.rt.com/world/news/1085346-erdo...      rus   \n",
              "11     https://lenta.ru/news/2022/12/12/neotpravlyaut/      rus   \n",
              "63      https://ria.ru/20221212/sholts-1838202760.html      rus   \n",
              "82         https://ria.ru/20221212/tpu-1837427358.html      rus   \n",
              "92              https://lenta.ru/news/2022/12/18/psll/      rus   \n",
              "9                https://lenta.ru/news/2022/12/12/zlt/      rus   \n",
              "53   https://russian.rt.com/russia/news/1085336-put...      rus   \n",
              "47   https://russian.rt.com/world/news/1085359-oruz...      rus   \n",
              "110  https://ria.ru/20221217/konservatoriya-1839463...      rus   \n",
              "61     https://ria.ru/20221212/demarsh-1838207986.html      rus   \n",
              "67    https://ria.ru/20221212/gorlovka-1838199188.html      rus   \n",
              "54   https://russian.rt.com/world/news/1085335-borr...      rus   \n",
              "15       https://lenta.ru/news/2022/12/12/voditelsbil/      rus   \n",
              "89   https://rsport.ria.ru/20221212/ronaldo-1838169...      rus   \n",
              "112       https://ria.ru/20221218/udar-1839474444.html      rus   \n",
              "74     https://ria.ru/20221212/avtobus-1838204580.html      rus   \n",
              "2      https://lenta.ru/news/2022/12/12/sbil_i_uyehal/      rus   \n",
              "87   https://ria.ru/20221212/evrosoyuz-1838133254.html      rus   \n",
              "13        https://lenta.ru/news/2022/12/12/zaderzhali/      rus   \n",
              "\n",
              "                                    Preprocessed_texts  \\\n",
              "78   [полицейский, задержать, водитель, иномарка, с...   \n",
              "106  [медицинский, сестра, инфекционный, отделение,...   \n",
              "102  [проведение, матч, третий, место, чемпионат, м...   \n",
              "17   [сша, планировать, увеличить, численность, сво...   \n",
              "50   [стоимость, запас, составлять, примерно, $, 12...   \n",
              "11   [президент, сша, джо, байден, опровергнуть, от...   \n",
              "63   [кономический, сотрудничество, россия, должный...   \n",
              "82   [учёный, тпу, совместно, зарубежный, коллега, ...   \n",
              "92   [посол, россия, сербия, александр, боцан-харче...   \n",
              "9    [сбер, начинать, выпуск, цифровой, финансовый,...   \n",
              "53   [соответствующий, указание, опубликовать, сайт...   \n",
              "47   [высокопоставленный, официальный, лицо, сша, п...   \n",
              "110  [саратов, 17, дек, риа, новость, зрительница, ...   \n",
              "61   [страна, балтия, ряд, другой, европейский, гос...   \n",
              "67   [мирный, житель, погибнуть, ранить, результат,...   \n",
              "54   [обсудить, девятый, пакет, санкция, против, ро...   \n",
              "15   [москва, водитель, иномарка, сбить, два, пешех...   \n",
              "89   [двукратный, чемпион, мир, бразилец, роналдый,...   \n",
              "112  [москва, 18, дек, —, риа, новость, министерств...   \n",
              "74   [автобус, пассажир, перевернуться, кизеловский...   \n",
              "2    [полицейский, задержать, водитель, иномарка, с...   \n",
              "87   [руководство, сербия, призвать, страна-член, е...   \n",
              "13   [подмосковье, задержать, строитель, устроить, ...   \n",
              "\n",
              "                                             Sequences  \n",
              "78   [110, 105, 195, 840, 665, 123, 436, 1969, 94, ...  \n",
              "106  [1300, 2191, 4802, 1994, 830, 2319, 61, 469, 4...  \n",
              "102  [326, 215, 189, 94, 257, 49, 1090, 4509, 806, ...  \n",
              "17   [12, 143, 312, 374, 15, 19, 5, 313, 154, 194, ...  \n",
              "50   [755, 476, 1310, 616, 756, 399, 302, 2, 252, 1...  \n",
              "11   [17, 12, 398, 184, 2575, 1655, 42, 19, 5, 273,...  \n",
              "63   [3089, 413, 4, 43, 24, 387, 739, 55, 5, 10, 27...  \n",
              "82   [787, 1392, 632, 3332, 1131, 637, 3333, 1879, ...  \n",
              "92   [644, 4, 28, 97, 1050, 425, 1051, 1349, 130, 3...  \n",
              "9    [2531, 1640, 865, 570, 452, 330, 391, 331, 865...  \n",
              "53   [1317, 1167, 459, 458, 460, 316, 58, 10, 696, ...  \n",
              "47   [1825, 402, 473, 12, 74, 439, 25, 591, 19, 297...  \n",
              "110  [4879, 234, 430, 35, 30, 4880, 377, 560, 2349,...  \n",
              "61   [9, 1869, 451, 62, 80, 99, 1319, 767, 1870, 24...  \n",
              "67   [740, 174, 260, 1913, 102, 776, 1358, 34, 207,...  \n",
              "54   [1318, 892, 166, 69, 59, 4, 617, 346, 127, 401...  \n",
              "15   [61, 195, 840, 665, 123, 436, 471, 1185, 1186,...  \n",
              "89   [3526, 703, 49, 3527, 3528, 10, 3529, 587, 142...  \n",
              "112  [61, 469, 430, 2, 35, 30, 294, 167, 4, 551, 99...  \n",
              "74   [1949, 1381, 3232, 3233, 1351, 1950, 383, 126,...  \n",
              "2    [110, 105, 195, 840, 665, 177, 61, 123, 436, 6...  \n",
              "87   [2038, 28, 342, 1417, 52, 3, 2039, 786, 382, 2...  \n",
              "13   [2584, 105, 2585, 2586, 159, 702, 177, 559, 32...  "
            ],
            "text/html": [
              "\n",
              "  <div id=\"df-990393f2-2d5b-4e7f-9816-ab5098e3d71b\">\n",
              "    <div class=\"colab-df-container\">\n",
              "      <div>\n",
              "<style scoped>\n",
              "    .dataframe tbody tr th:only-of-type {\n",
              "        vertical-align: middle;\n",
              "    }\n",
              "\n",
              "    .dataframe tbody tr th {\n",
              "        vertical-align: top;\n",
              "    }\n",
              "\n",
              "    .dataframe thead th {\n",
              "        text-align: right;\n",
              "    }\n",
              "</style>\n",
              "<table border=\"1\" class=\"dataframe\">\n",
              "  <thead>\n",
              "    <tr style=\"text-align: right;\">\n",
              "      <th></th>\n",
              "      <th>class</th>\n",
              "      <th>title</th>\n",
              "      <th>text</th>\n",
              "      <th>link</th>\n",
              "      <th>language</th>\n",
              "      <th>Preprocessed_texts</th>\n",
              "      <th>Sequences</th>\n",
              "    </tr>\n",
              "  </thead>\n",
              "  <tbody>\n",
              "    <tr>\n",
              "      <th>78</th>\n",
              "      <td>0</td>\n",
              "      <td>В Москве полиция задержала водителя иномарки, ...</td>\n",
              "      <td>Полицейские задержали водителя иномарки, сбивш...</td>\n",
              "      <td>https://ria.ru/20221212/voditel-1838199698.html</td>\n",
              "      <td>rus</td>\n",
              "      <td>[полицейский, задержать, водитель, иномарка, с...</td>\n",
              "      <td>[110, 105, 195, 840, 665, 123, 436, 1969, 94, ...</td>\n",
              "    </tr>\n",
              "    <tr>\n",
              "      <th>106</th>\n",
              "      <td>0</td>\n",
              "      <td>Мэрия Москвы: заболеваемость ОРВИ не помешала ...</td>\n",
              "      <td>Медицинская сестра в инфекционном отделении дл...</td>\n",
              "      <td>https://ria.ru/20221218/koronavirus-1839476045...</td>\n",
              "      <td>rus</td>\n",
              "      <td>[медицинский, сестра, инфекционный, отделение,...</td>\n",
              "      <td>[1300, 2191, 4802, 1994, 830, 2319, 61, 469, 4...</td>\n",
              "    </tr>\n",
              "    <tr>\n",
              "      <th>102</th>\n",
              "      <td>1</td>\n",
              "      <td>Обмен голами в дебюте и шедевр Оршича: Хорвати...</td>\n",
              "      <td>Проведение матчей за третье место на чемпионат...</td>\n",
              "      <td>https://russian.rt.com/sport/article/1087519-h...</td>\n",
              "      <td>rus</td>\n",
              "      <td>[проведение, матч, третий, место, чемпионат, м...</td>\n",
              "      <td>[326, 215, 189, 94, 257, 49, 1090, 4509, 806, ...</td>\n",
              "    </tr>\n",
              "    <tr>\n",
              "      <th>17</th>\n",
              "      <td>1</td>\n",
              "      <td>США захотели увеличить число своих военных на ...</td>\n",
              "      <td>США планируют увеличить численность своих воен...</td>\n",
              "      <td>https://lenta.ru/news/2022/12/12/ukr/</td>\n",
              "      <td>rus</td>\n",
              "      <td>[сша, планировать, увеличить, численность, сво...</td>\n",
              "      <td>[12, 143, 312, 374, 15, 19, 5, 313, 154, 194, ...</td>\n",
              "    </tr>\n",
              "    <tr>\n",
              "      <th>50</th>\n",
              "      <td>1</td>\n",
              "      <td>Эрдоган заявил, что на юго-востоке Турции обна...</td>\n",
              "      <td>«Стоимость запасов составляет примерно $12 млр...</td>\n",
              "      <td>https://russian.rt.com/world/news/1085346-erdo...</td>\n",
              "      <td>rus</td>\n",
              "      <td>[стоимость, запас, составлять, примерно, $, 12...</td>\n",
              "      <td>[755, 476, 1310, 616, 756, 399, 302, 2, 252, 1...</td>\n",
              "    </tr>\n",
              "    <tr>\n",
              "      <th>11</th>\n",
              "      <td>1</td>\n",
              "      <td>Байден ответил на сообщения об отправке америк...</td>\n",
              "      <td>Президент США Джо Байден опроверг отправку аме...</td>\n",
              "      <td>https://lenta.ru/news/2022/12/12/neotpravlyaut/</td>\n",
              "      <td>rus</td>\n",
              "      <td>[президент, сша, джо, байден, опровергнуть, от...</td>\n",
              "      <td>[17, 12, 398, 184, 2575, 1655, 42, 19, 5, 273,...</td>\n",
              "    </tr>\n",
              "    <tr>\n",
              "      <th>63</th>\n",
              "      <td>1</td>\n",
              "      <td>Шольц выступил за сотрудничество с Россией пос...</td>\n",
              "      <td>кономическое сотрудничество с Россией должно с...</td>\n",
              "      <td>https://ria.ru/20221212/sholts-1838202760.html</td>\n",
              "      <td>rus</td>\n",
              "      <td>[кономический, сотрудничество, россия, должный...</td>\n",
              "      <td>[3089, 413, 4, 43, 24, 387, 739, 55, 5, 10, 27...</td>\n",
              "    </tr>\n",
              "    <tr>\n",
              "      <th>82</th>\n",
              "      <td>0</td>\n",
              "      <td>Ученые придумали, как достичь эффекта невидимости</td>\n",
              "      <td>Ученые ТПУ совместно с зарубежными коллегами р...</td>\n",
              "      <td>https://ria.ru/20221212/tpu-1837427358.html</td>\n",
              "      <td>rus</td>\n",
              "      <td>[учёный, тпу, совместно, зарубежный, коллега, ...</td>\n",
              "      <td>[787, 1392, 632, 3332, 1131, 637, 3333, 1879, ...</td>\n",
              "    </tr>\n",
              "    <tr>\n",
              "      <th>92</th>\n",
              "      <td>1</td>\n",
              "      <td>Посол покинул съезд партии в Сербии после виде...</td>\n",
              "      <td>Посол России в Сербии Александр Боцан-Харченко...</td>\n",
              "      <td>https://lenta.ru/news/2022/12/18/psll/</td>\n",
              "      <td>rus</td>\n",
              "      <td>[посол, россия, сербия, александр, боцан-харче...</td>\n",
              "      <td>[644, 4, 28, 97, 1050, 425, 1051, 1349, 130, 3...</td>\n",
              "    </tr>\n",
              "    <tr>\n",
              "      <th>9</th>\n",
              "      <td>0</td>\n",
              "      <td>Сбер предложил бизнесу купить золото в цифрово...</td>\n",
              "      <td>Сбер начинает выпуск цифровых финансовых актив...</td>\n",
              "      <td>https://lenta.ru/news/2022/12/12/zlt/</td>\n",
              "      <td>rus</td>\n",
              "      <td>[сбер, начинать, выпуск, цифровой, финансовый,...</td>\n",
              "      <td>[2531, 1640, 865, 570, 452, 330, 391, 331, 865...</td>\n",
              "    </tr>\n",
              "    <tr>\n",
              "      <th>53</th>\n",
              "      <td>0</td>\n",
              "      <td>Путин поручил кабмину увеличить зарплаты бюдже...</td>\n",
              "      <td>Соответствующие указания опубликованы на сайте...</td>\n",
              "      <td>https://russian.rt.com/russia/news/1085336-put...</td>\n",
              "      <td>rus</td>\n",
              "      <td>[соответствующий, указание, опубликовать, сайт...</td>\n",
              "      <td>[1317, 1167, 459, 458, 460, 316, 58, 10, 696, ...</td>\n",
              "    </tr>\n",
              "    <tr>\n",
              "      <th>47</th>\n",
              "      <td>1</td>\n",
              "      <td>NBC: администрация Байдена намерена усилить ко...</td>\n",
              "      <td>«Высокопоставленные официальные лица США подче...</td>\n",
              "      <td>https://russian.rt.com/world/news/1085359-oruz...</td>\n",
              "      <td>rus</td>\n",
              "      <td>[высокопоставленный, официальный, лицо, сша, п...</td>\n",
              "      <td>[1825, 402, 473, 12, 74, 439, 25, 591, 19, 297...</td>\n",
              "    </tr>\n",
              "    <tr>\n",
              "      <th>110</th>\n",
              "      <td>0</td>\n",
              "      <td>Девушка получила переломы, упав в оркестровую ...</td>\n",
              "      <td>САРАТОВ, 17 дек - РИА Новости. Зрительница упа...</td>\n",
              "      <td>https://ria.ru/20221217/konservatoriya-1839463...</td>\n",
              "      <td>rus</td>\n",
              "      <td>[саратов, 17, дек, риа, новость, зрительница, ...</td>\n",
              "      <td>[4879, 234, 430, 35, 30, 4880, 377, 560, 2349,...</td>\n",
              "    </tr>\n",
              "    <tr>\n",
              "      <th>61</th>\n",
              "      <td>1</td>\n",
              "      <td>Ряд стран ЕС выразил демарш Франции после комм...</td>\n",
              "      <td>Страны Балтии и ряд других европейских государ...</td>\n",
              "      <td>https://ria.ru/20221212/demarsh-1838207986.html</td>\n",
              "      <td>rus</td>\n",
              "      <td>[страна, балтия, ряд, другой, европейский, гос...</td>\n",
              "      <td>[9, 1869, 451, 62, 80, 99, 1319, 767, 1870, 24...</td>\n",
              "    </tr>\n",
              "    <tr>\n",
              "      <th>67</th>\n",
              "      <td>1</td>\n",
              "      <td>При обстреле ВСУ Горловки погиб мирный житель</td>\n",
              "      <td>Один мирный житель погиб, еще один ранен в рез...</td>\n",
              "      <td>https://ria.ru/20221212/gorlovka-1838199188.html</td>\n",
              "      <td>rus</td>\n",
              "      <td>[мирный, житель, погибнуть, ранить, результат,...</td>\n",
              "      <td>[740, 174, 260, 1913, 102, 776, 1358, 34, 207,...</td>\n",
              "    </tr>\n",
              "    <tr>\n",
              "      <th>54</th>\n",
              "      <td>1</td>\n",
              "      <td>Боррель подтвердил, что новые санкции против Р...</td>\n",
              "      <td>«Мы обсудили девятый пакет санкций против Росс...</td>\n",
              "      <td>https://russian.rt.com/world/news/1085335-borr...</td>\n",
              "      <td>rus</td>\n",
              "      <td>[обсудить, девятый, пакет, санкция, против, ро...</td>\n",
              "      <td>[1318, 892, 166, 69, 59, 4, 617, 346, 127, 401...</td>\n",
              "    </tr>\n",
              "    <tr>\n",
              "      <th>15</th>\n",
              "      <td>0</td>\n",
              "      <td>В Москве водитель иномарки сбил двух пешеходов...</td>\n",
              "      <td>В Москве водитель иномарки сбил двух пешеходов...</td>\n",
              "      <td>https://lenta.ru/news/2022/12/12/voditelsbil/</td>\n",
              "      <td>rus</td>\n",
              "      <td>[москва, водитель, иномарка, сбить, два, пешех...</td>\n",
              "      <td>[61, 195, 840, 665, 123, 436, 471, 1185, 1186,...</td>\n",
              "    </tr>\n",
              "    <tr>\n",
              "      <th>89</th>\n",
              "      <td>1</td>\n",
              "      <td>Роналдо заявил, что будет рад победе Месси на ...</td>\n",
              "      <td>Двукратный чемпион мира бразилец Роналдо заяви...</td>\n",
              "      <td>https://rsport.ria.ru/20221212/ronaldo-1838169...</td>\n",
              "      <td>rus</td>\n",
              "      <td>[двукратный, чемпион, мир, бразилец, роналдый,...</td>\n",
              "      <td>[3526, 703, 49, 3527, 3528, 10, 3529, 587, 142...</td>\n",
              "    </tr>\n",
              "    <tr>\n",
              "      <th>112</th>\n",
              "      <td>1</td>\n",
              "      <td>Минобороны подтвердило удары по объектам на Ук...</td>\n",
              "      <td>МОСКВА, 18 дек — РИА Новости. Министерство обо...</td>\n",
              "      <td>https://ria.ru/20221218/udar-1839474444.html</td>\n",
              "      <td>rus</td>\n",
              "      <td>[москва, 18, дек, —, риа, новость, министерств...</td>\n",
              "      <td>[61, 469, 430, 2, 35, 30, 294, 167, 4, 551, 99...</td>\n",
              "    </tr>\n",
              "    <tr>\n",
              "      <th>74</th>\n",
              "      <td>0</td>\n",
              "      <td>В Пермском крае перевернулся автобус, есть пос...</td>\n",
              "      <td>Автобус с пассажирами перевернулся в Кизеловск...</td>\n",
              "      <td>https://ria.ru/20221212/avtobus-1838204580.html</td>\n",
              "      <td>rus</td>\n",
              "      <td>[автобус, пассажир, перевернуться, кизеловский...</td>\n",
              "      <td>[1949, 1381, 3232, 3233, 1351, 1950, 383, 126,...</td>\n",
              "    </tr>\n",
              "    <tr>\n",
              "      <th>2</th>\n",
              "      <td>0</td>\n",
              "      <td>Сбившего двух пешеходов и скрывшегося с места ...</td>\n",
              "      <td>Полицейские задержали водителя иномарки, сбивш...</td>\n",
              "      <td>https://lenta.ru/news/2022/12/12/sbil_i_uyehal/</td>\n",
              "      <td>rus</td>\n",
              "      <td>[полицейский, задержать, водитель, иномарка, с...</td>\n",
              "      <td>[110, 105, 195, 840, 665, 177, 61, 123, 436, 6...</td>\n",
              "    </tr>\n",
              "    <tr>\n",
              "      <th>87</th>\n",
              "      <td>1</td>\n",
              "      <td>МИД Сербии: Белград призовет отложить вопрос о...</td>\n",
              "      <td>Руководство Сербии призовет страны-члены ЕС, к...</td>\n",
              "      <td>https://ria.ru/20221212/evrosoyuz-1838133254.html</td>\n",
              "      <td>rus</td>\n",
              "      <td>[руководство, сербия, призвать, страна-член, е...</td>\n",
              "      <td>[2038, 28, 342, 1417, 52, 3, 2039, 786, 382, 2...</td>\n",
              "    </tr>\n",
              "    <tr>\n",
              "      <th>13</th>\n",
              "      <td>0</td>\n",
              "      <td>Устроившего пожар в «Меге» строителя задержали</td>\n",
              "      <td>В Подмосковье задержали строителя, устроившего...</td>\n",
              "      <td>https://lenta.ru/news/2022/12/12/zaderzhali/</td>\n",
              "      <td>rus</td>\n",
              "      <td>[подмосковье, задержать, строитель, устроить, ...</td>\n",
              "      <td>[2584, 105, 2585, 2586, 159, 702, 177, 559, 32...</td>\n",
              "    </tr>\n",
              "  </tbody>\n",
              "</table>\n",
              "</div>\n",
              "      <button class=\"colab-df-convert\" onclick=\"convertToInteractive('df-990393f2-2d5b-4e7f-9816-ab5098e3d71b')\"\n",
              "              title=\"Convert this dataframe to an interactive table.\"\n",
              "              style=\"display:none;\">\n",
              "        \n",
              "  <svg xmlns=\"http://www.w3.org/2000/svg\" height=\"24px\"viewBox=\"0 0 24 24\"\n",
              "       width=\"24px\">\n",
              "    <path d=\"M0 0h24v24H0V0z\" fill=\"none\"/>\n",
              "    <path d=\"M18.56 5.44l.94 2.06.94-2.06 2.06-.94-2.06-.94-.94-2.06-.94 2.06-2.06.94zm-11 1L8.5 8.5l.94-2.06 2.06-.94-2.06-.94L8.5 2.5l-.94 2.06-2.06.94zm10 10l.94 2.06.94-2.06 2.06-.94-2.06-.94-.94-2.06-.94 2.06-2.06.94z\"/><path d=\"M17.41 7.96l-1.37-1.37c-.4-.4-.92-.59-1.43-.59-.52 0-1.04.2-1.43.59L10.3 9.45l-7.72 7.72c-.78.78-.78 2.05 0 2.83L4 21.41c.39.39.9.59 1.41.59.51 0 1.02-.2 1.41-.59l7.78-7.78 2.81-2.81c.8-.78.8-2.07 0-2.86zM5.41 20L4 18.59l7.72-7.72 1.47 1.35L5.41 20z\"/>\n",
              "  </svg>\n",
              "      </button>\n",
              "      \n",
              "  <style>\n",
              "    .colab-df-container {\n",
              "      display:flex;\n",
              "      flex-wrap:wrap;\n",
              "      gap: 12px;\n",
              "    }\n",
              "\n",
              "    .colab-df-convert {\n",
              "      background-color: #E8F0FE;\n",
              "      border: none;\n",
              "      border-radius: 50%;\n",
              "      cursor: pointer;\n",
              "      display: none;\n",
              "      fill: #1967D2;\n",
              "      height: 32px;\n",
              "      padding: 0 0 0 0;\n",
              "      width: 32px;\n",
              "    }\n",
              "\n",
              "    .colab-df-convert:hover {\n",
              "      background-color: #E2EBFA;\n",
              "      box-shadow: 0px 1px 2px rgba(60, 64, 67, 0.3), 0px 1px 3px 1px rgba(60, 64, 67, 0.15);\n",
              "      fill: #174EA6;\n",
              "    }\n",
              "\n",
              "    [theme=dark] .colab-df-convert {\n",
              "      background-color: #3B4455;\n",
              "      fill: #D2E3FC;\n",
              "    }\n",
              "\n",
              "    [theme=dark] .colab-df-convert:hover {\n",
              "      background-color: #434B5C;\n",
              "      box-shadow: 0px 1px 3px 1px rgba(0, 0, 0, 0.15);\n",
              "      filter: drop-shadow(0px 1px 2px rgba(0, 0, 0, 0.3));\n",
              "      fill: #FFFFFF;\n",
              "    }\n",
              "  </style>\n",
              "\n",
              "      <script>\n",
              "        const buttonEl =\n",
              "          document.querySelector('#df-990393f2-2d5b-4e7f-9816-ab5098e3d71b button.colab-df-convert');\n",
              "        buttonEl.style.display =\n",
              "          google.colab.kernel.accessAllowed ? 'block' : 'none';\n",
              "\n",
              "        async function convertToInteractive(key) {\n",
              "          const element = document.querySelector('#df-990393f2-2d5b-4e7f-9816-ab5098e3d71b');\n",
              "          const dataTable =\n",
              "            await google.colab.kernel.invokeFunction('convertToInteractive',\n",
              "                                                     [key], {});\n",
              "          if (!dataTable) return;\n",
              "\n",
              "          const docLinkHtml = 'Like what you see? Visit the ' +\n",
              "            '<a target=\"_blank\" href=https://colab.research.google.com/notebooks/data_table.ipynb>data table notebook</a>'\n",
              "            + ' to learn more about interactive tables.';\n",
              "          element.innerHTML = '';\n",
              "          dataTable['output_type'] = 'display_data';\n",
              "          await google.colab.output.renderOutput(dataTable, element);\n",
              "          const docLink = document.createElement('div');\n",
              "          docLink.innerHTML = docLinkHtml;\n",
              "          element.appendChild(docLink);\n",
              "        }\n",
              "      </script>\n",
              "    </div>\n",
              "  </div>\n",
              "  "
            ]
          },
          "metadata": {},
          "execution_count": 143
        }
      ]
    },
    {
      "cell_type": "markdown",
      "source": [
        "## Разделяем метки классов и данные для обучения"
      ],
      "metadata": {
        "id": "K5G9ClI46hTl"
      }
    },
    {
      "cell_type": "markdown",
      "source": [
        "Данные для обучения"
      ],
      "metadata": {
        "id": "iX8Z-rFo6oYt"
      }
    },
    {
      "cell_type": "code",
      "source": [
        "x_train = train['Sequences']\n",
        "y_train = train['class']"
      ],
      "metadata": {
        "id": "RlpfWyHI6phL"
      },
      "execution_count": 144,
      "outputs": []
    },
    {
      "cell_type": "code",
      "source": [
        "x_train"
      ],
      "metadata": {
        "colab": {
          "base_uri": "https://localhost:8080/"
        },
        "id": "D03BOlqL7mvJ",
        "outputId": "047a491c-60c6-450a-fb0f-0221b7b12bd8"
      },
      "execution_count": 145,
      "outputs": [
        {
          "output_type": "execute_result",
          "data": {
            "text/plain": [
              "38     [31, 16, 11, 212, 1285, 454, 254, 591, 9, 2, 6...\n",
              "5      [36, 2449, 225, 1581, 140, 45, 850, 1117, 380,...\n",
              "94     [216, 624, 734, 1471, 109, 1031, 24, 3949, 395...\n",
              "103    [44, 974, 26, 104, 2036, 4660, 784, 75, 4661, ...\n",
              "100    [134, 193, 657, 69, 59, 308, 20, 2258, 1070, 4...\n",
              "                             ...                        \n",
              "71     [17, 85, 58, 574, 874, 312, 75, 334, 6, 395, 1...\n",
              "10     [17, 4, 85, 58, 574, 874, 312, 395, 1165, 575,...\n",
              "21     [18, 2676, 1707, 1215, 15, 558, 2677, 1168, 12...\n",
              "27     [1248, 729, 1758, 929, 96, 1759, 609, 930, 279...\n",
              "49     [197, 40, 80, 1307, 49, 312, 577, 6, 1832, 302...\n",
              "Name: Sequences, Length: 91, dtype: object"
            ]
          },
          "metadata": {},
          "execution_count": 145
        }
      ]
    },
    {
      "cell_type": "markdown",
      "source": [
        "!!! Ограничиваем длину новостных сообщений"
      ],
      "metadata": {
        "id": "oy4wG7DBcCrI"
      }
    },
    {
      "cell_type": "code",
      "source": [
        "x_train = pad_sequences(x_train, maxlen=max_news_len)"
      ],
      "metadata": {
        "id": "8ipgJZG8efGB"
      },
      "execution_count": 146,
      "outputs": []
    },
    {
      "cell_type": "code",
      "source": [
        "x_train"
      ],
      "metadata": {
        "colab": {
          "base_uri": "https://localhost:8080/"
        },
        "id": "045N759qfYJu",
        "outputId": "464151ab-392c-4b3e-ece1-1b51ed00ed97"
      },
      "execution_count": 147,
      "outputs": [
        {
          "output_type": "execute_result",
          "data": {
            "text/plain": [
              "array([[   0,    0,    0, ...,  107, 1289,   73],\n",
              "       [   0,    0,    0, ...,  231, 2470,   87],\n",
              "       [   0,    0,    0, ...,   49,    2, 3974],\n",
              "       ...,\n",
              "       [   0,    0,    0, ...,   53,  907,  165],\n",
              "       [   0,    0,    0, ..., 1769,   62, 2839],\n",
              "       [   0,    0,    0, ..., 2990,  304,   86]], dtype=int32)"
            ]
          },
          "metadata": {},
          "execution_count": 147
        }
      ]
    },
    {
      "cell_type": "code",
      "source": [
        "y_train"
      ],
      "metadata": {
        "colab": {
          "base_uri": "https://localhost:8080/"
        },
        "id": "afx_Q6Tv7q3v",
        "outputId": "c102bc4b-0887-4cd0-9971-ab088e2bfca8"
      },
      "execution_count": 148,
      "outputs": [
        {
          "output_type": "execute_result",
          "data": {
            "text/plain": [
              "38     1\n",
              "5      1\n",
              "94     1\n",
              "103    0\n",
              "100    1\n",
              "      ..\n",
              "71     0\n",
              "10     0\n",
              "21     0\n",
              "27     0\n",
              "49     1\n",
              "Name: class, Length: 91, dtype: int64"
            ]
          },
          "metadata": {},
          "execution_count": 148
        }
      ]
    },
    {
      "cell_type": "markdown",
      "source": [
        "!!! Выделяем правильные ответы (преобразуем в формат one hot encoding)"
      ],
      "metadata": {
        "id": "NA4gH4vJSmm2"
      }
    },
    {
      "cell_type": "code",
      "source": [
        "y_train = utils.to_categorical(y_train, nb_classes)"
      ],
      "metadata": {
        "id": "MY7SEKHhSq4y"
      },
      "execution_count": 149,
      "outputs": []
    },
    {
      "cell_type": "code",
      "source": [
        "y_train"
      ],
      "metadata": {
        "colab": {
          "base_uri": "https://localhost:8080/"
        },
        "id": "zpaX39chTKbB",
        "outputId": "826277e8-df59-4273-9e67-54b54a6eecd7"
      },
      "execution_count": 150,
      "outputs": [
        {
          "output_type": "execute_result",
          "data": {
            "text/plain": [
              "array([[0., 1.],\n",
              "       [0., 1.],\n",
              "       [0., 1.],\n",
              "       [1., 0.],\n",
              "       [0., 1.],\n",
              "       [1., 0.],\n",
              "       [0., 1.],\n",
              "       [0., 1.],\n",
              "       [0., 1.],\n",
              "       [1., 0.],\n",
              "       [0., 1.],\n",
              "       [1., 0.],\n",
              "       [0., 1.],\n",
              "       [1., 0.],\n",
              "       [0., 1.],\n",
              "       [0., 1.],\n",
              "       [1., 0.],\n",
              "       [1., 0.],\n",
              "       [0., 1.],\n",
              "       [0., 1.],\n",
              "       [0., 1.],\n",
              "       [0., 1.],\n",
              "       [0., 1.],\n",
              "       [0., 1.],\n",
              "       [1., 0.],\n",
              "       [0., 1.],\n",
              "       [1., 0.],\n",
              "       [0., 1.],\n",
              "       [1., 0.],\n",
              "       [0., 1.],\n",
              "       [0., 1.],\n",
              "       [0., 1.],\n",
              "       [1., 0.],\n",
              "       [1., 0.],\n",
              "       [0., 1.],\n",
              "       [1., 0.],\n",
              "       [1., 0.],\n",
              "       [0., 1.],\n",
              "       [1., 0.],\n",
              "       [0., 1.],\n",
              "       [1., 0.],\n",
              "       [1., 0.],\n",
              "       [0., 1.],\n",
              "       [0., 1.],\n",
              "       [1., 0.],\n",
              "       [0., 1.],\n",
              "       [0., 1.],\n",
              "       [0., 1.],\n",
              "       [1., 0.],\n",
              "       [1., 0.],\n",
              "       [0., 1.],\n",
              "       [0., 1.],\n",
              "       [1., 0.],\n",
              "       [1., 0.],\n",
              "       [0., 1.],\n",
              "       [0., 1.],\n",
              "       [0., 1.],\n",
              "       [0., 1.],\n",
              "       [0., 1.],\n",
              "       [1., 0.],\n",
              "       [1., 0.],\n",
              "       [1., 0.],\n",
              "       [1., 0.],\n",
              "       [1., 0.],\n",
              "       [0., 1.],\n",
              "       [0., 1.],\n",
              "       [0., 1.],\n",
              "       [1., 0.],\n",
              "       [1., 0.],\n",
              "       [1., 0.],\n",
              "       [0., 1.],\n",
              "       [1., 0.],\n",
              "       [0., 1.],\n",
              "       [1., 0.],\n",
              "       [0., 1.],\n",
              "       [0., 1.],\n",
              "       [0., 1.],\n",
              "       [0., 1.],\n",
              "       [1., 0.],\n",
              "       [0., 1.],\n",
              "       [0., 1.],\n",
              "       [0., 1.],\n",
              "       [1., 0.],\n",
              "       [1., 0.],\n",
              "       [1., 0.],\n",
              "       [1., 0.],\n",
              "       [1., 0.],\n",
              "       [1., 0.],\n",
              "       [1., 0.],\n",
              "       [1., 0.],\n",
              "       [0., 1.]], dtype=float32)"
            ]
          },
          "metadata": {},
          "execution_count": 150
        }
      ]
    },
    {
      "cell_type": "markdown",
      "source": [
        "Данные для тестирования"
      ],
      "metadata": {
        "id": "dSPYLdTc7ydY"
      }
    },
    {
      "cell_type": "code",
      "source": [
        "x_test = test['Sequences']\n",
        "y_test = test['class']"
      ],
      "metadata": {
        "id": "aMkKROaJ70Zi"
      },
      "execution_count": 151,
      "outputs": []
    },
    {
      "cell_type": "code",
      "source": [
        "x_test"
      ],
      "metadata": {
        "colab": {
          "base_uri": "https://localhost:8080/"
        },
        "id": "6b6rbxhT778m",
        "outputId": "22018ce3-732f-4578-a633-e82fb96aa412"
      },
      "execution_count": 152,
      "outputs": [
        {
          "output_type": "execute_result",
          "data": {
            "text/plain": [
              "78     [110, 105, 195, 840, 665, 123, 436, 1969, 94, ...\n",
              "106    [1300, 2191, 4802, 1994, 830, 2319, 61, 469, 4...\n",
              "102    [326, 215, 189, 94, 257, 49, 1090, 4509, 806, ...\n",
              "17     [12, 143, 312, 374, 15, 19, 5, 313, 154, 194, ...\n",
              "50     [755, 476, 1310, 616, 756, 399, 302, 2, 252, 1...\n",
              "11     [17, 12, 398, 184, 2575, 1655, 42, 19, 5, 273,...\n",
              "63     [3089, 413, 4, 43, 24, 387, 739, 55, 5, 10, 27...\n",
              "82     [787, 1392, 632, 3332, 1131, 637, 3333, 1879, ...\n",
              "92     [644, 4, 28, 97, 1050, 425, 1051, 1349, 130, 3...\n",
              "9      [2531, 1640, 865, 570, 452, 330, 391, 331, 865...\n",
              "53     [1317, 1167, 459, 458, 460, 316, 58, 10, 696, ...\n",
              "47     [1825, 402, 473, 12, 74, 439, 25, 591, 19, 297...\n",
              "110    [4879, 234, 430, 35, 30, 4880, 377, 560, 2349,...\n",
              "61     [9, 1869, 451, 62, 80, 99, 1319, 767, 1870, 24...\n",
              "67     [740, 174, 260, 1913, 102, 776, 1358, 34, 207,...\n",
              "54     [1318, 892, 166, 69, 59, 4, 617, 346, 127, 401...\n",
              "15     [61, 195, 840, 665, 123, 436, 471, 1185, 1186,...\n",
              "89     [3526, 703, 49, 3527, 3528, 10, 3529, 587, 142...\n",
              "112    [61, 469, 430, 2, 35, 30, 294, 167, 4, 551, 99...\n",
              "74     [1949, 1381, 3232, 3233, 1351, 1950, 383, 126,...\n",
              "2      [110, 105, 195, 840, 665, 177, 61, 123, 436, 6...\n",
              "87     [2038, 28, 342, 1417, 52, 3, 2039, 786, 382, 2...\n",
              "13     [2584, 105, 2585, 2586, 159, 702, 177, 559, 32...\n",
              "Name: Sequences, dtype: object"
            ]
          },
          "metadata": {},
          "execution_count": 152
        }
      ]
    },
    {
      "cell_type": "markdown",
      "source": [
        "Ограничиваем длину новостных сообщений"
      ],
      "metadata": {
        "id": "vUDhTEwxg040"
      }
    },
    {
      "cell_type": "code",
      "source": [
        "x_test = pad_sequences(x_test, maxlen=max_news_len)"
      ],
      "metadata": {
        "id": "z4g1Wo08g2jQ"
      },
      "execution_count": 153,
      "outputs": []
    },
    {
      "cell_type": "code",
      "source": [
        "x_test"
      ],
      "metadata": {
        "colab": {
          "base_uri": "https://localhost:8080/"
        },
        "id": "hlx7ZhNVg9VA",
        "outputId": "7d6b398b-7987-49b5-fc76-779053b2e508"
      },
      "execution_count": 154,
      "outputs": [
        {
          "output_type": "execute_result",
          "data": {
            "text/plain": [
              "array([[   0,    0,    0, ...,  192,  317, 1558],\n",
              "       [   0,    0,    0, ..., 1886, 1074,  825],\n",
              "       [1018, 1478, 1522, ...,   68, 4659,  486],\n",
              "       ...,\n",
              "       [   0,    0,    0, ...,  125,  375, 2424],\n",
              "       [   0,    0,    0, ..., 3494,  181,  132],\n",
              "       [   0,    0,    0, ...,  685,  275,  159]], dtype=int32)"
            ]
          },
          "metadata": {},
          "execution_count": 154
        }
      ]
    },
    {
      "cell_type": "code",
      "source": [
        "y_test"
      ],
      "metadata": {
        "colab": {
          "base_uri": "https://localhost:8080/"
        },
        "id": "X4CdHnbg8GRS",
        "outputId": "7d2cc911-1f82-4c86-e84a-5c84dd8d24c6"
      },
      "execution_count": 155,
      "outputs": [
        {
          "output_type": "execute_result",
          "data": {
            "text/plain": [
              "78     0\n",
              "106    0\n",
              "102    1\n",
              "17     1\n",
              "50     1\n",
              "11     1\n",
              "63     1\n",
              "82     0\n",
              "92     1\n",
              "9      0\n",
              "53     0\n",
              "47     1\n",
              "110    0\n",
              "61     1\n",
              "67     1\n",
              "54     1\n",
              "15     0\n",
              "89     1\n",
              "112    1\n",
              "74     0\n",
              "2      0\n",
              "87     1\n",
              "13     0\n",
              "Name: class, dtype: int64"
            ]
          },
          "metadata": {},
          "execution_count": 155
        }
      ]
    },
    {
      "cell_type": "markdown",
      "source": [
        "Выделяем правильные ответы (преобразуем в формат one hot encoding)"
      ],
      "metadata": {
        "id": "uxWdfNJrhUIT"
      }
    },
    {
      "cell_type": "code",
      "source": [
        "y_test = utils.to_categorical(y_test, nb_classes)"
      ],
      "metadata": {
        "id": "EC-R_aL7hWca"
      },
      "execution_count": 156,
      "outputs": []
    },
    {
      "cell_type": "code",
      "source": [
        "y_test"
      ],
      "metadata": {
        "colab": {
          "base_uri": "https://localhost:8080/"
        },
        "id": "0p3i6BBshity",
        "outputId": "5639b2cb-32d2-41d6-e8c5-08bb8efe99fc"
      },
      "execution_count": 157,
      "outputs": [
        {
          "output_type": "execute_result",
          "data": {
            "text/plain": [
              "array([[1., 0.],\n",
              "       [1., 0.],\n",
              "       [0., 1.],\n",
              "       [0., 1.],\n",
              "       [0., 1.],\n",
              "       [0., 1.],\n",
              "       [0., 1.],\n",
              "       [1., 0.],\n",
              "       [0., 1.],\n",
              "       [1., 0.],\n",
              "       [1., 0.],\n",
              "       [0., 1.],\n",
              "       [1., 0.],\n",
              "       [0., 1.],\n",
              "       [0., 1.],\n",
              "       [0., 1.],\n",
              "       [1., 0.],\n",
              "       [0., 1.],\n",
              "       [0., 1.],\n",
              "       [1., 0.],\n",
              "       [1., 0.],\n",
              "       [0., 1.],\n",
              "       [1., 0.]], dtype=float32)"
            ]
          },
          "metadata": {},
          "execution_count": 157
        }
      ]
    },
    {
      "cell_type": "markdown",
      "metadata": {
        "id": "VFUTMuKL8SNY"
      },
      "source": [
        "## Создаем нейронную сеть с долгой краткосрочной памятью - LSTM"
      ]
    },
    {
      "cell_type": "code",
      "metadata": {
        "id": "s_ZqIgqS8SNa"
      },
      "source": [
        "model_lstm = Sequential()\n",
        "# 1-й слой - Embedding - создает плотные векторные представления слов, длина вектора - 128\n",
        "model_lstm.add(Embedding(num_words, 128, input_length=max_news_len))\n",
        "# 2-й и 3-й слои - LSTM - в пих по 64 и 32 ячейки\n",
        "model_lstm.add(LSTM(64, return_sequences=True))\n",
        "model_lstm.add(LSTM(32))\n",
        "# 4-й слой - Выходной полносвязный слой, 2 нейрона (по количеству классов)\n",
        "model_lstm.add(Dense(2, activation='sigmoid'))"
      ],
      "execution_count": 158,
      "outputs": []
    },
    {
      "cell_type": "markdown",
      "source": [
        "создаем последовательную модель (определяем оптимизатор, функцию ошибки)"
      ],
      "metadata": {
        "id": "wk8ub7o6PWP3"
      }
    },
    {
      "cell_type": "code",
      "source": [
        "model_lstm.compile(optimizer='adam', \n",
        "              loss='binary_crossentropy', \n",
        "              metrics=['accuracy'])"
      ],
      "metadata": {
        "id": "KeDlT1XcJvNP"
      },
      "execution_count": 159,
      "outputs": []
    },
    {
      "cell_type": "markdown",
      "source": [
        "Выводим информацию о сети"
      ],
      "metadata": {
        "id": "EI2KXJnHmahV"
      }
    },
    {
      "cell_type": "code",
      "metadata": {
        "outputId": "7d1469ec-9f5c-42c7-d3a7-ae71fc152bc6",
        "id": "KNc2OK3j8SNe",
        "colab": {
          "base_uri": "https://localhost:8080/"
        }
      },
      "source": [
        "model_lstm.summary()"
      ],
      "execution_count": 160,
      "outputs": [
        {
          "output_type": "stream",
          "name": "stdout",
          "text": [
            "Model: \"sequential_1\"\n",
            "_________________________________________________________________\n",
            " Layer (type)                Output Shape              Param #   \n",
            "=================================================================\n",
            " embedding_1 (Embedding)     (None, 300, 128)          1280000   \n",
            "                                                                 \n",
            " lstm_2 (LSTM)               (None, 300, 64)           49408     \n",
            "                                                                 \n",
            " lstm_3 (LSTM)               (None, 32)                12416     \n",
            "                                                                 \n",
            " dense_1 (Dense)             (None, 2)                 66        \n",
            "                                                                 \n",
            "=================================================================\n",
            "Total params: 1,341,890\n",
            "Trainable params: 1,341,890\n",
            "Non-trainable params: 0\n",
            "_________________________________________________________________\n"
          ]
        }
      ]
    },
    {
      "cell_type": "markdown",
      "metadata": {
        "id": "KzJtvcIa8SNh"
      },
      "source": [
        "Создаем callback для сохранения нейронной сети на каждой эпохе, если качество работы на проверочном наборе данных улучшилось. Сеть сохраняется в файл `best_model.h5`"
      ]
    },
    {
      "cell_type": "code",
      "metadata": {
        "id": "qCu0Xlyj8SNi"
      },
      "source": [
        "model_lstm_save_path = '/content/best_model_lstm.h5'\n",
        "checkpoint_callback_lstm = ModelCheckpoint(model_lstm_save_path, \n",
        "                                      monitor='val_accuracy',\n",
        "                                      save_best_only=True,\n",
        "                                      verbose=1)"
      ],
      "execution_count": 161,
      "outputs": []
    },
    {
      "cell_type": "markdown",
      "source": [
        "Обучаем нейронную сеть"
      ],
      "metadata": {
        "id": "nvFpK0HMQG6Q"
      }
    },
    {
      "cell_type": "code",
      "metadata": {
        "outputId": "4f60e964-9ece-4b8e-badf-cb9d3e02d411",
        "id": "znNeO0lO8SNk",
        "colab": {
          "base_uri": "https://localhost:8080/"
        }
      },
      "source": [
        "history_lstm = model_lstm.fit(x_train,\n",
        "                              y_train, \n",
        "                              epochs=5,\n",
        "                              batch_size=32,\n",
        "                              validation_split=0.5,\n",
        "                              callbacks=[checkpoint_callback_lstm])"
      ],
      "execution_count": 178,
      "outputs": [
        {
          "output_type": "stream",
          "name": "stdout",
          "text": [
            "Epoch 1/5\n",
            "1/2 [==============>...............] - ETA: 0s - loss: 0.3830 - accuracy: 0.8750\n",
            "Epoch 1: val_accuracy improved from 0.52439 to 0.84783, saving model to /content/best_model_lstm.h5\n",
            "2/2 [==============================] - 0s 159ms/step - loss: 0.3143 - accuracy: 0.9111 - val_loss: 0.4301 - val_accuracy: 0.8478\n",
            "Epoch 2/5\n",
            "1/2 [==============>...............] - ETA: 0s - loss: 0.2264 - accuracy: 0.9688\n",
            "Epoch 2: val_accuracy did not improve from 0.84783\n",
            "2/2 [==============================] - 0s 79ms/step - loss: 0.2115 - accuracy: 0.9778 - val_loss: 0.3824 - val_accuracy: 0.8478\n",
            "Epoch 3/5\n",
            "1/2 [==============>...............] - ETA: 0s - loss: 0.1742 - accuracy: 1.0000\n",
            "Epoch 3: val_accuracy improved from 0.84783 to 0.89130, saving model to /content/best_model_lstm.h5\n",
            "2/2 [==============================] - 0s 130ms/step - loss: 0.1597 - accuracy: 1.0000 - val_loss: 0.3371 - val_accuracy: 0.8913\n",
            "Epoch 4/5\n",
            "1/2 [==============>...............] - ETA: 0s - loss: 0.1329 - accuracy: 1.0000\n",
            "Epoch 4: val_accuracy improved from 0.89130 to 0.95652, saving model to /content/best_model_lstm.h5\n",
            "2/2 [==============================] - 0s 119ms/step - loss: 0.1319 - accuracy: 1.0000 - val_loss: 0.1866 - val_accuracy: 0.9565\n",
            "Epoch 5/5\n",
            "1/2 [==============>...............] - ETA: 0s - loss: 0.1170 - accuracy: 1.0000\n",
            "Epoch 5: val_accuracy improved from 0.95652 to 0.97826, saving model to /content/best_model_lstm.h5\n",
            "2/2 [==============================] - 0s 125ms/step - loss: 0.1126 - accuracy: 1.0000 - val_loss: 0.1621 - val_accuracy: 0.9783\n"
          ]
        }
      ]
    },
    {
      "cell_type": "code",
      "metadata": {
        "outputId": "3e8ee8d1-f8cb-4f9e-9a95-7f9b65e0fa33",
        "id": "iFTVTtcM8SNm",
        "colab": {
          "base_uri": "https://localhost:8080/",
          "height": 279
        }
      },
      "source": [
        "plt.plot(history_lstm.history['accuracy'], \n",
        "         label='Доля верных ответов на обучающем наборе')\n",
        "plt.plot(history_lstm.history['val_accuracy'], \n",
        "         label='Доля верных ответов на проверочном наборе')\n",
        "plt.xlabel('Эпоха обучения')\n",
        "plt.ylabel('Доля верных ответов')\n",
        "plt.legend()\n",
        "plt.show()"
      ],
      "execution_count": 179,
      "outputs": [
        {
          "output_type": "display_data",
          "data": {
            "text/plain": [
              "<Figure size 432x288 with 1 Axes>"
            ],
            "image/png": "[encoded data removed]"
          },
          "metadata": {
            "needs_background": "light"
          }
        }
      ]
    },
    {
      "cell_type": "markdown",
      "metadata": {
        "id": "3DJbzO3ucewV"
      },
      "source": [
        "## Оцениваем качество работы сети на тестовом наборе данных"
      ]
    },
    {
      "cell_type": "markdown",
      "metadata": {
        "id": "YHs8Q5vqAlqC"
      },
      "source": [
        "### Сеть LSTM"
      ]
    },
    {
      "cell_type": "markdown",
      "source": [
        "Загружаем модель с лучшей долей правильных ответов на проверочном наборе данных"
      ],
      "metadata": {
        "id": "qjtJAuNgIubZ"
      }
    },
    {
      "cell_type": "code",
      "metadata": {
        "id": "OEzSL_M-ApHx"
      },
      "source": [
        "model_lstm.load_weights(model_lstm_save_path)"
      ],
      "execution_count": 180,
      "outputs": []
    },
    {
      "cell_type": "markdown",
      "source": [
        "Оцениваем качество работы сети на наборе данных для тестирования"
      ],
      "metadata": {
        "id": "v05_mmLPZGvi"
      }
    },
    {
      "cell_type": "code",
      "metadata": {
        "outputId": "9051423d-8978-41cb-928a-f1631b4855ea",
        "id": "fcGg4jA9AqN4",
        "colab": {
          "base_uri": "https://localhost:8080/"
        }
      },
      "source": [
        "scores = model_lstm.evaluate(x_test, y_test, verbose=1)"
      ],
      "execution_count": 181,
      "outputs": [
        {
          "output_type": "stream",
          "name": "stdout",
          "text": [
            "1/1 [==============================] - 0s 32ms/step - loss: 0.2866 - accuracy: 0.8696\n"
          ]
        }
      ]
    },
    {
      "cell_type": "code",
      "source": [
        "print(\"Доля верных ответов на тестовых данных, в процентах:\", round(scores[1] * 100, 4))"
      ],
      "metadata": {
        "colab": {
          "base_uri": "https://localhost:8080/"
        },
        "id": "SAr1eIZ5y6Lh",
        "outputId": "18732dcd-0011-4f4e-d2e2-c12f8c3a6baa"
      },
      "execution_count": 182,
      "outputs": [
        {
          "output_type": "stream",
          "name": "stdout",
          "text": [
            "Доля верных ответов на тестовых данных, в процентах: 86.9565\n"
          ]
        }
      ]
    },
    {
      "cell_type": "markdown",
      "source": [
        "**Оцениваем качество работы сети на новых данных**"
      ],
      "metadata": {
        "id": "RLxNrlP3ZUZS"
      }
    },
    {
      "cell_type": "code",
      "source": [
        "text = ''' Удар украинских войск по больнице в Новоайдаре в Луганской Народной Республике является нарушением Устава ООН, заявил РИА Новости генеральный координатор сирийского центра помощи жертвам насилия и терроризма Тамер Яги. Украинские войска 28 января нанесли удар по больнице в Новоайдаре (ЛНР) из американских реактивных систем залпового огня HIMARS. Погибли 14 человек, еще 24 получили ранения, сообщило Минобороны РФ. В ведомстве отметили, что удар по гражданскому объекту является военным преступлением.'''"
      ],
      "metadata": {
        "id": "ptX6zshIZcQ_"
      },
      "execution_count": 168,
      "outputs": []
    },
    {
      "cell_type": "markdown",
      "source": [
        "Преобразуем новости в числовое представление"
      ],
      "metadata": {
        "id": "NNntQZauhKnp"
      }
    },
    {
      "cell_type": "code",
      "source": [
        "text1 = preprocess(text, stop_words, punctuation_marks, morph)"
      ],
      "metadata": {
        "id": "-69XQGk9k1CS"
      },
      "execution_count": 169,
      "outputs": []
    },
    {
      "cell_type": "code",
      "source": [
        "text1"
      ],
      "metadata": {
        "colab": {
          "base_uri": "https://localhost:8080/"
        },
        "id": "Ac0lh97bmF8-",
        "outputId": "4fcef29e-d2dd-47dc-e0d9-d349cc9d2831"
      },
      "execution_count": 170,
      "outputs": [
        {
          "output_type": "execute_result",
          "data": {
            "text/plain": [
              "['удар',\n",
              " 'украинский',\n",
              " 'войско',\n",
              " 'больница',\n",
              " 'новоайдар',\n",
              " 'луганский',\n",
              " 'народный',\n",
              " 'республика',\n",
              " 'являться',\n",
              " 'нарушение',\n",
              " 'устав',\n",
              " 'оон',\n",
              " 'заявить',\n",
              " 'риа',\n",
              " 'новость',\n",
              " 'генеральный',\n",
              " 'координатор',\n",
              " 'сирийский',\n",
              " 'центр',\n",
              " 'помощь',\n",
              " 'жертва',\n",
              " 'насилие',\n",
              " 'терроризм',\n",
              " 'тамер',\n",
              " 'яга',\n",
              " 'украинский',\n",
              " 'войско',\n",
              " '28',\n",
              " 'январь',\n",
              " 'нанести',\n",
              " 'удар',\n",
              " 'больница',\n",
              " 'новоайдар',\n",
              " 'лнр',\n",
              " 'американский',\n",
              " 'реактивный',\n",
              " 'система',\n",
              " 'залповый',\n",
              " 'огонь',\n",
              " 'himars',\n",
              " 'погибнуть',\n",
              " '14',\n",
              " 'человек',\n",
              " 'ещё',\n",
              " '24',\n",
              " 'получить',\n",
              " 'ранение',\n",
              " 'сообщить',\n",
              " 'минобороны',\n",
              " 'рф',\n",
              " 'ведомство',\n",
              " 'отметить',\n",
              " 'удар',\n",
              " 'гражданский',\n",
              " 'объект',\n",
              " 'являться',\n",
              " 'военный',\n",
              " 'преступление']"
            ]
          },
          "metadata": {},
          "execution_count": 170
        }
      ]
    },
    {
      "cell_type": "code",
      "source": [
        "sequence = text_to_sequence(text1, word_to_index)"
      ],
      "metadata": {
        "id": "f3r3Zh9TmP-u"
      },
      "execution_count": 171,
      "outputs": []
    },
    {
      "cell_type": "code",
      "source": [
        "sequence"
      ],
      "metadata": {
        "colab": {
          "base_uri": "https://localhost:8080/"
        },
        "id": "tRqddzgsmb6z",
        "outputId": "595e7bef-989c-4f49-cdf5-6f2226cf4698"
      },
      "execution_count": 172,
      "outputs": [
        {
          "output_type": "execute_result",
          "data": {
            "text/plain": [
              "[253,\n",
              " 34,\n",
              " 207,\n",
              " 530,\n",
              " 232,\n",
              " 96,\n",
              " 444,\n",
              " 132,\n",
              " 10,\n",
              " 35,\n",
              " 30,\n",
              " 918,\n",
              " 3017,\n",
              " 177,\n",
              " 51,\n",
              " 982,\n",
              " 3146,\n",
              " 34,\n",
              " 207,\n",
              " 4388,\n",
              " 947,\n",
              " 510,\n",
              " 253,\n",
              " 530,\n",
              " 4425,\n",
              " 42,\n",
              " 4232,\n",
              " 71,\n",
              " 4233,\n",
              " 856,\n",
              " 2916,\n",
              " 260,\n",
              " 759,\n",
              " 37,\n",
              " 172,\n",
              " 736,\n",
              " 78,\n",
              " 1299,\n",
              " 16,\n",
              " 1198,\n",
              " 38,\n",
              " 95,\n",
              " 57,\n",
              " 253,\n",
              " 799,\n",
              " 217,\n",
              " 96,\n",
              " 19,\n",
              " 1264]"
            ]
          },
          "metadata": {},
          "execution_count": 172
        }
      ]
    },
    {
      "cell_type": "code",
      "source": [
        "print(text)\n",
        "print(sequences)"
      ],
      "metadata": {
        "colab": {
          "base_uri": "https://localhost:8080/"
        },
        "id": "bBA_6RQ4q-rD",
        "outputId": "af3881cf-f07a-41e2-e41f-8f2061877b4b"
      },
      "execution_count": 173,
      "outputs": [
        {
          "output_type": "stream",
          "name": "stdout",
          "text": [
            " Удар украинских войск по больнице в Новоайдаре в Луганской Народной Республике является нарушением Устава ООН, заявил РИА Новости генеральный координатор сирийского центра помощи жертвам насилия и терроризма Тамер Яги. Украинские войска 28 января нанесли удар по больнице в Новоайдаре (ЛНР) из американских реактивных систем залпового огня HIMARS. Погибли 14 человек, еще 24 получили ранения, сообщило Минобороны РФ. В ведомстве отметили, что удар по гражданскому объекту является военным преступлением.\n",
            "[253, 34, 207, 530, 232, 96, 444, 132, 10, 35, 30, 918, 3017, 177, 51, 982, 3146, 34, 207, 4388, 947, 510, 253, 530, 4425, 42, 4232, 71, 4233, 856, 2916, 260, 759, 37, 172, 736, 78, 1299, 16, 1198, 38, 95, 57, 253, 799, 217, 96, 19, 1264]\n"
          ]
        }
      ]
    },
    {
      "cell_type": "code",
      "source": [
        "text2 = pad_sequences(sequences, maxlen=max_news_len)"
      ],
      "metadata": {
        "colab": {
          "base_uri": "https://localhost:8080/",
          "height": 454
        },
        "id": "XryqAQyLpk5k",
        "outputId": "33bf67e6-0787-4ef9-97e4-4d64a659b14b"
      },
      "execution_count": 174,
      "outputs": [
        {
          "output_type": "error",
          "ename": "ValueError",
          "evalue": "ignored",
          "traceback": [
            "\u001b[0;31m---------------------------------------------------------------------------\u001b[0m",
            "\u001b[0;31mTypeError\u001b[0m                                 Traceback (most recent call last)",
            "\u001b[0;32m/usr/local/lib/python3.8/dist-packages/keras/utils/data_utils.py\u001b[0m in \u001b[0;36mpad_sequences\u001b[0;34m(sequences, maxlen, dtype, padding, truncating, value)\u001b[0m\n\u001b[1;32m   1009\u001b[0m     \u001b[0;32mtry\u001b[0m\u001b[0;34m:\u001b[0m\u001b[0;34m\u001b[0m\u001b[0;34m\u001b[0m\u001b[0m\n\u001b[0;32m-> 1010\u001b[0;31m       \u001b[0mlengths\u001b[0m\u001b[0;34m.\u001b[0m\u001b[0mappend\u001b[0m\u001b[0;34m(\u001b[0m\u001b[0mlen\u001b[0m\u001b[0;34m(\u001b[0m\u001b[0mx\u001b[0m\u001b[0;34m)\u001b[0m\u001b[0;34m)\u001b[0m\u001b[0;34m\u001b[0m\u001b[0;34m\u001b[0m\u001b[0m\n\u001b[0m\u001b[1;32m   1011\u001b[0m       \u001b[0;32mif\u001b[0m \u001b[0mflag\u001b[0m \u001b[0;32mand\u001b[0m \u001b[0mlen\u001b[0m\u001b[0;34m(\u001b[0m\u001b[0mx\u001b[0m\u001b[0;34m)\u001b[0m\u001b[0;34m:\u001b[0m\u001b[0;34m\u001b[0m\u001b[0;34m\u001b[0m\u001b[0m\n",
            "\u001b[0;31mTypeError\u001b[0m: object of type 'int' has no len()",
            "\nThe above exception was the direct cause of the following exception:\n",
            "\u001b[0;31mValueError\u001b[0m                                Traceback (most recent call last)",
            "\u001b[0;32m<ipython-input-174-026efc545ac1>\u001b[0m in \u001b[0;36m<module>\u001b[0;34m\u001b[0m\n\u001b[0;32m----> 1\u001b[0;31m \u001b[0mtext2\u001b[0m \u001b[0;34m=\u001b[0m \u001b[0mpad_sequences\u001b[0m\u001b[0;34m(\u001b[0m\u001b[0msequences\u001b[0m\u001b[0;34m,\u001b[0m \u001b[0mmaxlen\u001b[0m\u001b[0;34m=\u001b[0m\u001b[0mmax_news_len\u001b[0m\u001b[0;34m)\u001b[0m\u001b[0;34m\u001b[0m\u001b[0;34m\u001b[0m\u001b[0m\n\u001b[0m",
            "\u001b[0;32m/usr/local/lib/python3.8/dist-packages/keras/utils/data_utils.py\u001b[0m in \u001b[0;36mpad_sequences\u001b[0;34m(sequences, maxlen, dtype, padding, truncating, value)\u001b[0m\n\u001b[1;32m   1013\u001b[0m         \u001b[0mflag\u001b[0m \u001b[0;34m=\u001b[0m \u001b[0;32mFalse\u001b[0m\u001b[0;34m\u001b[0m\u001b[0;34m\u001b[0m\u001b[0m\n\u001b[1;32m   1014\u001b[0m     \u001b[0;32mexcept\u001b[0m \u001b[0mTypeError\u001b[0m \u001b[0;32mas\u001b[0m \u001b[0me\u001b[0m\u001b[0;34m:\u001b[0m\u001b[0;34m\u001b[0m\u001b[0;34m\u001b[0m\u001b[0m\n\u001b[0;32m-> 1015\u001b[0;31m       raise ValueError('`sequences` must be a list of iterables. '\n\u001b[0m\u001b[1;32m   1016\u001b[0m                        f'Found non-iterable: {str(x)}') from e\n\u001b[1;32m   1017\u001b[0m \u001b[0;34m\u001b[0m\u001b[0m\n",
            "\u001b[0;31mValueError\u001b[0m: `sequences` must be a list of iterables. Found non-iterable: 253"
          ]
        }
      ]
    },
    {
      "cell_type": "code",
      "source": [
        "text2"
      ],
      "metadata": {
        "id": "z2p4jaFNIzEK",
        "colab": {
          "base_uri": "https://localhost:8080/"
        },
        "outputId": "cdbae17a-298a-4602-805b-9fe4d11ef9c3"
      },
      "execution_count": 175,
      "outputs": [
        {
          "output_type": "execute_result",
          "data": {
            "text/plain": [
              "[253,\n",
              " 34,\n",
              " 207,\n",
              " 530,\n",
              " 232,\n",
              " 96,\n",
              " 444,\n",
              " 132,\n",
              " 10,\n",
              " 35,\n",
              " 30,\n",
              " 918,\n",
              " 3017,\n",
              " 177,\n",
              " 51,\n",
              " 982,\n",
              " 3146,\n",
              " 34,\n",
              " 207,\n",
              " 4388,\n",
              " 947,\n",
              " 510,\n",
              " 253,\n",
              " 530,\n",
              " 4425,\n",
              " 42,\n",
              " 4232,\n",
              " 71,\n",
              " 4233,\n",
              " 856,\n",
              " 2916,\n",
              " 260,\n",
              " 759,\n",
              " 37,\n",
              " 172,\n",
              " 736,\n",
              " 78,\n",
              " 1299,\n",
              " 16,\n",
              " 1198,\n",
              " 38,\n",
              " 95,\n",
              " 57,\n",
              " 253,\n",
              " 799,\n",
              " 217,\n",
              " 96,\n",
              " 19,\n",
              " 1264]"
            ]
          },
          "metadata": {},
          "execution_count": 175
        }
      ]
    },
    {
      "cell_type": "markdown",
      "source": [
        "Загружаем модель в память"
      ],
      "metadata": {
        "id": "zJzFqpUNfouY"
      }
    },
    {
      "cell_type": "code",
      "source": [
        "model = load_model('best_model_lstm.h5')"
      ],
      "metadata": {
        "id": "VehI_Xy_foOC"
      },
      "execution_count": 176,
      "outputs": []
    },
    {
      "cell_type": "markdown",
      "source": [
        "Запускаем распознавание (применяем сеть для определения класса новости)"
      ],
      "metadata": {
        "id": "fPrcaxWbgqJN"
      }
    },
    {
      "cell_type": "code",
      "source": [
        "prediction = model.predict(text2)"
      ],
      "metadata": {
        "colab": {
          "base_uri": "https://localhost:8080/",
          "height": 770
        },
        "id": "OSkl8M1PgriR",
        "outputId": "9e345dbb-63a6-453a-b18f-e5f9e6c20656"
      },
      "execution_count": null,
      "outputs": [
        {
          "output_type": "stream",
          "name": "stderr",
          "text": [
            "WARNING:tensorflow:Model was constructed with shape (None, 300) for input KerasTensor(type_spec=TensorSpec(shape=(None, 300), dtype=tf.float32, name='embedding_11_input'), name='embedding_11_input', description=\"created by layer 'embedding_11_input'\"), but it was called on an input with incompatible shape (None,).\n"
          ]
        },
        {
          "output_type": "error",
          "ename": "ValueError",
          "evalue": "ignored",
          "traceback": [
            "\u001b[0;31m---------------------------------------------------------------------------\u001b[0m",
            "\u001b[0;31mValueError\u001b[0m                                Traceback (most recent call last)",
            "\u001b[0;32m<ipython-input-323-935ca78057a4>\u001b[0m in \u001b[0;36m<module>\u001b[0;34m\u001b[0m\n\u001b[0;32m----> 1\u001b[0;31m \u001b[0mprediction\u001b[0m \u001b[0;34m=\u001b[0m \u001b[0mmodel\u001b[0m\u001b[0;34m.\u001b[0m\u001b[0mpredict\u001b[0m\u001b[0;34m(\u001b[0m\u001b[0mtext2\u001b[0m\u001b[0;34m)\u001b[0m\u001b[0;34m\u001b[0m\u001b[0;34m\u001b[0m\u001b[0m\n\u001b[0m",
            "\u001b[0;32m/usr/local/lib/python3.8/dist-packages/keras/utils/traceback_utils.py\u001b[0m in \u001b[0;36merror_handler\u001b[0;34m(*args, **kwargs)\u001b[0m\n\u001b[1;32m     65\u001b[0m     \u001b[0;32mexcept\u001b[0m \u001b[0mException\u001b[0m \u001b[0;32mas\u001b[0m \u001b[0me\u001b[0m\u001b[0;34m:\u001b[0m  \u001b[0;31m# pylint: disable=broad-except\u001b[0m\u001b[0;34m\u001b[0m\u001b[0;34m\u001b[0m\u001b[0m\n\u001b[1;32m     66\u001b[0m       \u001b[0mfiltered_tb\u001b[0m \u001b[0;34m=\u001b[0m \u001b[0m_process_traceback_frames\u001b[0m\u001b[0;34m(\u001b[0m\u001b[0me\u001b[0m\u001b[0;34m.\u001b[0m\u001b[0m__traceback__\u001b[0m\u001b[0;34m)\u001b[0m\u001b[0;34m\u001b[0m\u001b[0;34m\u001b[0m\u001b[0m\n\u001b[0;32m---> 67\u001b[0;31m       \u001b[0;32mraise\u001b[0m \u001b[0me\u001b[0m\u001b[0;34m.\u001b[0m\u001b[0mwith_traceback\u001b[0m\u001b[0;34m(\u001b[0m\u001b[0mfiltered_tb\u001b[0m\u001b[0;34m)\u001b[0m \u001b[0;32mfrom\u001b[0m \u001b[0;32mNone\u001b[0m\u001b[0;34m\u001b[0m\u001b[0;34m\u001b[0m\u001b[0m\n\u001b[0m\u001b[1;32m     68\u001b[0m     \u001b[0;32mfinally\u001b[0m\u001b[0;34m:\u001b[0m\u001b[0;34m\u001b[0m\u001b[0;34m\u001b[0m\u001b[0m\n\u001b[1;32m     69\u001b[0m       \u001b[0;32mdel\u001b[0m \u001b[0mfiltered_tb\u001b[0m\u001b[0;34m\u001b[0m\u001b[0;34m\u001b[0m\u001b[0m\n",
            "\u001b[0;32m/usr/local/lib/python3.8/dist-packages/keras/engine/training.py\u001b[0m in \u001b[0;36mtf__predict_function\u001b[0;34m(iterator)\u001b[0m\n\u001b[1;32m     13\u001b[0m                 \u001b[0;32mtry\u001b[0m\u001b[0;34m:\u001b[0m\u001b[0;34m\u001b[0m\u001b[0;34m\u001b[0m\u001b[0m\n\u001b[1;32m     14\u001b[0m                     \u001b[0mdo_return\u001b[0m \u001b[0;34m=\u001b[0m \u001b[0;32mTrue\u001b[0m\u001b[0;34m\u001b[0m\u001b[0;34m\u001b[0m\u001b[0m\n\u001b[0;32m---> 15\u001b[0;31m                     \u001b[0mretval_\u001b[0m \u001b[0;34m=\u001b[0m \u001b[0mag__\u001b[0m\u001b[0;34m.\u001b[0m\u001b[0mconverted_call\u001b[0m\u001b[0;34m(\u001b[0m\u001b[0mag__\u001b[0m\u001b[0;34m.\u001b[0m\u001b[0mld\u001b[0m\u001b[0;34m(\u001b[0m\u001b[0mstep_function\u001b[0m\u001b[0;34m)\u001b[0m\u001b[0;34m,\u001b[0m \u001b[0;34m(\u001b[0m\u001b[0mag__\u001b[0m\u001b[0;34m.\u001b[0m\u001b[0mld\u001b[0m\u001b[0;34m(\u001b[0m\u001b[0mself\u001b[0m\u001b[0;34m)\u001b[0m\u001b[0;34m,\u001b[0m \u001b[0mag__\u001b[0m\u001b[0;34m.\u001b[0m\u001b[0mld\u001b[0m\u001b[0;34m(\u001b[0m\u001b[0miterator\u001b[0m\u001b[0;34m)\u001b[0m\u001b[0;34m)\u001b[0m\u001b[0;34m,\u001b[0m \u001b[0;32mNone\u001b[0m\u001b[0;34m,\u001b[0m \u001b[0mfscope\u001b[0m\u001b[0;34m)\u001b[0m\u001b[0;34m\u001b[0m\u001b[0;34m\u001b[0m\u001b[0m\n\u001b[0m\u001b[1;32m     16\u001b[0m                 \u001b[0;32mexcept\u001b[0m\u001b[0;34m:\u001b[0m\u001b[0;34m\u001b[0m\u001b[0;34m\u001b[0m\u001b[0m\n\u001b[1;32m     17\u001b[0m                     \u001b[0mdo_return\u001b[0m \u001b[0;34m=\u001b[0m \u001b[0;32mFalse\u001b[0m\u001b[0;34m\u001b[0m\u001b[0;34m\u001b[0m\u001b[0m\n",
            "\u001b[0;31mValueError\u001b[0m: in user code:\n\n    File \"/usr/local/lib/python3.8/dist-packages/keras/engine/training.py\", line 1845, in predict_function  *\n        return step_function(self, iterator)\n    File \"/usr/local/lib/python3.8/dist-packages/keras/engine/training.py\", line 1834, in step_function  **\n        outputs = model.distribute_strategy.run(run_step, args=(data,))\n    File \"/usr/local/lib/python3.8/dist-packages/keras/engine/training.py\", line 1823, in run_step  **\n        outputs = model.predict_step(data)\n    File \"/usr/local/lib/python3.8/dist-packages/keras/engine/training.py\", line 1791, in predict_step\n        return self(x, training=False)\n    File \"/usr/local/lib/python3.8/dist-packages/keras/utils/traceback_utils.py\", line 67, in error_handler\n        raise e.with_traceback(filtered_tb) from None\n    File \"/usr/local/lib/python3.8/dist-packages/keras/engine/input_spec.py\", line 214, in assert_input_compatibility\n        raise ValueError(f'Input {input_index} of layer \"{layer_name}\" '\n\n    ValueError: Exception encountered when calling layer \"sequential_11\" (type Sequential).\n    \n    Input 0 of layer \"lstm_21\" is incompatible with the layer: expected ndim=3, found ndim=2. Full shape received: (None, 128)\n    \n    Call arguments received by layer \"sequential_11\" (type Sequential):\n      • inputs=tf.Tensor(shape=(None,), dtype=int64)\n      • training=False\n      • mask=None\n"
          ]
        }
      ]
    },
    {
      "cell_type": "markdown",
      "source": [
        "Результаты распознавания"
      ],
      "metadata": {
        "id": "dTKbUbLkgz2v"
      }
    },
    {
      "cell_type": "code",
      "source": [
        "prediction"
      ],
      "metadata": {
        "colab": {
          "base_uri": "https://localhost:8080/",
          "height": 172
        },
        "id": "dzCsyUmXg1OZ",
        "outputId": "3bed2360-6e96-49b8-99a2-d2aa8228c708"
      },
      "execution_count": null,
      "outputs": [
        {
          "output_type": "error",
          "ename": "NameError",
          "evalue": "ignored",
          "traceback": [
            "\u001b[0;31m---------------------------------------------------------------------------\u001b[0m",
            "\u001b[0;31mNameError\u001b[0m                                 Traceback (most recent call last)",
            "\u001b[0;32m<ipython-input-292-c3d8c93f720f>\u001b[0m in \u001b[0;36m<module>\u001b[0;34m\u001b[0m\n\u001b[0;32m----> 1\u001b[0;31m \u001b[0mprediction\u001b[0m\u001b[0;34m\u001b[0m\u001b[0;34m\u001b[0m\u001b[0m\n\u001b[0m",
            "\u001b[0;31mNameError\u001b[0m: name 'prediction' is not defined"
          ]
        }
      ]
    },
    {
      "cell_type": "code",
      "source": [
        "prediction = np.argmax(prediction)"
      ],
      "metadata": {
        "id": "A6kv0gmOkDk7",
        "colab": {
          "base_uri": "https://localhost:8080/",
          "height": 172
        },
        "outputId": "a73539fe-c29f-494b-a6fb-7194dd53aec7"
      },
      "execution_count": null,
      "outputs": [
        {
          "output_type": "error",
          "ename": "NameError",
          "evalue": "ignored",
          "traceback": [
            "\u001b[0;31m---------------------------------------------------------------------------\u001b[0m",
            "\u001b[0;31mNameError\u001b[0m                                 Traceback (most recent call last)",
            "\u001b[0;32m<ipython-input-293-9b6f785396fb>\u001b[0m in \u001b[0;36m<module>\u001b[0;34m\u001b[0m\n\u001b[0;32m----> 1\u001b[0;31m \u001b[0mprediction\u001b[0m \u001b[0;34m=\u001b[0m \u001b[0mnp\u001b[0m\u001b[0;34m.\u001b[0m\u001b[0margmax\u001b[0m\u001b[0;34m(\u001b[0m\u001b[0mprediction\u001b[0m\u001b[0;34m)\u001b[0m\u001b[0;34m\u001b[0m\u001b[0;34m\u001b[0m\u001b[0m\n\u001b[0m",
            "\u001b[0;31mNameError\u001b[0m: name 'prediction' is not defined"
          ]
        }
      ]
    },
    {
      "cell_type": "code",
      "source": [
        "if prediction < 0.5:\n",
        "    print('Не имеет международного значения')\n",
        "else:\n",
        "    print('Международная новость')"
      ],
      "metadata": {
        "colab": {
          "base_uri": "https://localhost:8080/",
          "height": 227
        },
        "id": "H1oDVJNGtfhR",
        "outputId": "3c8a7c92-021f-444b-cd6e-59e44876f7d1"
      },
      "execution_count": null,
      "outputs": [
        {
          "output_type": "error",
          "ename": "NameError",
          "evalue": "ignored",
          "traceback": [
            "\u001b[0;31m---------------------------------------------------------------------------\u001b[0m",
            "\u001b[0;31mNameError\u001b[0m                                 Traceback (most recent call last)",
            "\u001b[0;32m<ipython-input-294-b22a0523bf33>\u001b[0m in \u001b[0;36m<module>\u001b[0;34m\u001b[0m\n\u001b[0;32m----> 1\u001b[0;31m \u001b[0;32mif\u001b[0m \u001b[0mprediction\u001b[0m \u001b[0;34m<\u001b[0m \u001b[0;36m0.5\u001b[0m\u001b[0;34m:\u001b[0m\u001b[0;34m\u001b[0m\u001b[0;34m\u001b[0m\u001b[0m\n\u001b[0m\u001b[1;32m      2\u001b[0m     \u001b[0mprint\u001b[0m\u001b[0;34m(\u001b[0m\u001b[0;34m'Не имеет международного значения'\u001b[0m\u001b[0;34m)\u001b[0m\u001b[0;34m\u001b[0m\u001b[0;34m\u001b[0m\u001b[0m\n\u001b[1;32m      3\u001b[0m \u001b[0;32melse\u001b[0m\u001b[0;34m:\u001b[0m\u001b[0;34m\u001b[0m\u001b[0;34m\u001b[0m\u001b[0m\n\u001b[1;32m      4\u001b[0m     \u001b[0mprint\u001b[0m\u001b[0;34m(\u001b[0m\u001b[0;34m'Международная новость'\u001b[0m\u001b[0;34m)\u001b[0m\u001b[0;34m\u001b[0m\u001b[0;34m\u001b[0m\u001b[0m\n",
            "\u001b[0;31mNameError\u001b[0m: name 'prediction' is not defined"
          ]
        }
      ]
    }
  ]
}